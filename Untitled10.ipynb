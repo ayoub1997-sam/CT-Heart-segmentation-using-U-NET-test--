{
  "nbformat": 4,
  "nbformat_minor": 0,
  "metadata": {
    "colab": {
      "provenance": [],
      "gpuType": "T4",
      "mount_file_id": "1I1muaMdEyKJx36fQ20AoKtqUAZQQLrxy",
      "authorship_tag": "ABX9TyN8qJUwceMqyADLBcwR+hJ6",
      "include_colab_link": true
    },
    "kernelspec": {
      "name": "python3",
      "display_name": "Python 3"
    },
    "language_info": {
      "name": "python"
    },
    "accelerator": "GPU"
  },
  "cells": [
    {
      "cell_type": "markdown",
      "metadata": {
        "id": "view-in-github",
        "colab_type": "text"
      },
      "source": [
        "<a href=\"https://colab.research.google.com/github/ayoub1997-sam/CT-Heart-segmentation-using-U-NET-test--/blob/main/Untitled10.ipynb\" target=\"_parent\"><img src=\"https://colab.research.google.com/assets/colab-badge.svg\" alt=\"Open In Colab\"/></a>"
      ]
    },
    {
      "cell_type": "code",
      "execution_count": 5,
      "metadata": {
        "colab": {
          "base_uri": "https://localhost:8080/"
        },
        "id": "m8eJCRn3tPwn",
        "outputId": "1dc76a21-8eed-41ef-cb2c-82cfe130c7a6"
      },
      "outputs": [
        {
          "output_type": "stream",
          "name": "stdout",
          "text": [
            "Requirement already satisfied: kaggle in /usr/local/lib/python3.10/dist-packages (1.6.17)\n",
            "Requirement already satisfied: six>=1.10 in /usr/local/lib/python3.10/dist-packages (from kaggle) (1.16.0)\n",
            "Requirement already satisfied: certifi>=2023.7.22 in /usr/local/lib/python3.10/dist-packages (from kaggle) (2024.8.30)\n",
            "Requirement already satisfied: python-dateutil in /usr/local/lib/python3.10/dist-packages (from kaggle) (2.8.2)\n",
            "Requirement already satisfied: requests in /usr/local/lib/python3.10/dist-packages (from kaggle) (2.32.3)\n",
            "Requirement already satisfied: tqdm in /usr/local/lib/python3.10/dist-packages (from kaggle) (4.66.5)\n",
            "Requirement already satisfied: python-slugify in /usr/local/lib/python3.10/dist-packages (from kaggle) (8.0.4)\n",
            "Requirement already satisfied: urllib3 in /usr/local/lib/python3.10/dist-packages (from kaggle) (2.0.7)\n",
            "Requirement already satisfied: bleach in /usr/local/lib/python3.10/dist-packages (from kaggle) (6.1.0)\n",
            "Requirement already satisfied: webencodings in /usr/local/lib/python3.10/dist-packages (from bleach->kaggle) (0.5.1)\n",
            "Requirement already satisfied: text-unidecode>=1.3 in /usr/local/lib/python3.10/dist-packages (from python-slugify->kaggle) (1.3)\n",
            "Requirement already satisfied: charset-normalizer<4,>=2 in /usr/local/lib/python3.10/dist-packages (from requests->kaggle) (3.3.2)\n",
            "Requirement already satisfied: idna<4,>=2.5 in /usr/local/lib/python3.10/dist-packages (from requests->kaggle) (3.8)\n"
          ]
        }
      ],
      "source": [
        "!pip install kaggle"
      ]
    },
    {
      "cell_type": "code",
      "source": [
        "! mkdir ~/.kaggle"
      ],
      "metadata": {
        "colab": {
          "base_uri": "https://localhost:8080/"
        },
        "id": "Q1WPyTvXuRmX",
        "outputId": "085449ba-545b-453e-8215-f8cd4e971fdd"
      },
      "execution_count": 6,
      "outputs": [
        {
          "output_type": "stream",
          "name": "stdout",
          "text": [
            "mkdir: cannot create directory ‘/root/.kaggle’: File exists\n"
          ]
        }
      ]
    },
    {
      "cell_type": "code",
      "source": [
        "!cp /content/drive/MyDrive/kaggle.json ~/.kaggle/kaggle.json"
      ],
      "metadata": {
        "id": "EmZyzaORunru"
      },
      "execution_count": 8,
      "outputs": []
    },
    {
      "cell_type": "code",
      "source": [
        "! chmod 600 ~/.kaggle/kaggle.json"
      ],
      "metadata": {
        "id": "oxzCOM6zvBCf"
      },
      "execution_count": 7,
      "outputs": []
    },
    {
      "cell_type": "markdown",
      "source": [],
      "metadata": {
        "id": "HOpx9tmI5WGg"
      }
    },
    {
      "cell_type": "code",
      "source": [
        "!kaggle datasets download -d nikhilroxtomar/ct-heart-segmentation"
      ],
      "metadata": {
        "colab": {
          "base_uri": "https://localhost:8080/"
        },
        "id": "1rb5AdWzvJ6R",
        "outputId": "fa3993cf-9826-4b26-a3f5-fc3d77edb136"
      },
      "execution_count": 6,
      "outputs": [
        {
          "output_type": "stream",
          "name": "stdout",
          "text": [
            "Dataset URL: https://www.kaggle.com/datasets/nikhilroxtomar/ct-heart-segmentation\n",
            "License(s): unknown\n",
            "Downloading ct-heart-segmentation.zip to /content\n",
            " 99% 533M/541M [00:07<00:00, 108MB/s]\n",
            "100% 541M/541M [00:09<00:00, 59.9MB/s]\n"
          ]
        }
      ]
    },
    {
      "cell_type": "code",
      "source": [
        "!unzip ct-heart-segmentation.zip"
      ],
      "metadata": {
        "colab": {
          "base_uri": "https://localhost:8080/"
        },
        "id": "lYwWCCZI50M4",
        "outputId": "46907037-bbc3-4722-fd51-a4e69a3703f6"
      },
      "execution_count": 7,
      "outputs": [
        {
          "output_type": "stream",
          "name": "stdout",
          "text": [
            "\u001b[1;30;43mLe flux de sortie a été tronqué et ne contient que les 5000 dernières lignes.\u001b[0m\n",
            "  inflating: data/train/100051/image/1-065.png  \n",
            "  inflating: data/train/100051/image/1-066.png  \n",
            "  inflating: data/train/100051/image/1-067.png  \n",
            "  inflating: data/train/100051/image/1-068.png  \n",
            "  inflating: data/train/100051/image/1-069.png  \n",
            "  inflating: data/train/100051/image/1-070.png  \n",
            "  inflating: data/train/100051/image/1-071.png  \n",
            "  inflating: data/train/100051/image/1-072.png  \n",
            "  inflating: data/train/100051/image/1-073.png  \n",
            "  inflating: data/train/100051/image/1-074.png  \n",
            "  inflating: data/train/100051/image/1-075.png  \n",
            "  inflating: data/train/100051/image/1-076.png  \n",
            "  inflating: data/train/100051/image/1-077.png  \n",
            "  inflating: data/train/100051/image/1-078.png  \n",
            "  inflating: data/train/100051/image/1-079.png  \n",
            "  inflating: data/train/100051/image/1-080.png  \n",
            "  inflating: data/train/100051/image/1-081.png  \n",
            "  inflating: data/train/100051/image/1-082.png  \n",
            "  inflating: data/train/100051/image/1-083.png  \n",
            "  inflating: data/train/100051/image/1-084.png  \n",
            "  inflating: data/train/100051/image/1-085.png  \n",
            "  inflating: data/train/100051/image/1-086.png  \n",
            "  inflating: data/train/100051/image/1-087.png  \n",
            "  inflating: data/train/100051/image/1-088.png  \n",
            "  inflating: data/train/100051/image/1-089.png  \n",
            "  inflating: data/train/100051/image/1-090.png  \n",
            "  inflating: data/train/100051/image/1-091.png  \n",
            "  inflating: data/train/100051/image/1-092.png  \n",
            "  inflating: data/train/100051/image/1-093.png  \n",
            "  inflating: data/train/100051/image/1-094.png  \n",
            "  inflating: data/train/100051/image/1-095.png  \n",
            "  inflating: data/train/100051/image/1-096.png  \n",
            "  inflating: data/train/100051/image/1-097.png  \n",
            "  inflating: data/train/100051/image/1-098.png  \n",
            "  inflating: data/train/100051/image/1-099.png  \n",
            "  inflating: data/train/100051/image/1-100.png  \n",
            "  inflating: data/train/100051/image/1-101.png  \n",
            "  inflating: data/train/100051/image/1-102.png  \n",
            "  inflating: data/train/100051/image/1-103.png  \n",
            "  inflating: data/train/100051/image/1-104.png  \n",
            "  inflating: data/train/100051/image/1-105.png  \n",
            "  inflating: data/train/100051/image/1-106.png  \n",
            "  inflating: data/train/100051/image/1-107.png  \n",
            "  inflating: data/train/100051/image/1-108.png  \n",
            "  inflating: data/train/100051/image/1-109.png  \n",
            "  inflating: data/train/100051/image/1-110.png  \n",
            "  inflating: data/train/100051/image/1-111.png  \n",
            "  inflating: data/train/100051/image/1-112.png  \n",
            "  inflating: data/train/100051/image/1-113.png  \n",
            "  inflating: data/train/100051/image/1-114.png  \n",
            "  inflating: data/train/100051/image/1-115.png  \n",
            "  inflating: data/train/100051/image/1-116.png  \n",
            "  inflating: data/train/100051/image/1-117.png  \n",
            "  inflating: data/train/100051/image/1-118.png  \n",
            "  inflating: data/train/100051/image/1-119.png  \n",
            "  inflating: data/train/100051/image/1-120.png  \n",
            "  inflating: data/train/100051/image/1-121.png  \n",
            "  inflating: data/train/100051/image/1-122.png  \n",
            "  inflating: data/train/100051/image/1-123.png  \n",
            "  inflating: data/train/100051/image/1-124.png  \n",
            "  inflating: data/train/100051/image/1-125.png  \n",
            "  inflating: data/train/100051/image/1-126.png  \n",
            "  inflating: data/train/100051/image/1-127.png  \n",
            "  inflating: data/train/100051/image/1-128.png  \n",
            "  inflating: data/train/100051/image/1-129.png  \n",
            "  inflating: data/train/100051/image/1-130.png  \n",
            "  inflating: data/train/100051/image/1-131.png  \n",
            "  inflating: data/train/100051/mask/1-001.png  \n",
            "  inflating: data/train/100051/mask/1-002.png  \n",
            "  inflating: data/train/100051/mask/1-003.png  \n",
            "  inflating: data/train/100051/mask/1-004.png  \n",
            "  inflating: data/train/100051/mask/1-005.png  \n",
            "  inflating: data/train/100051/mask/1-006.png  \n",
            "  inflating: data/train/100051/mask/1-007.png  \n",
            "  inflating: data/train/100051/mask/1-008.png  \n",
            "  inflating: data/train/100051/mask/1-009.png  \n",
            "  inflating: data/train/100051/mask/1-010.png  \n",
            "  inflating: data/train/100051/mask/1-011.png  \n",
            "  inflating: data/train/100051/mask/1-012.png  \n",
            "  inflating: data/train/100051/mask/1-013.png  \n",
            "  inflating: data/train/100051/mask/1-014.png  \n",
            "  inflating: data/train/100051/mask/1-015.png  \n",
            "  inflating: data/train/100051/mask/1-016.png  \n",
            "  inflating: data/train/100051/mask/1-017.png  \n",
            "  inflating: data/train/100051/mask/1-018.png  \n",
            "  inflating: data/train/100051/mask/1-019.png  \n",
            "  inflating: data/train/100051/mask/1-020.png  \n",
            "  inflating: data/train/100051/mask/1-021.png  \n",
            "  inflating: data/train/100051/mask/1-022.png  \n",
            "  inflating: data/train/100051/mask/1-023.png  \n",
            "  inflating: data/train/100051/mask/1-024.png  \n",
            "  inflating: data/train/100051/mask/1-025.png  \n",
            "  inflating: data/train/100051/mask/1-026.png  \n",
            "  inflating: data/train/100051/mask/1-027.png  \n",
            "  inflating: data/train/100051/mask/1-028.png  \n",
            "  inflating: data/train/100051/mask/1-029.png  \n",
            "  inflating: data/train/100051/mask/1-030.png  \n",
            "  inflating: data/train/100051/mask/1-031.png  \n",
            "  inflating: data/train/100051/mask/1-032.png  \n",
            "  inflating: data/train/100051/mask/1-033.png  \n",
            "  inflating: data/train/100051/mask/1-034.png  \n",
            "  inflating: data/train/100051/mask/1-035.png  \n",
            "  inflating: data/train/100051/mask/1-036.png  \n",
            "  inflating: data/train/100051/mask/1-037.png  \n",
            "  inflating: data/train/100051/mask/1-038.png  \n",
            "  inflating: data/train/100051/mask/1-039.png  \n",
            "  inflating: data/train/100051/mask/1-040.png  \n",
            "  inflating: data/train/100051/mask/1-041.png  \n",
            "  inflating: data/train/100051/mask/1-042.png  \n",
            "  inflating: data/train/100051/mask/1-043.png  \n",
            "  inflating: data/train/100051/mask/1-044.png  \n",
            "  inflating: data/train/100051/mask/1-045.png  \n",
            "  inflating: data/train/100051/mask/1-046.png  \n",
            "  inflating: data/train/100051/mask/1-047.png  \n",
            "  inflating: data/train/100051/mask/1-048.png  \n",
            "  inflating: data/train/100051/mask/1-049.png  \n",
            "  inflating: data/train/100051/mask/1-050.png  \n",
            "  inflating: data/train/100051/mask/1-051.png  \n",
            "  inflating: data/train/100051/mask/1-052.png  \n",
            "  inflating: data/train/100051/mask/1-053.png  \n",
            "  inflating: data/train/100051/mask/1-054.png  \n",
            "  inflating: data/train/100051/mask/1-055.png  \n",
            "  inflating: data/train/100051/mask/1-056.png  \n",
            "  inflating: data/train/100051/mask/1-057.png  \n",
            "  inflating: data/train/100051/mask/1-058.png  \n",
            "  inflating: data/train/100051/mask/1-059.png  \n",
            "  inflating: data/train/100051/mask/1-060.png  \n",
            "  inflating: data/train/100051/mask/1-061.png  \n",
            "  inflating: data/train/100051/mask/1-062.png  \n",
            "  inflating: data/train/100051/mask/1-063.png  \n",
            "  inflating: data/train/100051/mask/1-064.png  \n",
            "  inflating: data/train/100051/mask/1-065.png  \n",
            "  inflating: data/train/100051/mask/1-066.png  \n",
            "  inflating: data/train/100051/mask/1-067.png  \n",
            "  inflating: data/train/100051/mask/1-068.png  \n",
            "  inflating: data/train/100051/mask/1-069.png  \n",
            "  inflating: data/train/100051/mask/1-070.png  \n",
            "  inflating: data/train/100051/mask/1-071.png  \n",
            "  inflating: data/train/100051/mask/1-072.png  \n",
            "  inflating: data/train/100051/mask/1-073.png  \n",
            "  inflating: data/train/100051/mask/1-074.png  \n",
            "  inflating: data/train/100051/mask/1-075.png  \n",
            "  inflating: data/train/100051/mask/1-076.png  \n",
            "  inflating: data/train/100051/mask/1-077.png  \n",
            "  inflating: data/train/100051/mask/1-078.png  \n",
            "  inflating: data/train/100051/mask/1-079.png  \n",
            "  inflating: data/train/100051/mask/1-080.png  \n",
            "  inflating: data/train/100051/mask/1-081.png  \n",
            "  inflating: data/train/100051/mask/1-082.png  \n",
            "  inflating: data/train/100051/mask/1-083.png  \n",
            "  inflating: data/train/100051/mask/1-084.png  \n",
            "  inflating: data/train/100051/mask/1-085.png  \n",
            "  inflating: data/train/100051/mask/1-086.png  \n",
            "  inflating: data/train/100051/mask/1-087.png  \n",
            "  inflating: data/train/100051/mask/1-088.png  \n",
            "  inflating: data/train/100051/mask/1-089.png  \n",
            "  inflating: data/train/100051/mask/1-090.png  \n",
            "  inflating: data/train/100051/mask/1-091.png  \n",
            "  inflating: data/train/100051/mask/1-092.png  \n",
            "  inflating: data/train/100051/mask/1-093.png  \n",
            "  inflating: data/train/100051/mask/1-094.png  \n",
            "  inflating: data/train/100051/mask/1-095.png  \n",
            "  inflating: data/train/100051/mask/1-096.png  \n",
            "  inflating: data/train/100051/mask/1-097.png  \n",
            "  inflating: data/train/100051/mask/1-098.png  \n",
            "  inflating: data/train/100051/mask/1-099.png  \n",
            "  inflating: data/train/100051/mask/1-100.png  \n",
            "  inflating: data/train/100051/mask/1-101.png  \n",
            "  inflating: data/train/100051/mask/1-102.png  \n",
            "  inflating: data/train/100051/mask/1-103.png  \n",
            "  inflating: data/train/100051/mask/1-104.png  \n",
            "  inflating: data/train/100051/mask/1-105.png  \n",
            "  inflating: data/train/100051/mask/1-106.png  \n",
            "  inflating: data/train/100051/mask/1-107.png  \n",
            "  inflating: data/train/100051/mask/1-108.png  \n",
            "  inflating: data/train/100051/mask/1-109.png  \n",
            "  inflating: data/train/100051/mask/1-110.png  \n",
            "  inflating: data/train/100051/mask/1-111.png  \n",
            "  inflating: data/train/100051/mask/1-112.png  \n",
            "  inflating: data/train/100051/mask/1-113.png  \n",
            "  inflating: data/train/100051/mask/1-114.png  \n",
            "  inflating: data/train/100051/mask/1-115.png  \n",
            "  inflating: data/train/100051/mask/1-116.png  \n",
            "  inflating: data/train/100051/mask/1-117.png  \n",
            "  inflating: data/train/100051/mask/1-118.png  \n",
            "  inflating: data/train/100051/mask/1-119.png  \n",
            "  inflating: data/train/100051/mask/1-120.png  \n",
            "  inflating: data/train/100051/mask/1-121.png  \n",
            "  inflating: data/train/100051/mask/1-122.png  \n",
            "  inflating: data/train/100051/mask/1-123.png  \n",
            "  inflating: data/train/100051/mask/1-124.png  \n",
            "  inflating: data/train/100051/mask/1-125.png  \n",
            "  inflating: data/train/100051/mask/1-126.png  \n",
            "  inflating: data/train/100051/mask/1-127.png  \n",
            "  inflating: data/train/100051/mask/1-128.png  \n",
            "  inflating: data/train/100051/mask/1-129.png  \n",
            "  inflating: data/train/100051/mask/1-130.png  \n",
            "  inflating: data/train/100051/mask/1-131.png  \n",
            "  inflating: data/train/100053/image/1-001.png  \n",
            "  inflating: data/train/100053/image/1-002.png  \n",
            "  inflating: data/train/100053/image/1-003.png  \n",
            "  inflating: data/train/100053/image/1-004.png  \n",
            "  inflating: data/train/100053/image/1-005.png  \n",
            "  inflating: data/train/100053/image/1-006.png  \n",
            "  inflating: data/train/100053/image/1-007.png  \n",
            "  inflating: data/train/100053/image/1-008.png  \n",
            "  inflating: data/train/100053/image/1-009.png  \n",
            "  inflating: data/train/100053/image/1-010.png  \n",
            "  inflating: data/train/100053/image/1-011.png  \n",
            "  inflating: data/train/100053/image/1-012.png  \n",
            "  inflating: data/train/100053/image/1-013.png  \n",
            "  inflating: data/train/100053/image/1-014.png  \n",
            "  inflating: data/train/100053/image/1-015.png  \n",
            "  inflating: data/train/100053/image/1-016.png  \n",
            "  inflating: data/train/100053/image/1-017.png  \n",
            "  inflating: data/train/100053/image/1-018.png  \n",
            "  inflating: data/train/100053/image/1-019.png  \n",
            "  inflating: data/train/100053/image/1-020.png  \n",
            "  inflating: data/train/100053/image/1-021.png  \n",
            "  inflating: data/train/100053/image/1-022.png  \n",
            "  inflating: data/train/100053/image/1-023.png  \n",
            "  inflating: data/train/100053/image/1-024.png  \n",
            "  inflating: data/train/100053/image/1-025.png  \n",
            "  inflating: data/train/100053/image/1-026.png  \n",
            "  inflating: data/train/100053/image/1-027.png  \n",
            "  inflating: data/train/100053/image/1-028.png  \n",
            "  inflating: data/train/100053/image/1-029.png  \n",
            "  inflating: data/train/100053/image/1-030.png  \n",
            "  inflating: data/train/100053/image/1-031.png  \n",
            "  inflating: data/train/100053/image/1-032.png  \n",
            "  inflating: data/train/100053/image/1-033.png  \n",
            "  inflating: data/train/100053/image/1-034.png  \n",
            "  inflating: data/train/100053/image/1-035.png  \n",
            "  inflating: data/train/100053/image/1-036.png  \n",
            "  inflating: data/train/100053/image/1-037.png  \n",
            "  inflating: data/train/100053/image/1-038.png  \n",
            "  inflating: data/train/100053/image/1-039.png  \n",
            "  inflating: data/train/100053/image/1-040.png  \n",
            "  inflating: data/train/100053/image/1-041.png  \n",
            "  inflating: data/train/100053/image/1-042.png  \n",
            "  inflating: data/train/100053/image/1-043.png  \n",
            "  inflating: data/train/100053/image/1-044.png  \n",
            "  inflating: data/train/100053/image/1-045.png  \n",
            "  inflating: data/train/100053/image/1-046.png  \n",
            "  inflating: data/train/100053/image/1-047.png  \n",
            "  inflating: data/train/100053/image/1-048.png  \n",
            "  inflating: data/train/100053/image/1-049.png  \n",
            "  inflating: data/train/100053/image/1-050.png  \n",
            "  inflating: data/train/100053/image/1-051.png  \n",
            "  inflating: data/train/100053/image/1-052.png  \n",
            "  inflating: data/train/100053/image/1-053.png  \n",
            "  inflating: data/train/100053/image/1-054.png  \n",
            "  inflating: data/train/100053/image/1-055.png  \n",
            "  inflating: data/train/100053/image/1-056.png  \n",
            "  inflating: data/train/100053/image/1-057.png  \n",
            "  inflating: data/train/100053/image/1-058.png  \n",
            "  inflating: data/train/100053/image/1-059.png  \n",
            "  inflating: data/train/100053/image/1-060.png  \n",
            "  inflating: data/train/100053/image/1-061.png  \n",
            "  inflating: data/train/100053/image/1-062.png  \n",
            "  inflating: data/train/100053/image/1-063.png  \n",
            "  inflating: data/train/100053/image/1-064.png  \n",
            "  inflating: data/train/100053/image/1-065.png  \n",
            "  inflating: data/train/100053/image/1-066.png  \n",
            "  inflating: data/train/100053/image/1-067.png  \n",
            "  inflating: data/train/100053/image/1-068.png  \n",
            "  inflating: data/train/100053/image/1-069.png  \n",
            "  inflating: data/train/100053/image/1-070.png  \n",
            "  inflating: data/train/100053/image/1-071.png  \n",
            "  inflating: data/train/100053/image/1-072.png  \n",
            "  inflating: data/train/100053/image/1-073.png  \n",
            "  inflating: data/train/100053/image/1-074.png  \n",
            "  inflating: data/train/100053/image/1-075.png  \n",
            "  inflating: data/train/100053/image/1-076.png  \n",
            "  inflating: data/train/100053/image/1-077.png  \n",
            "  inflating: data/train/100053/image/1-078.png  \n",
            "  inflating: data/train/100053/image/1-079.png  \n",
            "  inflating: data/train/100053/image/1-080.png  \n",
            "  inflating: data/train/100053/image/1-081.png  \n",
            "  inflating: data/train/100053/image/1-082.png  \n",
            "  inflating: data/train/100053/image/1-083.png  \n",
            "  inflating: data/train/100053/image/1-084.png  \n",
            "  inflating: data/train/100053/image/1-085.png  \n",
            "  inflating: data/train/100053/image/1-086.png  \n",
            "  inflating: data/train/100053/image/1-087.png  \n",
            "  inflating: data/train/100053/image/1-088.png  \n",
            "  inflating: data/train/100053/image/1-089.png  \n",
            "  inflating: data/train/100053/image/1-090.png  \n",
            "  inflating: data/train/100053/image/1-091.png  \n",
            "  inflating: data/train/100053/image/1-092.png  \n",
            "  inflating: data/train/100053/image/1-093.png  \n",
            "  inflating: data/train/100053/image/1-094.png  \n",
            "  inflating: data/train/100053/image/1-095.png  \n",
            "  inflating: data/train/100053/image/1-096.png  \n",
            "  inflating: data/train/100053/image/1-097.png  \n",
            "  inflating: data/train/100053/image/1-098.png  \n",
            "  inflating: data/train/100053/image/1-099.png  \n",
            "  inflating: data/train/100053/image/1-100.png  \n",
            "  inflating: data/train/100053/image/1-101.png  \n",
            "  inflating: data/train/100053/image/1-102.png  \n",
            "  inflating: data/train/100053/image/1-103.png  \n",
            "  inflating: data/train/100053/image/1-104.png  \n",
            "  inflating: data/train/100053/image/1-105.png  \n",
            "  inflating: data/train/100053/image/1-106.png  \n",
            "  inflating: data/train/100053/image/1-107.png  \n",
            "  inflating: data/train/100053/image/1-108.png  \n",
            "  inflating: data/train/100053/image/1-109.png  \n",
            "  inflating: data/train/100053/image/1-110.png  \n",
            "  inflating: data/train/100053/image/1-111.png  \n",
            "  inflating: data/train/100053/image/1-112.png  \n",
            "  inflating: data/train/100053/mask/1-001.png  \n",
            "  inflating: data/train/100053/mask/1-002.png  \n",
            "  inflating: data/train/100053/mask/1-003.png  \n",
            "  inflating: data/train/100053/mask/1-004.png  \n",
            "  inflating: data/train/100053/mask/1-005.png  \n",
            "  inflating: data/train/100053/mask/1-006.png  \n",
            "  inflating: data/train/100053/mask/1-007.png  \n",
            "  inflating: data/train/100053/mask/1-008.png  \n",
            "  inflating: data/train/100053/mask/1-009.png  \n",
            "  inflating: data/train/100053/mask/1-010.png  \n",
            "  inflating: data/train/100053/mask/1-011.png  \n",
            "  inflating: data/train/100053/mask/1-012.png  \n",
            "  inflating: data/train/100053/mask/1-013.png  \n",
            "  inflating: data/train/100053/mask/1-014.png  \n",
            "  inflating: data/train/100053/mask/1-015.png  \n",
            "  inflating: data/train/100053/mask/1-016.png  \n",
            "  inflating: data/train/100053/mask/1-017.png  \n",
            "  inflating: data/train/100053/mask/1-018.png  \n",
            "  inflating: data/train/100053/mask/1-019.png  \n",
            "  inflating: data/train/100053/mask/1-020.png  \n",
            "  inflating: data/train/100053/mask/1-021.png  \n",
            "  inflating: data/train/100053/mask/1-022.png  \n",
            "  inflating: data/train/100053/mask/1-023.png  \n",
            "  inflating: data/train/100053/mask/1-024.png  \n",
            "  inflating: data/train/100053/mask/1-025.png  \n",
            "  inflating: data/train/100053/mask/1-026.png  \n",
            "  inflating: data/train/100053/mask/1-027.png  \n",
            "  inflating: data/train/100053/mask/1-028.png  \n",
            "  inflating: data/train/100053/mask/1-029.png  \n",
            "  inflating: data/train/100053/mask/1-030.png  \n",
            "  inflating: data/train/100053/mask/1-031.png  \n",
            "  inflating: data/train/100053/mask/1-032.png  \n",
            "  inflating: data/train/100053/mask/1-033.png  \n",
            "  inflating: data/train/100053/mask/1-034.png  \n",
            "  inflating: data/train/100053/mask/1-035.png  \n",
            "  inflating: data/train/100053/mask/1-036.png  \n",
            "  inflating: data/train/100053/mask/1-037.png  \n",
            "  inflating: data/train/100053/mask/1-038.png  \n",
            "  inflating: data/train/100053/mask/1-039.png  \n",
            "  inflating: data/train/100053/mask/1-040.png  \n",
            "  inflating: data/train/100053/mask/1-041.png  \n",
            "  inflating: data/train/100053/mask/1-042.png  \n",
            "  inflating: data/train/100053/mask/1-043.png  \n",
            "  inflating: data/train/100053/mask/1-044.png  \n",
            "  inflating: data/train/100053/mask/1-045.png  \n",
            "  inflating: data/train/100053/mask/1-046.png  \n",
            "  inflating: data/train/100053/mask/1-047.png  \n",
            "  inflating: data/train/100053/mask/1-048.png  \n",
            "  inflating: data/train/100053/mask/1-049.png  \n",
            "  inflating: data/train/100053/mask/1-050.png  \n",
            "  inflating: data/train/100053/mask/1-051.png  \n",
            "  inflating: data/train/100053/mask/1-052.png  \n",
            "  inflating: data/train/100053/mask/1-053.png  \n",
            "  inflating: data/train/100053/mask/1-054.png  \n",
            "  inflating: data/train/100053/mask/1-055.png  \n",
            "  inflating: data/train/100053/mask/1-056.png  \n",
            "  inflating: data/train/100053/mask/1-057.png  \n",
            "  inflating: data/train/100053/mask/1-058.png  \n",
            "  inflating: data/train/100053/mask/1-059.png  \n",
            "  inflating: data/train/100053/mask/1-060.png  \n",
            "  inflating: data/train/100053/mask/1-061.png  \n",
            "  inflating: data/train/100053/mask/1-062.png  \n",
            "  inflating: data/train/100053/mask/1-063.png  \n",
            "  inflating: data/train/100053/mask/1-064.png  \n",
            "  inflating: data/train/100053/mask/1-065.png  \n",
            "  inflating: data/train/100053/mask/1-066.png  \n",
            "  inflating: data/train/100053/mask/1-067.png  \n",
            "  inflating: data/train/100053/mask/1-068.png  \n",
            "  inflating: data/train/100053/mask/1-069.png  \n",
            "  inflating: data/train/100053/mask/1-070.png  \n",
            "  inflating: data/train/100053/mask/1-071.png  \n",
            "  inflating: data/train/100053/mask/1-072.png  \n",
            "  inflating: data/train/100053/mask/1-073.png  \n",
            "  inflating: data/train/100053/mask/1-074.png  \n",
            "  inflating: data/train/100053/mask/1-075.png  \n",
            "  inflating: data/train/100053/mask/1-076.png  \n",
            "  inflating: data/train/100053/mask/1-077.png  \n",
            "  inflating: data/train/100053/mask/1-078.png  \n",
            "  inflating: data/train/100053/mask/1-079.png  \n",
            "  inflating: data/train/100053/mask/1-080.png  \n",
            "  inflating: data/train/100053/mask/1-081.png  \n",
            "  inflating: data/train/100053/mask/1-082.png  \n",
            "  inflating: data/train/100053/mask/1-083.png  \n",
            "  inflating: data/train/100053/mask/1-084.png  \n",
            "  inflating: data/train/100053/mask/1-085.png  \n",
            "  inflating: data/train/100053/mask/1-086.png  \n",
            "  inflating: data/train/100053/mask/1-087.png  \n",
            "  inflating: data/train/100053/mask/1-088.png  \n",
            "  inflating: data/train/100053/mask/1-089.png  \n",
            "  inflating: data/train/100053/mask/1-090.png  \n",
            "  inflating: data/train/100053/mask/1-091.png  \n",
            "  inflating: data/train/100053/mask/1-092.png  \n",
            "  inflating: data/train/100053/mask/1-093.png  \n",
            "  inflating: data/train/100053/mask/1-094.png  \n",
            "  inflating: data/train/100053/mask/1-095.png  \n",
            "  inflating: data/train/100053/mask/1-096.png  \n",
            "  inflating: data/train/100053/mask/1-097.png  \n",
            "  inflating: data/train/100053/mask/1-098.png  \n",
            "  inflating: data/train/100053/mask/1-099.png  \n",
            "  inflating: data/train/100053/mask/1-100.png  \n",
            "  inflating: data/train/100053/mask/1-101.png  \n",
            "  inflating: data/train/100053/mask/1-102.png  \n",
            "  inflating: data/train/100053/mask/1-103.png  \n",
            "  inflating: data/train/100053/mask/1-104.png  \n",
            "  inflating: data/train/100053/mask/1-105.png  \n",
            "  inflating: data/train/100053/mask/1-106.png  \n",
            "  inflating: data/train/100053/mask/1-107.png  \n",
            "  inflating: data/train/100053/mask/1-108.png  \n",
            "  inflating: data/train/100053/mask/1-109.png  \n",
            "  inflating: data/train/100053/mask/1-110.png  \n",
            "  inflating: data/train/100053/mask/1-111.png  \n",
            "  inflating: data/train/100053/mask/1-112.png  \n",
            "  inflating: data/train/100056/image/1-001.png  \n",
            "  inflating: data/train/100056/image/1-002.png  \n",
            "  inflating: data/train/100056/image/1-003.png  \n",
            "  inflating: data/train/100056/image/1-004.png  \n",
            "  inflating: data/train/100056/image/1-005.png  \n",
            "  inflating: data/train/100056/image/1-006.png  \n",
            "  inflating: data/train/100056/image/1-007.png  \n",
            "  inflating: data/train/100056/image/1-008.png  \n",
            "  inflating: data/train/100056/image/1-009.png  \n",
            "  inflating: data/train/100056/image/1-010.png  \n",
            "  inflating: data/train/100056/image/1-011.png  \n",
            "  inflating: data/train/100056/image/1-012.png  \n",
            "  inflating: data/train/100056/image/1-013.png  \n",
            "  inflating: data/train/100056/image/1-014.png  \n",
            "  inflating: data/train/100056/image/1-015.png  \n",
            "  inflating: data/train/100056/image/1-016.png  \n",
            "  inflating: data/train/100056/image/1-017.png  \n",
            "  inflating: data/train/100056/image/1-018.png  \n",
            "  inflating: data/train/100056/image/1-019.png  \n",
            "  inflating: data/train/100056/image/1-020.png  \n",
            "  inflating: data/train/100056/image/1-021.png  \n",
            "  inflating: data/train/100056/image/1-022.png  \n",
            "  inflating: data/train/100056/image/1-023.png  \n",
            "  inflating: data/train/100056/image/1-024.png  \n",
            "  inflating: data/train/100056/image/1-025.png  \n",
            "  inflating: data/train/100056/image/1-026.png  \n",
            "  inflating: data/train/100056/image/1-027.png  \n",
            "  inflating: data/train/100056/image/1-028.png  \n",
            "  inflating: data/train/100056/image/1-029.png  \n",
            "  inflating: data/train/100056/image/1-030.png  \n",
            "  inflating: data/train/100056/image/1-031.png  \n",
            "  inflating: data/train/100056/image/1-032.png  \n",
            "  inflating: data/train/100056/image/1-033.png  \n",
            "  inflating: data/train/100056/image/1-034.png  \n",
            "  inflating: data/train/100056/image/1-035.png  \n",
            "  inflating: data/train/100056/image/1-036.png  \n",
            "  inflating: data/train/100056/image/1-037.png  \n",
            "  inflating: data/train/100056/image/1-038.png  \n",
            "  inflating: data/train/100056/image/1-039.png  \n",
            "  inflating: data/train/100056/image/1-040.png  \n",
            "  inflating: data/train/100056/image/1-041.png  \n",
            "  inflating: data/train/100056/image/1-042.png  \n",
            "  inflating: data/train/100056/image/1-043.png  \n",
            "  inflating: data/train/100056/image/1-044.png  \n",
            "  inflating: data/train/100056/image/1-045.png  \n",
            "  inflating: data/train/100056/image/1-046.png  \n",
            "  inflating: data/train/100056/image/1-047.png  \n",
            "  inflating: data/train/100056/image/1-048.png  \n",
            "  inflating: data/train/100056/image/1-049.png  \n",
            "  inflating: data/train/100056/image/1-050.png  \n",
            "  inflating: data/train/100056/image/1-051.png  \n",
            "  inflating: data/train/100056/image/1-052.png  \n",
            "  inflating: data/train/100056/image/1-053.png  \n",
            "  inflating: data/train/100056/image/1-054.png  \n",
            "  inflating: data/train/100056/image/1-055.png  \n",
            "  inflating: data/train/100056/image/1-056.png  \n",
            "  inflating: data/train/100056/image/1-057.png  \n",
            "  inflating: data/train/100056/image/1-058.png  \n",
            "  inflating: data/train/100056/image/1-059.png  \n",
            "  inflating: data/train/100056/image/1-060.png  \n",
            "  inflating: data/train/100056/image/1-061.png  \n",
            "  inflating: data/train/100056/image/1-062.png  \n",
            "  inflating: data/train/100056/image/1-063.png  \n",
            "  inflating: data/train/100056/image/1-064.png  \n",
            "  inflating: data/train/100056/image/1-065.png  \n",
            "  inflating: data/train/100056/image/1-066.png  \n",
            "  inflating: data/train/100056/image/1-067.png  \n",
            "  inflating: data/train/100056/image/1-068.png  \n",
            "  inflating: data/train/100056/image/1-069.png  \n",
            "  inflating: data/train/100056/image/1-070.png  \n",
            "  inflating: data/train/100056/image/1-071.png  \n",
            "  inflating: data/train/100056/image/1-072.png  \n",
            "  inflating: data/train/100056/image/1-073.png  \n",
            "  inflating: data/train/100056/image/1-074.png  \n",
            "  inflating: data/train/100056/image/1-075.png  \n",
            "  inflating: data/train/100056/image/1-076.png  \n",
            "  inflating: data/train/100056/image/1-077.png  \n",
            "  inflating: data/train/100056/image/1-078.png  \n",
            "  inflating: data/train/100056/image/1-079.png  \n",
            "  inflating: data/train/100056/image/1-080.png  \n",
            "  inflating: data/train/100056/image/1-081.png  \n",
            "  inflating: data/train/100056/image/1-082.png  \n",
            "  inflating: data/train/100056/image/1-083.png  \n",
            "  inflating: data/train/100056/image/1-084.png  \n",
            "  inflating: data/train/100056/image/1-085.png  \n",
            "  inflating: data/train/100056/image/1-086.png  \n",
            "  inflating: data/train/100056/image/1-087.png  \n",
            "  inflating: data/train/100056/image/1-088.png  \n",
            "  inflating: data/train/100056/image/1-089.png  \n",
            "  inflating: data/train/100056/image/1-090.png  \n",
            "  inflating: data/train/100056/image/1-091.png  \n",
            "  inflating: data/train/100056/image/1-092.png  \n",
            "  inflating: data/train/100056/image/1-093.png  \n",
            "  inflating: data/train/100056/image/1-094.png  \n",
            "  inflating: data/train/100056/image/1-095.png  \n",
            "  inflating: data/train/100056/image/1-096.png  \n",
            "  inflating: data/train/100056/image/1-097.png  \n",
            "  inflating: data/train/100056/image/1-098.png  \n",
            "  inflating: data/train/100056/image/1-099.png  \n",
            "  inflating: data/train/100056/image/1-100.png  \n",
            "  inflating: data/train/100056/image/1-101.png  \n",
            "  inflating: data/train/100056/image/1-102.png  \n",
            "  inflating: data/train/100056/image/1-103.png  \n",
            "  inflating: data/train/100056/image/1-104.png  \n",
            "  inflating: data/train/100056/image/1-105.png  \n",
            "  inflating: data/train/100056/image/1-106.png  \n",
            "  inflating: data/train/100056/image/1-107.png  \n",
            "  inflating: data/train/100056/image/1-108.png  \n",
            "  inflating: data/train/100056/image/1-109.png  \n",
            "  inflating: data/train/100056/image/1-110.png  \n",
            "  inflating: data/train/100056/image/1-111.png  \n",
            "  inflating: data/train/100056/image/1-112.png  \n",
            "  inflating: data/train/100056/image/1-113.png  \n",
            "  inflating: data/train/100056/image/1-114.png  \n",
            "  inflating: data/train/100056/image/1-115.png  \n",
            "  inflating: data/train/100056/image/1-116.png  \n",
            "  inflating: data/train/100056/image/1-117.png  \n",
            "  inflating: data/train/100056/image/1-118.png  \n",
            "  inflating: data/train/100056/image/1-119.png  \n",
            "  inflating: data/train/100056/image/1-120.png  \n",
            "  inflating: data/train/100056/image/1-121.png  \n",
            "  inflating: data/train/100056/image/1-122.png  \n",
            "  inflating: data/train/100056/image/1-123.png  \n",
            "  inflating: data/train/100056/image/1-124.png  \n",
            "  inflating: data/train/100056/image/1-125.png  \n",
            "  inflating: data/train/100056/image/1-126.png  \n",
            "  inflating: data/train/100056/image/1-127.png  \n",
            "  inflating: data/train/100056/image/1-128.png  \n",
            "  inflating: data/train/100056/image/1-129.png  \n",
            "  inflating: data/train/100056/image/1-130.png  \n",
            "  inflating: data/train/100056/image/1-131.png  \n",
            "  inflating: data/train/100056/image/1-132.png  \n",
            "  inflating: data/train/100056/mask/1-001.png  \n",
            "  inflating: data/train/100056/mask/1-002.png  \n",
            "  inflating: data/train/100056/mask/1-003.png  \n",
            "  inflating: data/train/100056/mask/1-004.png  \n",
            "  inflating: data/train/100056/mask/1-005.png  \n",
            "  inflating: data/train/100056/mask/1-006.png  \n",
            "  inflating: data/train/100056/mask/1-007.png  \n",
            "  inflating: data/train/100056/mask/1-008.png  \n",
            "  inflating: data/train/100056/mask/1-009.png  \n",
            "  inflating: data/train/100056/mask/1-010.png  \n",
            "  inflating: data/train/100056/mask/1-011.png  \n",
            "  inflating: data/train/100056/mask/1-012.png  \n",
            "  inflating: data/train/100056/mask/1-013.png  \n",
            "  inflating: data/train/100056/mask/1-014.png  \n",
            "  inflating: data/train/100056/mask/1-015.png  \n",
            "  inflating: data/train/100056/mask/1-016.png  \n",
            "  inflating: data/train/100056/mask/1-017.png  \n",
            "  inflating: data/train/100056/mask/1-018.png  \n",
            "  inflating: data/train/100056/mask/1-019.png  \n",
            "  inflating: data/train/100056/mask/1-020.png  \n",
            "  inflating: data/train/100056/mask/1-021.png  \n",
            "  inflating: data/train/100056/mask/1-022.png  \n",
            "  inflating: data/train/100056/mask/1-023.png  \n",
            "  inflating: data/train/100056/mask/1-024.png  \n",
            "  inflating: data/train/100056/mask/1-025.png  \n",
            "  inflating: data/train/100056/mask/1-026.png  \n",
            "  inflating: data/train/100056/mask/1-027.png  \n",
            "  inflating: data/train/100056/mask/1-028.png  \n",
            "  inflating: data/train/100056/mask/1-029.png  \n",
            "  inflating: data/train/100056/mask/1-030.png  \n",
            "  inflating: data/train/100056/mask/1-031.png  \n",
            "  inflating: data/train/100056/mask/1-032.png  \n",
            "  inflating: data/train/100056/mask/1-033.png  \n",
            "  inflating: data/train/100056/mask/1-034.png  \n",
            "  inflating: data/train/100056/mask/1-035.png  \n",
            "  inflating: data/train/100056/mask/1-036.png  \n",
            "  inflating: data/train/100056/mask/1-037.png  \n",
            "  inflating: data/train/100056/mask/1-038.png  \n",
            "  inflating: data/train/100056/mask/1-039.png  \n",
            "  inflating: data/train/100056/mask/1-040.png  \n",
            "  inflating: data/train/100056/mask/1-041.png  \n",
            "  inflating: data/train/100056/mask/1-042.png  \n",
            "  inflating: data/train/100056/mask/1-043.png  \n",
            "  inflating: data/train/100056/mask/1-044.png  \n",
            "  inflating: data/train/100056/mask/1-045.png  \n",
            "  inflating: data/train/100056/mask/1-046.png  \n",
            "  inflating: data/train/100056/mask/1-047.png  \n",
            "  inflating: data/train/100056/mask/1-048.png  \n",
            "  inflating: data/train/100056/mask/1-049.png  \n",
            "  inflating: data/train/100056/mask/1-050.png  \n",
            "  inflating: data/train/100056/mask/1-051.png  \n",
            "  inflating: data/train/100056/mask/1-052.png  \n",
            "  inflating: data/train/100056/mask/1-053.png  \n",
            "  inflating: data/train/100056/mask/1-054.png  \n",
            "  inflating: data/train/100056/mask/1-055.png  \n",
            "  inflating: data/train/100056/mask/1-056.png  \n",
            "  inflating: data/train/100056/mask/1-057.png  \n",
            "  inflating: data/train/100056/mask/1-058.png  \n",
            "  inflating: data/train/100056/mask/1-059.png  \n",
            "  inflating: data/train/100056/mask/1-060.png  \n",
            "  inflating: data/train/100056/mask/1-061.png  \n",
            "  inflating: data/train/100056/mask/1-062.png  \n",
            "  inflating: data/train/100056/mask/1-063.png  \n",
            "  inflating: data/train/100056/mask/1-064.png  \n",
            "  inflating: data/train/100056/mask/1-065.png  \n",
            "  inflating: data/train/100056/mask/1-066.png  \n",
            "  inflating: data/train/100056/mask/1-067.png  \n",
            "  inflating: data/train/100056/mask/1-068.png  \n",
            "  inflating: data/train/100056/mask/1-069.png  \n",
            "  inflating: data/train/100056/mask/1-070.png  \n",
            "  inflating: data/train/100056/mask/1-071.png  \n",
            "  inflating: data/train/100056/mask/1-072.png  \n",
            "  inflating: data/train/100056/mask/1-073.png  \n",
            "  inflating: data/train/100056/mask/1-074.png  \n",
            "  inflating: data/train/100056/mask/1-075.png  \n",
            "  inflating: data/train/100056/mask/1-076.png  \n",
            "  inflating: data/train/100056/mask/1-077.png  \n",
            "  inflating: data/train/100056/mask/1-078.png  \n",
            "  inflating: data/train/100056/mask/1-079.png  \n",
            "  inflating: data/train/100056/mask/1-080.png  \n",
            "  inflating: data/train/100056/mask/1-081.png  \n",
            "  inflating: data/train/100056/mask/1-082.png  \n",
            "  inflating: data/train/100056/mask/1-083.png  \n",
            "  inflating: data/train/100056/mask/1-084.png  \n",
            "  inflating: data/train/100056/mask/1-085.png  \n",
            "  inflating: data/train/100056/mask/1-086.png  \n",
            "  inflating: data/train/100056/mask/1-087.png  \n",
            "  inflating: data/train/100056/mask/1-088.png  \n",
            "  inflating: data/train/100056/mask/1-089.png  \n",
            "  inflating: data/train/100056/mask/1-090.png  \n",
            "  inflating: data/train/100056/mask/1-091.png  \n",
            "  inflating: data/train/100056/mask/1-092.png  \n",
            "  inflating: data/train/100056/mask/1-093.png  \n",
            "  inflating: data/train/100056/mask/1-094.png  \n",
            "  inflating: data/train/100056/mask/1-095.png  \n",
            "  inflating: data/train/100056/mask/1-096.png  \n",
            "  inflating: data/train/100056/mask/1-097.png  \n",
            "  inflating: data/train/100056/mask/1-098.png  \n",
            "  inflating: data/train/100056/mask/1-099.png  \n",
            "  inflating: data/train/100056/mask/1-100.png  \n",
            "  inflating: data/train/100056/mask/1-101.png  \n",
            "  inflating: data/train/100056/mask/1-102.png  \n",
            "  inflating: data/train/100056/mask/1-103.png  \n",
            "  inflating: data/train/100056/mask/1-104.png  \n",
            "  inflating: data/train/100056/mask/1-105.png  \n",
            "  inflating: data/train/100056/mask/1-106.png  \n",
            "  inflating: data/train/100056/mask/1-107.png  \n",
            "  inflating: data/train/100056/mask/1-108.png  \n",
            "  inflating: data/train/100056/mask/1-109.png  \n",
            "  inflating: data/train/100056/mask/1-110.png  \n",
            "  inflating: data/train/100056/mask/1-111.png  \n",
            "  inflating: data/train/100056/mask/1-112.png  \n",
            "  inflating: data/train/100056/mask/1-113.png  \n",
            "  inflating: data/train/100056/mask/1-114.png  \n",
            "  inflating: data/train/100056/mask/1-115.png  \n",
            "  inflating: data/train/100056/mask/1-116.png  \n",
            "  inflating: data/train/100056/mask/1-117.png  \n",
            "  inflating: data/train/100056/mask/1-118.png  \n",
            "  inflating: data/train/100056/mask/1-119.png  \n",
            "  inflating: data/train/100056/mask/1-120.png  \n",
            "  inflating: data/train/100056/mask/1-121.png  \n",
            "  inflating: data/train/100056/mask/1-122.png  \n",
            "  inflating: data/train/100056/mask/1-123.png  \n",
            "  inflating: data/train/100056/mask/1-124.png  \n",
            "  inflating: data/train/100056/mask/1-125.png  \n",
            "  inflating: data/train/100056/mask/1-126.png  \n",
            "  inflating: data/train/100056/mask/1-127.png  \n",
            "  inflating: data/train/100056/mask/1-128.png  \n",
            "  inflating: data/train/100056/mask/1-129.png  \n",
            "  inflating: data/train/100056/mask/1-130.png  \n",
            "  inflating: data/train/100056/mask/1-131.png  \n",
            "  inflating: data/train/100056/mask/1-132.png  \n",
            "  inflating: data/train/100058/image/1-001.png  \n",
            "  inflating: data/train/100058/image/1-002.png  \n",
            "  inflating: data/train/100058/image/1-003.png  \n",
            "  inflating: data/train/100058/image/1-004.png  \n",
            "  inflating: data/train/100058/image/1-005.png  \n",
            "  inflating: data/train/100058/image/1-006.png  \n",
            "  inflating: data/train/100058/image/1-007.png  \n",
            "  inflating: data/train/100058/image/1-008.png  \n",
            "  inflating: data/train/100058/image/1-009.png  \n",
            "  inflating: data/train/100058/image/1-010.png  \n",
            "  inflating: data/train/100058/image/1-011.png  \n",
            "  inflating: data/train/100058/image/1-012.png  \n",
            "  inflating: data/train/100058/image/1-013.png  \n",
            "  inflating: data/train/100058/image/1-014.png  \n",
            "  inflating: data/train/100058/image/1-015.png  \n",
            "  inflating: data/train/100058/image/1-016.png  \n",
            "  inflating: data/train/100058/image/1-017.png  \n",
            "  inflating: data/train/100058/image/1-018.png  \n",
            "  inflating: data/train/100058/image/1-019.png  \n",
            "  inflating: data/train/100058/image/1-020.png  \n",
            "  inflating: data/train/100058/image/1-021.png  \n",
            "  inflating: data/train/100058/image/1-022.png  \n",
            "  inflating: data/train/100058/image/1-023.png  \n",
            "  inflating: data/train/100058/image/1-024.png  \n",
            "  inflating: data/train/100058/image/1-025.png  \n",
            "  inflating: data/train/100058/image/1-026.png  \n",
            "  inflating: data/train/100058/image/1-027.png  \n",
            "  inflating: data/train/100058/image/1-028.png  \n",
            "  inflating: data/train/100058/image/1-029.png  \n",
            "  inflating: data/train/100058/image/1-030.png  \n",
            "  inflating: data/train/100058/image/1-031.png  \n",
            "  inflating: data/train/100058/image/1-032.png  \n",
            "  inflating: data/train/100058/image/1-033.png  \n",
            "  inflating: data/train/100058/image/1-034.png  \n",
            "  inflating: data/train/100058/image/1-035.png  \n",
            "  inflating: data/train/100058/image/1-036.png  \n",
            "  inflating: data/train/100058/image/1-037.png  \n",
            "  inflating: data/train/100058/image/1-038.png  \n",
            "  inflating: data/train/100058/image/1-039.png  \n",
            "  inflating: data/train/100058/image/1-040.png  \n",
            "  inflating: data/train/100058/image/1-041.png  \n",
            "  inflating: data/train/100058/image/1-042.png  \n",
            "  inflating: data/train/100058/image/1-043.png  \n",
            "  inflating: data/train/100058/image/1-044.png  \n",
            "  inflating: data/train/100058/image/1-045.png  \n",
            "  inflating: data/train/100058/image/1-046.png  \n",
            "  inflating: data/train/100058/image/1-047.png  \n",
            "  inflating: data/train/100058/image/1-048.png  \n",
            "  inflating: data/train/100058/image/1-049.png  \n",
            "  inflating: data/train/100058/image/1-050.png  \n",
            "  inflating: data/train/100058/image/1-051.png  \n",
            "  inflating: data/train/100058/image/1-052.png  \n",
            "  inflating: data/train/100058/image/1-053.png  \n",
            "  inflating: data/train/100058/image/1-054.png  \n",
            "  inflating: data/train/100058/image/1-055.png  \n",
            "  inflating: data/train/100058/image/1-056.png  \n",
            "  inflating: data/train/100058/image/1-057.png  \n",
            "  inflating: data/train/100058/image/1-058.png  \n",
            "  inflating: data/train/100058/image/1-059.png  \n",
            "  inflating: data/train/100058/image/1-060.png  \n",
            "  inflating: data/train/100058/image/1-061.png  \n",
            "  inflating: data/train/100058/image/1-062.png  \n",
            "  inflating: data/train/100058/image/1-063.png  \n",
            "  inflating: data/train/100058/image/1-064.png  \n",
            "  inflating: data/train/100058/image/1-065.png  \n",
            "  inflating: data/train/100058/image/1-066.png  \n",
            "  inflating: data/train/100058/image/1-067.png  \n",
            "  inflating: data/train/100058/image/1-068.png  \n",
            "  inflating: data/train/100058/image/1-069.png  \n",
            "  inflating: data/train/100058/image/1-070.png  \n",
            "  inflating: data/train/100058/image/1-071.png  \n",
            "  inflating: data/train/100058/image/1-072.png  \n",
            "  inflating: data/train/100058/image/1-073.png  \n",
            "  inflating: data/train/100058/image/1-074.png  \n",
            "  inflating: data/train/100058/image/1-075.png  \n",
            "  inflating: data/train/100058/image/1-076.png  \n",
            "  inflating: data/train/100058/image/1-077.png  \n",
            "  inflating: data/train/100058/image/1-078.png  \n",
            "  inflating: data/train/100058/image/1-079.png  \n",
            "  inflating: data/train/100058/image/1-080.png  \n",
            "  inflating: data/train/100058/image/1-081.png  \n",
            "  inflating: data/train/100058/image/1-082.png  \n",
            "  inflating: data/train/100058/image/1-083.png  \n",
            "  inflating: data/train/100058/image/1-084.png  \n",
            "  inflating: data/train/100058/image/1-085.png  \n",
            "  inflating: data/train/100058/image/1-086.png  \n",
            "  inflating: data/train/100058/image/1-087.png  \n",
            "  inflating: data/train/100058/image/1-088.png  \n",
            "  inflating: data/train/100058/image/1-089.png  \n",
            "  inflating: data/train/100058/image/1-090.png  \n",
            "  inflating: data/train/100058/image/1-091.png  \n",
            "  inflating: data/train/100058/image/1-092.png  \n",
            "  inflating: data/train/100058/image/1-093.png  \n",
            "  inflating: data/train/100058/image/1-094.png  \n",
            "  inflating: data/train/100058/image/1-095.png  \n",
            "  inflating: data/train/100058/image/1-096.png  \n",
            "  inflating: data/train/100058/image/1-097.png  \n",
            "  inflating: data/train/100058/image/1-098.png  \n",
            "  inflating: data/train/100058/image/1-099.png  \n",
            "  inflating: data/train/100058/image/1-100.png  \n",
            "  inflating: data/train/100058/image/1-101.png  \n",
            "  inflating: data/train/100058/image/1-102.png  \n",
            "  inflating: data/train/100058/image/1-103.png  \n",
            "  inflating: data/train/100058/image/1-104.png  \n",
            "  inflating: data/train/100058/image/1-105.png  \n",
            "  inflating: data/train/100058/image/1-106.png  \n",
            "  inflating: data/train/100058/image/1-107.png  \n",
            "  inflating: data/train/100058/image/1-108.png  \n",
            "  inflating: data/train/100058/image/1-109.png  \n",
            "  inflating: data/train/100058/image/1-110.png  \n",
            "  inflating: data/train/100058/image/1-111.png  \n",
            "  inflating: data/train/100058/image/1-112.png  \n",
            "  inflating: data/train/100058/image/1-113.png  \n",
            "  inflating: data/train/100058/image/1-114.png  \n",
            "  inflating: data/train/100058/image/1-115.png  \n",
            "  inflating: data/train/100058/image/1-116.png  \n",
            "  inflating: data/train/100058/image/1-117.png  \n",
            "  inflating: data/train/100058/image/1-118.png  \n",
            "  inflating: data/train/100058/image/1-119.png  \n",
            "  inflating: data/train/100058/image/1-120.png  \n",
            "  inflating: data/train/100058/image/1-121.png  \n",
            "  inflating: data/train/100058/image/1-122.png  \n",
            "  inflating: data/train/100058/image/1-123.png  \n",
            "  inflating: data/train/100058/image/1-124.png  \n",
            "  inflating: data/train/100058/image/1-125.png  \n",
            "  inflating: data/train/100058/image/1-126.png  \n",
            "  inflating: data/train/100058/image/1-127.png  \n",
            "  inflating: data/train/100058/image/1-128.png  \n",
            "  inflating: data/train/100058/image/1-129.png  \n",
            "  inflating: data/train/100058/image/1-130.png  \n",
            "  inflating: data/train/100058/image/1-131.png  \n",
            "  inflating: data/train/100058/image/1-132.png  \n",
            "  inflating: data/train/100058/image/1-133.png  \n",
            "  inflating: data/train/100058/image/1-134.png  \n",
            "  inflating: data/train/100058/image/1-135.png  \n",
            "  inflating: data/train/100058/image/1-136.png  \n",
            "  inflating: data/train/100058/image/1-137.png  \n",
            "  inflating: data/train/100058/image/1-138.png  \n",
            "  inflating: data/train/100058/image/1-139.png  \n",
            "  inflating: data/train/100058/image/1-140.png  \n",
            "  inflating: data/train/100058/image/1-141.png  \n",
            "  inflating: data/train/100058/image/1-142.png  \n",
            "  inflating: data/train/100058/image/1-143.png  \n",
            "  inflating: data/train/100058/image/1-144.png  \n",
            "  inflating: data/train/100058/image/1-145.png  \n",
            "  inflating: data/train/100058/image/1-146.png  \n",
            "  inflating: data/train/100058/image/1-147.png  \n",
            "  inflating: data/train/100058/image/1-148.png  \n",
            "  inflating: data/train/100058/mask/1-001.png  \n",
            "  inflating: data/train/100058/mask/1-002.png  \n",
            "  inflating: data/train/100058/mask/1-003.png  \n",
            "  inflating: data/train/100058/mask/1-004.png  \n",
            "  inflating: data/train/100058/mask/1-005.png  \n",
            "  inflating: data/train/100058/mask/1-006.png  \n",
            "  inflating: data/train/100058/mask/1-007.png  \n",
            "  inflating: data/train/100058/mask/1-008.png  \n",
            "  inflating: data/train/100058/mask/1-009.png  \n",
            "  inflating: data/train/100058/mask/1-010.png  \n",
            "  inflating: data/train/100058/mask/1-011.png  \n",
            "  inflating: data/train/100058/mask/1-012.png  \n",
            "  inflating: data/train/100058/mask/1-013.png  \n",
            "  inflating: data/train/100058/mask/1-014.png  \n",
            "  inflating: data/train/100058/mask/1-015.png  \n",
            "  inflating: data/train/100058/mask/1-016.png  \n",
            "  inflating: data/train/100058/mask/1-017.png  \n",
            "  inflating: data/train/100058/mask/1-018.png  \n",
            "  inflating: data/train/100058/mask/1-019.png  \n",
            "  inflating: data/train/100058/mask/1-020.png  \n",
            "  inflating: data/train/100058/mask/1-021.png  \n",
            "  inflating: data/train/100058/mask/1-022.png  \n",
            "  inflating: data/train/100058/mask/1-023.png  \n",
            "  inflating: data/train/100058/mask/1-024.png  \n",
            "  inflating: data/train/100058/mask/1-025.png  \n",
            "  inflating: data/train/100058/mask/1-026.png  \n",
            "  inflating: data/train/100058/mask/1-027.png  \n",
            "  inflating: data/train/100058/mask/1-028.png  \n",
            "  inflating: data/train/100058/mask/1-029.png  \n",
            "  inflating: data/train/100058/mask/1-030.png  \n",
            "  inflating: data/train/100058/mask/1-031.png  \n",
            "  inflating: data/train/100058/mask/1-032.png  \n",
            "  inflating: data/train/100058/mask/1-033.png  \n",
            "  inflating: data/train/100058/mask/1-034.png  \n",
            "  inflating: data/train/100058/mask/1-035.png  \n",
            "  inflating: data/train/100058/mask/1-036.png  \n",
            "  inflating: data/train/100058/mask/1-037.png  \n",
            "  inflating: data/train/100058/mask/1-038.png  \n",
            "  inflating: data/train/100058/mask/1-039.png  \n",
            "  inflating: data/train/100058/mask/1-040.png  \n",
            "  inflating: data/train/100058/mask/1-041.png  \n",
            "  inflating: data/train/100058/mask/1-042.png  \n",
            "  inflating: data/train/100058/mask/1-043.png  \n",
            "  inflating: data/train/100058/mask/1-044.png  \n",
            "  inflating: data/train/100058/mask/1-045.png  \n",
            "  inflating: data/train/100058/mask/1-046.png  \n",
            "  inflating: data/train/100058/mask/1-047.png  \n",
            "  inflating: data/train/100058/mask/1-048.png  \n",
            "  inflating: data/train/100058/mask/1-049.png  \n",
            "  inflating: data/train/100058/mask/1-050.png  \n",
            "  inflating: data/train/100058/mask/1-051.png  \n",
            "  inflating: data/train/100058/mask/1-052.png  \n",
            "  inflating: data/train/100058/mask/1-053.png  \n",
            "  inflating: data/train/100058/mask/1-054.png  \n",
            "  inflating: data/train/100058/mask/1-055.png  \n",
            "  inflating: data/train/100058/mask/1-056.png  \n",
            "  inflating: data/train/100058/mask/1-057.png  \n",
            "  inflating: data/train/100058/mask/1-058.png  \n",
            "  inflating: data/train/100058/mask/1-059.png  \n",
            "  inflating: data/train/100058/mask/1-060.png  \n",
            "  inflating: data/train/100058/mask/1-061.png  \n",
            "  inflating: data/train/100058/mask/1-062.png  \n",
            "  inflating: data/train/100058/mask/1-063.png  \n",
            "  inflating: data/train/100058/mask/1-064.png  \n",
            "  inflating: data/train/100058/mask/1-065.png  \n",
            "  inflating: data/train/100058/mask/1-066.png  \n",
            "  inflating: data/train/100058/mask/1-067.png  \n",
            "  inflating: data/train/100058/mask/1-068.png  \n",
            "  inflating: data/train/100058/mask/1-069.png  \n",
            "  inflating: data/train/100058/mask/1-070.png  \n",
            "  inflating: data/train/100058/mask/1-071.png  \n",
            "  inflating: data/train/100058/mask/1-072.png  \n",
            "  inflating: data/train/100058/mask/1-073.png  \n",
            "  inflating: data/train/100058/mask/1-074.png  \n",
            "  inflating: data/train/100058/mask/1-075.png  \n",
            "  inflating: data/train/100058/mask/1-076.png  \n",
            "  inflating: data/train/100058/mask/1-077.png  \n",
            "  inflating: data/train/100058/mask/1-078.png  \n",
            "  inflating: data/train/100058/mask/1-079.png  \n",
            "  inflating: data/train/100058/mask/1-080.png  \n",
            "  inflating: data/train/100058/mask/1-081.png  \n",
            "  inflating: data/train/100058/mask/1-082.png  \n",
            "  inflating: data/train/100058/mask/1-083.png  \n",
            "  inflating: data/train/100058/mask/1-084.png  \n",
            "  inflating: data/train/100058/mask/1-085.png  \n",
            "  inflating: data/train/100058/mask/1-086.png  \n",
            "  inflating: data/train/100058/mask/1-087.png  \n",
            "  inflating: data/train/100058/mask/1-088.png  \n",
            "  inflating: data/train/100058/mask/1-089.png  \n",
            "  inflating: data/train/100058/mask/1-090.png  \n",
            "  inflating: data/train/100058/mask/1-091.png  \n",
            "  inflating: data/train/100058/mask/1-092.png  \n",
            "  inflating: data/train/100058/mask/1-093.png  \n",
            "  inflating: data/train/100058/mask/1-094.png  \n",
            "  inflating: data/train/100058/mask/1-095.png  \n",
            "  inflating: data/train/100058/mask/1-096.png  \n",
            "  inflating: data/train/100058/mask/1-097.png  \n",
            "  inflating: data/train/100058/mask/1-098.png  \n",
            "  inflating: data/train/100058/mask/1-099.png  \n",
            "  inflating: data/train/100058/mask/1-100.png  \n",
            "  inflating: data/train/100058/mask/1-101.png  \n",
            "  inflating: data/train/100058/mask/1-102.png  \n",
            "  inflating: data/train/100058/mask/1-103.png  \n",
            "  inflating: data/train/100058/mask/1-104.png  \n",
            "  inflating: data/train/100058/mask/1-105.png  \n",
            "  inflating: data/train/100058/mask/1-106.png  \n",
            "  inflating: data/train/100058/mask/1-107.png  \n",
            "  inflating: data/train/100058/mask/1-108.png  \n",
            "  inflating: data/train/100058/mask/1-109.png  \n",
            "  inflating: data/train/100058/mask/1-110.png  \n",
            "  inflating: data/train/100058/mask/1-111.png  \n",
            "  inflating: data/train/100058/mask/1-112.png  \n",
            "  inflating: data/train/100058/mask/1-113.png  \n",
            "  inflating: data/train/100058/mask/1-114.png  \n",
            "  inflating: data/train/100058/mask/1-115.png  \n",
            "  inflating: data/train/100058/mask/1-116.png  \n",
            "  inflating: data/train/100058/mask/1-117.png  \n",
            "  inflating: data/train/100058/mask/1-118.png  \n",
            "  inflating: data/train/100058/mask/1-119.png  \n",
            "  inflating: data/train/100058/mask/1-120.png  \n",
            "  inflating: data/train/100058/mask/1-121.png  \n",
            "  inflating: data/train/100058/mask/1-122.png  \n",
            "  inflating: data/train/100058/mask/1-123.png  \n",
            "  inflating: data/train/100058/mask/1-124.png  \n",
            "  inflating: data/train/100058/mask/1-125.png  \n",
            "  inflating: data/train/100058/mask/1-126.png  \n",
            "  inflating: data/train/100058/mask/1-127.png  \n",
            "  inflating: data/train/100058/mask/1-128.png  \n",
            "  inflating: data/train/100058/mask/1-129.png  \n",
            "  inflating: data/train/100058/mask/1-130.png  \n",
            "  inflating: data/train/100058/mask/1-131.png  \n",
            "  inflating: data/train/100058/mask/1-132.png  \n",
            "  inflating: data/train/100058/mask/1-133.png  \n",
            "  inflating: data/train/100058/mask/1-134.png  \n",
            "  inflating: data/train/100058/mask/1-135.png  \n",
            "  inflating: data/train/100058/mask/1-136.png  \n",
            "  inflating: data/train/100058/mask/1-137.png  \n",
            "  inflating: data/train/100058/mask/1-138.png  \n",
            "  inflating: data/train/100058/mask/1-139.png  \n",
            "  inflating: data/train/100058/mask/1-140.png  \n",
            "  inflating: data/train/100058/mask/1-141.png  \n",
            "  inflating: data/train/100058/mask/1-142.png  \n",
            "  inflating: data/train/100058/mask/1-143.png  \n",
            "  inflating: data/train/100058/mask/1-144.png  \n",
            "  inflating: data/train/100058/mask/1-145.png  \n",
            "  inflating: data/train/100058/mask/1-146.png  \n",
            "  inflating: data/train/100058/mask/1-147.png  \n",
            "  inflating: data/train/100058/mask/1-148.png  \n",
            "  inflating: data/train/100065/image/1-001.png  \n",
            "  inflating: data/train/100065/image/1-002.png  \n",
            "  inflating: data/train/100065/image/1-003.png  \n",
            "  inflating: data/train/100065/image/1-004.png  \n",
            "  inflating: data/train/100065/image/1-005.png  \n",
            "  inflating: data/train/100065/image/1-006.png  \n",
            "  inflating: data/train/100065/image/1-007.png  \n",
            "  inflating: data/train/100065/image/1-008.png  \n",
            "  inflating: data/train/100065/image/1-009.png  \n",
            "  inflating: data/train/100065/image/1-010.png  \n",
            "  inflating: data/train/100065/image/1-011.png  \n",
            "  inflating: data/train/100065/image/1-012.png  \n",
            "  inflating: data/train/100065/image/1-013.png  \n",
            "  inflating: data/train/100065/image/1-014.png  \n",
            "  inflating: data/train/100065/image/1-015.png  \n",
            "  inflating: data/train/100065/image/1-016.png  \n",
            "  inflating: data/train/100065/image/1-017.png  \n",
            "  inflating: data/train/100065/image/1-018.png  \n",
            "  inflating: data/train/100065/image/1-019.png  \n",
            "  inflating: data/train/100065/image/1-020.png  \n",
            "  inflating: data/train/100065/image/1-021.png  \n",
            "  inflating: data/train/100065/image/1-022.png  \n",
            "  inflating: data/train/100065/image/1-023.png  \n",
            "  inflating: data/train/100065/image/1-024.png  \n",
            "  inflating: data/train/100065/image/1-025.png  \n",
            "  inflating: data/train/100065/image/1-026.png  \n",
            "  inflating: data/train/100065/image/1-027.png  \n",
            "  inflating: data/train/100065/image/1-028.png  \n",
            "  inflating: data/train/100065/image/1-029.png  \n",
            "  inflating: data/train/100065/image/1-030.png  \n",
            "  inflating: data/train/100065/image/1-031.png  \n",
            "  inflating: data/train/100065/image/1-032.png  \n",
            "  inflating: data/train/100065/image/1-033.png  \n",
            "  inflating: data/train/100065/image/1-034.png  \n",
            "  inflating: data/train/100065/image/1-035.png  \n",
            "  inflating: data/train/100065/image/1-036.png  \n",
            "  inflating: data/train/100065/image/1-037.png  \n",
            "  inflating: data/train/100065/image/1-038.png  \n",
            "  inflating: data/train/100065/image/1-039.png  \n",
            "  inflating: data/train/100065/image/1-040.png  \n",
            "  inflating: data/train/100065/image/1-041.png  \n",
            "  inflating: data/train/100065/image/1-042.png  \n",
            "  inflating: data/train/100065/image/1-043.png  \n",
            "  inflating: data/train/100065/image/1-044.png  \n",
            "  inflating: data/train/100065/image/1-045.png  \n",
            "  inflating: data/train/100065/image/1-046.png  \n",
            "  inflating: data/train/100065/image/1-047.png  \n",
            "  inflating: data/train/100065/image/1-048.png  \n",
            "  inflating: data/train/100065/image/1-049.png  \n",
            "  inflating: data/train/100065/image/1-050.png  \n",
            "  inflating: data/train/100065/image/1-051.png  \n",
            "  inflating: data/train/100065/image/1-052.png  \n",
            "  inflating: data/train/100065/image/1-053.png  \n",
            "  inflating: data/train/100065/image/1-054.png  \n",
            "  inflating: data/train/100065/image/1-055.png  \n",
            "  inflating: data/train/100065/image/1-056.png  \n",
            "  inflating: data/train/100065/image/1-057.png  \n",
            "  inflating: data/train/100065/image/1-058.png  \n",
            "  inflating: data/train/100065/image/1-059.png  \n",
            "  inflating: data/train/100065/image/1-060.png  \n",
            "  inflating: data/train/100065/image/1-061.png  \n",
            "  inflating: data/train/100065/image/1-062.png  \n",
            "  inflating: data/train/100065/image/1-063.png  \n",
            "  inflating: data/train/100065/image/1-064.png  \n",
            "  inflating: data/train/100065/image/1-065.png  \n",
            "  inflating: data/train/100065/image/1-066.png  \n",
            "  inflating: data/train/100065/image/1-067.png  \n",
            "  inflating: data/train/100065/image/1-068.png  \n",
            "  inflating: data/train/100065/image/1-069.png  \n",
            "  inflating: data/train/100065/image/1-070.png  \n",
            "  inflating: data/train/100065/image/1-071.png  \n",
            "  inflating: data/train/100065/image/1-072.png  \n",
            "  inflating: data/train/100065/image/1-073.png  \n",
            "  inflating: data/train/100065/image/1-074.png  \n",
            "  inflating: data/train/100065/image/1-075.png  \n",
            "  inflating: data/train/100065/image/1-076.png  \n",
            "  inflating: data/train/100065/image/1-077.png  \n",
            "  inflating: data/train/100065/image/1-078.png  \n",
            "  inflating: data/train/100065/image/1-079.png  \n",
            "  inflating: data/train/100065/image/1-080.png  \n",
            "  inflating: data/train/100065/image/1-081.png  \n",
            "  inflating: data/train/100065/image/1-082.png  \n",
            "  inflating: data/train/100065/image/1-083.png  \n",
            "  inflating: data/train/100065/image/1-084.png  \n",
            "  inflating: data/train/100065/image/1-085.png  \n",
            "  inflating: data/train/100065/image/1-086.png  \n",
            "  inflating: data/train/100065/image/1-087.png  \n",
            "  inflating: data/train/100065/image/1-088.png  \n",
            "  inflating: data/train/100065/image/1-089.png  \n",
            "  inflating: data/train/100065/image/1-090.png  \n",
            "  inflating: data/train/100065/image/1-091.png  \n",
            "  inflating: data/train/100065/image/1-092.png  \n",
            "  inflating: data/train/100065/image/1-093.png  \n",
            "  inflating: data/train/100065/image/1-094.png  \n",
            "  inflating: data/train/100065/image/1-095.png  \n",
            "  inflating: data/train/100065/image/1-096.png  \n",
            "  inflating: data/train/100065/image/1-097.png  \n",
            "  inflating: data/train/100065/image/1-098.png  \n",
            "  inflating: data/train/100065/image/1-099.png  \n",
            "  inflating: data/train/100065/image/1-100.png  \n",
            "  inflating: data/train/100065/image/1-101.png  \n",
            "  inflating: data/train/100065/image/1-102.png  \n",
            "  inflating: data/train/100065/image/1-103.png  \n",
            "  inflating: data/train/100065/image/1-104.png  \n",
            "  inflating: data/train/100065/image/1-105.png  \n",
            "  inflating: data/train/100065/image/1-106.png  \n",
            "  inflating: data/train/100065/image/1-107.png  \n",
            "  inflating: data/train/100065/image/1-108.png  \n",
            "  inflating: data/train/100065/image/1-109.png  \n",
            "  inflating: data/train/100065/image/1-110.png  \n",
            "  inflating: data/train/100065/image/1-111.png  \n",
            "  inflating: data/train/100065/image/1-112.png  \n",
            "  inflating: data/train/100065/image/1-113.png  \n",
            "  inflating: data/train/100065/image/1-114.png  \n",
            "  inflating: data/train/100065/image/1-115.png  \n",
            "  inflating: data/train/100065/image/1-116.png  \n",
            "  inflating: data/train/100065/image/1-117.png  \n",
            "  inflating: data/train/100065/image/1-118.png  \n",
            "  inflating: data/train/100065/image/1-119.png  \n",
            "  inflating: data/train/100065/image/1-120.png  \n",
            "  inflating: data/train/100065/image/1-121.png  \n",
            "  inflating: data/train/100065/image/1-122.png  \n",
            "  inflating: data/train/100065/mask/1-001.png  \n",
            "  inflating: data/train/100065/mask/1-002.png  \n",
            "  inflating: data/train/100065/mask/1-003.png  \n",
            "  inflating: data/train/100065/mask/1-004.png  \n",
            "  inflating: data/train/100065/mask/1-005.png  \n",
            "  inflating: data/train/100065/mask/1-006.png  \n",
            "  inflating: data/train/100065/mask/1-007.png  \n",
            "  inflating: data/train/100065/mask/1-008.png  \n",
            "  inflating: data/train/100065/mask/1-009.png  \n",
            "  inflating: data/train/100065/mask/1-010.png  \n",
            "  inflating: data/train/100065/mask/1-011.png  \n",
            "  inflating: data/train/100065/mask/1-012.png  \n",
            "  inflating: data/train/100065/mask/1-013.png  \n",
            "  inflating: data/train/100065/mask/1-014.png  \n",
            "  inflating: data/train/100065/mask/1-015.png  \n",
            "  inflating: data/train/100065/mask/1-016.png  \n",
            "  inflating: data/train/100065/mask/1-017.png  \n",
            "  inflating: data/train/100065/mask/1-018.png  \n",
            "  inflating: data/train/100065/mask/1-019.png  \n",
            "  inflating: data/train/100065/mask/1-020.png  \n",
            "  inflating: data/train/100065/mask/1-021.png  \n",
            "  inflating: data/train/100065/mask/1-022.png  \n",
            "  inflating: data/train/100065/mask/1-023.png  \n",
            "  inflating: data/train/100065/mask/1-024.png  \n",
            "  inflating: data/train/100065/mask/1-025.png  \n",
            "  inflating: data/train/100065/mask/1-026.png  \n",
            "  inflating: data/train/100065/mask/1-027.png  \n",
            "  inflating: data/train/100065/mask/1-028.png  \n",
            "  inflating: data/train/100065/mask/1-029.png  \n",
            "  inflating: data/train/100065/mask/1-030.png  \n",
            "  inflating: data/train/100065/mask/1-031.png  \n",
            "  inflating: data/train/100065/mask/1-032.png  \n",
            "  inflating: data/train/100065/mask/1-033.png  \n",
            "  inflating: data/train/100065/mask/1-034.png  \n",
            "  inflating: data/train/100065/mask/1-035.png  \n",
            "  inflating: data/train/100065/mask/1-036.png  \n",
            "  inflating: data/train/100065/mask/1-037.png  \n",
            "  inflating: data/train/100065/mask/1-038.png  \n",
            "  inflating: data/train/100065/mask/1-039.png  \n",
            "  inflating: data/train/100065/mask/1-040.png  \n",
            "  inflating: data/train/100065/mask/1-041.png  \n",
            "  inflating: data/train/100065/mask/1-042.png  \n",
            "  inflating: data/train/100065/mask/1-043.png  \n",
            "  inflating: data/train/100065/mask/1-044.png  \n",
            "  inflating: data/train/100065/mask/1-045.png  \n",
            "  inflating: data/train/100065/mask/1-046.png  \n",
            "  inflating: data/train/100065/mask/1-047.png  \n",
            "  inflating: data/train/100065/mask/1-048.png  \n",
            "  inflating: data/train/100065/mask/1-049.png  \n",
            "  inflating: data/train/100065/mask/1-050.png  \n",
            "  inflating: data/train/100065/mask/1-051.png  \n",
            "  inflating: data/train/100065/mask/1-052.png  \n",
            "  inflating: data/train/100065/mask/1-053.png  \n",
            "  inflating: data/train/100065/mask/1-054.png  \n",
            "  inflating: data/train/100065/mask/1-055.png  \n",
            "  inflating: data/train/100065/mask/1-056.png  \n",
            "  inflating: data/train/100065/mask/1-057.png  \n",
            "  inflating: data/train/100065/mask/1-058.png  \n",
            "  inflating: data/train/100065/mask/1-059.png  \n",
            "  inflating: data/train/100065/mask/1-060.png  \n",
            "  inflating: data/train/100065/mask/1-061.png  \n",
            "  inflating: data/train/100065/mask/1-062.png  \n",
            "  inflating: data/train/100065/mask/1-063.png  \n",
            "  inflating: data/train/100065/mask/1-064.png  \n",
            "  inflating: data/train/100065/mask/1-065.png  \n",
            "  inflating: data/train/100065/mask/1-066.png  \n",
            "  inflating: data/train/100065/mask/1-067.png  \n",
            "  inflating: data/train/100065/mask/1-068.png  \n",
            "  inflating: data/train/100065/mask/1-069.png  \n",
            "  inflating: data/train/100065/mask/1-070.png  \n",
            "  inflating: data/train/100065/mask/1-071.png  \n",
            "  inflating: data/train/100065/mask/1-072.png  \n",
            "  inflating: data/train/100065/mask/1-073.png  \n",
            "  inflating: data/train/100065/mask/1-074.png  \n",
            "  inflating: data/train/100065/mask/1-075.png  \n",
            "  inflating: data/train/100065/mask/1-076.png  \n",
            "  inflating: data/train/100065/mask/1-077.png  \n",
            "  inflating: data/train/100065/mask/1-078.png  \n",
            "  inflating: data/train/100065/mask/1-079.png  \n",
            "  inflating: data/train/100065/mask/1-080.png  \n",
            "  inflating: data/train/100065/mask/1-081.png  \n",
            "  inflating: data/train/100065/mask/1-082.png  \n",
            "  inflating: data/train/100065/mask/1-083.png  \n",
            "  inflating: data/train/100065/mask/1-084.png  \n",
            "  inflating: data/train/100065/mask/1-085.png  \n",
            "  inflating: data/train/100065/mask/1-086.png  \n",
            "  inflating: data/train/100065/mask/1-087.png  \n",
            "  inflating: data/train/100065/mask/1-088.png  \n",
            "  inflating: data/train/100065/mask/1-089.png  \n",
            "  inflating: data/train/100065/mask/1-090.png  \n",
            "  inflating: data/train/100065/mask/1-091.png  \n",
            "  inflating: data/train/100065/mask/1-092.png  \n",
            "  inflating: data/train/100065/mask/1-093.png  \n",
            "  inflating: data/train/100065/mask/1-094.png  \n",
            "  inflating: data/train/100065/mask/1-095.png  \n",
            "  inflating: data/train/100065/mask/1-096.png  \n",
            "  inflating: data/train/100065/mask/1-097.png  \n",
            "  inflating: data/train/100065/mask/1-098.png  \n",
            "  inflating: data/train/100065/mask/1-099.png  \n",
            "  inflating: data/train/100065/mask/1-100.png  \n",
            "  inflating: data/train/100065/mask/1-101.png  \n",
            "  inflating: data/train/100065/mask/1-102.png  \n",
            "  inflating: data/train/100065/mask/1-103.png  \n",
            "  inflating: data/train/100065/mask/1-104.png  \n",
            "  inflating: data/train/100065/mask/1-105.png  \n",
            "  inflating: data/train/100065/mask/1-106.png  \n",
            "  inflating: data/train/100065/mask/1-107.png  \n",
            "  inflating: data/train/100065/mask/1-108.png  \n",
            "  inflating: data/train/100065/mask/1-109.png  \n",
            "  inflating: data/train/100065/mask/1-110.png  \n",
            "  inflating: data/train/100065/mask/1-111.png  \n",
            "  inflating: data/train/100065/mask/1-112.png  \n",
            "  inflating: data/train/100065/mask/1-113.png  \n",
            "  inflating: data/train/100065/mask/1-114.png  \n",
            "  inflating: data/train/100065/mask/1-115.png  \n",
            "  inflating: data/train/100065/mask/1-116.png  \n",
            "  inflating: data/train/100065/mask/1-117.png  \n",
            "  inflating: data/train/100065/mask/1-118.png  \n",
            "  inflating: data/train/100065/mask/1-119.png  \n",
            "  inflating: data/train/100065/mask/1-120.png  \n",
            "  inflating: data/train/100065/mask/1-121.png  \n",
            "  inflating: data/train/100065/mask/1-122.png  \n",
            "  inflating: data/train/100067/image/1-001.png  \n",
            "  inflating: data/train/100067/image/1-002.png  \n",
            "  inflating: data/train/100067/image/1-003.png  \n",
            "  inflating: data/train/100067/image/1-004.png  \n",
            "  inflating: data/train/100067/image/1-005.png  \n",
            "  inflating: data/train/100067/image/1-006.png  \n",
            "  inflating: data/train/100067/image/1-007.png  \n",
            "  inflating: data/train/100067/image/1-008.png  \n",
            "  inflating: data/train/100067/image/1-009.png  \n",
            "  inflating: data/train/100067/image/1-010.png  \n",
            "  inflating: data/train/100067/image/1-011.png  \n",
            "  inflating: data/train/100067/image/1-012.png  \n",
            "  inflating: data/train/100067/image/1-013.png  \n",
            "  inflating: data/train/100067/image/1-014.png  \n",
            "  inflating: data/train/100067/image/1-015.png  \n",
            "  inflating: data/train/100067/image/1-016.png  \n",
            "  inflating: data/train/100067/image/1-017.png  \n",
            "  inflating: data/train/100067/image/1-018.png  \n",
            "  inflating: data/train/100067/image/1-019.png  \n",
            "  inflating: data/train/100067/image/1-020.png  \n",
            "  inflating: data/train/100067/image/1-021.png  \n",
            "  inflating: data/train/100067/image/1-022.png  \n",
            "  inflating: data/train/100067/image/1-023.png  \n",
            "  inflating: data/train/100067/image/1-024.png  \n",
            "  inflating: data/train/100067/image/1-025.png  \n",
            "  inflating: data/train/100067/image/1-026.png  \n",
            "  inflating: data/train/100067/image/1-027.png  \n",
            "  inflating: data/train/100067/image/1-028.png  \n",
            "  inflating: data/train/100067/image/1-029.png  \n",
            "  inflating: data/train/100067/image/1-030.png  \n",
            "  inflating: data/train/100067/image/1-031.png  \n",
            "  inflating: data/train/100067/image/1-032.png  \n",
            "  inflating: data/train/100067/image/1-033.png  \n",
            "  inflating: data/train/100067/image/1-034.png  \n",
            "  inflating: data/train/100067/image/1-035.png  \n",
            "  inflating: data/train/100067/image/1-036.png  \n",
            "  inflating: data/train/100067/image/1-037.png  \n",
            "  inflating: data/train/100067/image/1-038.png  \n",
            "  inflating: data/train/100067/image/1-039.png  \n",
            "  inflating: data/train/100067/image/1-040.png  \n",
            "  inflating: data/train/100067/image/1-041.png  \n",
            "  inflating: data/train/100067/image/1-042.png  \n",
            "  inflating: data/train/100067/image/1-043.png  \n",
            "  inflating: data/train/100067/image/1-044.png  \n",
            "  inflating: data/train/100067/image/1-045.png  \n",
            "  inflating: data/train/100067/image/1-046.png  \n",
            "  inflating: data/train/100067/image/1-047.png  \n",
            "  inflating: data/train/100067/image/1-048.png  \n",
            "  inflating: data/train/100067/image/1-049.png  \n",
            "  inflating: data/train/100067/image/1-050.png  \n",
            "  inflating: data/train/100067/image/1-051.png  \n",
            "  inflating: data/train/100067/image/1-052.png  \n",
            "  inflating: data/train/100067/image/1-053.png  \n",
            "  inflating: data/train/100067/image/1-054.png  \n",
            "  inflating: data/train/100067/image/1-055.png  \n",
            "  inflating: data/train/100067/image/1-056.png  \n",
            "  inflating: data/train/100067/image/1-057.png  \n",
            "  inflating: data/train/100067/image/1-058.png  \n",
            "  inflating: data/train/100067/image/1-059.png  \n",
            "  inflating: data/train/100067/image/1-060.png  \n",
            "  inflating: data/train/100067/image/1-061.png  \n",
            "  inflating: data/train/100067/image/1-062.png  \n",
            "  inflating: data/train/100067/image/1-063.png  \n",
            "  inflating: data/train/100067/image/1-064.png  \n",
            "  inflating: data/train/100067/image/1-065.png  \n",
            "  inflating: data/train/100067/image/1-066.png  \n",
            "  inflating: data/train/100067/image/1-067.png  \n",
            "  inflating: data/train/100067/image/1-068.png  \n",
            "  inflating: data/train/100067/image/1-069.png  \n",
            "  inflating: data/train/100067/image/1-070.png  \n",
            "  inflating: data/train/100067/image/1-071.png  \n",
            "  inflating: data/train/100067/image/1-072.png  \n",
            "  inflating: data/train/100067/image/1-073.png  \n",
            "  inflating: data/train/100067/image/1-074.png  \n",
            "  inflating: data/train/100067/image/1-075.png  \n",
            "  inflating: data/train/100067/image/1-076.png  \n",
            "  inflating: data/train/100067/image/1-077.png  \n",
            "  inflating: data/train/100067/image/1-078.png  \n",
            "  inflating: data/train/100067/image/1-079.png  \n",
            "  inflating: data/train/100067/image/1-080.png  \n",
            "  inflating: data/train/100067/image/1-081.png  \n",
            "  inflating: data/train/100067/image/1-082.png  \n",
            "  inflating: data/train/100067/image/1-083.png  \n",
            "  inflating: data/train/100067/image/1-084.png  \n",
            "  inflating: data/train/100067/image/1-085.png  \n",
            "  inflating: data/train/100067/image/1-086.png  \n",
            "  inflating: data/train/100067/image/1-087.png  \n",
            "  inflating: data/train/100067/image/1-088.png  \n",
            "  inflating: data/train/100067/image/1-089.png  \n",
            "  inflating: data/train/100067/image/1-090.png  \n",
            "  inflating: data/train/100067/image/1-091.png  \n",
            "  inflating: data/train/100067/image/1-092.png  \n",
            "  inflating: data/train/100067/image/1-093.png  \n",
            "  inflating: data/train/100067/image/1-094.png  \n",
            "  inflating: data/train/100067/image/1-095.png  \n",
            "  inflating: data/train/100067/image/1-096.png  \n",
            "  inflating: data/train/100067/image/1-097.png  \n",
            "  inflating: data/train/100067/image/1-098.png  \n",
            "  inflating: data/train/100067/image/1-099.png  \n",
            "  inflating: data/train/100067/image/1-100.png  \n",
            "  inflating: data/train/100067/image/1-101.png  \n",
            "  inflating: data/train/100067/image/1-102.png  \n",
            "  inflating: data/train/100067/image/1-103.png  \n",
            "  inflating: data/train/100067/image/1-104.png  \n",
            "  inflating: data/train/100067/image/1-105.png  \n",
            "  inflating: data/train/100067/image/1-106.png  \n",
            "  inflating: data/train/100067/image/1-107.png  \n",
            "  inflating: data/train/100067/image/1-108.png  \n",
            "  inflating: data/train/100067/image/1-109.png  \n",
            "  inflating: data/train/100067/image/1-110.png  \n",
            "  inflating: data/train/100067/image/1-111.png  \n",
            "  inflating: data/train/100067/image/1-112.png  \n",
            "  inflating: data/train/100067/image/1-113.png  \n",
            "  inflating: data/train/100067/image/1-114.png  \n",
            "  inflating: data/train/100067/image/1-115.png  \n",
            "  inflating: data/train/100067/image/1-116.png  \n",
            "  inflating: data/train/100067/image/1-117.png  \n",
            "  inflating: data/train/100067/image/1-118.png  \n",
            "  inflating: data/train/100067/image/1-119.png  \n",
            "  inflating: data/train/100067/image/1-120.png  \n",
            "  inflating: data/train/100067/image/1-121.png  \n",
            "  inflating: data/train/100067/image/1-122.png  \n",
            "  inflating: data/train/100067/image/1-123.png  \n",
            "  inflating: data/train/100067/image/2-001.png  \n",
            "  inflating: data/train/100067/image/2-002.png  \n",
            "  inflating: data/train/100067/image/2-003.png  \n",
            "  inflating: data/train/100067/image/2-004.png  \n",
            "  inflating: data/train/100067/image/2-005.png  \n",
            "  inflating: data/train/100067/image/2-006.png  \n",
            "  inflating: data/train/100067/image/2-007.png  \n",
            "  inflating: data/train/100067/image/3-001.png  \n",
            "  inflating: data/train/100067/image/3-002.png  \n",
            "  inflating: data/train/100067/image/3-003.png  \n",
            "  inflating: data/train/100067/image/3-004.png  \n",
            "  inflating: data/train/100067/image/3-005.png  \n",
            "  inflating: data/train/100067/image/3-006.png  \n",
            "  inflating: data/train/100067/image/3-007.png  \n",
            "  inflating: data/train/100067/mask/1-001.png  \n",
            "  inflating: data/train/100067/mask/1-002.png  \n",
            "  inflating: data/train/100067/mask/1-003.png  \n",
            "  inflating: data/train/100067/mask/1-004.png  \n",
            "  inflating: data/train/100067/mask/1-005.png  \n",
            "  inflating: data/train/100067/mask/1-006.png  \n",
            "  inflating: data/train/100067/mask/1-007.png  \n",
            "  inflating: data/train/100067/mask/1-008.png  \n",
            "  inflating: data/train/100067/mask/1-009.png  \n",
            "  inflating: data/train/100067/mask/1-010.png  \n",
            "  inflating: data/train/100067/mask/1-011.png  \n",
            "  inflating: data/train/100067/mask/1-012.png  \n",
            "  inflating: data/train/100067/mask/1-013.png  \n",
            "  inflating: data/train/100067/mask/1-014.png  \n",
            "  inflating: data/train/100067/mask/1-015.png  \n",
            "  inflating: data/train/100067/mask/1-016.png  \n",
            "  inflating: data/train/100067/mask/1-017.png  \n",
            "  inflating: data/train/100067/mask/1-018.png  \n",
            "  inflating: data/train/100067/mask/1-019.png  \n",
            "  inflating: data/train/100067/mask/1-020.png  \n",
            "  inflating: data/train/100067/mask/1-021.png  \n",
            "  inflating: data/train/100067/mask/1-022.png  \n",
            "  inflating: data/train/100067/mask/1-023.png  \n",
            "  inflating: data/train/100067/mask/1-024.png  \n",
            "  inflating: data/train/100067/mask/1-025.png  \n",
            "  inflating: data/train/100067/mask/1-026.png  \n",
            "  inflating: data/train/100067/mask/1-027.png  \n",
            "  inflating: data/train/100067/mask/1-028.png  \n",
            "  inflating: data/train/100067/mask/1-029.png  \n",
            "  inflating: data/train/100067/mask/1-030.png  \n",
            "  inflating: data/train/100067/mask/1-031.png  \n",
            "  inflating: data/train/100067/mask/1-032.png  \n",
            "  inflating: data/train/100067/mask/1-033.png  \n",
            "  inflating: data/train/100067/mask/1-034.png  \n",
            "  inflating: data/train/100067/mask/1-035.png  \n",
            "  inflating: data/train/100067/mask/1-036.png  \n",
            "  inflating: data/train/100067/mask/1-037.png  \n",
            "  inflating: data/train/100067/mask/1-038.png  \n",
            "  inflating: data/train/100067/mask/1-039.png  \n",
            "  inflating: data/train/100067/mask/1-040.png  \n",
            "  inflating: data/train/100067/mask/1-041.png  \n",
            "  inflating: data/train/100067/mask/1-042.png  \n",
            "  inflating: data/train/100067/mask/1-043.png  \n",
            "  inflating: data/train/100067/mask/1-044.png  \n",
            "  inflating: data/train/100067/mask/1-045.png  \n",
            "  inflating: data/train/100067/mask/1-046.png  \n",
            "  inflating: data/train/100067/mask/1-047.png  \n",
            "  inflating: data/train/100067/mask/1-048.png  \n",
            "  inflating: data/train/100067/mask/1-049.png  \n",
            "  inflating: data/train/100067/mask/1-050.png  \n",
            "  inflating: data/train/100067/mask/1-051.png  \n",
            "  inflating: data/train/100067/mask/1-052.png  \n",
            "  inflating: data/train/100067/mask/1-053.png  \n",
            "  inflating: data/train/100067/mask/1-054.png  \n",
            "  inflating: data/train/100067/mask/1-055.png  \n",
            "  inflating: data/train/100067/mask/1-056.png  \n",
            "  inflating: data/train/100067/mask/1-057.png  \n",
            "  inflating: data/train/100067/mask/1-058.png  \n",
            "  inflating: data/train/100067/mask/1-059.png  \n",
            "  inflating: data/train/100067/mask/1-060.png  \n",
            "  inflating: data/train/100067/mask/1-061.png  \n",
            "  inflating: data/train/100067/mask/1-062.png  \n",
            "  inflating: data/train/100067/mask/1-063.png  \n",
            "  inflating: data/train/100067/mask/1-064.png  \n",
            "  inflating: data/train/100067/mask/1-065.png  \n",
            "  inflating: data/train/100067/mask/1-066.png  \n",
            "  inflating: data/train/100067/mask/1-067.png  \n",
            "  inflating: data/train/100067/mask/1-068.png  \n",
            "  inflating: data/train/100067/mask/1-069.png  \n",
            "  inflating: data/train/100067/mask/1-070.png  \n",
            "  inflating: data/train/100067/mask/1-071.png  \n",
            "  inflating: data/train/100067/mask/1-072.png  \n",
            "  inflating: data/train/100067/mask/1-073.png  \n",
            "  inflating: data/train/100067/mask/1-074.png  \n",
            "  inflating: data/train/100067/mask/1-075.png  \n",
            "  inflating: data/train/100067/mask/1-076.png  \n",
            "  inflating: data/train/100067/mask/1-077.png  \n",
            "  inflating: data/train/100067/mask/1-078.png  \n",
            "  inflating: data/train/100067/mask/1-079.png  \n",
            "  inflating: data/train/100067/mask/1-080.png  \n",
            "  inflating: data/train/100067/mask/1-081.png  \n",
            "  inflating: data/train/100067/mask/1-082.png  \n",
            "  inflating: data/train/100067/mask/1-083.png  \n",
            "  inflating: data/train/100067/mask/1-084.png  \n",
            "  inflating: data/train/100067/mask/1-085.png  \n",
            "  inflating: data/train/100067/mask/1-086.png  \n",
            "  inflating: data/train/100067/mask/1-087.png  \n",
            "  inflating: data/train/100067/mask/1-088.png  \n",
            "  inflating: data/train/100067/mask/1-089.png  \n",
            "  inflating: data/train/100067/mask/1-090.png  \n",
            "  inflating: data/train/100067/mask/1-091.png  \n",
            "  inflating: data/train/100067/mask/1-092.png  \n",
            "  inflating: data/train/100067/mask/1-093.png  \n",
            "  inflating: data/train/100067/mask/1-094.png  \n",
            "  inflating: data/train/100067/mask/1-095.png  \n",
            "  inflating: data/train/100067/mask/1-096.png  \n",
            "  inflating: data/train/100067/mask/1-097.png  \n",
            "  inflating: data/train/100067/mask/1-098.png  \n",
            "  inflating: data/train/100067/mask/1-099.png  \n",
            "  inflating: data/train/100067/mask/1-100.png  \n",
            "  inflating: data/train/100067/mask/1-101.png  \n",
            "  inflating: data/train/100067/mask/1-102.png  \n",
            "  inflating: data/train/100067/mask/1-103.png  \n",
            "  inflating: data/train/100067/mask/1-104.png  \n",
            "  inflating: data/train/100067/mask/1-105.png  \n",
            "  inflating: data/train/100067/mask/1-106.png  \n",
            "  inflating: data/train/100067/mask/1-107.png  \n",
            "  inflating: data/train/100067/mask/1-108.png  \n",
            "  inflating: data/train/100067/mask/1-109.png  \n",
            "  inflating: data/train/100067/mask/1-110.png  \n",
            "  inflating: data/train/100067/mask/1-111.png  \n",
            "  inflating: data/train/100067/mask/1-112.png  \n",
            "  inflating: data/train/100067/mask/1-113.png  \n",
            "  inflating: data/train/100067/mask/1-114.png  \n",
            "  inflating: data/train/100067/mask/1-115.png  \n",
            "  inflating: data/train/100067/mask/1-116.png  \n",
            "  inflating: data/train/100067/mask/1-117.png  \n",
            "  inflating: data/train/100067/mask/1-118.png  \n",
            "  inflating: data/train/100067/mask/1-119.png  \n",
            "  inflating: data/train/100067/mask/1-120.png  \n",
            "  inflating: data/train/100067/mask/1-121.png  \n",
            "  inflating: data/train/100067/mask/1-122.png  \n",
            "  inflating: data/train/100067/mask/1-123.png  \n",
            "  inflating: data/train/100067/mask/2-001.png  \n",
            "  inflating: data/train/100067/mask/2-002.png  \n",
            "  inflating: data/train/100067/mask/2-003.png  \n",
            "  inflating: data/train/100067/mask/2-004.png  \n",
            "  inflating: data/train/100067/mask/2-005.png  \n",
            "  inflating: data/train/100067/mask/2-006.png  \n",
            "  inflating: data/train/100067/mask/2-007.png  \n",
            "  inflating: data/train/100067/mask/3-001.png  \n",
            "  inflating: data/train/100067/mask/3-002.png  \n",
            "  inflating: data/train/100067/mask/3-003.png  \n",
            "  inflating: data/train/100067/mask/3-004.png  \n",
            "  inflating: data/train/100067/mask/3-005.png  \n",
            "  inflating: data/train/100067/mask/3-006.png  \n",
            "  inflating: data/train/100067/mask/3-007.png  \n",
            "  inflating: data/train/100069/image/1-001.png  \n",
            "  inflating: data/train/100069/image/1-002.png  \n",
            "  inflating: data/train/100069/image/1-003.png  \n",
            "  inflating: data/train/100069/image/1-004.png  \n",
            "  inflating: data/train/100069/image/1-005.png  \n",
            "  inflating: data/train/100069/image/1-006.png  \n",
            "  inflating: data/train/100069/image/1-007.png  \n",
            "  inflating: data/train/100069/image/1-008.png  \n",
            "  inflating: data/train/100069/image/1-009.png  \n",
            "  inflating: data/train/100069/image/1-010.png  \n",
            "  inflating: data/train/100069/image/1-011.png  \n",
            "  inflating: data/train/100069/image/1-012.png  \n",
            "  inflating: data/train/100069/image/1-013.png  \n",
            "  inflating: data/train/100069/image/1-014.png  \n",
            "  inflating: data/train/100069/image/1-015.png  \n",
            "  inflating: data/train/100069/image/1-016.png  \n",
            "  inflating: data/train/100069/image/1-017.png  \n",
            "  inflating: data/train/100069/image/1-018.png  \n",
            "  inflating: data/train/100069/image/1-019.png  \n",
            "  inflating: data/train/100069/image/1-020.png  \n",
            "  inflating: data/train/100069/image/1-021.png  \n",
            "  inflating: data/train/100069/image/1-022.png  \n",
            "  inflating: data/train/100069/image/1-023.png  \n",
            "  inflating: data/train/100069/image/1-024.png  \n",
            "  inflating: data/train/100069/image/1-025.png  \n",
            "  inflating: data/train/100069/image/1-026.png  \n",
            "  inflating: data/train/100069/image/1-027.png  \n",
            "  inflating: data/train/100069/image/1-028.png  \n",
            "  inflating: data/train/100069/image/1-029.png  \n",
            "  inflating: data/train/100069/image/1-030.png  \n",
            "  inflating: data/train/100069/image/1-031.png  \n",
            "  inflating: data/train/100069/image/1-032.png  \n",
            "  inflating: data/train/100069/image/1-033.png  \n",
            "  inflating: data/train/100069/image/1-034.png  \n",
            "  inflating: data/train/100069/image/1-035.png  \n",
            "  inflating: data/train/100069/image/1-036.png  \n",
            "  inflating: data/train/100069/image/1-037.png  \n",
            "  inflating: data/train/100069/image/1-038.png  \n",
            "  inflating: data/train/100069/image/1-039.png  \n",
            "  inflating: data/train/100069/image/1-040.png  \n",
            "  inflating: data/train/100069/image/1-041.png  \n",
            "  inflating: data/train/100069/image/1-042.png  \n",
            "  inflating: data/train/100069/image/1-043.png  \n",
            "  inflating: data/train/100069/image/1-044.png  \n",
            "  inflating: data/train/100069/image/1-045.png  \n",
            "  inflating: data/train/100069/image/1-046.png  \n",
            "  inflating: data/train/100069/image/1-047.png  \n",
            "  inflating: data/train/100069/image/1-048.png  \n",
            "  inflating: data/train/100069/image/1-049.png  \n",
            "  inflating: data/train/100069/image/1-050.png  \n",
            "  inflating: data/train/100069/image/1-051.png  \n",
            "  inflating: data/train/100069/image/1-052.png  \n",
            "  inflating: data/train/100069/image/1-053.png  \n",
            "  inflating: data/train/100069/image/1-054.png  \n",
            "  inflating: data/train/100069/image/1-055.png  \n",
            "  inflating: data/train/100069/image/1-056.png  \n",
            "  inflating: data/train/100069/image/1-057.png  \n",
            "  inflating: data/train/100069/image/1-058.png  \n",
            "  inflating: data/train/100069/image/1-059.png  \n",
            "  inflating: data/train/100069/image/1-060.png  \n",
            "  inflating: data/train/100069/image/1-061.png  \n",
            "  inflating: data/train/100069/image/1-062.png  \n",
            "  inflating: data/train/100069/image/1-063.png  \n",
            "  inflating: data/train/100069/image/1-064.png  \n",
            "  inflating: data/train/100069/image/1-065.png  \n",
            "  inflating: data/train/100069/image/1-066.png  \n",
            "  inflating: data/train/100069/image/1-067.png  \n",
            "  inflating: data/train/100069/image/1-068.png  \n",
            "  inflating: data/train/100069/image/1-069.png  \n",
            "  inflating: data/train/100069/image/1-070.png  \n",
            "  inflating: data/train/100069/image/1-071.png  \n",
            "  inflating: data/train/100069/image/1-072.png  \n",
            "  inflating: data/train/100069/image/1-073.png  \n",
            "  inflating: data/train/100069/image/1-074.png  \n",
            "  inflating: data/train/100069/image/1-075.png  \n",
            "  inflating: data/train/100069/image/1-076.png  \n",
            "  inflating: data/train/100069/image/1-077.png  \n",
            "  inflating: data/train/100069/image/1-078.png  \n",
            "  inflating: data/train/100069/image/1-079.png  \n",
            "  inflating: data/train/100069/image/1-080.png  \n",
            "  inflating: data/train/100069/image/1-081.png  \n",
            "  inflating: data/train/100069/image/1-082.png  \n",
            "  inflating: data/train/100069/image/1-083.png  \n",
            "  inflating: data/train/100069/image/1-084.png  \n",
            "  inflating: data/train/100069/image/1-085.png  \n",
            "  inflating: data/train/100069/image/1-086.png  \n",
            "  inflating: data/train/100069/image/1-087.png  \n",
            "  inflating: data/train/100069/image/1-088.png  \n",
            "  inflating: data/train/100069/image/1-089.png  \n",
            "  inflating: data/train/100069/image/1-090.png  \n",
            "  inflating: data/train/100069/image/1-091.png  \n",
            "  inflating: data/train/100069/image/1-092.png  \n",
            "  inflating: data/train/100069/image/1-093.png  \n",
            "  inflating: data/train/100069/image/1-094.png  \n",
            "  inflating: data/train/100069/image/1-095.png  \n",
            "  inflating: data/train/100069/image/1-096.png  \n",
            "  inflating: data/train/100069/image/1-097.png  \n",
            "  inflating: data/train/100069/image/1-098.png  \n",
            "  inflating: data/train/100069/image/1-099.png  \n",
            "  inflating: data/train/100069/image/1-100.png  \n",
            "  inflating: data/train/100069/image/1-101.png  \n",
            "  inflating: data/train/100069/image/1-102.png  \n",
            "  inflating: data/train/100069/image/1-103.png  \n",
            "  inflating: data/train/100069/image/1-104.png  \n",
            "  inflating: data/train/100069/image/1-105.png  \n",
            "  inflating: data/train/100069/image/1-106.png  \n",
            "  inflating: data/train/100069/image/1-107.png  \n",
            "  inflating: data/train/100069/image/1-108.png  \n",
            "  inflating: data/train/100069/image/1-109.png  \n",
            "  inflating: data/train/100069/image/1-110.png  \n",
            "  inflating: data/train/100069/image/1-111.png  \n",
            "  inflating: data/train/100069/image/1-112.png  \n",
            "  inflating: data/train/100069/image/1-113.png  \n",
            "  inflating: data/train/100069/image/1-114.png  \n",
            "  inflating: data/train/100069/image/1-115.png  \n",
            "  inflating: data/train/100069/image/1-116.png  \n",
            "  inflating: data/train/100069/image/1-117.png  \n",
            "  inflating: data/train/100069/image/1-118.png  \n",
            "  inflating: data/train/100069/image/1-119.png  \n",
            "  inflating: data/train/100069/image/1-120.png  \n",
            "  inflating: data/train/100069/image/1-121.png  \n",
            "  inflating: data/train/100069/image/1-122.png  \n",
            "  inflating: data/train/100069/image/1-123.png  \n",
            "  inflating: data/train/100069/image/1-124.png  \n",
            "  inflating: data/train/100069/image/1-125.png  \n",
            "  inflating: data/train/100069/image/1-126.png  \n",
            "  inflating: data/train/100069/image/1-127.png  \n",
            "  inflating: data/train/100069/image/1-128.png  \n",
            "  inflating: data/train/100069/image/1-129.png  \n",
            "  inflating: data/train/100069/image/1-130.png  \n",
            "  inflating: data/train/100069/image/1-131.png  \n",
            "  inflating: data/train/100069/image/1-132.png  \n",
            "  inflating: data/train/100069/image/1-133.png  \n",
            "  inflating: data/train/100069/image/1-134.png  \n",
            "  inflating: data/train/100069/image/1-135.png  \n",
            "  inflating: data/train/100069/image/1-136.png  \n",
            "  inflating: data/train/100069/image/1-137.png  \n",
            "  inflating: data/train/100069/image/1-138.png  \n",
            "  inflating: data/train/100069/image/1-139.png  \n",
            "  inflating: data/train/100069/image/1-140.png  \n",
            "  inflating: data/train/100069/image/1-141.png  \n",
            "  inflating: data/train/100069/image/1-142.png  \n",
            "  inflating: data/train/100069/mask/1-001.png  \n",
            "  inflating: data/train/100069/mask/1-002.png  \n",
            "  inflating: data/train/100069/mask/1-003.png  \n",
            "  inflating: data/train/100069/mask/1-004.png  \n",
            "  inflating: data/train/100069/mask/1-005.png  \n",
            "  inflating: data/train/100069/mask/1-006.png  \n",
            "  inflating: data/train/100069/mask/1-007.png  \n",
            "  inflating: data/train/100069/mask/1-008.png  \n",
            "  inflating: data/train/100069/mask/1-009.png  \n",
            "  inflating: data/train/100069/mask/1-010.png  \n",
            "  inflating: data/train/100069/mask/1-011.png  \n",
            "  inflating: data/train/100069/mask/1-012.png  \n",
            "  inflating: data/train/100069/mask/1-013.png  \n",
            "  inflating: data/train/100069/mask/1-014.png  \n",
            "  inflating: data/train/100069/mask/1-015.png  \n",
            "  inflating: data/train/100069/mask/1-016.png  \n",
            "  inflating: data/train/100069/mask/1-017.png  \n",
            "  inflating: data/train/100069/mask/1-018.png  \n",
            "  inflating: data/train/100069/mask/1-019.png  \n",
            "  inflating: data/train/100069/mask/1-020.png  \n",
            "  inflating: data/train/100069/mask/1-021.png  \n",
            "  inflating: data/train/100069/mask/1-022.png  \n",
            "  inflating: data/train/100069/mask/1-023.png  \n",
            "  inflating: data/train/100069/mask/1-024.png  \n",
            "  inflating: data/train/100069/mask/1-025.png  \n",
            "  inflating: data/train/100069/mask/1-026.png  \n",
            "  inflating: data/train/100069/mask/1-027.png  \n",
            "  inflating: data/train/100069/mask/1-028.png  \n",
            "  inflating: data/train/100069/mask/1-029.png  \n",
            "  inflating: data/train/100069/mask/1-030.png  \n",
            "  inflating: data/train/100069/mask/1-031.png  \n",
            "  inflating: data/train/100069/mask/1-032.png  \n",
            "  inflating: data/train/100069/mask/1-033.png  \n",
            "  inflating: data/train/100069/mask/1-034.png  \n",
            "  inflating: data/train/100069/mask/1-035.png  \n",
            "  inflating: data/train/100069/mask/1-036.png  \n",
            "  inflating: data/train/100069/mask/1-037.png  \n",
            "  inflating: data/train/100069/mask/1-038.png  \n",
            "  inflating: data/train/100069/mask/1-039.png  \n",
            "  inflating: data/train/100069/mask/1-040.png  \n",
            "  inflating: data/train/100069/mask/1-041.png  \n",
            "  inflating: data/train/100069/mask/1-042.png  \n",
            "  inflating: data/train/100069/mask/1-043.png  \n",
            "  inflating: data/train/100069/mask/1-044.png  \n",
            "  inflating: data/train/100069/mask/1-045.png  \n",
            "  inflating: data/train/100069/mask/1-046.png  \n",
            "  inflating: data/train/100069/mask/1-047.png  \n",
            "  inflating: data/train/100069/mask/1-048.png  \n",
            "  inflating: data/train/100069/mask/1-049.png  \n",
            "  inflating: data/train/100069/mask/1-050.png  \n",
            "  inflating: data/train/100069/mask/1-051.png  \n",
            "  inflating: data/train/100069/mask/1-052.png  \n",
            "  inflating: data/train/100069/mask/1-053.png  \n",
            "  inflating: data/train/100069/mask/1-054.png  \n",
            "  inflating: data/train/100069/mask/1-055.png  \n",
            "  inflating: data/train/100069/mask/1-056.png  \n",
            "  inflating: data/train/100069/mask/1-057.png  \n",
            "  inflating: data/train/100069/mask/1-058.png  \n",
            "  inflating: data/train/100069/mask/1-059.png  \n",
            "  inflating: data/train/100069/mask/1-060.png  \n",
            "  inflating: data/train/100069/mask/1-061.png  \n",
            "  inflating: data/train/100069/mask/1-062.png  \n",
            "  inflating: data/train/100069/mask/1-063.png  \n",
            "  inflating: data/train/100069/mask/1-064.png  \n",
            "  inflating: data/train/100069/mask/1-065.png  \n",
            "  inflating: data/train/100069/mask/1-066.png  \n",
            "  inflating: data/train/100069/mask/1-067.png  \n",
            "  inflating: data/train/100069/mask/1-068.png  \n",
            "  inflating: data/train/100069/mask/1-069.png  \n",
            "  inflating: data/train/100069/mask/1-070.png  \n",
            "  inflating: data/train/100069/mask/1-071.png  \n",
            "  inflating: data/train/100069/mask/1-072.png  \n",
            "  inflating: data/train/100069/mask/1-073.png  \n",
            "  inflating: data/train/100069/mask/1-074.png  \n",
            "  inflating: data/train/100069/mask/1-075.png  \n",
            "  inflating: data/train/100069/mask/1-076.png  \n",
            "  inflating: data/train/100069/mask/1-077.png  \n",
            "  inflating: data/train/100069/mask/1-078.png  \n",
            "  inflating: data/train/100069/mask/1-079.png  \n",
            "  inflating: data/train/100069/mask/1-080.png  \n",
            "  inflating: data/train/100069/mask/1-081.png  \n",
            "  inflating: data/train/100069/mask/1-082.png  \n",
            "  inflating: data/train/100069/mask/1-083.png  \n",
            "  inflating: data/train/100069/mask/1-084.png  \n",
            "  inflating: data/train/100069/mask/1-085.png  \n",
            "  inflating: data/train/100069/mask/1-086.png  \n",
            "  inflating: data/train/100069/mask/1-087.png  \n",
            "  inflating: data/train/100069/mask/1-088.png  \n",
            "  inflating: data/train/100069/mask/1-089.png  \n",
            "  inflating: data/train/100069/mask/1-090.png  \n",
            "  inflating: data/train/100069/mask/1-091.png  \n",
            "  inflating: data/train/100069/mask/1-092.png  \n",
            "  inflating: data/train/100069/mask/1-093.png  \n",
            "  inflating: data/train/100069/mask/1-094.png  \n",
            "  inflating: data/train/100069/mask/1-095.png  \n",
            "  inflating: data/train/100069/mask/1-096.png  \n",
            "  inflating: data/train/100069/mask/1-097.png  \n",
            "  inflating: data/train/100069/mask/1-098.png  \n",
            "  inflating: data/train/100069/mask/1-099.png  \n",
            "  inflating: data/train/100069/mask/1-100.png  \n",
            "  inflating: data/train/100069/mask/1-101.png  \n",
            "  inflating: data/train/100069/mask/1-102.png  \n",
            "  inflating: data/train/100069/mask/1-103.png  \n",
            "  inflating: data/train/100069/mask/1-104.png  \n",
            "  inflating: data/train/100069/mask/1-105.png  \n",
            "  inflating: data/train/100069/mask/1-106.png  \n",
            "  inflating: data/train/100069/mask/1-107.png  \n",
            "  inflating: data/train/100069/mask/1-108.png  \n",
            "  inflating: data/train/100069/mask/1-109.png  \n",
            "  inflating: data/train/100069/mask/1-110.png  \n",
            "  inflating: data/train/100069/mask/1-111.png  \n",
            "  inflating: data/train/100069/mask/1-112.png  \n",
            "  inflating: data/train/100069/mask/1-113.png  \n",
            "  inflating: data/train/100069/mask/1-114.png  \n",
            "  inflating: data/train/100069/mask/1-115.png  \n",
            "  inflating: data/train/100069/mask/1-116.png  \n",
            "  inflating: data/train/100069/mask/1-117.png  \n",
            "  inflating: data/train/100069/mask/1-118.png  \n",
            "  inflating: data/train/100069/mask/1-119.png  \n",
            "  inflating: data/train/100069/mask/1-120.png  \n",
            "  inflating: data/train/100069/mask/1-121.png  \n",
            "  inflating: data/train/100069/mask/1-122.png  \n",
            "  inflating: data/train/100069/mask/1-123.png  \n",
            "  inflating: data/train/100069/mask/1-124.png  \n",
            "  inflating: data/train/100069/mask/1-125.png  \n",
            "  inflating: data/train/100069/mask/1-126.png  \n",
            "  inflating: data/train/100069/mask/1-127.png  \n",
            "  inflating: data/train/100069/mask/1-128.png  \n",
            "  inflating: data/train/100069/mask/1-129.png  \n",
            "  inflating: data/train/100069/mask/1-130.png  \n",
            "  inflating: data/train/100069/mask/1-131.png  \n",
            "  inflating: data/train/100069/mask/1-132.png  \n",
            "  inflating: data/train/100069/mask/1-133.png  \n",
            "  inflating: data/train/100069/mask/1-134.png  \n",
            "  inflating: data/train/100069/mask/1-135.png  \n",
            "  inflating: data/train/100069/mask/1-136.png  \n",
            "  inflating: data/train/100069/mask/1-137.png  \n",
            "  inflating: data/train/100069/mask/1-138.png  \n",
            "  inflating: data/train/100069/mask/1-139.png  \n",
            "  inflating: data/train/100069/mask/1-140.png  \n",
            "  inflating: data/train/100069/mask/1-141.png  \n",
            "  inflating: data/train/100069/mask/1-142.png  \n",
            "  inflating: data/train/100072/image/1-01.png  \n",
            "  inflating: data/train/100072/image/1-02.png  \n",
            "  inflating: data/train/100072/image/1-03.png  \n",
            "  inflating: data/train/100072/image/1-04.png  \n",
            "  inflating: data/train/100072/image/1-05.png  \n",
            "  inflating: data/train/100072/image/1-06.png  \n",
            "  inflating: data/train/100072/image/1-07.png  \n",
            "  inflating: data/train/100072/image/1-08.png  \n",
            "  inflating: data/train/100072/image/1-09.png  \n",
            "  inflating: data/train/100072/image/1-10.png  \n",
            "  inflating: data/train/100072/image/1-11.png  \n",
            "  inflating: data/train/100072/image/1-12.png  \n",
            "  inflating: data/train/100072/image/1-13.png  \n",
            "  inflating: data/train/100072/image/1-14.png  \n",
            "  inflating: data/train/100072/image/1-15.png  \n",
            "  inflating: data/train/100072/image/1-16.png  \n",
            "  inflating: data/train/100072/image/1-17.png  \n",
            "  inflating: data/train/100072/image/1-18.png  \n",
            "  inflating: data/train/100072/image/1-19.png  \n",
            "  inflating: data/train/100072/image/1-20.png  \n",
            "  inflating: data/train/100072/image/1-21.png  \n",
            "  inflating: data/train/100072/image/1-22.png  \n",
            "  inflating: data/train/100072/image/1-23.png  \n",
            "  inflating: data/train/100072/image/1-24.png  \n",
            "  inflating: data/train/100072/image/1-25.png  \n",
            "  inflating: data/train/100072/image/1-26.png  \n",
            "  inflating: data/train/100072/image/1-27.png  \n",
            "  inflating: data/train/100072/image/1-28.png  \n",
            "  inflating: data/train/100072/image/1-29.png  \n",
            "  inflating: data/train/100072/image/1-30.png  \n",
            "  inflating: data/train/100072/image/1-31.png  \n",
            "  inflating: data/train/100072/image/1-32.png  \n",
            "  inflating: data/train/100072/image/1-33.png  \n",
            "  inflating: data/train/100072/image/1-34.png  \n",
            "  inflating: data/train/100072/image/1-35.png  \n",
            "  inflating: data/train/100072/image/1-36.png  \n",
            "  inflating: data/train/100072/image/1-37.png  \n",
            "  inflating: data/train/100072/image/1-38.png  \n",
            "  inflating: data/train/100072/image/1-39.png  \n",
            "  inflating: data/train/100072/image/1-40.png  \n",
            "  inflating: data/train/100072/image/1-41.png  \n",
            "  inflating: data/train/100072/image/1-42.png  \n",
            "  inflating: data/train/100072/image/1-43.png  \n",
            "  inflating: data/train/100072/image/1-44.png  \n",
            "  inflating: data/train/100072/image/1-45.png  \n",
            "  inflating: data/train/100072/image/1-46.png  \n",
            "  inflating: data/train/100072/image/1-47.png  \n",
            "  inflating: data/train/100072/image/1-48.png  \n",
            "  inflating: data/train/100072/image/1-49.png  \n",
            "  inflating: data/train/100072/image/1-50.png  \n",
            "  inflating: data/train/100072/image/1-51.png  \n",
            "  inflating: data/train/100072/image/1-52.png  \n",
            "  inflating: data/train/100072/image/1-53.png  \n",
            "  inflating: data/train/100072/image/1-54.png  \n",
            "  inflating: data/train/100072/image/1-55.png  \n",
            "  inflating: data/train/100072/image/1-56.png  \n",
            "  inflating: data/train/100072/image/1-57.png  \n",
            "  inflating: data/train/100072/image/1-58.png  \n",
            "  inflating: data/train/100072/image/1-59.png  \n",
            "  inflating: data/train/100072/image/1-60.png  \n",
            "  inflating: data/train/100072/image/1-61.png  \n",
            "  inflating: data/train/100072/image/1-62.png  \n",
            "  inflating: data/train/100072/image/1-63.png  \n",
            "  inflating: data/train/100072/mask/1-01.png  \n",
            "  inflating: data/train/100072/mask/1-02.png  \n",
            "  inflating: data/train/100072/mask/1-03.png  \n",
            "  inflating: data/train/100072/mask/1-04.png  \n",
            "  inflating: data/train/100072/mask/1-05.png  \n",
            "  inflating: data/train/100072/mask/1-06.png  \n",
            "  inflating: data/train/100072/mask/1-07.png  \n",
            "  inflating: data/train/100072/mask/1-08.png  \n",
            "  inflating: data/train/100072/mask/1-09.png  \n",
            "  inflating: data/train/100072/mask/1-10.png  \n",
            "  inflating: data/train/100072/mask/1-11.png  \n",
            "  inflating: data/train/100072/mask/1-12.png  \n",
            "  inflating: data/train/100072/mask/1-13.png  \n",
            "  inflating: data/train/100072/mask/1-14.png  \n",
            "  inflating: data/train/100072/mask/1-15.png  \n",
            "  inflating: data/train/100072/mask/1-16.png  \n",
            "  inflating: data/train/100072/mask/1-17.png  \n",
            "  inflating: data/train/100072/mask/1-18.png  \n",
            "  inflating: data/train/100072/mask/1-19.png  \n",
            "  inflating: data/train/100072/mask/1-20.png  \n",
            "  inflating: data/train/100072/mask/1-21.png  \n",
            "  inflating: data/train/100072/mask/1-22.png  \n",
            "  inflating: data/train/100072/mask/1-23.png  \n",
            "  inflating: data/train/100072/mask/1-24.png  \n",
            "  inflating: data/train/100072/mask/1-25.png  \n",
            "  inflating: data/train/100072/mask/1-26.png  \n",
            "  inflating: data/train/100072/mask/1-27.png  \n",
            "  inflating: data/train/100072/mask/1-28.png  \n",
            "  inflating: data/train/100072/mask/1-29.png  \n",
            "  inflating: data/train/100072/mask/1-30.png  \n",
            "  inflating: data/train/100072/mask/1-31.png  \n",
            "  inflating: data/train/100072/mask/1-32.png  \n",
            "  inflating: data/train/100072/mask/1-33.png  \n",
            "  inflating: data/train/100072/mask/1-34.png  \n",
            "  inflating: data/train/100072/mask/1-35.png  \n",
            "  inflating: data/train/100072/mask/1-36.png  \n",
            "  inflating: data/train/100072/mask/1-37.png  \n",
            "  inflating: data/train/100072/mask/1-38.png  \n",
            "  inflating: data/train/100072/mask/1-39.png  \n",
            "  inflating: data/train/100072/mask/1-40.png  \n",
            "  inflating: data/train/100072/mask/1-41.png  \n",
            "  inflating: data/train/100072/mask/1-42.png  \n",
            "  inflating: data/train/100072/mask/1-43.png  \n",
            "  inflating: data/train/100072/mask/1-44.png  \n",
            "  inflating: data/train/100072/mask/1-45.png  \n",
            "  inflating: data/train/100072/mask/1-46.png  \n",
            "  inflating: data/train/100072/mask/1-47.png  \n",
            "  inflating: data/train/100072/mask/1-48.png  \n",
            "  inflating: data/train/100072/mask/1-49.png  \n",
            "  inflating: data/train/100072/mask/1-50.png  \n",
            "  inflating: data/train/100072/mask/1-51.png  \n",
            "  inflating: data/train/100072/mask/1-52.png  \n",
            "  inflating: data/train/100072/mask/1-53.png  \n",
            "  inflating: data/train/100072/mask/1-54.png  \n",
            "  inflating: data/train/100072/mask/1-55.png  \n",
            "  inflating: data/train/100072/mask/1-56.png  \n",
            "  inflating: data/train/100072/mask/1-57.png  \n",
            "  inflating: data/train/100072/mask/1-58.png  \n",
            "  inflating: data/train/100072/mask/1-59.png  \n",
            "  inflating: data/train/100072/mask/1-60.png  \n",
            "  inflating: data/train/100072/mask/1-61.png  \n",
            "  inflating: data/train/100072/mask/1-62.png  \n",
            "  inflating: data/train/100072/mask/1-63.png  \n",
            "  inflating: data/train/100073/image/1-001.png  \n",
            "  inflating: data/train/100073/image/1-002.png  \n",
            "  inflating: data/train/100073/image/1-003.png  \n",
            "  inflating: data/train/100073/image/1-004.png  \n",
            "  inflating: data/train/100073/image/1-005.png  \n",
            "  inflating: data/train/100073/image/1-006.png  \n",
            "  inflating: data/train/100073/image/1-007.png  \n",
            "  inflating: data/train/100073/image/1-008.png  \n",
            "  inflating: data/train/100073/image/1-009.png  \n",
            "  inflating: data/train/100073/image/1-010.png  \n",
            "  inflating: data/train/100073/image/1-011.png  \n",
            "  inflating: data/train/100073/image/1-012.png  \n",
            "  inflating: data/train/100073/image/1-013.png  \n",
            "  inflating: data/train/100073/image/1-014.png  \n",
            "  inflating: data/train/100073/image/1-015.png  \n",
            "  inflating: data/train/100073/image/1-016.png  \n",
            "  inflating: data/train/100073/image/1-017.png  \n",
            "  inflating: data/train/100073/image/1-018.png  \n",
            "  inflating: data/train/100073/image/1-019.png  \n",
            "  inflating: data/train/100073/image/1-020.png  \n",
            "  inflating: data/train/100073/image/1-021.png  \n",
            "  inflating: data/train/100073/image/1-022.png  \n",
            "  inflating: data/train/100073/image/1-023.png  \n",
            "  inflating: data/train/100073/image/1-024.png  \n",
            "  inflating: data/train/100073/image/1-025.png  \n",
            "  inflating: data/train/100073/image/1-026.png  \n",
            "  inflating: data/train/100073/image/1-027.png  \n",
            "  inflating: data/train/100073/image/1-028.png  \n",
            "  inflating: data/train/100073/image/1-029.png  \n",
            "  inflating: data/train/100073/image/1-030.png  \n",
            "  inflating: data/train/100073/image/1-031.png  \n",
            "  inflating: data/train/100073/image/1-032.png  \n",
            "  inflating: data/train/100073/image/1-033.png  \n",
            "  inflating: data/train/100073/image/1-034.png  \n",
            "  inflating: data/train/100073/image/1-035.png  \n",
            "  inflating: data/train/100073/image/1-036.png  \n",
            "  inflating: data/train/100073/image/1-037.png  \n",
            "  inflating: data/train/100073/image/1-038.png  \n",
            "  inflating: data/train/100073/image/1-039.png  \n",
            "  inflating: data/train/100073/image/1-040.png  \n",
            "  inflating: data/train/100073/image/1-041.png  \n",
            "  inflating: data/train/100073/image/1-042.png  \n",
            "  inflating: data/train/100073/image/1-043.png  \n",
            "  inflating: data/train/100073/image/1-044.png  \n",
            "  inflating: data/train/100073/image/1-045.png  \n",
            "  inflating: data/train/100073/image/1-046.png  \n",
            "  inflating: data/train/100073/image/1-047.png  \n",
            "  inflating: data/train/100073/image/1-048.png  \n",
            "  inflating: data/train/100073/image/1-049.png  \n",
            "  inflating: data/train/100073/image/1-050.png  \n",
            "  inflating: data/train/100073/image/1-051.png  \n",
            "  inflating: data/train/100073/image/1-052.png  \n",
            "  inflating: data/train/100073/image/1-053.png  \n",
            "  inflating: data/train/100073/image/1-054.png  \n",
            "  inflating: data/train/100073/image/1-055.png  \n",
            "  inflating: data/train/100073/image/1-056.png  \n",
            "  inflating: data/train/100073/image/1-057.png  \n",
            "  inflating: data/train/100073/image/1-058.png  \n",
            "  inflating: data/train/100073/image/1-059.png  \n",
            "  inflating: data/train/100073/image/1-060.png  \n",
            "  inflating: data/train/100073/image/1-061.png  \n",
            "  inflating: data/train/100073/image/1-062.png  \n",
            "  inflating: data/train/100073/image/1-063.png  \n",
            "  inflating: data/train/100073/image/1-064.png  \n",
            "  inflating: data/train/100073/image/1-065.png  \n",
            "  inflating: data/train/100073/image/1-066.png  \n",
            "  inflating: data/train/100073/image/1-067.png  \n",
            "  inflating: data/train/100073/image/1-068.png  \n",
            "  inflating: data/train/100073/image/1-069.png  \n",
            "  inflating: data/train/100073/image/1-070.png  \n",
            "  inflating: data/train/100073/image/1-071.png  \n",
            "  inflating: data/train/100073/image/1-072.png  \n",
            "  inflating: data/train/100073/image/1-073.png  \n",
            "  inflating: data/train/100073/image/1-074.png  \n",
            "  inflating: data/train/100073/image/1-075.png  \n",
            "  inflating: data/train/100073/image/1-076.png  \n",
            "  inflating: data/train/100073/image/1-077.png  \n",
            "  inflating: data/train/100073/image/1-078.png  \n",
            "  inflating: data/train/100073/image/1-079.png  \n",
            "  inflating: data/train/100073/image/1-080.png  \n",
            "  inflating: data/train/100073/image/1-081.png  \n",
            "  inflating: data/train/100073/image/1-082.png  \n",
            "  inflating: data/train/100073/image/1-083.png  \n",
            "  inflating: data/train/100073/image/1-084.png  \n",
            "  inflating: data/train/100073/image/1-085.png  \n",
            "  inflating: data/train/100073/image/1-086.png  \n",
            "  inflating: data/train/100073/image/1-087.png  \n",
            "  inflating: data/train/100073/image/1-088.png  \n",
            "  inflating: data/train/100073/image/1-089.png  \n",
            "  inflating: data/train/100073/image/1-090.png  \n",
            "  inflating: data/train/100073/image/1-091.png  \n",
            "  inflating: data/train/100073/image/1-092.png  \n",
            "  inflating: data/train/100073/image/1-093.png  \n",
            "  inflating: data/train/100073/image/1-094.png  \n",
            "  inflating: data/train/100073/image/1-095.png  \n",
            "  inflating: data/train/100073/image/1-096.png  \n",
            "  inflating: data/train/100073/image/1-097.png  \n",
            "  inflating: data/train/100073/image/1-098.png  \n",
            "  inflating: data/train/100073/image/1-099.png  \n",
            "  inflating: data/train/100073/image/1-100.png  \n",
            "  inflating: data/train/100073/image/1-101.png  \n",
            "  inflating: data/train/100073/image/1-102.png  \n",
            "  inflating: data/train/100073/image/1-103.png  \n",
            "  inflating: data/train/100073/image/1-104.png  \n",
            "  inflating: data/train/100073/image/1-105.png  \n",
            "  inflating: data/train/100073/image/1-106.png  \n",
            "  inflating: data/train/100073/image/1-107.png  \n",
            "  inflating: data/train/100073/image/1-108.png  \n",
            "  inflating: data/train/100073/image/1-109.png  \n",
            "  inflating: data/train/100073/image/1-110.png  \n",
            "  inflating: data/train/100073/image/1-111.png  \n",
            "  inflating: data/train/100073/image/1-112.png  \n",
            "  inflating: data/train/100073/image/1-113.png  \n",
            "  inflating: data/train/100073/image/1-114.png  \n",
            "  inflating: data/train/100073/image/1-115.png  \n",
            "  inflating: data/train/100073/image/1-116.png  \n",
            "  inflating: data/train/100073/image/1-117.png  \n",
            "  inflating: data/train/100073/image/1-118.png  \n",
            "  inflating: data/train/100073/image/1-119.png  \n",
            "  inflating: data/train/100073/image/1-120.png  \n",
            "  inflating: data/train/100073/image/1-121.png  \n",
            "  inflating: data/train/100073/image/1-122.png  \n",
            "  inflating: data/train/100073/image/1-123.png  \n",
            "  inflating: data/train/100073/image/1-124.png  \n",
            "  inflating: data/train/100073/image/1-125.png  \n",
            "  inflating: data/train/100073/image/1-126.png  \n",
            "  inflating: data/train/100073/image/1-127.png  \n",
            "  inflating: data/train/100073/image/1-128.png  \n",
            "  inflating: data/train/100073/image/1-129.png  \n",
            "  inflating: data/train/100073/image/1-130.png  \n",
            "  inflating: data/train/100073/image/1-131.png  \n",
            "  inflating: data/train/100073/image/1-132.png  \n",
            "  inflating: data/train/100073/image/1-133.png  \n",
            "  inflating: data/train/100073/image/1-134.png  \n",
            "  inflating: data/train/100073/image/1-135.png  \n",
            "  inflating: data/train/100073/image/1-136.png  \n",
            "  inflating: data/train/100073/image/1-137.png  \n",
            "  inflating: data/train/100073/image/1-138.png  \n",
            "  inflating: data/train/100073/image/1-139.png  \n",
            "  inflating: data/train/100073/image/1-140.png  \n",
            "  inflating: data/train/100073/image/1-141.png  \n",
            "  inflating: data/train/100073/image/1-142.png  \n",
            "  inflating: data/train/100073/image/1-143.png  \n",
            "  inflating: data/train/100073/mask/1-001.png  \n",
            "  inflating: data/train/100073/mask/1-002.png  \n",
            "  inflating: data/train/100073/mask/1-003.png  \n",
            "  inflating: data/train/100073/mask/1-004.png  \n",
            "  inflating: data/train/100073/mask/1-005.png  \n",
            "  inflating: data/train/100073/mask/1-006.png  \n",
            "  inflating: data/train/100073/mask/1-007.png  \n",
            "  inflating: data/train/100073/mask/1-008.png  \n",
            "  inflating: data/train/100073/mask/1-009.png  \n",
            "  inflating: data/train/100073/mask/1-010.png  \n",
            "  inflating: data/train/100073/mask/1-011.png  \n",
            "  inflating: data/train/100073/mask/1-012.png  \n",
            "  inflating: data/train/100073/mask/1-013.png  \n",
            "  inflating: data/train/100073/mask/1-014.png  \n",
            "  inflating: data/train/100073/mask/1-015.png  \n",
            "  inflating: data/train/100073/mask/1-016.png  \n",
            "  inflating: data/train/100073/mask/1-017.png  \n",
            "  inflating: data/train/100073/mask/1-018.png  \n",
            "  inflating: data/train/100073/mask/1-019.png  \n",
            "  inflating: data/train/100073/mask/1-020.png  \n",
            "  inflating: data/train/100073/mask/1-021.png  \n",
            "  inflating: data/train/100073/mask/1-022.png  \n",
            "  inflating: data/train/100073/mask/1-023.png  \n",
            "  inflating: data/train/100073/mask/1-024.png  \n",
            "  inflating: data/train/100073/mask/1-025.png  \n",
            "  inflating: data/train/100073/mask/1-026.png  \n",
            "  inflating: data/train/100073/mask/1-027.png  \n",
            "  inflating: data/train/100073/mask/1-028.png  \n",
            "  inflating: data/train/100073/mask/1-029.png  \n",
            "  inflating: data/train/100073/mask/1-030.png  \n",
            "  inflating: data/train/100073/mask/1-031.png  \n",
            "  inflating: data/train/100073/mask/1-032.png  \n",
            "  inflating: data/train/100073/mask/1-033.png  \n",
            "  inflating: data/train/100073/mask/1-034.png  \n",
            "  inflating: data/train/100073/mask/1-035.png  \n",
            "  inflating: data/train/100073/mask/1-036.png  \n",
            "  inflating: data/train/100073/mask/1-037.png  \n",
            "  inflating: data/train/100073/mask/1-038.png  \n",
            "  inflating: data/train/100073/mask/1-039.png  \n",
            "  inflating: data/train/100073/mask/1-040.png  \n",
            "  inflating: data/train/100073/mask/1-041.png  \n",
            "  inflating: data/train/100073/mask/1-042.png  \n",
            "  inflating: data/train/100073/mask/1-043.png  \n",
            "  inflating: data/train/100073/mask/1-044.png  \n",
            "  inflating: data/train/100073/mask/1-045.png  \n",
            "  inflating: data/train/100073/mask/1-046.png  \n",
            "  inflating: data/train/100073/mask/1-047.png  \n",
            "  inflating: data/train/100073/mask/1-048.png  \n",
            "  inflating: data/train/100073/mask/1-049.png  \n",
            "  inflating: data/train/100073/mask/1-050.png  \n",
            "  inflating: data/train/100073/mask/1-051.png  \n",
            "  inflating: data/train/100073/mask/1-052.png  \n",
            "  inflating: data/train/100073/mask/1-053.png  \n",
            "  inflating: data/train/100073/mask/1-054.png  \n",
            "  inflating: data/train/100073/mask/1-055.png  \n",
            "  inflating: data/train/100073/mask/1-056.png  \n",
            "  inflating: data/train/100073/mask/1-057.png  \n",
            "  inflating: data/train/100073/mask/1-058.png  \n",
            "  inflating: data/train/100073/mask/1-059.png  \n",
            "  inflating: data/train/100073/mask/1-060.png  \n",
            "  inflating: data/train/100073/mask/1-061.png  \n",
            "  inflating: data/train/100073/mask/1-062.png  \n",
            "  inflating: data/train/100073/mask/1-063.png  \n",
            "  inflating: data/train/100073/mask/1-064.png  \n",
            "  inflating: data/train/100073/mask/1-065.png  \n",
            "  inflating: data/train/100073/mask/1-066.png  \n",
            "  inflating: data/train/100073/mask/1-067.png  \n",
            "  inflating: data/train/100073/mask/1-068.png  \n",
            "  inflating: data/train/100073/mask/1-069.png  \n",
            "  inflating: data/train/100073/mask/1-070.png  \n",
            "  inflating: data/train/100073/mask/1-071.png  \n",
            "  inflating: data/train/100073/mask/1-072.png  \n",
            "  inflating: data/train/100073/mask/1-073.png  \n",
            "  inflating: data/train/100073/mask/1-074.png  \n",
            "  inflating: data/train/100073/mask/1-075.png  \n",
            "  inflating: data/train/100073/mask/1-076.png  \n",
            "  inflating: data/train/100073/mask/1-077.png  \n",
            "  inflating: data/train/100073/mask/1-078.png  \n",
            "  inflating: data/train/100073/mask/1-079.png  \n",
            "  inflating: data/train/100073/mask/1-080.png  \n",
            "  inflating: data/train/100073/mask/1-081.png  \n",
            "  inflating: data/train/100073/mask/1-082.png  \n",
            "  inflating: data/train/100073/mask/1-083.png  \n",
            "  inflating: data/train/100073/mask/1-084.png  \n",
            "  inflating: data/train/100073/mask/1-085.png  \n",
            "  inflating: data/train/100073/mask/1-086.png  \n",
            "  inflating: data/train/100073/mask/1-087.png  \n",
            "  inflating: data/train/100073/mask/1-088.png  \n",
            "  inflating: data/train/100073/mask/1-089.png  \n",
            "  inflating: data/train/100073/mask/1-090.png  \n",
            "  inflating: data/train/100073/mask/1-091.png  \n",
            "  inflating: data/train/100073/mask/1-092.png  \n",
            "  inflating: data/train/100073/mask/1-093.png  \n",
            "  inflating: data/train/100073/mask/1-094.png  \n",
            "  inflating: data/train/100073/mask/1-095.png  \n",
            "  inflating: data/train/100073/mask/1-096.png  \n",
            "  inflating: data/train/100073/mask/1-097.png  \n",
            "  inflating: data/train/100073/mask/1-098.png  \n",
            "  inflating: data/train/100073/mask/1-099.png  \n",
            "  inflating: data/train/100073/mask/1-100.png  \n",
            "  inflating: data/train/100073/mask/1-101.png  \n",
            "  inflating: data/train/100073/mask/1-102.png  \n",
            "  inflating: data/train/100073/mask/1-103.png  \n",
            "  inflating: data/train/100073/mask/1-104.png  \n",
            "  inflating: data/train/100073/mask/1-105.png  \n",
            "  inflating: data/train/100073/mask/1-106.png  \n",
            "  inflating: data/train/100073/mask/1-107.png  \n",
            "  inflating: data/train/100073/mask/1-108.png  \n",
            "  inflating: data/train/100073/mask/1-109.png  \n",
            "  inflating: data/train/100073/mask/1-110.png  \n",
            "  inflating: data/train/100073/mask/1-111.png  \n",
            "  inflating: data/train/100073/mask/1-112.png  \n",
            "  inflating: data/train/100073/mask/1-113.png  \n",
            "  inflating: data/train/100073/mask/1-114.png  \n",
            "  inflating: data/train/100073/mask/1-115.png  \n",
            "  inflating: data/train/100073/mask/1-116.png  \n",
            "  inflating: data/train/100073/mask/1-117.png  \n",
            "  inflating: data/train/100073/mask/1-118.png  \n",
            "  inflating: data/train/100073/mask/1-119.png  \n",
            "  inflating: data/train/100073/mask/1-120.png  \n",
            "  inflating: data/train/100073/mask/1-121.png  \n",
            "  inflating: data/train/100073/mask/1-122.png  \n",
            "  inflating: data/train/100073/mask/1-123.png  \n",
            "  inflating: data/train/100073/mask/1-124.png  \n",
            "  inflating: data/train/100073/mask/1-125.png  \n",
            "  inflating: data/train/100073/mask/1-126.png  \n",
            "  inflating: data/train/100073/mask/1-127.png  \n",
            "  inflating: data/train/100073/mask/1-128.png  \n",
            "  inflating: data/train/100073/mask/1-129.png  \n",
            "  inflating: data/train/100073/mask/1-130.png  \n",
            "  inflating: data/train/100073/mask/1-131.png  \n",
            "  inflating: data/train/100073/mask/1-132.png  \n",
            "  inflating: data/train/100073/mask/1-133.png  \n",
            "  inflating: data/train/100073/mask/1-134.png  \n",
            "  inflating: data/train/100073/mask/1-135.png  \n",
            "  inflating: data/train/100073/mask/1-136.png  \n",
            "  inflating: data/train/100073/mask/1-137.png  \n",
            "  inflating: data/train/100073/mask/1-138.png  \n",
            "  inflating: data/train/100073/mask/1-139.png  \n",
            "  inflating: data/train/100073/mask/1-140.png  \n",
            "  inflating: data/train/100073/mask/1-141.png  \n",
            "  inflating: data/train/100073/mask/1-142.png  \n",
            "  inflating: data/train/100073/mask/1-143.png  \n",
            "  inflating: data/train/100075/image/1-001.png  \n",
            "  inflating: data/train/100075/image/1-002.png  \n",
            "  inflating: data/train/100075/image/1-003.png  \n",
            "  inflating: data/train/100075/image/1-004.png  \n",
            "  inflating: data/train/100075/image/1-005.png  \n",
            "  inflating: data/train/100075/image/1-006.png  \n",
            "  inflating: data/train/100075/image/1-007.png  \n",
            "  inflating: data/train/100075/image/1-008.png  \n",
            "  inflating: data/train/100075/image/1-009.png  \n",
            "  inflating: data/train/100075/image/1-010.png  \n",
            "  inflating: data/train/100075/image/1-011.png  \n",
            "  inflating: data/train/100075/image/1-012.png  \n",
            "  inflating: data/train/100075/image/1-013.png  \n",
            "  inflating: data/train/100075/image/1-014.png  \n",
            "  inflating: data/train/100075/image/1-015.png  \n",
            "  inflating: data/train/100075/image/1-016.png  \n",
            "  inflating: data/train/100075/image/1-017.png  \n",
            "  inflating: data/train/100075/image/1-018.png  \n",
            "  inflating: data/train/100075/image/1-019.png  \n",
            "  inflating: data/train/100075/image/1-020.png  \n",
            "  inflating: data/train/100075/image/1-021.png  \n",
            "  inflating: data/train/100075/image/1-022.png  \n",
            "  inflating: data/train/100075/image/1-023.png  \n",
            "  inflating: data/train/100075/image/1-024.png  \n",
            "  inflating: data/train/100075/image/1-025.png  \n",
            "  inflating: data/train/100075/image/1-026.png  \n",
            "  inflating: data/train/100075/image/1-027.png  \n",
            "  inflating: data/train/100075/image/1-028.png  \n",
            "  inflating: data/train/100075/image/1-029.png  \n",
            "  inflating: data/train/100075/image/1-030.png  \n",
            "  inflating: data/train/100075/image/1-031.png  \n",
            "  inflating: data/train/100075/image/1-032.png  \n",
            "  inflating: data/train/100075/image/1-033.png  \n",
            "  inflating: data/train/100075/image/1-034.png  \n",
            "  inflating: data/train/100075/image/1-035.png  \n",
            "  inflating: data/train/100075/image/1-036.png  \n",
            "  inflating: data/train/100075/image/1-037.png  \n",
            "  inflating: data/train/100075/image/1-038.png  \n",
            "  inflating: data/train/100075/image/1-039.png  \n",
            "  inflating: data/train/100075/image/1-040.png  \n",
            "  inflating: data/train/100075/image/1-041.png  \n",
            "  inflating: data/train/100075/image/1-042.png  \n",
            "  inflating: data/train/100075/image/1-043.png  \n",
            "  inflating: data/train/100075/image/1-044.png  \n",
            "  inflating: data/train/100075/image/1-045.png  \n",
            "  inflating: data/train/100075/image/1-046.png  \n",
            "  inflating: data/train/100075/image/1-047.png  \n",
            "  inflating: data/train/100075/image/1-048.png  \n",
            "  inflating: data/train/100075/image/1-049.png  \n",
            "  inflating: data/train/100075/image/1-050.png  \n",
            "  inflating: data/train/100075/image/1-051.png  \n",
            "  inflating: data/train/100075/image/1-052.png  \n",
            "  inflating: data/train/100075/image/1-053.png  \n",
            "  inflating: data/train/100075/image/1-054.png  \n",
            "  inflating: data/train/100075/image/1-055.png  \n",
            "  inflating: data/train/100075/image/1-056.png  \n",
            "  inflating: data/train/100075/image/1-057.png  \n",
            "  inflating: data/train/100075/image/1-058.png  \n",
            "  inflating: data/train/100075/image/1-059.png  \n",
            "  inflating: data/train/100075/image/1-060.png  \n",
            "  inflating: data/train/100075/image/1-061.png  \n",
            "  inflating: data/train/100075/image/1-062.png  \n",
            "  inflating: data/train/100075/image/1-063.png  \n",
            "  inflating: data/train/100075/image/1-064.png  \n",
            "  inflating: data/train/100075/image/1-065.png  \n",
            "  inflating: data/train/100075/image/1-066.png  \n",
            "  inflating: data/train/100075/image/1-067.png  \n",
            "  inflating: data/train/100075/image/1-068.png  \n",
            "  inflating: data/train/100075/image/1-069.png  \n",
            "  inflating: data/train/100075/image/1-070.png  \n",
            "  inflating: data/train/100075/image/1-071.png  \n",
            "  inflating: data/train/100075/image/1-072.png  \n",
            "  inflating: data/train/100075/image/1-073.png  \n",
            "  inflating: data/train/100075/image/1-074.png  \n",
            "  inflating: data/train/100075/image/1-075.png  \n",
            "  inflating: data/train/100075/image/1-076.png  \n",
            "  inflating: data/train/100075/image/1-077.png  \n",
            "  inflating: data/train/100075/image/1-078.png  \n",
            "  inflating: data/train/100075/image/1-079.png  \n",
            "  inflating: data/train/100075/image/1-080.png  \n",
            "  inflating: data/train/100075/image/1-081.png  \n",
            "  inflating: data/train/100075/image/1-082.png  \n",
            "  inflating: data/train/100075/image/1-083.png  \n",
            "  inflating: data/train/100075/image/1-084.png  \n",
            "  inflating: data/train/100075/image/1-085.png  \n",
            "  inflating: data/train/100075/image/1-086.png  \n",
            "  inflating: data/train/100075/image/1-087.png  \n",
            "  inflating: data/train/100075/image/1-088.png  \n",
            "  inflating: data/train/100075/image/1-089.png  \n",
            "  inflating: data/train/100075/image/1-090.png  \n",
            "  inflating: data/train/100075/image/1-091.png  \n",
            "  inflating: data/train/100075/image/1-092.png  \n",
            "  inflating: data/train/100075/image/1-093.png  \n",
            "  inflating: data/train/100075/image/1-094.png  \n",
            "  inflating: data/train/100075/image/1-095.png  \n",
            "  inflating: data/train/100075/image/1-096.png  \n",
            "  inflating: data/train/100075/image/1-097.png  \n",
            "  inflating: data/train/100075/image/1-098.png  \n",
            "  inflating: data/train/100075/image/1-099.png  \n",
            "  inflating: data/train/100075/image/1-100.png  \n",
            "  inflating: data/train/100075/image/1-101.png  \n",
            "  inflating: data/train/100075/image/1-102.png  \n",
            "  inflating: data/train/100075/image/1-103.png  \n",
            "  inflating: data/train/100075/image/1-104.png  \n",
            "  inflating: data/train/100075/image/1-105.png  \n",
            "  inflating: data/train/100075/image/1-106.png  \n",
            "  inflating: data/train/100075/image/1-107.png  \n",
            "  inflating: data/train/100075/image/1-108.png  \n",
            "  inflating: data/train/100075/image/1-109.png  \n",
            "  inflating: data/train/100075/image/1-110.png  \n",
            "  inflating: data/train/100075/image/1-111.png  \n",
            "  inflating: data/train/100075/image/1-112.png  \n",
            "  inflating: data/train/100075/image/1-113.png  \n",
            "  inflating: data/train/100075/image/1-114.png  \n",
            "  inflating: data/train/100075/image/1-115.png  \n",
            "  inflating: data/train/100075/image/1-116.png  \n",
            "  inflating: data/train/100075/image/1-117.png  \n",
            "  inflating: data/train/100075/image/1-118.png  \n",
            "  inflating: data/train/100075/image/1-119.png  \n",
            "  inflating: data/train/100075/image/1-120.png  \n",
            "  inflating: data/train/100075/image/1-121.png  \n",
            "  inflating: data/train/100075/image/1-122.png  \n",
            "  inflating: data/train/100075/image/1-123.png  \n",
            "  inflating: data/train/100075/image/1-124.png  \n",
            "  inflating: data/train/100075/image/1-125.png  \n",
            "  inflating: data/train/100075/image/1-126.png  \n",
            "  inflating: data/train/100075/image/1-127.png  \n",
            "  inflating: data/train/100075/image/1-128.png  \n",
            "  inflating: data/train/100075/image/1-129.png  \n",
            "  inflating: data/train/100075/image/1-130.png  \n",
            "  inflating: data/train/100075/image/1-131.png  \n",
            "  inflating: data/train/100075/image/1-132.png  \n",
            "  inflating: data/train/100075/image/1-133.png  \n",
            "  inflating: data/train/100075/image/1-134.png  \n",
            "  inflating: data/train/100075/image/1-135.png  \n",
            "  inflating: data/train/100075/image/1-136.png  \n",
            "  inflating: data/train/100075/image/1-137.png  \n",
            "  inflating: data/train/100075/image/1-138.png  \n",
            "  inflating: data/train/100075/image/1-139.png  \n",
            "  inflating: data/train/100075/image/1-140.png  \n",
            "  inflating: data/train/100075/image/1-141.png  \n",
            "  inflating: data/train/100075/image/1-142.png  \n",
            "  inflating: data/train/100075/image/1-143.png  \n",
            "  inflating: data/train/100075/image/1-144.png  \n",
            "  inflating: data/train/100075/image/1-145.png  \n",
            "  inflating: data/train/100075/image/1-146.png  \n",
            "  inflating: data/train/100075/image/1-147.png  \n",
            "  inflating: data/train/100075/image/1-148.png  \n",
            "  inflating: data/train/100075/image/1-149.png  \n",
            "  inflating: data/train/100075/image/1-150.png  \n",
            "  inflating: data/train/100075/image/1-151.png  \n",
            "  inflating: data/train/100075/image/1-152.png  \n",
            "  inflating: data/train/100075/mask/1-001.png  \n",
            "  inflating: data/train/100075/mask/1-002.png  \n",
            "  inflating: data/train/100075/mask/1-003.png  \n",
            "  inflating: data/train/100075/mask/1-004.png  \n",
            "  inflating: data/train/100075/mask/1-005.png  \n",
            "  inflating: data/train/100075/mask/1-006.png  \n",
            "  inflating: data/train/100075/mask/1-007.png  \n",
            "  inflating: data/train/100075/mask/1-008.png  \n",
            "  inflating: data/train/100075/mask/1-009.png  \n",
            "  inflating: data/train/100075/mask/1-010.png  \n",
            "  inflating: data/train/100075/mask/1-011.png  \n",
            "  inflating: data/train/100075/mask/1-012.png  \n",
            "  inflating: data/train/100075/mask/1-013.png  \n",
            "  inflating: data/train/100075/mask/1-014.png  \n",
            "  inflating: data/train/100075/mask/1-015.png  \n",
            "  inflating: data/train/100075/mask/1-016.png  \n",
            "  inflating: data/train/100075/mask/1-017.png  \n",
            "  inflating: data/train/100075/mask/1-018.png  \n",
            "  inflating: data/train/100075/mask/1-019.png  \n",
            "  inflating: data/train/100075/mask/1-020.png  \n",
            "  inflating: data/train/100075/mask/1-021.png  \n",
            "  inflating: data/train/100075/mask/1-022.png  \n",
            "  inflating: data/train/100075/mask/1-023.png  \n",
            "  inflating: data/train/100075/mask/1-024.png  \n",
            "  inflating: data/train/100075/mask/1-025.png  \n",
            "  inflating: data/train/100075/mask/1-026.png  \n",
            "  inflating: data/train/100075/mask/1-027.png  \n",
            "  inflating: data/train/100075/mask/1-028.png  \n",
            "  inflating: data/train/100075/mask/1-029.png  \n",
            "  inflating: data/train/100075/mask/1-030.png  \n",
            "  inflating: data/train/100075/mask/1-031.png  \n",
            "  inflating: data/train/100075/mask/1-032.png  \n",
            "  inflating: data/train/100075/mask/1-033.png  \n",
            "  inflating: data/train/100075/mask/1-034.png  \n",
            "  inflating: data/train/100075/mask/1-035.png  \n",
            "  inflating: data/train/100075/mask/1-036.png  \n",
            "  inflating: data/train/100075/mask/1-037.png  \n",
            "  inflating: data/train/100075/mask/1-038.png  \n",
            "  inflating: data/train/100075/mask/1-039.png  \n",
            "  inflating: data/train/100075/mask/1-040.png  \n",
            "  inflating: data/train/100075/mask/1-041.png  \n",
            "  inflating: data/train/100075/mask/1-042.png  \n",
            "  inflating: data/train/100075/mask/1-043.png  \n",
            "  inflating: data/train/100075/mask/1-044.png  \n",
            "  inflating: data/train/100075/mask/1-045.png  \n",
            "  inflating: data/train/100075/mask/1-046.png  \n",
            "  inflating: data/train/100075/mask/1-047.png  \n",
            "  inflating: data/train/100075/mask/1-048.png  \n",
            "  inflating: data/train/100075/mask/1-049.png  \n",
            "  inflating: data/train/100075/mask/1-050.png  \n",
            "  inflating: data/train/100075/mask/1-051.png  \n",
            "  inflating: data/train/100075/mask/1-052.png  \n",
            "  inflating: data/train/100075/mask/1-053.png  \n",
            "  inflating: data/train/100075/mask/1-054.png  \n",
            "  inflating: data/train/100075/mask/1-055.png  \n",
            "  inflating: data/train/100075/mask/1-056.png  \n",
            "  inflating: data/train/100075/mask/1-057.png  \n",
            "  inflating: data/train/100075/mask/1-058.png  \n",
            "  inflating: data/train/100075/mask/1-059.png  \n",
            "  inflating: data/train/100075/mask/1-060.png  \n",
            "  inflating: data/train/100075/mask/1-061.png  \n",
            "  inflating: data/train/100075/mask/1-062.png  \n",
            "  inflating: data/train/100075/mask/1-063.png  \n",
            "  inflating: data/train/100075/mask/1-064.png  \n",
            "  inflating: data/train/100075/mask/1-065.png  \n",
            "  inflating: data/train/100075/mask/1-066.png  \n",
            "  inflating: data/train/100075/mask/1-067.png  \n",
            "  inflating: data/train/100075/mask/1-068.png  \n",
            "  inflating: data/train/100075/mask/1-069.png  \n",
            "  inflating: data/train/100075/mask/1-070.png  \n",
            "  inflating: data/train/100075/mask/1-071.png  \n",
            "  inflating: data/train/100075/mask/1-072.png  \n",
            "  inflating: data/train/100075/mask/1-073.png  \n",
            "  inflating: data/train/100075/mask/1-074.png  \n",
            "  inflating: data/train/100075/mask/1-075.png  \n",
            "  inflating: data/train/100075/mask/1-076.png  \n",
            "  inflating: data/train/100075/mask/1-077.png  \n",
            "  inflating: data/train/100075/mask/1-078.png  \n",
            "  inflating: data/train/100075/mask/1-079.png  \n",
            "  inflating: data/train/100075/mask/1-080.png  \n",
            "  inflating: data/train/100075/mask/1-081.png  \n",
            "  inflating: data/train/100075/mask/1-082.png  \n",
            "  inflating: data/train/100075/mask/1-083.png  \n",
            "  inflating: data/train/100075/mask/1-084.png  \n",
            "  inflating: data/train/100075/mask/1-085.png  \n",
            "  inflating: data/train/100075/mask/1-086.png  \n",
            "  inflating: data/train/100075/mask/1-087.png  \n",
            "  inflating: data/train/100075/mask/1-088.png  \n",
            "  inflating: data/train/100075/mask/1-089.png  \n",
            "  inflating: data/train/100075/mask/1-090.png  \n",
            "  inflating: data/train/100075/mask/1-091.png  \n",
            "  inflating: data/train/100075/mask/1-092.png  \n",
            "  inflating: data/train/100075/mask/1-093.png  \n",
            "  inflating: data/train/100075/mask/1-094.png  \n",
            "  inflating: data/train/100075/mask/1-095.png  \n",
            "  inflating: data/train/100075/mask/1-096.png  \n",
            "  inflating: data/train/100075/mask/1-097.png  \n",
            "  inflating: data/train/100075/mask/1-098.png  \n",
            "  inflating: data/train/100075/mask/1-099.png  \n",
            "  inflating: data/train/100075/mask/1-100.png  \n",
            "  inflating: data/train/100075/mask/1-101.png  \n",
            "  inflating: data/train/100075/mask/1-102.png  \n",
            "  inflating: data/train/100075/mask/1-103.png  \n",
            "  inflating: data/train/100075/mask/1-104.png  \n",
            "  inflating: data/train/100075/mask/1-105.png  \n",
            "  inflating: data/train/100075/mask/1-106.png  \n",
            "  inflating: data/train/100075/mask/1-107.png  \n",
            "  inflating: data/train/100075/mask/1-108.png  \n",
            "  inflating: data/train/100075/mask/1-109.png  \n",
            "  inflating: data/train/100075/mask/1-110.png  \n",
            "  inflating: data/train/100075/mask/1-111.png  \n",
            "  inflating: data/train/100075/mask/1-112.png  \n",
            "  inflating: data/train/100075/mask/1-113.png  \n",
            "  inflating: data/train/100075/mask/1-114.png  \n",
            "  inflating: data/train/100075/mask/1-115.png  \n",
            "  inflating: data/train/100075/mask/1-116.png  \n",
            "  inflating: data/train/100075/mask/1-117.png  \n",
            "  inflating: data/train/100075/mask/1-118.png  \n",
            "  inflating: data/train/100075/mask/1-119.png  \n",
            "  inflating: data/train/100075/mask/1-120.png  \n",
            "  inflating: data/train/100075/mask/1-121.png  \n",
            "  inflating: data/train/100075/mask/1-122.png  \n",
            "  inflating: data/train/100075/mask/1-123.png  \n",
            "  inflating: data/train/100075/mask/1-124.png  \n",
            "  inflating: data/train/100075/mask/1-125.png  \n",
            "  inflating: data/train/100075/mask/1-126.png  \n",
            "  inflating: data/train/100075/mask/1-127.png  \n",
            "  inflating: data/train/100075/mask/1-128.png  \n",
            "  inflating: data/train/100075/mask/1-129.png  \n",
            "  inflating: data/train/100075/mask/1-130.png  \n",
            "  inflating: data/train/100075/mask/1-131.png  \n",
            "  inflating: data/train/100075/mask/1-132.png  \n",
            "  inflating: data/train/100075/mask/1-133.png  \n",
            "  inflating: data/train/100075/mask/1-134.png  \n",
            "  inflating: data/train/100075/mask/1-135.png  \n",
            "  inflating: data/train/100075/mask/1-136.png  \n",
            "  inflating: data/train/100075/mask/1-137.png  \n",
            "  inflating: data/train/100075/mask/1-138.png  \n",
            "  inflating: data/train/100075/mask/1-139.png  \n",
            "  inflating: data/train/100075/mask/1-140.png  \n",
            "  inflating: data/train/100075/mask/1-141.png  \n",
            "  inflating: data/train/100075/mask/1-142.png  \n",
            "  inflating: data/train/100075/mask/1-143.png  \n",
            "  inflating: data/train/100075/mask/1-144.png  \n",
            "  inflating: data/train/100075/mask/1-145.png  \n",
            "  inflating: data/train/100075/mask/1-146.png  \n",
            "  inflating: data/train/100075/mask/1-147.png  \n",
            "  inflating: data/train/100075/mask/1-148.png  \n",
            "  inflating: data/train/100075/mask/1-149.png  \n",
            "  inflating: data/train/100075/mask/1-150.png  \n",
            "  inflating: data/train/100075/mask/1-151.png  \n",
            "  inflating: data/train/100075/mask/1-152.png  \n",
            "  inflating: data/train/100079/image/1-01.png  \n",
            "  inflating: data/train/100079/image/1-02.png  \n",
            "  inflating: data/train/100079/image/1-03.png  \n",
            "  inflating: data/train/100079/image/1-04.png  \n",
            "  inflating: data/train/100079/image/1-05.png  \n",
            "  inflating: data/train/100079/image/1-06.png  \n",
            "  inflating: data/train/100079/image/1-07.png  \n",
            "  inflating: data/train/100079/image/1-08.png  \n",
            "  inflating: data/train/100079/image/1-09.png  \n",
            "  inflating: data/train/100079/image/1-10.png  \n",
            "  inflating: data/train/100079/image/1-11.png  \n",
            "  inflating: data/train/100079/image/1-12.png  \n",
            "  inflating: data/train/100079/image/1-13.png  \n",
            "  inflating: data/train/100079/image/1-14.png  \n",
            "  inflating: data/train/100079/image/1-15.png  \n",
            "  inflating: data/train/100079/image/1-16.png  \n",
            "  inflating: data/train/100079/image/1-17.png  \n",
            "  inflating: data/train/100079/image/1-18.png  \n",
            "  inflating: data/train/100079/image/1-19.png  \n",
            "  inflating: data/train/100079/image/1-20.png  \n",
            "  inflating: data/train/100079/image/1-21.png  \n",
            "  inflating: data/train/100079/image/1-22.png  \n",
            "  inflating: data/train/100079/image/1-23.png  \n",
            "  inflating: data/train/100079/image/1-24.png  \n",
            "  inflating: data/train/100079/image/1-25.png  \n",
            "  inflating: data/train/100079/image/1-26.png  \n",
            "  inflating: data/train/100079/image/1-27.png  \n",
            "  inflating: data/train/100079/image/1-28.png  \n",
            "  inflating: data/train/100079/image/1-29.png  \n",
            "  inflating: data/train/100079/image/1-30.png  \n",
            "  inflating: data/train/100079/image/1-31.png  \n",
            "  inflating: data/train/100079/image/1-32.png  \n",
            "  inflating: data/train/100079/image/1-33.png  \n",
            "  inflating: data/train/100079/image/1-34.png  \n",
            "  inflating: data/train/100079/image/1-35.png  \n",
            "  inflating: data/train/100079/image/1-36.png  \n",
            "  inflating: data/train/100079/image/1-37.png  \n",
            "  inflating: data/train/100079/image/1-38.png  \n",
            "  inflating: data/train/100079/image/1-39.png  \n",
            "  inflating: data/train/100079/image/1-40.png  \n",
            "  inflating: data/train/100079/image/1-41.png  \n",
            "  inflating: data/train/100079/image/1-42.png  \n",
            "  inflating: data/train/100079/image/1-43.png  \n",
            "  inflating: data/train/100079/image/1-44.png  \n",
            "  inflating: data/train/100079/image/1-45.png  \n",
            "  inflating: data/train/100079/image/1-46.png  \n",
            "  inflating: data/train/100079/image/1-47.png  \n",
            "  inflating: data/train/100079/image/1-48.png  \n",
            "  inflating: data/train/100079/image/1-49.png  \n",
            "  inflating: data/train/100079/image/1-50.png  \n",
            "  inflating: data/train/100079/image/1-51.png  \n",
            "  inflating: data/train/100079/image/1-52.png  \n",
            "  inflating: data/train/100079/image/1-53.png  \n",
            "  inflating: data/train/100079/image/1-54.png  \n",
            "  inflating: data/train/100079/image/1-55.png  \n",
            "  inflating: data/train/100079/image/1-56.png  \n",
            "  inflating: data/train/100079/image/1-57.png  \n",
            "  inflating: data/train/100079/image/1-58.png  \n",
            "  inflating: data/train/100079/image/1-59.png  \n",
            "  inflating: data/train/100079/image/1-60.png  \n",
            "  inflating: data/train/100079/image/1-61.png  \n",
            "  inflating: data/train/100079/image/1-62.png  \n",
            "  inflating: data/train/100079/image/1-63.png  \n",
            "  inflating: data/train/100079/image/1-64.png  \n",
            "  inflating: data/train/100079/image/1-65.png  \n",
            "  inflating: data/train/100079/image/1-66.png  \n",
            "  inflating: data/train/100079/mask/1-01.png  \n",
            "  inflating: data/train/100079/mask/1-02.png  \n",
            "  inflating: data/train/100079/mask/1-03.png  \n",
            "  inflating: data/train/100079/mask/1-04.png  \n",
            "  inflating: data/train/100079/mask/1-05.png  \n",
            "  inflating: data/train/100079/mask/1-06.png  \n",
            "  inflating: data/train/100079/mask/1-07.png  \n",
            "  inflating: data/train/100079/mask/1-08.png  \n",
            "  inflating: data/train/100079/mask/1-09.png  \n",
            "  inflating: data/train/100079/mask/1-10.png  \n",
            "  inflating: data/train/100079/mask/1-11.png  \n",
            "  inflating: data/train/100079/mask/1-12.png  \n",
            "  inflating: data/train/100079/mask/1-13.png  \n",
            "  inflating: data/train/100079/mask/1-14.png  \n",
            "  inflating: data/train/100079/mask/1-15.png  \n",
            "  inflating: data/train/100079/mask/1-16.png  \n",
            "  inflating: data/train/100079/mask/1-17.png  \n",
            "  inflating: data/train/100079/mask/1-18.png  \n",
            "  inflating: data/train/100079/mask/1-19.png  \n",
            "  inflating: data/train/100079/mask/1-20.png  \n",
            "  inflating: data/train/100079/mask/1-21.png  \n",
            "  inflating: data/train/100079/mask/1-22.png  \n",
            "  inflating: data/train/100079/mask/1-23.png  \n",
            "  inflating: data/train/100079/mask/1-24.png  \n",
            "  inflating: data/train/100079/mask/1-25.png  \n",
            "  inflating: data/train/100079/mask/1-26.png  \n",
            "  inflating: data/train/100079/mask/1-27.png  \n",
            "  inflating: data/train/100079/mask/1-28.png  \n",
            "  inflating: data/train/100079/mask/1-29.png  \n",
            "  inflating: data/train/100079/mask/1-30.png  \n",
            "  inflating: data/train/100079/mask/1-31.png  \n",
            "  inflating: data/train/100079/mask/1-32.png  \n",
            "  inflating: data/train/100079/mask/1-33.png  \n",
            "  inflating: data/train/100079/mask/1-34.png  \n",
            "  inflating: data/train/100079/mask/1-35.png  \n",
            "  inflating: data/train/100079/mask/1-36.png  \n",
            "  inflating: data/train/100079/mask/1-37.png  \n",
            "  inflating: data/train/100079/mask/1-38.png  \n",
            "  inflating: data/train/100079/mask/1-39.png  \n",
            "  inflating: data/train/100079/mask/1-40.png  \n",
            "  inflating: data/train/100079/mask/1-41.png  \n",
            "  inflating: data/train/100079/mask/1-42.png  \n",
            "  inflating: data/train/100079/mask/1-43.png  \n",
            "  inflating: data/train/100079/mask/1-44.png  \n",
            "  inflating: data/train/100079/mask/1-45.png  \n",
            "  inflating: data/train/100079/mask/1-46.png  \n",
            "  inflating: data/train/100079/mask/1-47.png  \n",
            "  inflating: data/train/100079/mask/1-48.png  \n",
            "  inflating: data/train/100079/mask/1-49.png  \n",
            "  inflating: data/train/100079/mask/1-50.png  \n",
            "  inflating: data/train/100079/mask/1-51.png  \n",
            "  inflating: data/train/100079/mask/1-52.png  \n",
            "  inflating: data/train/100079/mask/1-53.png  \n",
            "  inflating: data/train/100079/mask/1-54.png  \n",
            "  inflating: data/train/100079/mask/1-55.png  \n",
            "  inflating: data/train/100079/mask/1-56.png  \n",
            "  inflating: data/train/100079/mask/1-57.png  \n",
            "  inflating: data/train/100079/mask/1-58.png  \n",
            "  inflating: data/train/100079/mask/1-59.png  \n",
            "  inflating: data/train/100079/mask/1-60.png  \n",
            "  inflating: data/train/100079/mask/1-61.png  \n",
            "  inflating: data/train/100079/mask/1-62.png  \n",
            "  inflating: data/train/100079/mask/1-63.png  \n",
            "  inflating: data/train/100079/mask/1-64.png  \n",
            "  inflating: data/train/100079/mask/1-65.png  \n",
            "  inflating: data/train/100079/mask/1-66.png  \n",
            "  inflating: data/train/100080/image/1-001.png  \n",
            "  inflating: data/train/100080/image/1-002.png  \n",
            "  inflating: data/train/100080/image/1-003.png  \n",
            "  inflating: data/train/100080/image/1-004.png  \n",
            "  inflating: data/train/100080/image/1-005.png  \n",
            "  inflating: data/train/100080/image/1-006.png  \n",
            "  inflating: data/train/100080/image/1-007.png  \n",
            "  inflating: data/train/100080/image/1-008.png  \n",
            "  inflating: data/train/100080/image/1-009.png  \n",
            "  inflating: data/train/100080/image/1-010.png  \n",
            "  inflating: data/train/100080/image/1-011.png  \n",
            "  inflating: data/train/100080/image/1-012.png  \n",
            "  inflating: data/train/100080/image/1-013.png  \n",
            "  inflating: data/train/100080/image/1-014.png  \n",
            "  inflating: data/train/100080/image/1-015.png  \n",
            "  inflating: data/train/100080/image/1-016.png  \n",
            "  inflating: data/train/100080/image/1-017.png  \n",
            "  inflating: data/train/100080/image/1-018.png  \n",
            "  inflating: data/train/100080/image/1-019.png  \n",
            "  inflating: data/train/100080/image/1-020.png  \n",
            "  inflating: data/train/100080/image/1-021.png  \n",
            "  inflating: data/train/100080/image/1-022.png  \n",
            "  inflating: data/train/100080/image/1-023.png  \n",
            "  inflating: data/train/100080/image/1-024.png  \n",
            "  inflating: data/train/100080/image/1-025.png  \n",
            "  inflating: data/train/100080/image/1-026.png  \n",
            "  inflating: data/train/100080/image/1-027.png  \n",
            "  inflating: data/train/100080/image/1-028.png  \n",
            "  inflating: data/train/100080/image/1-029.png  \n",
            "  inflating: data/train/100080/image/1-030.png  \n",
            "  inflating: data/train/100080/image/1-031.png  \n",
            "  inflating: data/train/100080/image/1-032.png  \n",
            "  inflating: data/train/100080/image/1-033.png  \n",
            "  inflating: data/train/100080/image/1-034.png  \n",
            "  inflating: data/train/100080/image/1-035.png  \n",
            "  inflating: data/train/100080/image/1-036.png  \n",
            "  inflating: data/train/100080/image/1-037.png  \n",
            "  inflating: data/train/100080/image/1-038.png  \n",
            "  inflating: data/train/100080/image/1-039.png  \n",
            "  inflating: data/train/100080/image/1-040.png  \n",
            "  inflating: data/train/100080/image/1-041.png  \n",
            "  inflating: data/train/100080/image/1-042.png  \n",
            "  inflating: data/train/100080/image/1-043.png  \n",
            "  inflating: data/train/100080/image/1-044.png  \n",
            "  inflating: data/train/100080/image/1-045.png  \n",
            "  inflating: data/train/100080/image/1-046.png  \n",
            "  inflating: data/train/100080/image/1-047.png  \n",
            "  inflating: data/train/100080/image/1-048.png  \n",
            "  inflating: data/train/100080/image/1-049.png  \n",
            "  inflating: data/train/100080/image/1-050.png  \n",
            "  inflating: data/train/100080/image/1-051.png  \n",
            "  inflating: data/train/100080/image/1-052.png  \n",
            "  inflating: data/train/100080/image/1-053.png  \n",
            "  inflating: data/train/100080/image/1-054.png  \n",
            "  inflating: data/train/100080/image/1-055.png  \n",
            "  inflating: data/train/100080/image/1-056.png  \n",
            "  inflating: data/train/100080/image/1-057.png  \n",
            "  inflating: data/train/100080/image/1-058.png  \n",
            "  inflating: data/train/100080/image/1-059.png  \n",
            "  inflating: data/train/100080/image/1-060.png  \n",
            "  inflating: data/train/100080/image/1-061.png  \n",
            "  inflating: data/train/100080/image/1-062.png  \n",
            "  inflating: data/train/100080/image/1-063.png  \n",
            "  inflating: data/train/100080/image/1-064.png  \n",
            "  inflating: data/train/100080/image/1-065.png  \n",
            "  inflating: data/train/100080/image/1-066.png  \n",
            "  inflating: data/train/100080/image/1-067.png  \n",
            "  inflating: data/train/100080/image/1-068.png  \n",
            "  inflating: data/train/100080/image/1-069.png  \n",
            "  inflating: data/train/100080/image/1-070.png  \n",
            "  inflating: data/train/100080/image/1-071.png  \n",
            "  inflating: data/train/100080/image/1-072.png  \n",
            "  inflating: data/train/100080/image/1-073.png  \n",
            "  inflating: data/train/100080/image/1-074.png  \n",
            "  inflating: data/train/100080/image/1-075.png  \n",
            "  inflating: data/train/100080/image/1-076.png  \n",
            "  inflating: data/train/100080/image/1-077.png  \n",
            "  inflating: data/train/100080/image/1-078.png  \n",
            "  inflating: data/train/100080/image/1-079.png  \n",
            "  inflating: data/train/100080/image/1-080.png  \n",
            "  inflating: data/train/100080/image/1-081.png  \n",
            "  inflating: data/train/100080/image/1-082.png  \n",
            "  inflating: data/train/100080/image/1-083.png  \n",
            "  inflating: data/train/100080/image/1-084.png  \n",
            "  inflating: data/train/100080/image/1-085.png  \n",
            "  inflating: data/train/100080/image/1-086.png  \n",
            "  inflating: data/train/100080/image/1-087.png  \n",
            "  inflating: data/train/100080/image/1-088.png  \n",
            "  inflating: data/train/100080/image/1-089.png  \n",
            "  inflating: data/train/100080/image/1-090.png  \n",
            "  inflating: data/train/100080/image/1-091.png  \n",
            "  inflating: data/train/100080/image/1-092.png  \n",
            "  inflating: data/train/100080/image/1-093.png  \n",
            "  inflating: data/train/100080/image/1-094.png  \n",
            "  inflating: data/train/100080/image/1-095.png  \n",
            "  inflating: data/train/100080/image/1-096.png  \n",
            "  inflating: data/train/100080/image/1-097.png  \n",
            "  inflating: data/train/100080/image/1-098.png  \n",
            "  inflating: data/train/100080/image/1-099.png  \n",
            "  inflating: data/train/100080/image/1-100.png  \n",
            "  inflating: data/train/100080/image/1-101.png  \n",
            "  inflating: data/train/100080/image/1-102.png  \n",
            "  inflating: data/train/100080/image/1-103.png  \n",
            "  inflating: data/train/100080/image/1-104.png  \n",
            "  inflating: data/train/100080/image/1-105.png  \n",
            "  inflating: data/train/100080/image/1-106.png  \n",
            "  inflating: data/train/100080/image/1-107.png  \n",
            "  inflating: data/train/100080/image/1-108.png  \n",
            "  inflating: data/train/100080/image/1-109.png  \n",
            "  inflating: data/train/100080/image/1-110.png  \n",
            "  inflating: data/train/100080/image/1-111.png  \n",
            "  inflating: data/train/100080/image/1-112.png  \n",
            "  inflating: data/train/100080/image/1-113.png  \n",
            "  inflating: data/train/100080/image/1-114.png  \n",
            "  inflating: data/train/100080/image/1-115.png  \n",
            "  inflating: data/train/100080/image/1-116.png  \n",
            "  inflating: data/train/100080/image/1-117.png  \n",
            "  inflating: data/train/100080/image/1-118.png  \n",
            "  inflating: data/train/100080/image/1-119.png  \n",
            "  inflating: data/train/100080/image/1-120.png  \n",
            "  inflating: data/train/100080/image/1-121.png  \n",
            "  inflating: data/train/100080/image/1-122.png  \n",
            "  inflating: data/train/100080/image/1-123.png  \n",
            "  inflating: data/train/100080/image/1-124.png  \n",
            "  inflating: data/train/100080/image/1-125.png  \n",
            "  inflating: data/train/100080/image/1-126.png  \n",
            "  inflating: data/train/100080/image/1-127.png  \n",
            "  inflating: data/train/100080/image/1-128.png  \n",
            "  inflating: data/train/100080/image/1-129.png  \n",
            "  inflating: data/train/100080/image/1-130.png  \n",
            "  inflating: data/train/100080/image/1-131.png  \n",
            "  inflating: data/train/100080/image/1-132.png  \n",
            "  inflating: data/train/100080/image/1-133.png  \n",
            "  inflating: data/train/100080/image/1-134.png  \n",
            "  inflating: data/train/100080/image/1-135.png  \n",
            "  inflating: data/train/100080/image/1-136.png  \n",
            "  inflating: data/train/100080/image/1-137.png  \n",
            "  inflating: data/train/100080/image/1-138.png  \n",
            "  inflating: data/train/100080/image/1-139.png  \n",
            "  inflating: data/train/100080/image/1-140.png  \n",
            "  inflating: data/train/100080/image/1-141.png  \n",
            "  inflating: data/train/100080/image/1-142.png  \n",
            "  inflating: data/train/100080/mask/1-001.png  \n",
            "  inflating: data/train/100080/mask/1-002.png  \n",
            "  inflating: data/train/100080/mask/1-003.png  \n",
            "  inflating: data/train/100080/mask/1-004.png  \n",
            "  inflating: data/train/100080/mask/1-005.png  \n",
            "  inflating: data/train/100080/mask/1-006.png  \n",
            "  inflating: data/train/100080/mask/1-007.png  \n",
            "  inflating: data/train/100080/mask/1-008.png  \n",
            "  inflating: data/train/100080/mask/1-009.png  \n",
            "  inflating: data/train/100080/mask/1-010.png  \n",
            "  inflating: data/train/100080/mask/1-011.png  \n",
            "  inflating: data/train/100080/mask/1-012.png  \n",
            "  inflating: data/train/100080/mask/1-013.png  \n",
            "  inflating: data/train/100080/mask/1-014.png  \n",
            "  inflating: data/train/100080/mask/1-015.png  \n",
            "  inflating: data/train/100080/mask/1-016.png  \n",
            "  inflating: data/train/100080/mask/1-017.png  \n",
            "  inflating: data/train/100080/mask/1-018.png  \n",
            "  inflating: data/train/100080/mask/1-019.png  \n",
            "  inflating: data/train/100080/mask/1-020.png  \n",
            "  inflating: data/train/100080/mask/1-021.png  \n",
            "  inflating: data/train/100080/mask/1-022.png  \n",
            "  inflating: data/train/100080/mask/1-023.png  \n",
            "  inflating: data/train/100080/mask/1-024.png  \n",
            "  inflating: data/train/100080/mask/1-025.png  \n",
            "  inflating: data/train/100080/mask/1-026.png  \n",
            "  inflating: data/train/100080/mask/1-027.png  \n",
            "  inflating: data/train/100080/mask/1-028.png  \n",
            "  inflating: data/train/100080/mask/1-029.png  \n",
            "  inflating: data/train/100080/mask/1-030.png  \n",
            "  inflating: data/train/100080/mask/1-031.png  \n",
            "  inflating: data/train/100080/mask/1-032.png  \n",
            "  inflating: data/train/100080/mask/1-033.png  \n",
            "  inflating: data/train/100080/mask/1-034.png  \n",
            "  inflating: data/train/100080/mask/1-035.png  \n",
            "  inflating: data/train/100080/mask/1-036.png  \n",
            "  inflating: data/train/100080/mask/1-037.png  \n",
            "  inflating: data/train/100080/mask/1-038.png  \n",
            "  inflating: data/train/100080/mask/1-039.png  \n",
            "  inflating: data/train/100080/mask/1-040.png  \n",
            "  inflating: data/train/100080/mask/1-041.png  \n",
            "  inflating: data/train/100080/mask/1-042.png  \n",
            "  inflating: data/train/100080/mask/1-043.png  \n",
            "  inflating: data/train/100080/mask/1-044.png  \n",
            "  inflating: data/train/100080/mask/1-045.png  \n",
            "  inflating: data/train/100080/mask/1-046.png  \n",
            "  inflating: data/train/100080/mask/1-047.png  \n",
            "  inflating: data/train/100080/mask/1-048.png  \n",
            "  inflating: data/train/100080/mask/1-049.png  \n",
            "  inflating: data/train/100080/mask/1-050.png  \n",
            "  inflating: data/train/100080/mask/1-051.png  \n",
            "  inflating: data/train/100080/mask/1-052.png  \n",
            "  inflating: data/train/100080/mask/1-053.png  \n",
            "  inflating: data/train/100080/mask/1-054.png  \n",
            "  inflating: data/train/100080/mask/1-055.png  \n",
            "  inflating: data/train/100080/mask/1-056.png  \n",
            "  inflating: data/train/100080/mask/1-057.png  \n",
            "  inflating: data/train/100080/mask/1-058.png  \n",
            "  inflating: data/train/100080/mask/1-059.png  \n",
            "  inflating: data/train/100080/mask/1-060.png  \n",
            "  inflating: data/train/100080/mask/1-061.png  \n",
            "  inflating: data/train/100080/mask/1-062.png  \n",
            "  inflating: data/train/100080/mask/1-063.png  \n",
            "  inflating: data/train/100080/mask/1-064.png  \n",
            "  inflating: data/train/100080/mask/1-065.png  \n",
            "  inflating: data/train/100080/mask/1-066.png  \n",
            "  inflating: data/train/100080/mask/1-067.png  \n",
            "  inflating: data/train/100080/mask/1-068.png  \n",
            "  inflating: data/train/100080/mask/1-069.png  \n",
            "  inflating: data/train/100080/mask/1-070.png  \n",
            "  inflating: data/train/100080/mask/1-071.png  \n",
            "  inflating: data/train/100080/mask/1-072.png  \n",
            "  inflating: data/train/100080/mask/1-073.png  \n",
            "  inflating: data/train/100080/mask/1-074.png  \n",
            "  inflating: data/train/100080/mask/1-075.png  \n",
            "  inflating: data/train/100080/mask/1-076.png  \n",
            "  inflating: data/train/100080/mask/1-077.png  \n",
            "  inflating: data/train/100080/mask/1-078.png  \n",
            "  inflating: data/train/100080/mask/1-079.png  \n",
            "  inflating: data/train/100080/mask/1-080.png  \n",
            "  inflating: data/train/100080/mask/1-081.png  \n",
            "  inflating: data/train/100080/mask/1-082.png  \n",
            "  inflating: data/train/100080/mask/1-083.png  \n",
            "  inflating: data/train/100080/mask/1-084.png  \n",
            "  inflating: data/train/100080/mask/1-085.png  \n",
            "  inflating: data/train/100080/mask/1-086.png  \n",
            "  inflating: data/train/100080/mask/1-087.png  \n",
            "  inflating: data/train/100080/mask/1-088.png  \n",
            "  inflating: data/train/100080/mask/1-089.png  \n",
            "  inflating: data/train/100080/mask/1-090.png  \n",
            "  inflating: data/train/100080/mask/1-091.png  \n",
            "  inflating: data/train/100080/mask/1-092.png  \n",
            "  inflating: data/train/100080/mask/1-093.png  \n",
            "  inflating: data/train/100080/mask/1-094.png  \n",
            "  inflating: data/train/100080/mask/1-095.png  \n",
            "  inflating: data/train/100080/mask/1-096.png  \n",
            "  inflating: data/train/100080/mask/1-097.png  \n",
            "  inflating: data/train/100080/mask/1-098.png  \n",
            "  inflating: data/train/100080/mask/1-099.png  \n",
            "  inflating: data/train/100080/mask/1-100.png  \n",
            "  inflating: data/train/100080/mask/1-101.png  \n",
            "  inflating: data/train/100080/mask/1-102.png  \n",
            "  inflating: data/train/100080/mask/1-103.png  \n",
            "  inflating: data/train/100080/mask/1-104.png  \n",
            "  inflating: data/train/100080/mask/1-105.png  \n",
            "  inflating: data/train/100080/mask/1-106.png  \n",
            "  inflating: data/train/100080/mask/1-107.png  \n",
            "  inflating: data/train/100080/mask/1-108.png  \n",
            "  inflating: data/train/100080/mask/1-109.png  \n",
            "  inflating: data/train/100080/mask/1-110.png  \n",
            "  inflating: data/train/100080/mask/1-111.png  \n",
            "  inflating: data/train/100080/mask/1-112.png  \n",
            "  inflating: data/train/100080/mask/1-113.png  \n",
            "  inflating: data/train/100080/mask/1-114.png  \n",
            "  inflating: data/train/100080/mask/1-115.png  \n",
            "  inflating: data/train/100080/mask/1-116.png  \n",
            "  inflating: data/train/100080/mask/1-117.png  \n",
            "  inflating: data/train/100080/mask/1-118.png  \n",
            "  inflating: data/train/100080/mask/1-119.png  \n",
            "  inflating: data/train/100080/mask/1-120.png  \n",
            "  inflating: data/train/100080/mask/1-121.png  \n",
            "  inflating: data/train/100080/mask/1-122.png  \n",
            "  inflating: data/train/100080/mask/1-123.png  \n",
            "  inflating: data/train/100080/mask/1-124.png  \n",
            "  inflating: data/train/100080/mask/1-125.png  \n",
            "  inflating: data/train/100080/mask/1-126.png  \n",
            "  inflating: data/train/100080/mask/1-127.png  \n",
            "  inflating: data/train/100080/mask/1-128.png  \n",
            "  inflating: data/train/100080/mask/1-129.png  \n",
            "  inflating: data/train/100080/mask/1-130.png  \n",
            "  inflating: data/train/100080/mask/1-131.png  \n",
            "  inflating: data/train/100080/mask/1-132.png  \n",
            "  inflating: data/train/100080/mask/1-133.png  \n",
            "  inflating: data/train/100080/mask/1-134.png  \n",
            "  inflating: data/train/100080/mask/1-135.png  \n",
            "  inflating: data/train/100080/mask/1-136.png  \n",
            "  inflating: data/train/100080/mask/1-137.png  \n",
            "  inflating: data/train/100080/mask/1-138.png  \n",
            "  inflating: data/train/100080/mask/1-139.png  \n",
            "  inflating: data/train/100080/mask/1-140.png  \n",
            "  inflating: data/train/100080/mask/1-141.png  \n",
            "  inflating: data/train/100080/mask/1-142.png  \n",
            "  inflating: data/train/100082/image/1-001.png  \n",
            "  inflating: data/train/100082/image/1-002.png  \n",
            "  inflating: data/train/100082/image/1-003.png  \n",
            "  inflating: data/train/100082/image/1-004.png  \n",
            "  inflating: data/train/100082/image/1-005.png  \n",
            "  inflating: data/train/100082/image/1-006.png  \n",
            "  inflating: data/train/100082/image/1-007.png  \n",
            "  inflating: data/train/100082/image/1-008.png  \n",
            "  inflating: data/train/100082/image/1-009.png  \n",
            "  inflating: data/train/100082/image/1-010.png  \n",
            "  inflating: data/train/100082/image/1-011.png  \n",
            "  inflating: data/train/100082/image/1-012.png  \n",
            "  inflating: data/train/100082/image/1-013.png  \n",
            "  inflating: data/train/100082/image/1-014.png  \n",
            "  inflating: data/train/100082/image/1-015.png  \n",
            "  inflating: data/train/100082/image/1-016.png  \n",
            "  inflating: data/train/100082/image/1-017.png  \n",
            "  inflating: data/train/100082/image/1-018.png  \n",
            "  inflating: data/train/100082/image/1-019.png  \n",
            "  inflating: data/train/100082/image/1-020.png  \n",
            "  inflating: data/train/100082/image/1-021.png  \n",
            "  inflating: data/train/100082/image/1-022.png  \n",
            "  inflating: data/train/100082/image/1-023.png  \n",
            "  inflating: data/train/100082/image/1-024.png  \n",
            "  inflating: data/train/100082/image/1-025.png  \n",
            "  inflating: data/train/100082/image/1-026.png  \n",
            "  inflating: data/train/100082/image/1-027.png  \n",
            "  inflating: data/train/100082/image/1-028.png  \n",
            "  inflating: data/train/100082/image/1-029.png  \n",
            "  inflating: data/train/100082/image/1-030.png  \n",
            "  inflating: data/train/100082/image/1-031.png  \n",
            "  inflating: data/train/100082/image/1-032.png  \n",
            "  inflating: data/train/100082/image/1-033.png  \n",
            "  inflating: data/train/100082/image/1-034.png  \n",
            "  inflating: data/train/100082/image/1-035.png  \n",
            "  inflating: data/train/100082/image/1-036.png  \n",
            "  inflating: data/train/100082/image/1-037.png  \n",
            "  inflating: data/train/100082/image/1-038.png  \n",
            "  inflating: data/train/100082/image/1-039.png  \n",
            "  inflating: data/train/100082/image/1-040.png  \n",
            "  inflating: data/train/100082/image/1-041.png  \n",
            "  inflating: data/train/100082/image/1-042.png  \n",
            "  inflating: data/train/100082/image/1-043.png  \n",
            "  inflating: data/train/100082/image/1-044.png  \n",
            "  inflating: data/train/100082/image/1-045.png  \n",
            "  inflating: data/train/100082/image/1-046.png  \n",
            "  inflating: data/train/100082/image/1-047.png  \n",
            "  inflating: data/train/100082/image/1-048.png  \n",
            "  inflating: data/train/100082/image/1-049.png  \n",
            "  inflating: data/train/100082/image/1-050.png  \n",
            "  inflating: data/train/100082/image/1-051.png  \n",
            "  inflating: data/train/100082/image/1-052.png  \n",
            "  inflating: data/train/100082/image/1-053.png  \n",
            "  inflating: data/train/100082/image/1-054.png  \n",
            "  inflating: data/train/100082/image/1-055.png  \n",
            "  inflating: data/train/100082/image/1-056.png  \n",
            "  inflating: data/train/100082/image/1-057.png  \n",
            "  inflating: data/train/100082/image/1-058.png  \n",
            "  inflating: data/train/100082/image/1-059.png  \n",
            "  inflating: data/train/100082/image/1-060.png  \n",
            "  inflating: data/train/100082/image/1-061.png  \n",
            "  inflating: data/train/100082/image/1-062.png  \n",
            "  inflating: data/train/100082/image/1-063.png  \n",
            "  inflating: data/train/100082/image/1-064.png  \n",
            "  inflating: data/train/100082/image/1-065.png  \n",
            "  inflating: data/train/100082/image/1-066.png  \n",
            "  inflating: data/train/100082/image/1-067.png  \n",
            "  inflating: data/train/100082/image/1-068.png  \n",
            "  inflating: data/train/100082/image/1-069.png  \n",
            "  inflating: data/train/100082/image/1-070.png  \n",
            "  inflating: data/train/100082/image/1-071.png  \n",
            "  inflating: data/train/100082/image/1-072.png  \n",
            "  inflating: data/train/100082/image/1-073.png  \n",
            "  inflating: data/train/100082/image/1-074.png  \n",
            "  inflating: data/train/100082/image/1-075.png  \n",
            "  inflating: data/train/100082/image/1-076.png  \n",
            "  inflating: data/train/100082/image/1-077.png  \n",
            "  inflating: data/train/100082/image/1-078.png  \n",
            "  inflating: data/train/100082/image/1-079.png  \n",
            "  inflating: data/train/100082/image/1-080.png  \n",
            "  inflating: data/train/100082/image/1-081.png  \n",
            "  inflating: data/train/100082/image/1-082.png  \n",
            "  inflating: data/train/100082/image/1-083.png  \n",
            "  inflating: data/train/100082/image/1-084.png  \n",
            "  inflating: data/train/100082/image/1-085.png  \n",
            "  inflating: data/train/100082/image/1-086.png  \n",
            "  inflating: data/train/100082/image/1-087.png  \n",
            "  inflating: data/train/100082/image/1-088.png  \n",
            "  inflating: data/train/100082/image/1-089.png  \n",
            "  inflating: data/train/100082/image/1-090.png  \n",
            "  inflating: data/train/100082/image/1-091.png  \n",
            "  inflating: data/train/100082/image/1-092.png  \n",
            "  inflating: data/train/100082/image/1-093.png  \n",
            "  inflating: data/train/100082/image/1-094.png  \n",
            "  inflating: data/train/100082/image/1-095.png  \n",
            "  inflating: data/train/100082/image/1-096.png  \n",
            "  inflating: data/train/100082/image/1-097.png  \n",
            "  inflating: data/train/100082/image/1-098.png  \n",
            "  inflating: data/train/100082/image/1-099.png  \n",
            "  inflating: data/train/100082/image/1-100.png  \n",
            "  inflating: data/train/100082/image/1-101.png  \n",
            "  inflating: data/train/100082/image/1-102.png  \n",
            "  inflating: data/train/100082/image/1-103.png  \n",
            "  inflating: data/train/100082/image/1-104.png  \n",
            "  inflating: data/train/100082/image/1-105.png  \n",
            "  inflating: data/train/100082/image/1-106.png  \n",
            "  inflating: data/train/100082/image/1-107.png  \n",
            "  inflating: data/train/100082/image/1-108.png  \n",
            "  inflating: data/train/100082/image/1-109.png  \n",
            "  inflating: data/train/100082/image/1-110.png  \n",
            "  inflating: data/train/100082/image/1-111.png  \n",
            "  inflating: data/train/100082/image/1-112.png  \n",
            "  inflating: data/train/100082/image/1-113.png  \n",
            "  inflating: data/train/100082/image/1-114.png  \n",
            "  inflating: data/train/100082/image/1-115.png  \n",
            "  inflating: data/train/100082/image/1-116.png  \n",
            "  inflating: data/train/100082/image/1-117.png  \n",
            "  inflating: data/train/100082/image/1-118.png  \n",
            "  inflating: data/train/100082/image/1-119.png  \n",
            "  inflating: data/train/100082/image/1-120.png  \n",
            "  inflating: data/train/100082/image/1-121.png  \n",
            "  inflating: data/train/100082/image/1-122.png  \n",
            "  inflating: data/train/100082/image/1-123.png  \n",
            "  inflating: data/train/100082/image/1-124.png  \n",
            "  inflating: data/train/100082/mask/1-001.png  \n",
            "  inflating: data/train/100082/mask/1-002.png  \n",
            "  inflating: data/train/100082/mask/1-003.png  \n",
            "  inflating: data/train/100082/mask/1-004.png  \n",
            "  inflating: data/train/100082/mask/1-005.png  \n",
            "  inflating: data/train/100082/mask/1-006.png  \n",
            "  inflating: data/train/100082/mask/1-007.png  \n",
            "  inflating: data/train/100082/mask/1-008.png  \n",
            "  inflating: data/train/100082/mask/1-009.png  \n",
            "  inflating: data/train/100082/mask/1-010.png  \n",
            "  inflating: data/train/100082/mask/1-011.png  \n",
            "  inflating: data/train/100082/mask/1-012.png  \n",
            "  inflating: data/train/100082/mask/1-013.png  \n",
            "  inflating: data/train/100082/mask/1-014.png  \n",
            "  inflating: data/train/100082/mask/1-015.png  \n",
            "  inflating: data/train/100082/mask/1-016.png  \n",
            "  inflating: data/train/100082/mask/1-017.png  \n",
            "  inflating: data/train/100082/mask/1-018.png  \n",
            "  inflating: data/train/100082/mask/1-019.png  \n",
            "  inflating: data/train/100082/mask/1-020.png  \n",
            "  inflating: data/train/100082/mask/1-021.png  \n",
            "  inflating: data/train/100082/mask/1-022.png  \n",
            "  inflating: data/train/100082/mask/1-023.png  \n",
            "  inflating: data/train/100082/mask/1-024.png  \n",
            "  inflating: data/train/100082/mask/1-025.png  \n",
            "  inflating: data/train/100082/mask/1-026.png  \n",
            "  inflating: data/train/100082/mask/1-027.png  \n",
            "  inflating: data/train/100082/mask/1-028.png  \n",
            "  inflating: data/train/100082/mask/1-029.png  \n",
            "  inflating: data/train/100082/mask/1-030.png  \n",
            "  inflating: data/train/100082/mask/1-031.png  \n",
            "  inflating: data/train/100082/mask/1-032.png  \n",
            "  inflating: data/train/100082/mask/1-033.png  \n",
            "  inflating: data/train/100082/mask/1-034.png  \n",
            "  inflating: data/train/100082/mask/1-035.png  \n",
            "  inflating: data/train/100082/mask/1-036.png  \n",
            "  inflating: data/train/100082/mask/1-037.png  \n",
            "  inflating: data/train/100082/mask/1-038.png  \n",
            "  inflating: data/train/100082/mask/1-039.png  \n",
            "  inflating: data/train/100082/mask/1-040.png  \n",
            "  inflating: data/train/100082/mask/1-041.png  \n",
            "  inflating: data/train/100082/mask/1-042.png  \n",
            "  inflating: data/train/100082/mask/1-043.png  \n",
            "  inflating: data/train/100082/mask/1-044.png  \n",
            "  inflating: data/train/100082/mask/1-045.png  \n",
            "  inflating: data/train/100082/mask/1-046.png  \n",
            "  inflating: data/train/100082/mask/1-047.png  \n",
            "  inflating: data/train/100082/mask/1-048.png  \n",
            "  inflating: data/train/100082/mask/1-049.png  \n",
            "  inflating: data/train/100082/mask/1-050.png  \n",
            "  inflating: data/train/100082/mask/1-051.png  \n",
            "  inflating: data/train/100082/mask/1-052.png  \n",
            "  inflating: data/train/100082/mask/1-053.png  \n",
            "  inflating: data/train/100082/mask/1-054.png  \n",
            "  inflating: data/train/100082/mask/1-055.png  \n",
            "  inflating: data/train/100082/mask/1-056.png  \n",
            "  inflating: data/train/100082/mask/1-057.png  \n",
            "  inflating: data/train/100082/mask/1-058.png  \n",
            "  inflating: data/train/100082/mask/1-059.png  \n",
            "  inflating: data/train/100082/mask/1-060.png  \n",
            "  inflating: data/train/100082/mask/1-061.png  \n",
            "  inflating: data/train/100082/mask/1-062.png  \n",
            "  inflating: data/train/100082/mask/1-063.png  \n",
            "  inflating: data/train/100082/mask/1-064.png  \n",
            "  inflating: data/train/100082/mask/1-065.png  \n",
            "  inflating: data/train/100082/mask/1-066.png  \n",
            "  inflating: data/train/100082/mask/1-067.png  \n",
            "  inflating: data/train/100082/mask/1-068.png  \n",
            "  inflating: data/train/100082/mask/1-069.png  \n",
            "  inflating: data/train/100082/mask/1-070.png  \n",
            "  inflating: data/train/100082/mask/1-071.png  \n",
            "  inflating: data/train/100082/mask/1-072.png  \n",
            "  inflating: data/train/100082/mask/1-073.png  \n",
            "  inflating: data/train/100082/mask/1-074.png  \n",
            "  inflating: data/train/100082/mask/1-075.png  \n",
            "  inflating: data/train/100082/mask/1-076.png  \n",
            "  inflating: data/train/100082/mask/1-077.png  \n",
            "  inflating: data/train/100082/mask/1-078.png  \n",
            "  inflating: data/train/100082/mask/1-079.png  \n",
            "  inflating: data/train/100082/mask/1-080.png  \n",
            "  inflating: data/train/100082/mask/1-081.png  \n",
            "  inflating: data/train/100082/mask/1-082.png  \n",
            "  inflating: data/train/100082/mask/1-083.png  \n",
            "  inflating: data/train/100082/mask/1-084.png  \n",
            "  inflating: data/train/100082/mask/1-085.png  \n",
            "  inflating: data/train/100082/mask/1-086.png  \n",
            "  inflating: data/train/100082/mask/1-087.png  \n",
            "  inflating: data/train/100082/mask/1-088.png  \n",
            "  inflating: data/train/100082/mask/1-089.png  \n",
            "  inflating: data/train/100082/mask/1-090.png  \n",
            "  inflating: data/train/100082/mask/1-091.png  \n",
            "  inflating: data/train/100082/mask/1-092.png  \n",
            "  inflating: data/train/100082/mask/1-093.png  \n",
            "  inflating: data/train/100082/mask/1-094.png  \n",
            "  inflating: data/train/100082/mask/1-095.png  \n",
            "  inflating: data/train/100082/mask/1-096.png  \n",
            "  inflating: data/train/100082/mask/1-097.png  \n",
            "  inflating: data/train/100082/mask/1-098.png  \n",
            "  inflating: data/train/100082/mask/1-099.png  \n",
            "  inflating: data/train/100082/mask/1-100.png  \n",
            "  inflating: data/train/100082/mask/1-101.png  \n",
            "  inflating: data/train/100082/mask/1-102.png  \n",
            "  inflating: data/train/100082/mask/1-103.png  \n",
            "  inflating: data/train/100082/mask/1-104.png  \n",
            "  inflating: data/train/100082/mask/1-105.png  \n",
            "  inflating: data/train/100082/mask/1-106.png  \n",
            "  inflating: data/train/100082/mask/1-107.png  \n",
            "  inflating: data/train/100082/mask/1-108.png  \n",
            "  inflating: data/train/100082/mask/1-109.png  \n",
            "  inflating: data/train/100082/mask/1-110.png  \n",
            "  inflating: data/train/100082/mask/1-111.png  \n",
            "  inflating: data/train/100082/mask/1-112.png  \n",
            "  inflating: data/train/100082/mask/1-113.png  \n",
            "  inflating: data/train/100082/mask/1-114.png  \n",
            "  inflating: data/train/100082/mask/1-115.png  \n",
            "  inflating: data/train/100082/mask/1-116.png  \n",
            "  inflating: data/train/100082/mask/1-117.png  \n",
            "  inflating: data/train/100082/mask/1-118.png  \n",
            "  inflating: data/train/100082/mask/1-119.png  \n",
            "  inflating: data/train/100082/mask/1-120.png  \n",
            "  inflating: data/train/100082/mask/1-121.png  \n",
            "  inflating: data/train/100082/mask/1-122.png  \n",
            "  inflating: data/train/100082/mask/1-123.png  \n",
            "  inflating: data/train/100082/mask/1-124.png  \n",
            "  inflating: data/train/100089/image/1-001.png  \n",
            "  inflating: data/train/100089/image/1-002.png  \n",
            "  inflating: data/train/100089/image/1-003.png  \n",
            "  inflating: data/train/100089/image/1-004.png  \n",
            "  inflating: data/train/100089/image/1-005.png  \n",
            "  inflating: data/train/100089/image/1-006.png  \n",
            "  inflating: data/train/100089/image/1-007.png  \n",
            "  inflating: data/train/100089/image/1-008.png  \n",
            "  inflating: data/train/100089/image/1-009.png  \n",
            "  inflating: data/train/100089/image/1-010.png  \n",
            "  inflating: data/train/100089/image/1-011.png  \n",
            "  inflating: data/train/100089/image/1-012.png  \n",
            "  inflating: data/train/100089/image/1-013.png  \n",
            "  inflating: data/train/100089/image/1-014.png  \n",
            "  inflating: data/train/100089/image/1-015.png  \n",
            "  inflating: data/train/100089/image/1-016.png  \n",
            "  inflating: data/train/100089/image/1-017.png  \n",
            "  inflating: data/train/100089/image/1-018.png  \n",
            "  inflating: data/train/100089/image/1-019.png  \n",
            "  inflating: data/train/100089/image/1-020.png  \n",
            "  inflating: data/train/100089/image/1-021.png  \n",
            "  inflating: data/train/100089/image/1-022.png  \n",
            "  inflating: data/train/100089/image/1-023.png  \n",
            "  inflating: data/train/100089/image/1-024.png  \n",
            "  inflating: data/train/100089/image/1-025.png  \n",
            "  inflating: data/train/100089/image/1-026.png  \n",
            "  inflating: data/train/100089/image/1-027.png  \n",
            "  inflating: data/train/100089/image/1-028.png  \n",
            "  inflating: data/train/100089/image/1-029.png  \n",
            "  inflating: data/train/100089/image/1-030.png  \n",
            "  inflating: data/train/100089/image/1-031.png  \n",
            "  inflating: data/train/100089/image/1-032.png  \n",
            "  inflating: data/train/100089/image/1-033.png  \n",
            "  inflating: data/train/100089/image/1-034.png  \n",
            "  inflating: data/train/100089/image/1-035.png  \n",
            "  inflating: data/train/100089/image/1-036.png  \n",
            "  inflating: data/train/100089/image/1-037.png  \n",
            "  inflating: data/train/100089/image/1-038.png  \n",
            "  inflating: data/train/100089/image/1-039.png  \n",
            "  inflating: data/train/100089/image/1-040.png  \n",
            "  inflating: data/train/100089/image/1-041.png  \n",
            "  inflating: data/train/100089/image/1-042.png  \n",
            "  inflating: data/train/100089/image/1-043.png  \n",
            "  inflating: data/train/100089/image/1-044.png  \n",
            "  inflating: data/train/100089/image/1-045.png  \n",
            "  inflating: data/train/100089/image/1-046.png  \n",
            "  inflating: data/train/100089/image/1-047.png  \n",
            "  inflating: data/train/100089/image/1-048.png  \n",
            "  inflating: data/train/100089/image/1-049.png  \n",
            "  inflating: data/train/100089/image/1-050.png  \n",
            "  inflating: data/train/100089/image/1-051.png  \n",
            "  inflating: data/train/100089/image/1-052.png  \n",
            "  inflating: data/train/100089/image/1-053.png  \n",
            "  inflating: data/train/100089/image/1-054.png  \n",
            "  inflating: data/train/100089/image/1-055.png  \n",
            "  inflating: data/train/100089/image/1-056.png  \n",
            "  inflating: data/train/100089/image/1-057.png  \n",
            "  inflating: data/train/100089/image/1-058.png  \n",
            "  inflating: data/train/100089/image/1-059.png  \n",
            "  inflating: data/train/100089/image/1-060.png  \n",
            "  inflating: data/train/100089/image/1-061.png  \n",
            "  inflating: data/train/100089/image/1-062.png  \n",
            "  inflating: data/train/100089/image/1-063.png  \n",
            "  inflating: data/train/100089/image/1-064.png  \n",
            "  inflating: data/train/100089/image/1-065.png  \n",
            "  inflating: data/train/100089/image/1-066.png  \n",
            "  inflating: data/train/100089/image/1-067.png  \n",
            "  inflating: data/train/100089/image/1-068.png  \n",
            "  inflating: data/train/100089/image/1-069.png  \n",
            "  inflating: data/train/100089/image/1-070.png  \n",
            "  inflating: data/train/100089/image/1-071.png  \n",
            "  inflating: data/train/100089/image/1-072.png  \n",
            "  inflating: data/train/100089/image/1-073.png  \n",
            "  inflating: data/train/100089/image/1-074.png  \n",
            "  inflating: data/train/100089/image/1-075.png  \n",
            "  inflating: data/train/100089/image/1-076.png  \n",
            "  inflating: data/train/100089/image/1-077.png  \n",
            "  inflating: data/train/100089/image/1-078.png  \n",
            "  inflating: data/train/100089/image/1-079.png  \n",
            "  inflating: data/train/100089/image/1-080.png  \n",
            "  inflating: data/train/100089/image/1-081.png  \n",
            "  inflating: data/train/100089/image/1-082.png  \n",
            "  inflating: data/train/100089/image/1-083.png  \n",
            "  inflating: data/train/100089/image/1-084.png  \n",
            "  inflating: data/train/100089/image/1-085.png  \n",
            "  inflating: data/train/100089/image/1-086.png  \n",
            "  inflating: data/train/100089/image/1-087.png  \n",
            "  inflating: data/train/100089/image/1-088.png  \n",
            "  inflating: data/train/100089/image/1-089.png  \n",
            "  inflating: data/train/100089/image/1-090.png  \n",
            "  inflating: data/train/100089/image/1-091.png  \n",
            "  inflating: data/train/100089/image/1-092.png  \n",
            "  inflating: data/train/100089/image/1-093.png  \n",
            "  inflating: data/train/100089/image/1-094.png  \n",
            "  inflating: data/train/100089/image/1-095.png  \n",
            "  inflating: data/train/100089/image/1-096.png  \n",
            "  inflating: data/train/100089/image/1-097.png  \n",
            "  inflating: data/train/100089/image/1-098.png  \n",
            "  inflating: data/train/100089/image/1-099.png  \n",
            "  inflating: data/train/100089/image/1-100.png  \n",
            "  inflating: data/train/100089/image/1-101.png  \n",
            "  inflating: data/train/100089/image/1-102.png  \n",
            "  inflating: data/train/100089/image/1-103.png  \n",
            "  inflating: data/train/100089/image/1-104.png  \n",
            "  inflating: data/train/100089/image/1-105.png  \n",
            "  inflating: data/train/100089/image/1-106.png  \n",
            "  inflating: data/train/100089/image/1-107.png  \n",
            "  inflating: data/train/100089/image/1-108.png  \n",
            "  inflating: data/train/100089/image/1-109.png  \n",
            "  inflating: data/train/100089/image/1-110.png  \n",
            "  inflating: data/train/100089/image/1-111.png  \n",
            "  inflating: data/train/100089/image/1-112.png  \n",
            "  inflating: data/train/100089/image/1-113.png  \n",
            "  inflating: data/train/100089/image/1-114.png  \n",
            "  inflating: data/train/100089/image/1-115.png  \n",
            "  inflating: data/train/100089/image/1-116.png  \n",
            "  inflating: data/train/100089/image/1-117.png  \n",
            "  inflating: data/train/100089/image/1-118.png  \n",
            "  inflating: data/train/100089/image/1-119.png  \n",
            "  inflating: data/train/100089/image/1-120.png  \n",
            "  inflating: data/train/100089/image/1-121.png  \n",
            "  inflating: data/train/100089/image/1-122.png  \n",
            "  inflating: data/train/100089/image/1-123.png  \n",
            "  inflating: data/train/100089/image/1-124.png  \n",
            "  inflating: data/train/100089/image/1-125.png  \n",
            "  inflating: data/train/100089/image/1-126.png  \n",
            "  inflating: data/train/100089/image/1-127.png  \n",
            "  inflating: data/train/100089/image/1-128.png  \n",
            "  inflating: data/train/100089/image/1-129.png  \n",
            "  inflating: data/train/100089/image/1-130.png  \n",
            "  inflating: data/train/100089/image/1-131.png  \n",
            "  inflating: data/train/100089/image/1-132.png  \n",
            "  inflating: data/train/100089/image/1-133.png  \n",
            "  inflating: data/train/100089/image/1-134.png  \n",
            "  inflating: data/train/100089/image/1-135.png  \n",
            "  inflating: data/train/100089/image/1-136.png  \n",
            "  inflating: data/train/100089/image/1-137.png  \n",
            "  inflating: data/train/100089/image/1-138.png  \n",
            "  inflating: data/train/100089/image/1-139.png  \n",
            "  inflating: data/train/100089/image/1-140.png  \n",
            "  inflating: data/train/100089/image/1-141.png  \n",
            "  inflating: data/train/100089/image/1-142.png  \n",
            "  inflating: data/train/100089/image/1-143.png  \n",
            "  inflating: data/train/100089/image/1-144.png  \n",
            "  inflating: data/train/100089/image/1-145.png  \n",
            "  inflating: data/train/100089/image/1-146.png  \n",
            "  inflating: data/train/100089/image/1-147.png  \n",
            "  inflating: data/train/100089/image/1-148.png  \n",
            "  inflating: data/train/100089/image/1-149.png  \n",
            "  inflating: data/train/100089/image/1-150.png  \n",
            "  inflating: data/train/100089/image/1-151.png  \n",
            "  inflating: data/train/100089/image/1-152.png  \n",
            "  inflating: data/train/100089/image/1-153.png  \n",
            "  inflating: data/train/100089/image/1-154.png  \n",
            "  inflating: data/train/100089/image/1-155.png  \n",
            "  inflating: data/train/100089/image/1-156.png  \n",
            "  inflating: data/train/100089/image/1-157.png  \n",
            "  inflating: data/train/100089/image/1-158.png  \n",
            "  inflating: data/train/100089/image/1-159.png  \n",
            "  inflating: data/train/100089/image/1-160.png  \n",
            "  inflating: data/train/100089/image/1-161.png  \n",
            "  inflating: data/train/100089/image/1-162.png  \n",
            "  inflating: data/train/100089/image/1-163.png  \n",
            "  inflating: data/train/100089/image/1-164.png  \n",
            "  inflating: data/train/100089/image/1-165.png  \n",
            "  inflating: data/train/100089/image/1-166.png  \n",
            "  inflating: data/train/100089/image/1-167.png  \n",
            "  inflating: data/train/100089/image/1-168.png  \n",
            "  inflating: data/train/100089/image/1-169.png  \n",
            "  inflating: data/train/100089/image/1-170.png  \n",
            "  inflating: data/train/100089/image/1-171.png  \n",
            "  inflating: data/train/100089/image/1-172.png  \n",
            "  inflating: data/train/100089/image/1-173.png  \n",
            "  inflating: data/train/100089/image/1-174.png  \n",
            "  inflating: data/train/100089/mask/1-001.png  \n",
            "  inflating: data/train/100089/mask/1-002.png  \n",
            "  inflating: data/train/100089/mask/1-003.png  \n",
            "  inflating: data/train/100089/mask/1-004.png  \n",
            "  inflating: data/train/100089/mask/1-005.png  \n",
            "  inflating: data/train/100089/mask/1-006.png  \n",
            "  inflating: data/train/100089/mask/1-007.png  \n",
            "  inflating: data/train/100089/mask/1-008.png  \n",
            "  inflating: data/train/100089/mask/1-009.png  \n",
            "  inflating: data/train/100089/mask/1-010.png  \n",
            "  inflating: data/train/100089/mask/1-011.png  \n",
            "  inflating: data/train/100089/mask/1-012.png  \n",
            "  inflating: data/train/100089/mask/1-013.png  \n",
            "  inflating: data/train/100089/mask/1-014.png  \n",
            "  inflating: data/train/100089/mask/1-015.png  \n",
            "  inflating: data/train/100089/mask/1-016.png  \n",
            "  inflating: data/train/100089/mask/1-017.png  \n",
            "  inflating: data/train/100089/mask/1-018.png  \n",
            "  inflating: data/train/100089/mask/1-019.png  \n",
            "  inflating: data/train/100089/mask/1-020.png  \n",
            "  inflating: data/train/100089/mask/1-021.png  \n",
            "  inflating: data/train/100089/mask/1-022.png  \n",
            "  inflating: data/train/100089/mask/1-023.png  \n",
            "  inflating: data/train/100089/mask/1-024.png  \n",
            "  inflating: data/train/100089/mask/1-025.png  \n",
            "  inflating: data/train/100089/mask/1-026.png  \n",
            "  inflating: data/train/100089/mask/1-027.png  \n",
            "  inflating: data/train/100089/mask/1-028.png  \n",
            "  inflating: data/train/100089/mask/1-029.png  \n",
            "  inflating: data/train/100089/mask/1-030.png  \n",
            "  inflating: data/train/100089/mask/1-031.png  \n",
            "  inflating: data/train/100089/mask/1-032.png  \n",
            "  inflating: data/train/100089/mask/1-033.png  \n",
            "  inflating: data/train/100089/mask/1-034.png  \n",
            "  inflating: data/train/100089/mask/1-035.png  \n",
            "  inflating: data/train/100089/mask/1-036.png  \n",
            "  inflating: data/train/100089/mask/1-037.png  \n",
            "  inflating: data/train/100089/mask/1-038.png  \n",
            "  inflating: data/train/100089/mask/1-039.png  \n",
            "  inflating: data/train/100089/mask/1-040.png  \n",
            "  inflating: data/train/100089/mask/1-041.png  \n",
            "  inflating: data/train/100089/mask/1-042.png  \n",
            "  inflating: data/train/100089/mask/1-043.png  \n",
            "  inflating: data/train/100089/mask/1-044.png  \n",
            "  inflating: data/train/100089/mask/1-045.png  \n",
            "  inflating: data/train/100089/mask/1-046.png  \n",
            "  inflating: data/train/100089/mask/1-047.png  \n",
            "  inflating: data/train/100089/mask/1-048.png  \n",
            "  inflating: data/train/100089/mask/1-049.png  \n",
            "  inflating: data/train/100089/mask/1-050.png  \n",
            "  inflating: data/train/100089/mask/1-051.png  \n",
            "  inflating: data/train/100089/mask/1-052.png  \n",
            "  inflating: data/train/100089/mask/1-053.png  \n",
            "  inflating: data/train/100089/mask/1-054.png  \n",
            "  inflating: data/train/100089/mask/1-055.png  \n",
            "  inflating: data/train/100089/mask/1-056.png  \n",
            "  inflating: data/train/100089/mask/1-057.png  \n",
            "  inflating: data/train/100089/mask/1-058.png  \n",
            "  inflating: data/train/100089/mask/1-059.png  \n",
            "  inflating: data/train/100089/mask/1-060.png  \n",
            "  inflating: data/train/100089/mask/1-061.png  \n",
            "  inflating: data/train/100089/mask/1-062.png  \n",
            "  inflating: data/train/100089/mask/1-063.png  \n",
            "  inflating: data/train/100089/mask/1-064.png  \n",
            "  inflating: data/train/100089/mask/1-065.png  \n",
            "  inflating: data/train/100089/mask/1-066.png  \n",
            "  inflating: data/train/100089/mask/1-067.png  \n",
            "  inflating: data/train/100089/mask/1-068.png  \n",
            "  inflating: data/train/100089/mask/1-069.png  \n",
            "  inflating: data/train/100089/mask/1-070.png  \n",
            "  inflating: data/train/100089/mask/1-071.png  \n",
            "  inflating: data/train/100089/mask/1-072.png  \n",
            "  inflating: data/train/100089/mask/1-073.png  \n",
            "  inflating: data/train/100089/mask/1-074.png  \n",
            "  inflating: data/train/100089/mask/1-075.png  \n",
            "  inflating: data/train/100089/mask/1-076.png  \n",
            "  inflating: data/train/100089/mask/1-077.png  \n",
            "  inflating: data/train/100089/mask/1-078.png  \n",
            "  inflating: data/train/100089/mask/1-079.png  \n",
            "  inflating: data/train/100089/mask/1-080.png  \n",
            "  inflating: data/train/100089/mask/1-081.png  \n",
            "  inflating: data/train/100089/mask/1-082.png  \n",
            "  inflating: data/train/100089/mask/1-083.png  \n",
            "  inflating: data/train/100089/mask/1-084.png  \n",
            "  inflating: data/train/100089/mask/1-085.png  \n",
            "  inflating: data/train/100089/mask/1-086.png  \n",
            "  inflating: data/train/100089/mask/1-087.png  \n",
            "  inflating: data/train/100089/mask/1-088.png  \n",
            "  inflating: data/train/100089/mask/1-089.png  \n",
            "  inflating: data/train/100089/mask/1-090.png  \n",
            "  inflating: data/train/100089/mask/1-091.png  \n",
            "  inflating: data/train/100089/mask/1-092.png  \n",
            "  inflating: data/train/100089/mask/1-093.png  \n",
            "  inflating: data/train/100089/mask/1-094.png  \n",
            "  inflating: data/train/100089/mask/1-095.png  \n",
            "  inflating: data/train/100089/mask/1-096.png  \n",
            "  inflating: data/train/100089/mask/1-097.png  \n",
            "  inflating: data/train/100089/mask/1-098.png  \n",
            "  inflating: data/train/100089/mask/1-099.png  \n",
            "  inflating: data/train/100089/mask/1-100.png  \n",
            "  inflating: data/train/100089/mask/1-101.png  \n",
            "  inflating: data/train/100089/mask/1-102.png  \n",
            "  inflating: data/train/100089/mask/1-103.png  \n",
            "  inflating: data/train/100089/mask/1-104.png  \n",
            "  inflating: data/train/100089/mask/1-105.png  \n",
            "  inflating: data/train/100089/mask/1-106.png  \n",
            "  inflating: data/train/100089/mask/1-107.png  \n",
            "  inflating: data/train/100089/mask/1-108.png  \n",
            "  inflating: data/train/100089/mask/1-109.png  \n",
            "  inflating: data/train/100089/mask/1-110.png  \n",
            "  inflating: data/train/100089/mask/1-111.png  \n",
            "  inflating: data/train/100089/mask/1-112.png  \n",
            "  inflating: data/train/100089/mask/1-113.png  \n",
            "  inflating: data/train/100089/mask/1-114.png  \n",
            "  inflating: data/train/100089/mask/1-115.png  \n",
            "  inflating: data/train/100089/mask/1-116.png  \n",
            "  inflating: data/train/100089/mask/1-117.png  \n",
            "  inflating: data/train/100089/mask/1-118.png  \n",
            "  inflating: data/train/100089/mask/1-119.png  \n",
            "  inflating: data/train/100089/mask/1-120.png  \n",
            "  inflating: data/train/100089/mask/1-121.png  \n",
            "  inflating: data/train/100089/mask/1-122.png  \n",
            "  inflating: data/train/100089/mask/1-123.png  \n",
            "  inflating: data/train/100089/mask/1-124.png  \n",
            "  inflating: data/train/100089/mask/1-125.png  \n",
            "  inflating: data/train/100089/mask/1-126.png  \n",
            "  inflating: data/train/100089/mask/1-127.png  \n",
            "  inflating: data/train/100089/mask/1-128.png  \n",
            "  inflating: data/train/100089/mask/1-129.png  \n",
            "  inflating: data/train/100089/mask/1-130.png  \n",
            "  inflating: data/train/100089/mask/1-131.png  \n",
            "  inflating: data/train/100089/mask/1-132.png  \n",
            "  inflating: data/train/100089/mask/1-133.png  \n",
            "  inflating: data/train/100089/mask/1-134.png  \n",
            "  inflating: data/train/100089/mask/1-135.png  \n",
            "  inflating: data/train/100089/mask/1-136.png  \n",
            "  inflating: data/train/100089/mask/1-137.png  \n",
            "  inflating: data/train/100089/mask/1-138.png  \n",
            "  inflating: data/train/100089/mask/1-139.png  \n",
            "  inflating: data/train/100089/mask/1-140.png  \n",
            "  inflating: data/train/100089/mask/1-141.png  \n",
            "  inflating: data/train/100089/mask/1-142.png  \n",
            "  inflating: data/train/100089/mask/1-143.png  \n",
            "  inflating: data/train/100089/mask/1-144.png  \n",
            "  inflating: data/train/100089/mask/1-145.png  \n",
            "  inflating: data/train/100089/mask/1-146.png  \n",
            "  inflating: data/train/100089/mask/1-147.png  \n",
            "  inflating: data/train/100089/mask/1-148.png  \n",
            "  inflating: data/train/100089/mask/1-149.png  \n",
            "  inflating: data/train/100089/mask/1-150.png  \n",
            "  inflating: data/train/100089/mask/1-151.png  \n",
            "  inflating: data/train/100089/mask/1-152.png  \n",
            "  inflating: data/train/100089/mask/1-153.png  \n",
            "  inflating: data/train/100089/mask/1-154.png  \n",
            "  inflating: data/train/100089/mask/1-155.png  \n",
            "  inflating: data/train/100089/mask/1-156.png  \n",
            "  inflating: data/train/100089/mask/1-157.png  \n",
            "  inflating: data/train/100089/mask/1-158.png  \n",
            "  inflating: data/train/100089/mask/1-159.png  \n",
            "  inflating: data/train/100089/mask/1-160.png  \n",
            "  inflating: data/train/100089/mask/1-161.png  \n",
            "  inflating: data/train/100089/mask/1-162.png  \n",
            "  inflating: data/train/100089/mask/1-163.png  \n",
            "  inflating: data/train/100089/mask/1-164.png  \n",
            "  inflating: data/train/100089/mask/1-165.png  \n",
            "  inflating: data/train/100089/mask/1-166.png  \n",
            "  inflating: data/train/100089/mask/1-167.png  \n",
            "  inflating: data/train/100089/mask/1-168.png  \n",
            "  inflating: data/train/100089/mask/1-169.png  \n",
            "  inflating: data/train/100089/mask/1-170.png  \n",
            "  inflating: data/train/100089/mask/1-171.png  \n",
            "  inflating: data/train/100089/mask/1-172.png  \n",
            "  inflating: data/train/100089/mask/1-173.png  \n",
            "  inflating: data/train/100089/mask/1-174.png  \n",
            "  inflating: data/train/100091/image/1-001.png  \n",
            "  inflating: data/train/100091/image/1-002.png  \n",
            "  inflating: data/train/100091/image/1-003.png  \n",
            "  inflating: data/train/100091/image/1-004.png  \n",
            "  inflating: data/train/100091/image/1-005.png  \n",
            "  inflating: data/train/100091/image/1-006.png  \n",
            "  inflating: data/train/100091/image/1-007.png  \n",
            "  inflating: data/train/100091/image/1-008.png  \n",
            "  inflating: data/train/100091/image/1-009.png  \n",
            "  inflating: data/train/100091/image/1-010.png  \n",
            "  inflating: data/train/100091/image/1-011.png  \n",
            "  inflating: data/train/100091/image/1-012.png  \n",
            "  inflating: data/train/100091/image/1-013.png  \n",
            "  inflating: data/train/100091/image/1-014.png  \n",
            "  inflating: data/train/100091/image/1-015.png  \n",
            "  inflating: data/train/100091/image/1-016.png  \n",
            "  inflating: data/train/100091/image/1-017.png  \n",
            "  inflating: data/train/100091/image/1-018.png  \n",
            "  inflating: data/train/100091/image/1-019.png  \n",
            "  inflating: data/train/100091/image/1-020.png  \n",
            "  inflating: data/train/100091/image/1-021.png  \n",
            "  inflating: data/train/100091/image/1-022.png  \n",
            "  inflating: data/train/100091/image/1-023.png  \n",
            "  inflating: data/train/100091/image/1-024.png  \n",
            "  inflating: data/train/100091/image/1-025.png  \n",
            "  inflating: data/train/100091/image/1-026.png  \n",
            "  inflating: data/train/100091/image/1-027.png  \n",
            "  inflating: data/train/100091/image/1-028.png  \n",
            "  inflating: data/train/100091/image/1-029.png  \n",
            "  inflating: data/train/100091/image/1-030.png  \n",
            "  inflating: data/train/100091/image/1-031.png  \n",
            "  inflating: data/train/100091/image/1-032.png  \n",
            "  inflating: data/train/100091/image/1-033.png  \n",
            "  inflating: data/train/100091/image/1-034.png  \n",
            "  inflating: data/train/100091/image/1-035.png  \n",
            "  inflating: data/train/100091/image/1-036.png  \n",
            "  inflating: data/train/100091/image/1-037.png  \n",
            "  inflating: data/train/100091/image/1-038.png  \n",
            "  inflating: data/train/100091/image/1-039.png  \n",
            "  inflating: data/train/100091/image/1-040.png  \n",
            "  inflating: data/train/100091/image/1-041.png  \n",
            "  inflating: data/train/100091/image/1-042.png  \n",
            "  inflating: data/train/100091/image/1-043.png  \n",
            "  inflating: data/train/100091/image/1-044.png  \n",
            "  inflating: data/train/100091/image/1-045.png  \n",
            "  inflating: data/train/100091/image/1-046.png  \n",
            "  inflating: data/train/100091/image/1-047.png  \n",
            "  inflating: data/train/100091/image/1-048.png  \n",
            "  inflating: data/train/100091/image/1-049.png  \n",
            "  inflating: data/train/100091/image/1-050.png  \n",
            "  inflating: data/train/100091/image/1-051.png  \n",
            "  inflating: data/train/100091/image/1-052.png  \n",
            "  inflating: data/train/100091/image/1-053.png  \n",
            "  inflating: data/train/100091/image/1-054.png  \n",
            "  inflating: data/train/100091/image/1-055.png  \n",
            "  inflating: data/train/100091/image/1-056.png  \n",
            "  inflating: data/train/100091/image/1-057.png  \n",
            "  inflating: data/train/100091/image/1-058.png  \n",
            "  inflating: data/train/100091/image/1-059.png  \n",
            "  inflating: data/train/100091/image/1-060.png  \n",
            "  inflating: data/train/100091/image/1-061.png  \n",
            "  inflating: data/train/100091/image/1-062.png  \n",
            "  inflating: data/train/100091/image/1-063.png  \n",
            "  inflating: data/train/100091/image/1-064.png  \n",
            "  inflating: data/train/100091/image/1-065.png  \n",
            "  inflating: data/train/100091/image/1-066.png  \n",
            "  inflating: data/train/100091/image/1-067.png  \n",
            "  inflating: data/train/100091/image/1-068.png  \n",
            "  inflating: data/train/100091/image/1-069.png  \n",
            "  inflating: data/train/100091/image/1-070.png  \n",
            "  inflating: data/train/100091/image/1-071.png  \n",
            "  inflating: data/train/100091/image/1-072.png  \n",
            "  inflating: data/train/100091/image/1-073.png  \n",
            "  inflating: data/train/100091/image/1-074.png  \n",
            "  inflating: data/train/100091/image/1-075.png  \n",
            "  inflating: data/train/100091/image/1-076.png  \n",
            "  inflating: data/train/100091/image/1-077.png  \n",
            "  inflating: data/train/100091/image/1-078.png  \n",
            "  inflating: data/train/100091/image/1-079.png  \n",
            "  inflating: data/train/100091/image/1-080.png  \n",
            "  inflating: data/train/100091/image/1-081.png  \n",
            "  inflating: data/train/100091/image/1-082.png  \n",
            "  inflating: data/train/100091/image/1-083.png  \n",
            "  inflating: data/train/100091/image/1-084.png  \n",
            "  inflating: data/train/100091/image/1-085.png  \n",
            "  inflating: data/train/100091/image/1-086.png  \n",
            "  inflating: data/train/100091/image/1-087.png  \n",
            "  inflating: data/train/100091/image/1-088.png  \n",
            "  inflating: data/train/100091/image/1-089.png  \n",
            "  inflating: data/train/100091/image/1-090.png  \n",
            "  inflating: data/train/100091/image/1-091.png  \n",
            "  inflating: data/train/100091/image/1-092.png  \n",
            "  inflating: data/train/100091/image/1-093.png  \n",
            "  inflating: data/train/100091/image/1-094.png  \n",
            "  inflating: data/train/100091/image/1-095.png  \n",
            "  inflating: data/train/100091/image/1-096.png  \n",
            "  inflating: data/train/100091/image/1-097.png  \n",
            "  inflating: data/train/100091/image/1-098.png  \n",
            "  inflating: data/train/100091/image/1-099.png  \n",
            "  inflating: data/train/100091/image/1-100.png  \n",
            "  inflating: data/train/100091/image/1-101.png  \n",
            "  inflating: data/train/100091/image/1-102.png  \n",
            "  inflating: data/train/100091/image/1-103.png  \n",
            "  inflating: data/train/100091/image/1-104.png  \n",
            "  inflating: data/train/100091/image/1-105.png  \n",
            "  inflating: data/train/100091/image/1-106.png  \n",
            "  inflating: data/train/100091/image/1-107.png  \n",
            "  inflating: data/train/100091/image/1-108.png  \n",
            "  inflating: data/train/100091/image/1-109.png  \n",
            "  inflating: data/train/100091/image/1-110.png  \n",
            "  inflating: data/train/100091/image/1-111.png  \n",
            "  inflating: data/train/100091/image/1-112.png  \n",
            "  inflating: data/train/100091/image/1-113.png  \n",
            "  inflating: data/train/100091/image/1-114.png  \n",
            "  inflating: data/train/100091/image/1-115.png  \n",
            "  inflating: data/train/100091/image/1-116.png  \n",
            "  inflating: data/train/100091/image/1-117.png  \n",
            "  inflating: data/train/100091/image/1-118.png  \n",
            "  inflating: data/train/100091/image/1-119.png  \n",
            "  inflating: data/train/100091/image/1-120.png  \n",
            "  inflating: data/train/100091/image/1-121.png  \n",
            "  inflating: data/train/100091/image/1-122.png  \n",
            "  inflating: data/train/100091/image/1-123.png  \n",
            "  inflating: data/train/100091/image/1-124.png  \n",
            "  inflating: data/train/100091/image/1-125.png  \n",
            "  inflating: data/train/100091/image/1-126.png  \n",
            "  inflating: data/train/100091/image/1-127.png  \n",
            "  inflating: data/train/100091/image/1-128.png  \n",
            "  inflating: data/train/100091/image/1-129.png  \n",
            "  inflating: data/train/100091/image/1-130.png  \n",
            "  inflating: data/train/100091/image/1-131.png  \n",
            "  inflating: data/train/100091/mask/1-001.png  \n",
            "  inflating: data/train/100091/mask/1-002.png  \n",
            "  inflating: data/train/100091/mask/1-003.png  \n",
            "  inflating: data/train/100091/mask/1-004.png  \n",
            "  inflating: data/train/100091/mask/1-005.png  \n",
            "  inflating: data/train/100091/mask/1-006.png  \n",
            "  inflating: data/train/100091/mask/1-007.png  \n",
            "  inflating: data/train/100091/mask/1-008.png  \n",
            "  inflating: data/train/100091/mask/1-009.png  \n",
            "  inflating: data/train/100091/mask/1-010.png  \n",
            "  inflating: data/train/100091/mask/1-011.png  \n",
            "  inflating: data/train/100091/mask/1-012.png  \n",
            "  inflating: data/train/100091/mask/1-013.png  \n",
            "  inflating: data/train/100091/mask/1-014.png  \n",
            "  inflating: data/train/100091/mask/1-015.png  \n",
            "  inflating: data/train/100091/mask/1-016.png  \n",
            "  inflating: data/train/100091/mask/1-017.png  \n",
            "  inflating: data/train/100091/mask/1-018.png  \n",
            "  inflating: data/train/100091/mask/1-019.png  \n",
            "  inflating: data/train/100091/mask/1-020.png  \n",
            "  inflating: data/train/100091/mask/1-021.png  \n",
            "  inflating: data/train/100091/mask/1-022.png  \n",
            "  inflating: data/train/100091/mask/1-023.png  \n",
            "  inflating: data/train/100091/mask/1-024.png  \n",
            "  inflating: data/train/100091/mask/1-025.png  \n",
            "  inflating: data/train/100091/mask/1-026.png  \n",
            "  inflating: data/train/100091/mask/1-027.png  \n",
            "  inflating: data/train/100091/mask/1-028.png  \n",
            "  inflating: data/train/100091/mask/1-029.png  \n",
            "  inflating: data/train/100091/mask/1-030.png  \n",
            "  inflating: data/train/100091/mask/1-031.png  \n",
            "  inflating: data/train/100091/mask/1-032.png  \n",
            "  inflating: data/train/100091/mask/1-033.png  \n",
            "  inflating: data/train/100091/mask/1-034.png  \n",
            "  inflating: data/train/100091/mask/1-035.png  \n",
            "  inflating: data/train/100091/mask/1-036.png  \n",
            "  inflating: data/train/100091/mask/1-037.png  \n",
            "  inflating: data/train/100091/mask/1-038.png  \n",
            "  inflating: data/train/100091/mask/1-039.png  \n",
            "  inflating: data/train/100091/mask/1-040.png  \n",
            "  inflating: data/train/100091/mask/1-041.png  \n",
            "  inflating: data/train/100091/mask/1-042.png  \n",
            "  inflating: data/train/100091/mask/1-043.png  \n",
            "  inflating: data/train/100091/mask/1-044.png  \n",
            "  inflating: data/train/100091/mask/1-045.png  \n",
            "  inflating: data/train/100091/mask/1-046.png  \n",
            "  inflating: data/train/100091/mask/1-047.png  \n",
            "  inflating: data/train/100091/mask/1-048.png  \n",
            "  inflating: data/train/100091/mask/1-049.png  \n",
            "  inflating: data/train/100091/mask/1-050.png  \n",
            "  inflating: data/train/100091/mask/1-051.png  \n",
            "  inflating: data/train/100091/mask/1-052.png  \n",
            "  inflating: data/train/100091/mask/1-053.png  \n",
            "  inflating: data/train/100091/mask/1-054.png  \n",
            "  inflating: data/train/100091/mask/1-055.png  \n",
            "  inflating: data/train/100091/mask/1-056.png  \n",
            "  inflating: data/train/100091/mask/1-057.png  \n",
            "  inflating: data/train/100091/mask/1-058.png  \n",
            "  inflating: data/train/100091/mask/1-059.png  \n",
            "  inflating: data/train/100091/mask/1-060.png  \n",
            "  inflating: data/train/100091/mask/1-061.png  \n",
            "  inflating: data/train/100091/mask/1-062.png  \n",
            "  inflating: data/train/100091/mask/1-063.png  \n",
            "  inflating: data/train/100091/mask/1-064.png  \n",
            "  inflating: data/train/100091/mask/1-065.png  \n",
            "  inflating: data/train/100091/mask/1-066.png  \n",
            "  inflating: data/train/100091/mask/1-067.png  \n",
            "  inflating: data/train/100091/mask/1-068.png  \n",
            "  inflating: data/train/100091/mask/1-069.png  \n",
            "  inflating: data/train/100091/mask/1-070.png  \n",
            "  inflating: data/train/100091/mask/1-071.png  \n",
            "  inflating: data/train/100091/mask/1-072.png  \n",
            "  inflating: data/train/100091/mask/1-073.png  \n",
            "  inflating: data/train/100091/mask/1-074.png  \n",
            "  inflating: data/train/100091/mask/1-075.png  \n",
            "  inflating: data/train/100091/mask/1-076.png  \n",
            "  inflating: data/train/100091/mask/1-077.png  \n",
            "  inflating: data/train/100091/mask/1-078.png  \n",
            "  inflating: data/train/100091/mask/1-079.png  \n",
            "  inflating: data/train/100091/mask/1-080.png  \n",
            "  inflating: data/train/100091/mask/1-081.png  \n",
            "  inflating: data/train/100091/mask/1-082.png  \n",
            "  inflating: data/train/100091/mask/1-083.png  \n",
            "  inflating: data/train/100091/mask/1-084.png  \n",
            "  inflating: data/train/100091/mask/1-085.png  \n",
            "  inflating: data/train/100091/mask/1-086.png  \n",
            "  inflating: data/train/100091/mask/1-087.png  \n",
            "  inflating: data/train/100091/mask/1-088.png  \n",
            "  inflating: data/train/100091/mask/1-089.png  \n",
            "  inflating: data/train/100091/mask/1-090.png  \n",
            "  inflating: data/train/100091/mask/1-091.png  \n",
            "  inflating: data/train/100091/mask/1-092.png  \n",
            "  inflating: data/train/100091/mask/1-093.png  \n",
            "  inflating: data/train/100091/mask/1-094.png  \n",
            "  inflating: data/train/100091/mask/1-095.png  \n",
            "  inflating: data/train/100091/mask/1-096.png  \n",
            "  inflating: data/train/100091/mask/1-097.png  \n",
            "  inflating: data/train/100091/mask/1-098.png  \n",
            "  inflating: data/train/100091/mask/1-099.png  \n",
            "  inflating: data/train/100091/mask/1-100.png  \n",
            "  inflating: data/train/100091/mask/1-101.png  \n",
            "  inflating: data/train/100091/mask/1-102.png  \n",
            "  inflating: data/train/100091/mask/1-103.png  \n",
            "  inflating: data/train/100091/mask/1-104.png  \n",
            "  inflating: data/train/100091/mask/1-105.png  \n",
            "  inflating: data/train/100091/mask/1-106.png  \n",
            "  inflating: data/train/100091/mask/1-107.png  \n",
            "  inflating: data/train/100091/mask/1-108.png  \n",
            "  inflating: data/train/100091/mask/1-109.png  \n",
            "  inflating: data/train/100091/mask/1-110.png  \n",
            "  inflating: data/train/100091/mask/1-111.png  \n",
            "  inflating: data/train/100091/mask/1-112.png  \n",
            "  inflating: data/train/100091/mask/1-113.png  \n",
            "  inflating: data/train/100091/mask/1-114.png  \n",
            "  inflating: data/train/100091/mask/1-115.png  \n",
            "  inflating: data/train/100091/mask/1-116.png  \n",
            "  inflating: data/train/100091/mask/1-117.png  \n",
            "  inflating: data/train/100091/mask/1-118.png  \n",
            "  inflating: data/train/100091/mask/1-119.png  \n",
            "  inflating: data/train/100091/mask/1-120.png  \n",
            "  inflating: data/train/100091/mask/1-121.png  \n",
            "  inflating: data/train/100091/mask/1-122.png  \n",
            "  inflating: data/train/100091/mask/1-123.png  \n",
            "  inflating: data/train/100091/mask/1-124.png  \n",
            "  inflating: data/train/100091/mask/1-125.png  \n",
            "  inflating: data/train/100091/mask/1-126.png  \n",
            "  inflating: data/train/100091/mask/1-127.png  \n",
            "  inflating: data/train/100091/mask/1-128.png  \n",
            "  inflating: data/train/100091/mask/1-129.png  \n",
            "  inflating: data/train/100091/mask/1-130.png  \n",
            "  inflating: data/train/100091/mask/1-131.png  \n",
            "  inflating: data/train/100092/image/1-001.png  \n",
            "  inflating: data/train/100092/image/1-002.png  \n",
            "  inflating: data/train/100092/image/1-003.png  \n",
            "  inflating: data/train/100092/image/1-004.png  \n",
            "  inflating: data/train/100092/image/1-005.png  \n",
            "  inflating: data/train/100092/image/1-006.png  \n",
            "  inflating: data/train/100092/image/1-007.png  \n",
            "  inflating: data/train/100092/image/1-008.png  \n",
            "  inflating: data/train/100092/image/1-009.png  \n",
            "  inflating: data/train/100092/image/1-010.png  \n",
            "  inflating: data/train/100092/image/1-011.png  \n",
            "  inflating: data/train/100092/image/1-012.png  \n",
            "  inflating: data/train/100092/image/1-013.png  \n",
            "  inflating: data/train/100092/image/1-014.png  \n",
            "  inflating: data/train/100092/image/1-015.png  \n",
            "  inflating: data/train/100092/image/1-016.png  \n",
            "  inflating: data/train/100092/image/1-017.png  \n",
            "  inflating: data/train/100092/image/1-018.png  \n",
            "  inflating: data/train/100092/image/1-019.png  \n",
            "  inflating: data/train/100092/image/1-020.png  \n",
            "  inflating: data/train/100092/image/1-021.png  \n",
            "  inflating: data/train/100092/image/1-022.png  \n",
            "  inflating: data/train/100092/image/1-023.png  \n",
            "  inflating: data/train/100092/image/1-024.png  \n",
            "  inflating: data/train/100092/image/1-025.png  \n",
            "  inflating: data/train/100092/image/1-026.png  \n",
            "  inflating: data/train/100092/image/1-027.png  \n",
            "  inflating: data/train/100092/image/1-028.png  \n",
            "  inflating: data/train/100092/image/1-029.png  \n",
            "  inflating: data/train/100092/image/1-030.png  \n",
            "  inflating: data/train/100092/image/1-031.png  \n",
            "  inflating: data/train/100092/image/1-032.png  \n",
            "  inflating: data/train/100092/image/1-033.png  \n",
            "  inflating: data/train/100092/image/1-034.png  \n",
            "  inflating: data/train/100092/image/1-035.png  \n",
            "  inflating: data/train/100092/image/1-036.png  \n",
            "  inflating: data/train/100092/image/1-037.png  \n",
            "  inflating: data/train/100092/image/1-038.png  \n",
            "  inflating: data/train/100092/image/1-039.png  \n",
            "  inflating: data/train/100092/image/1-040.png  \n",
            "  inflating: data/train/100092/image/1-041.png  \n",
            "  inflating: data/train/100092/image/1-042.png  \n",
            "  inflating: data/train/100092/image/1-043.png  \n",
            "  inflating: data/train/100092/image/1-044.png  \n",
            "  inflating: data/train/100092/image/1-045.png  \n",
            "  inflating: data/train/100092/image/1-046.png  \n",
            "  inflating: data/train/100092/image/1-047.png  \n",
            "  inflating: data/train/100092/image/1-048.png  \n",
            "  inflating: data/train/100092/image/1-049.png  \n",
            "  inflating: data/train/100092/image/1-050.png  \n",
            "  inflating: data/train/100092/image/1-051.png  \n",
            "  inflating: data/train/100092/image/1-052.png  \n",
            "  inflating: data/train/100092/image/1-053.png  \n",
            "  inflating: data/train/100092/image/1-054.png  \n",
            "  inflating: data/train/100092/image/1-055.png  \n",
            "  inflating: data/train/100092/image/1-056.png  \n",
            "  inflating: data/train/100092/image/1-057.png  \n",
            "  inflating: data/train/100092/image/1-058.png  \n",
            "  inflating: data/train/100092/image/1-059.png  \n",
            "  inflating: data/train/100092/image/1-060.png  \n",
            "  inflating: data/train/100092/image/1-061.png  \n",
            "  inflating: data/train/100092/image/1-062.png  \n",
            "  inflating: data/train/100092/image/1-063.png  \n",
            "  inflating: data/train/100092/image/1-064.png  \n",
            "  inflating: data/train/100092/image/1-065.png  \n",
            "  inflating: data/train/100092/image/1-066.png  \n",
            "  inflating: data/train/100092/image/1-067.png  \n",
            "  inflating: data/train/100092/image/1-068.png  \n",
            "  inflating: data/train/100092/image/1-069.png  \n",
            "  inflating: data/train/100092/image/1-070.png  \n",
            "  inflating: data/train/100092/image/1-071.png  \n",
            "  inflating: data/train/100092/image/1-072.png  \n",
            "  inflating: data/train/100092/image/1-073.png  \n",
            "  inflating: data/train/100092/image/1-074.png  \n",
            "  inflating: data/train/100092/image/1-075.png  \n",
            "  inflating: data/train/100092/image/1-076.png  \n",
            "  inflating: data/train/100092/image/1-077.png  \n",
            "  inflating: data/train/100092/image/1-078.png  \n",
            "  inflating: data/train/100092/image/1-079.png  \n",
            "  inflating: data/train/100092/image/1-080.png  \n",
            "  inflating: data/train/100092/image/1-081.png  \n",
            "  inflating: data/train/100092/image/1-082.png  \n",
            "  inflating: data/train/100092/image/1-083.png  \n",
            "  inflating: data/train/100092/image/1-084.png  \n",
            "  inflating: data/train/100092/image/1-085.png  \n",
            "  inflating: data/train/100092/image/1-086.png  \n",
            "  inflating: data/train/100092/image/1-087.png  \n",
            "  inflating: data/train/100092/image/1-088.png  \n",
            "  inflating: data/train/100092/image/1-089.png  \n",
            "  inflating: data/train/100092/image/1-090.png  \n",
            "  inflating: data/train/100092/image/1-091.png  \n",
            "  inflating: data/train/100092/image/1-092.png  \n",
            "  inflating: data/train/100092/image/1-093.png  \n",
            "  inflating: data/train/100092/image/1-094.png  \n",
            "  inflating: data/train/100092/image/1-095.png  \n",
            "  inflating: data/train/100092/image/1-096.png  \n",
            "  inflating: data/train/100092/image/1-097.png  \n",
            "  inflating: data/train/100092/image/1-098.png  \n",
            "  inflating: data/train/100092/image/1-099.png  \n",
            "  inflating: data/train/100092/image/1-100.png  \n",
            "  inflating: data/train/100092/image/1-101.png  \n",
            "  inflating: data/train/100092/image/1-102.png  \n",
            "  inflating: data/train/100092/image/1-103.png  \n",
            "  inflating: data/train/100092/image/1-104.png  \n",
            "  inflating: data/train/100092/image/1-105.png  \n",
            "  inflating: data/train/100092/image/1-106.png  \n",
            "  inflating: data/train/100092/image/1-107.png  \n",
            "  inflating: data/train/100092/image/1-108.png  \n",
            "  inflating: data/train/100092/image/1-109.png  \n",
            "  inflating: data/train/100092/image/1-110.png  \n",
            "  inflating: data/train/100092/image/1-111.png  \n",
            "  inflating: data/train/100092/image/1-112.png  \n",
            "  inflating: data/train/100092/image/1-113.png  \n",
            "  inflating: data/train/100092/image/1-114.png  \n",
            "  inflating: data/train/100092/image/1-115.png  \n",
            "  inflating: data/train/100092/image/1-116.png  \n",
            "  inflating: data/train/100092/image/1-117.png  \n",
            "  inflating: data/train/100092/image/1-118.png  \n",
            "  inflating: data/train/100092/image/1-119.png  \n",
            "  inflating: data/train/100092/image/1-120.png  \n",
            "  inflating: data/train/100092/image/1-121.png  \n",
            "  inflating: data/train/100092/image/1-122.png  \n",
            "  inflating: data/train/100092/image/1-123.png  \n",
            "  inflating: data/train/100092/image/1-124.png  \n",
            "  inflating: data/train/100092/image/1-125.png  \n",
            "  inflating: data/train/100092/image/1-126.png  \n",
            "  inflating: data/train/100092/image/1-127.png  \n",
            "  inflating: data/train/100092/image/1-128.png  \n",
            "  inflating: data/train/100092/image/1-129.png  \n",
            "  inflating: data/train/100092/image/1-130.png  \n",
            "  inflating: data/train/100092/image/1-131.png  \n",
            "  inflating: data/train/100092/image/1-132.png  \n",
            "  inflating: data/train/100092/image/1-133.png  \n",
            "  inflating: data/train/100092/mask/1-001.png  \n",
            "  inflating: data/train/100092/mask/1-002.png  \n",
            "  inflating: data/train/100092/mask/1-003.png  \n",
            "  inflating: data/train/100092/mask/1-004.png  \n",
            "  inflating: data/train/100092/mask/1-005.png  \n",
            "  inflating: data/train/100092/mask/1-006.png  \n",
            "  inflating: data/train/100092/mask/1-007.png  \n",
            "  inflating: data/train/100092/mask/1-008.png  \n",
            "  inflating: data/train/100092/mask/1-009.png  \n",
            "  inflating: data/train/100092/mask/1-010.png  \n",
            "  inflating: data/train/100092/mask/1-011.png  \n",
            "  inflating: data/train/100092/mask/1-012.png  \n",
            "  inflating: data/train/100092/mask/1-013.png  \n",
            "  inflating: data/train/100092/mask/1-014.png  \n",
            "  inflating: data/train/100092/mask/1-015.png  \n",
            "  inflating: data/train/100092/mask/1-016.png  \n",
            "  inflating: data/train/100092/mask/1-017.png  \n",
            "  inflating: data/train/100092/mask/1-018.png  \n",
            "  inflating: data/train/100092/mask/1-019.png  \n",
            "  inflating: data/train/100092/mask/1-020.png  \n",
            "  inflating: data/train/100092/mask/1-021.png  \n",
            "  inflating: data/train/100092/mask/1-022.png  \n",
            "  inflating: data/train/100092/mask/1-023.png  \n",
            "  inflating: data/train/100092/mask/1-024.png  \n",
            "  inflating: data/train/100092/mask/1-025.png  \n",
            "  inflating: data/train/100092/mask/1-026.png  \n",
            "  inflating: data/train/100092/mask/1-027.png  \n",
            "  inflating: data/train/100092/mask/1-028.png  \n",
            "  inflating: data/train/100092/mask/1-029.png  \n",
            "  inflating: data/train/100092/mask/1-030.png  \n",
            "  inflating: data/train/100092/mask/1-031.png  \n",
            "  inflating: data/train/100092/mask/1-032.png  \n",
            "  inflating: data/train/100092/mask/1-033.png  \n",
            "  inflating: data/train/100092/mask/1-034.png  \n",
            "  inflating: data/train/100092/mask/1-035.png  \n",
            "  inflating: data/train/100092/mask/1-036.png  \n",
            "  inflating: data/train/100092/mask/1-037.png  \n",
            "  inflating: data/train/100092/mask/1-038.png  \n",
            "  inflating: data/train/100092/mask/1-039.png  \n",
            "  inflating: data/train/100092/mask/1-040.png  \n",
            "  inflating: data/train/100092/mask/1-041.png  \n",
            "  inflating: data/train/100092/mask/1-042.png  \n",
            "  inflating: data/train/100092/mask/1-043.png  \n",
            "  inflating: data/train/100092/mask/1-044.png  \n",
            "  inflating: data/train/100092/mask/1-045.png  \n",
            "  inflating: data/train/100092/mask/1-046.png  \n",
            "  inflating: data/train/100092/mask/1-047.png  \n",
            "  inflating: data/train/100092/mask/1-048.png  \n",
            "  inflating: data/train/100092/mask/1-049.png  \n",
            "  inflating: data/train/100092/mask/1-050.png  \n",
            "  inflating: data/train/100092/mask/1-051.png  \n",
            "  inflating: data/train/100092/mask/1-052.png  \n",
            "  inflating: data/train/100092/mask/1-053.png  \n",
            "  inflating: data/train/100092/mask/1-054.png  \n",
            "  inflating: data/train/100092/mask/1-055.png  \n",
            "  inflating: data/train/100092/mask/1-056.png  \n",
            "  inflating: data/train/100092/mask/1-057.png  \n",
            "  inflating: data/train/100092/mask/1-058.png  \n",
            "  inflating: data/train/100092/mask/1-059.png  \n",
            "  inflating: data/train/100092/mask/1-060.png  \n",
            "  inflating: data/train/100092/mask/1-061.png  \n",
            "  inflating: data/train/100092/mask/1-062.png  \n",
            "  inflating: data/train/100092/mask/1-063.png  \n",
            "  inflating: data/train/100092/mask/1-064.png  \n",
            "  inflating: data/train/100092/mask/1-065.png  \n",
            "  inflating: data/train/100092/mask/1-066.png  \n",
            "  inflating: data/train/100092/mask/1-067.png  \n",
            "  inflating: data/train/100092/mask/1-068.png  \n",
            "  inflating: data/train/100092/mask/1-069.png  \n",
            "  inflating: data/train/100092/mask/1-070.png  \n",
            "  inflating: data/train/100092/mask/1-071.png  \n",
            "  inflating: data/train/100092/mask/1-072.png  \n",
            "  inflating: data/train/100092/mask/1-073.png  \n",
            "  inflating: data/train/100092/mask/1-074.png  \n",
            "  inflating: data/train/100092/mask/1-075.png  \n",
            "  inflating: data/train/100092/mask/1-076.png  \n",
            "  inflating: data/train/100092/mask/1-077.png  \n",
            "  inflating: data/train/100092/mask/1-078.png  \n",
            "  inflating: data/train/100092/mask/1-079.png  \n",
            "  inflating: data/train/100092/mask/1-080.png  \n",
            "  inflating: data/train/100092/mask/1-081.png  \n",
            "  inflating: data/train/100092/mask/1-082.png  \n",
            "  inflating: data/train/100092/mask/1-083.png  \n",
            "  inflating: data/train/100092/mask/1-084.png  \n",
            "  inflating: data/train/100092/mask/1-085.png  \n",
            "  inflating: data/train/100092/mask/1-086.png  \n",
            "  inflating: data/train/100092/mask/1-087.png  \n",
            "  inflating: data/train/100092/mask/1-088.png  \n",
            "  inflating: data/train/100092/mask/1-089.png  \n",
            "  inflating: data/train/100092/mask/1-090.png  \n",
            "  inflating: data/train/100092/mask/1-091.png  \n",
            "  inflating: data/train/100092/mask/1-092.png  \n",
            "  inflating: data/train/100092/mask/1-093.png  \n",
            "  inflating: data/train/100092/mask/1-094.png  \n",
            "  inflating: data/train/100092/mask/1-095.png  \n",
            "  inflating: data/train/100092/mask/1-096.png  \n",
            "  inflating: data/train/100092/mask/1-097.png  \n",
            "  inflating: data/train/100092/mask/1-098.png  \n",
            "  inflating: data/train/100092/mask/1-099.png  \n",
            "  inflating: data/train/100092/mask/1-100.png  \n",
            "  inflating: data/train/100092/mask/1-101.png  \n",
            "  inflating: data/train/100092/mask/1-102.png  \n",
            "  inflating: data/train/100092/mask/1-103.png  \n",
            "  inflating: data/train/100092/mask/1-104.png  \n",
            "  inflating: data/train/100092/mask/1-105.png  \n",
            "  inflating: data/train/100092/mask/1-106.png  \n",
            "  inflating: data/train/100092/mask/1-107.png  \n",
            "  inflating: data/train/100092/mask/1-108.png  \n",
            "  inflating: data/train/100092/mask/1-109.png  \n",
            "  inflating: data/train/100092/mask/1-110.png  \n",
            "  inflating: data/train/100092/mask/1-111.png  \n",
            "  inflating: data/train/100092/mask/1-112.png  \n",
            "  inflating: data/train/100092/mask/1-113.png  \n",
            "  inflating: data/train/100092/mask/1-114.png  \n",
            "  inflating: data/train/100092/mask/1-115.png  \n",
            "  inflating: data/train/100092/mask/1-116.png  \n",
            "  inflating: data/train/100092/mask/1-117.png  \n",
            "  inflating: data/train/100092/mask/1-118.png  \n",
            "  inflating: data/train/100092/mask/1-119.png  \n",
            "  inflating: data/train/100092/mask/1-120.png  \n",
            "  inflating: data/train/100092/mask/1-121.png  \n",
            "  inflating: data/train/100092/mask/1-122.png  \n",
            "  inflating: data/train/100092/mask/1-123.png  \n",
            "  inflating: data/train/100092/mask/1-124.png  \n",
            "  inflating: data/train/100092/mask/1-125.png  \n",
            "  inflating: data/train/100092/mask/1-126.png  \n",
            "  inflating: data/train/100092/mask/1-127.png  \n",
            "  inflating: data/train/100092/mask/1-128.png  \n",
            "  inflating: data/train/100092/mask/1-129.png  \n",
            "  inflating: data/train/100092/mask/1-130.png  \n",
            "  inflating: data/train/100092/mask/1-131.png  \n",
            "  inflating: data/train/100092/mask/1-132.png  \n",
            "  inflating: data/train/100092/mask/1-133.png  \n",
            "  inflating: data/train/100093/image/1-001.png  \n",
            "  inflating: data/train/100093/image/1-002.png  \n",
            "  inflating: data/train/100093/image/1-003.png  \n",
            "  inflating: data/train/100093/image/1-004.png  \n",
            "  inflating: data/train/100093/image/1-005.png  \n",
            "  inflating: data/train/100093/image/1-006.png  \n",
            "  inflating: data/train/100093/image/1-007.png  \n",
            "  inflating: data/train/100093/image/1-008.png  \n",
            "  inflating: data/train/100093/image/1-009.png  \n",
            "  inflating: data/train/100093/image/1-010.png  \n",
            "  inflating: data/train/100093/image/1-011.png  \n",
            "  inflating: data/train/100093/image/1-012.png  \n",
            "  inflating: data/train/100093/image/1-013.png  \n",
            "  inflating: data/train/100093/image/1-014.png  \n",
            "  inflating: data/train/100093/image/1-015.png  \n",
            "  inflating: data/train/100093/image/1-016.png  \n",
            "  inflating: data/train/100093/image/1-017.png  \n",
            "  inflating: data/train/100093/image/1-018.png  \n",
            "  inflating: data/train/100093/image/1-019.png  \n",
            "  inflating: data/train/100093/image/1-020.png  \n",
            "  inflating: data/train/100093/image/1-021.png  \n",
            "  inflating: data/train/100093/image/1-022.png  \n",
            "  inflating: data/train/100093/image/1-023.png  \n",
            "  inflating: data/train/100093/image/1-024.png  \n",
            "  inflating: data/train/100093/image/1-025.png  \n",
            "  inflating: data/train/100093/image/1-026.png  \n",
            "  inflating: data/train/100093/image/1-027.png  \n",
            "  inflating: data/train/100093/image/1-028.png  \n",
            "  inflating: data/train/100093/image/1-029.png  \n",
            "  inflating: data/train/100093/image/1-030.png  \n",
            "  inflating: data/train/100093/image/1-031.png  \n",
            "  inflating: data/train/100093/image/1-032.png  \n",
            "  inflating: data/train/100093/image/1-033.png  \n",
            "  inflating: data/train/100093/image/1-034.png  \n",
            "  inflating: data/train/100093/image/1-035.png  \n",
            "  inflating: data/train/100093/image/1-036.png  \n",
            "  inflating: data/train/100093/image/1-037.png  \n",
            "  inflating: data/train/100093/image/1-038.png  \n",
            "  inflating: data/train/100093/image/1-039.png  \n",
            "  inflating: data/train/100093/image/1-040.png  \n",
            "  inflating: data/train/100093/image/1-041.png  \n",
            "  inflating: data/train/100093/image/1-042.png  \n",
            "  inflating: data/train/100093/image/1-043.png  \n",
            "  inflating: data/train/100093/image/1-044.png  \n",
            "  inflating: data/train/100093/image/1-045.png  \n",
            "  inflating: data/train/100093/image/1-046.png  \n",
            "  inflating: data/train/100093/image/1-047.png  \n",
            "  inflating: data/train/100093/image/1-048.png  \n",
            "  inflating: data/train/100093/image/1-049.png  \n",
            "  inflating: data/train/100093/image/1-050.png  \n",
            "  inflating: data/train/100093/image/1-051.png  \n",
            "  inflating: data/train/100093/image/1-052.png  \n",
            "  inflating: data/train/100093/image/1-053.png  \n",
            "  inflating: data/train/100093/image/1-054.png  \n",
            "  inflating: data/train/100093/image/1-055.png  \n",
            "  inflating: data/train/100093/image/1-056.png  \n",
            "  inflating: data/train/100093/image/1-057.png  \n",
            "  inflating: data/train/100093/image/1-058.png  \n",
            "  inflating: data/train/100093/image/1-059.png  \n",
            "  inflating: data/train/100093/image/1-060.png  \n",
            "  inflating: data/train/100093/image/1-061.png  \n",
            "  inflating: data/train/100093/image/1-062.png  \n",
            "  inflating: data/train/100093/image/1-063.png  \n",
            "  inflating: data/train/100093/image/1-064.png  \n",
            "  inflating: data/train/100093/image/1-065.png  \n",
            "  inflating: data/train/100093/image/1-066.png  \n",
            "  inflating: data/train/100093/image/1-067.png  \n",
            "  inflating: data/train/100093/image/1-068.png  \n",
            "  inflating: data/train/100093/image/1-069.png  \n",
            "  inflating: data/train/100093/image/1-070.png  \n",
            "  inflating: data/train/100093/image/1-071.png  \n",
            "  inflating: data/train/100093/image/1-072.png  \n",
            "  inflating: data/train/100093/image/1-073.png  \n",
            "  inflating: data/train/100093/image/1-074.png  \n",
            "  inflating: data/train/100093/image/1-075.png  \n",
            "  inflating: data/train/100093/image/1-076.png  \n",
            "  inflating: data/train/100093/image/1-077.png  \n",
            "  inflating: data/train/100093/image/1-078.png  \n",
            "  inflating: data/train/100093/image/1-079.png  \n",
            "  inflating: data/train/100093/image/1-080.png  \n",
            "  inflating: data/train/100093/image/1-081.png  \n",
            "  inflating: data/train/100093/image/1-082.png  \n",
            "  inflating: data/train/100093/image/1-083.png  \n",
            "  inflating: data/train/100093/image/1-084.png  \n",
            "  inflating: data/train/100093/image/1-085.png  \n",
            "  inflating: data/train/100093/image/1-086.png  \n",
            "  inflating: data/train/100093/image/1-087.png  \n",
            "  inflating: data/train/100093/image/1-088.png  \n",
            "  inflating: data/train/100093/image/1-089.png  \n",
            "  inflating: data/train/100093/image/1-090.png  \n",
            "  inflating: data/train/100093/image/1-091.png  \n",
            "  inflating: data/train/100093/image/1-092.png  \n",
            "  inflating: data/train/100093/image/1-093.png  \n",
            "  inflating: data/train/100093/image/1-094.png  \n",
            "  inflating: data/train/100093/image/1-095.png  \n",
            "  inflating: data/train/100093/image/1-096.png  \n",
            "  inflating: data/train/100093/image/1-097.png  \n",
            "  inflating: data/train/100093/image/1-098.png  \n",
            "  inflating: data/train/100093/image/1-099.png  \n",
            "  inflating: data/train/100093/image/1-100.png  \n",
            "  inflating: data/train/100093/image/1-101.png  \n",
            "  inflating: data/train/100093/image/1-102.png  \n",
            "  inflating: data/train/100093/image/1-103.png  \n",
            "  inflating: data/train/100093/image/1-104.png  \n",
            "  inflating: data/train/100093/image/1-105.png  \n",
            "  inflating: data/train/100093/image/1-106.png  \n",
            "  inflating: data/train/100093/image/1-107.png  \n",
            "  inflating: data/train/100093/image/1-108.png  \n",
            "  inflating: data/train/100093/image/1-109.png  \n",
            "  inflating: data/train/100093/image/1-110.png  \n",
            "  inflating: data/train/100093/image/1-111.png  \n",
            "  inflating: data/train/100093/image/1-112.png  \n",
            "  inflating: data/train/100093/image/1-113.png  \n",
            "  inflating: data/train/100093/image/1-114.png  \n",
            "  inflating: data/train/100093/image/1-115.png  \n",
            "  inflating: data/train/100093/image/1-116.png  \n",
            "  inflating: data/train/100093/image/1-117.png  \n",
            "  inflating: data/train/100093/image/1-118.png  \n",
            "  inflating: data/train/100093/image/1-119.png  \n",
            "  inflating: data/train/100093/image/1-120.png  \n",
            "  inflating: data/train/100093/image/1-121.png  \n",
            "  inflating: data/train/100093/image/1-122.png  \n",
            "  inflating: data/train/100093/image/1-123.png  \n",
            "  inflating: data/train/100093/image/1-124.png  \n",
            "  inflating: data/train/100093/image/1-125.png  \n",
            "  inflating: data/train/100093/image/1-126.png  \n",
            "  inflating: data/train/100093/image/1-127.png  \n",
            "  inflating: data/train/100093/image/1-128.png  \n",
            "  inflating: data/train/100093/image/1-129.png  \n",
            "  inflating: data/train/100093/image/1-130.png  \n",
            "  inflating: data/train/100093/image/1-131.png  \n",
            "  inflating: data/train/100093/image/1-132.png  \n",
            "  inflating: data/train/100093/image/1-133.png  \n",
            "  inflating: data/train/100093/image/1-134.png  \n",
            "  inflating: data/train/100093/image/1-135.png  \n",
            "  inflating: data/train/100093/image/1-136.png  \n",
            "  inflating: data/train/100093/image/1-137.png  \n",
            "  inflating: data/train/100093/image/1-138.png  \n",
            "  inflating: data/train/100093/image/1-139.png  \n",
            "  inflating: data/train/100093/image/1-140.png  \n",
            "  inflating: data/train/100093/image/1-141.png  \n",
            "  inflating: data/train/100093/image/1-142.png  \n",
            "  inflating: data/train/100093/image/1-143.png  \n",
            "  inflating: data/train/100093/image/1-144.png  \n",
            "  inflating: data/train/100093/image/1-145.png  \n",
            "  inflating: data/train/100093/image/1-146.png  \n",
            "  inflating: data/train/100093/image/1-147.png  \n",
            "  inflating: data/train/100093/image/1-148.png  \n",
            "  inflating: data/train/100093/image/1-149.png  \n",
            "  inflating: data/train/100093/image/1-150.png  \n",
            "  inflating: data/train/100093/image/1-151.png  \n",
            "  inflating: data/train/100093/image/1-152.png  \n",
            "  inflating: data/train/100093/image/1-153.png  \n",
            "  inflating: data/train/100093/image/1-154.png  \n",
            "  inflating: data/train/100093/image/1-155.png  \n",
            "  inflating: data/train/100093/image/1-156.png  \n",
            "  inflating: data/train/100093/image/1-157.png  \n",
            "  inflating: data/train/100093/image/1-158.png  \n",
            "  inflating: data/train/100093/image/1-159.png  \n",
            "  inflating: data/train/100093/image/1-160.png  \n",
            "  inflating: data/train/100093/image/1-161.png  \n",
            "  inflating: data/train/100093/image/1-162.png  \n",
            "  inflating: data/train/100093/image/1-163.png  \n",
            "  inflating: data/train/100093/image/1-164.png  \n",
            "  inflating: data/train/100093/image/1-165.png  \n",
            "  inflating: data/train/100093/image/1-166.png  \n",
            "  inflating: data/train/100093/image/1-167.png  \n",
            "  inflating: data/train/100093/image/1-168.png  \n",
            "  inflating: data/train/100093/mask/1-001.png  \n",
            "  inflating: data/train/100093/mask/1-002.png  \n",
            "  inflating: data/train/100093/mask/1-003.png  \n",
            "  inflating: data/train/100093/mask/1-004.png  \n",
            "  inflating: data/train/100093/mask/1-005.png  \n",
            "  inflating: data/train/100093/mask/1-006.png  \n",
            "  inflating: data/train/100093/mask/1-007.png  \n",
            "  inflating: data/train/100093/mask/1-008.png  \n",
            "  inflating: data/train/100093/mask/1-009.png  \n",
            "  inflating: data/train/100093/mask/1-010.png  \n",
            "  inflating: data/train/100093/mask/1-011.png  \n",
            "  inflating: data/train/100093/mask/1-012.png  \n",
            "  inflating: data/train/100093/mask/1-013.png  \n",
            "  inflating: data/train/100093/mask/1-014.png  \n",
            "  inflating: data/train/100093/mask/1-015.png  \n",
            "  inflating: data/train/100093/mask/1-016.png  \n",
            "  inflating: data/train/100093/mask/1-017.png  \n",
            "  inflating: data/train/100093/mask/1-018.png  \n",
            "  inflating: data/train/100093/mask/1-019.png  \n",
            "  inflating: data/train/100093/mask/1-020.png  \n",
            "  inflating: data/train/100093/mask/1-021.png  \n",
            "  inflating: data/train/100093/mask/1-022.png  \n",
            "  inflating: data/train/100093/mask/1-023.png  \n",
            "  inflating: data/train/100093/mask/1-024.png  \n",
            "  inflating: data/train/100093/mask/1-025.png  \n",
            "  inflating: data/train/100093/mask/1-026.png  \n",
            "  inflating: data/train/100093/mask/1-027.png  \n",
            "  inflating: data/train/100093/mask/1-028.png  \n",
            "  inflating: data/train/100093/mask/1-029.png  \n",
            "  inflating: data/train/100093/mask/1-030.png  \n",
            "  inflating: data/train/100093/mask/1-031.png  \n",
            "  inflating: data/train/100093/mask/1-032.png  \n",
            "  inflating: data/train/100093/mask/1-033.png  \n",
            "  inflating: data/train/100093/mask/1-034.png  \n",
            "  inflating: data/train/100093/mask/1-035.png  \n",
            "  inflating: data/train/100093/mask/1-036.png  \n",
            "  inflating: data/train/100093/mask/1-037.png  \n",
            "  inflating: data/train/100093/mask/1-038.png  \n",
            "  inflating: data/train/100093/mask/1-039.png  \n",
            "  inflating: data/train/100093/mask/1-040.png  \n",
            "  inflating: data/train/100093/mask/1-041.png  \n",
            "  inflating: data/train/100093/mask/1-042.png  \n",
            "  inflating: data/train/100093/mask/1-043.png  \n",
            "  inflating: data/train/100093/mask/1-044.png  \n",
            "  inflating: data/train/100093/mask/1-045.png  \n",
            "  inflating: data/train/100093/mask/1-046.png  \n",
            "  inflating: data/train/100093/mask/1-047.png  \n",
            "  inflating: data/train/100093/mask/1-048.png  \n",
            "  inflating: data/train/100093/mask/1-049.png  \n",
            "  inflating: data/train/100093/mask/1-050.png  \n",
            "  inflating: data/train/100093/mask/1-051.png  \n",
            "  inflating: data/train/100093/mask/1-052.png  \n",
            "  inflating: data/train/100093/mask/1-053.png  \n",
            "  inflating: data/train/100093/mask/1-054.png  \n",
            "  inflating: data/train/100093/mask/1-055.png  \n",
            "  inflating: data/train/100093/mask/1-056.png  \n",
            "  inflating: data/train/100093/mask/1-057.png  \n",
            "  inflating: data/train/100093/mask/1-058.png  \n",
            "  inflating: data/train/100093/mask/1-059.png  \n",
            "  inflating: data/train/100093/mask/1-060.png  \n",
            "  inflating: data/train/100093/mask/1-061.png  \n",
            "  inflating: data/train/100093/mask/1-062.png  \n",
            "  inflating: data/train/100093/mask/1-063.png  \n",
            "  inflating: data/train/100093/mask/1-064.png  \n",
            "  inflating: data/train/100093/mask/1-065.png  \n",
            "  inflating: data/train/100093/mask/1-066.png  \n",
            "  inflating: data/train/100093/mask/1-067.png  \n",
            "  inflating: data/train/100093/mask/1-068.png  \n",
            "  inflating: data/train/100093/mask/1-069.png  \n",
            "  inflating: data/train/100093/mask/1-070.png  \n",
            "  inflating: data/train/100093/mask/1-071.png  \n",
            "  inflating: data/train/100093/mask/1-072.png  \n",
            "  inflating: data/train/100093/mask/1-073.png  \n",
            "  inflating: data/train/100093/mask/1-074.png  \n",
            "  inflating: data/train/100093/mask/1-075.png  \n",
            "  inflating: data/train/100093/mask/1-076.png  \n",
            "  inflating: data/train/100093/mask/1-077.png  \n",
            "  inflating: data/train/100093/mask/1-078.png  \n",
            "  inflating: data/train/100093/mask/1-079.png  \n",
            "  inflating: data/train/100093/mask/1-080.png  \n",
            "  inflating: data/train/100093/mask/1-081.png  \n",
            "  inflating: data/train/100093/mask/1-082.png  \n",
            "  inflating: data/train/100093/mask/1-083.png  \n",
            "  inflating: data/train/100093/mask/1-084.png  \n",
            "  inflating: data/train/100093/mask/1-085.png  \n",
            "  inflating: data/train/100093/mask/1-086.png  \n",
            "  inflating: data/train/100093/mask/1-087.png  \n",
            "  inflating: data/train/100093/mask/1-088.png  \n",
            "  inflating: data/train/100093/mask/1-089.png  \n",
            "  inflating: data/train/100093/mask/1-090.png  \n",
            "  inflating: data/train/100093/mask/1-091.png  \n",
            "  inflating: data/train/100093/mask/1-092.png  \n",
            "  inflating: data/train/100093/mask/1-093.png  \n",
            "  inflating: data/train/100093/mask/1-094.png  \n",
            "  inflating: data/train/100093/mask/1-095.png  \n",
            "  inflating: data/train/100093/mask/1-096.png  \n",
            "  inflating: data/train/100093/mask/1-097.png  \n",
            "  inflating: data/train/100093/mask/1-098.png  \n",
            "  inflating: data/train/100093/mask/1-099.png  \n",
            "  inflating: data/train/100093/mask/1-100.png  \n",
            "  inflating: data/train/100093/mask/1-101.png  \n",
            "  inflating: data/train/100093/mask/1-102.png  \n",
            "  inflating: data/train/100093/mask/1-103.png  \n",
            "  inflating: data/train/100093/mask/1-104.png  \n",
            "  inflating: data/train/100093/mask/1-105.png  \n",
            "  inflating: data/train/100093/mask/1-106.png  \n",
            "  inflating: data/train/100093/mask/1-107.png  \n",
            "  inflating: data/train/100093/mask/1-108.png  \n",
            "  inflating: data/train/100093/mask/1-109.png  \n",
            "  inflating: data/train/100093/mask/1-110.png  \n",
            "  inflating: data/train/100093/mask/1-111.png  \n",
            "  inflating: data/train/100093/mask/1-112.png  \n",
            "  inflating: data/train/100093/mask/1-113.png  \n",
            "  inflating: data/train/100093/mask/1-114.png  \n",
            "  inflating: data/train/100093/mask/1-115.png  \n",
            "  inflating: data/train/100093/mask/1-116.png  \n",
            "  inflating: data/train/100093/mask/1-117.png  \n",
            "  inflating: data/train/100093/mask/1-118.png  \n",
            "  inflating: data/train/100093/mask/1-119.png  \n",
            "  inflating: data/train/100093/mask/1-120.png  \n",
            "  inflating: data/train/100093/mask/1-121.png  \n",
            "  inflating: data/train/100093/mask/1-122.png  \n",
            "  inflating: data/train/100093/mask/1-123.png  \n",
            "  inflating: data/train/100093/mask/1-124.png  \n",
            "  inflating: data/train/100093/mask/1-125.png  \n",
            "  inflating: data/train/100093/mask/1-126.png  \n",
            "  inflating: data/train/100093/mask/1-127.png  \n",
            "  inflating: data/train/100093/mask/1-128.png  \n",
            "  inflating: data/train/100093/mask/1-129.png  \n",
            "  inflating: data/train/100093/mask/1-130.png  \n",
            "  inflating: data/train/100093/mask/1-131.png  \n",
            "  inflating: data/train/100093/mask/1-132.png  \n",
            "  inflating: data/train/100093/mask/1-133.png  \n",
            "  inflating: data/train/100093/mask/1-134.png  \n",
            "  inflating: data/train/100093/mask/1-135.png  \n",
            "  inflating: data/train/100093/mask/1-136.png  \n",
            "  inflating: data/train/100093/mask/1-137.png  \n",
            "  inflating: data/train/100093/mask/1-138.png  \n",
            "  inflating: data/train/100093/mask/1-139.png  \n",
            "  inflating: data/train/100093/mask/1-140.png  \n",
            "  inflating: data/train/100093/mask/1-141.png  \n",
            "  inflating: data/train/100093/mask/1-142.png  \n",
            "  inflating: data/train/100093/mask/1-143.png  \n",
            "  inflating: data/train/100093/mask/1-144.png  \n",
            "  inflating: data/train/100093/mask/1-145.png  \n",
            "  inflating: data/train/100093/mask/1-146.png  \n",
            "  inflating: data/train/100093/mask/1-147.png  \n",
            "  inflating: data/train/100093/mask/1-148.png  \n",
            "  inflating: data/train/100093/mask/1-149.png  \n",
            "  inflating: data/train/100093/mask/1-150.png  \n",
            "  inflating: data/train/100093/mask/1-151.png  \n",
            "  inflating: data/train/100093/mask/1-152.png  \n",
            "  inflating: data/train/100093/mask/1-153.png  \n",
            "  inflating: data/train/100093/mask/1-154.png  \n",
            "  inflating: data/train/100093/mask/1-155.png  \n",
            "  inflating: data/train/100093/mask/1-156.png  \n",
            "  inflating: data/train/100093/mask/1-157.png  \n",
            "  inflating: data/train/100093/mask/1-158.png  \n",
            "  inflating: data/train/100093/mask/1-159.png  \n",
            "  inflating: data/train/100093/mask/1-160.png  \n",
            "  inflating: data/train/100093/mask/1-161.png  \n",
            "  inflating: data/train/100093/mask/1-162.png  \n",
            "  inflating: data/train/100093/mask/1-163.png  \n",
            "  inflating: data/train/100093/mask/1-164.png  \n",
            "  inflating: data/train/100093/mask/1-165.png  \n",
            "  inflating: data/train/100093/mask/1-166.png  \n",
            "  inflating: data/train/100093/mask/1-167.png  \n",
            "  inflating: data/train/100093/mask/1-168.png  \n",
            "  inflating: data/train/100094/image/1-001.png  \n",
            "  inflating: data/train/100094/image/1-002.png  \n",
            "  inflating: data/train/100094/image/1-003.png  \n",
            "  inflating: data/train/100094/image/1-004.png  \n",
            "  inflating: data/train/100094/image/1-005.png  \n",
            "  inflating: data/train/100094/image/1-006.png  \n",
            "  inflating: data/train/100094/image/1-007.png  \n",
            "  inflating: data/train/100094/image/1-008.png  \n",
            "  inflating: data/train/100094/image/1-009.png  \n",
            "  inflating: data/train/100094/image/1-010.png  \n",
            "  inflating: data/train/100094/image/1-011.png  \n",
            "  inflating: data/train/100094/image/1-012.png  \n",
            "  inflating: data/train/100094/image/1-013.png  \n",
            "  inflating: data/train/100094/image/1-014.png  \n",
            "  inflating: data/train/100094/image/1-015.png  \n",
            "  inflating: data/train/100094/image/1-016.png  \n",
            "  inflating: data/train/100094/image/1-017.png  \n",
            "  inflating: data/train/100094/image/1-018.png  \n",
            "  inflating: data/train/100094/image/1-019.png  \n",
            "  inflating: data/train/100094/image/1-020.png  \n",
            "  inflating: data/train/100094/image/1-021.png  \n",
            "  inflating: data/train/100094/image/1-022.png  \n",
            "  inflating: data/train/100094/image/1-023.png  \n",
            "  inflating: data/train/100094/image/1-024.png  \n",
            "  inflating: data/train/100094/image/1-025.png  \n",
            "  inflating: data/train/100094/image/1-026.png  \n",
            "  inflating: data/train/100094/image/1-027.png  \n",
            "  inflating: data/train/100094/image/1-028.png  \n",
            "  inflating: data/train/100094/image/1-029.png  \n",
            "  inflating: data/train/100094/image/1-030.png  \n",
            "  inflating: data/train/100094/image/1-031.png  \n",
            "  inflating: data/train/100094/image/1-032.png  \n",
            "  inflating: data/train/100094/image/1-033.png  \n",
            "  inflating: data/train/100094/image/1-034.png  \n",
            "  inflating: data/train/100094/image/1-035.png  \n",
            "  inflating: data/train/100094/image/1-036.png  \n",
            "  inflating: data/train/100094/image/1-037.png  \n",
            "  inflating: data/train/100094/image/1-038.png  \n",
            "  inflating: data/train/100094/image/1-039.png  \n",
            "  inflating: data/train/100094/image/1-040.png  \n",
            "  inflating: data/train/100094/image/1-041.png  \n",
            "  inflating: data/train/100094/image/1-042.png  \n",
            "  inflating: data/train/100094/image/1-043.png  \n",
            "  inflating: data/train/100094/image/1-044.png  \n",
            "  inflating: data/train/100094/image/1-045.png  \n",
            "  inflating: data/train/100094/image/1-046.png  \n",
            "  inflating: data/train/100094/image/1-047.png  \n",
            "  inflating: data/train/100094/image/1-048.png  \n",
            "  inflating: data/train/100094/image/1-049.png  \n",
            "  inflating: data/train/100094/image/1-050.png  \n",
            "  inflating: data/train/100094/image/1-051.png  \n",
            "  inflating: data/train/100094/image/1-052.png  \n",
            "  inflating: data/train/100094/image/1-053.png  \n",
            "  inflating: data/train/100094/image/1-054.png  \n",
            "  inflating: data/train/100094/image/1-055.png  \n",
            "  inflating: data/train/100094/image/1-056.png  \n",
            "  inflating: data/train/100094/image/1-057.png  \n",
            "  inflating: data/train/100094/image/1-058.png  \n",
            "  inflating: data/train/100094/image/1-059.png  \n",
            "  inflating: data/train/100094/image/1-060.png  \n",
            "  inflating: data/train/100094/image/1-061.png  \n",
            "  inflating: data/train/100094/image/1-062.png  \n",
            "  inflating: data/train/100094/image/1-063.png  \n",
            "  inflating: data/train/100094/image/1-064.png  \n",
            "  inflating: data/train/100094/image/1-065.png  \n",
            "  inflating: data/train/100094/image/1-066.png  \n",
            "  inflating: data/train/100094/image/1-067.png  \n",
            "  inflating: data/train/100094/image/1-068.png  \n",
            "  inflating: data/train/100094/image/1-069.png  \n",
            "  inflating: data/train/100094/image/1-070.png  \n",
            "  inflating: data/train/100094/image/1-071.png  \n",
            "  inflating: data/train/100094/image/1-072.png  \n",
            "  inflating: data/train/100094/image/1-073.png  \n",
            "  inflating: data/train/100094/image/1-074.png  \n",
            "  inflating: data/train/100094/image/1-075.png  \n",
            "  inflating: data/train/100094/image/1-076.png  \n",
            "  inflating: data/train/100094/image/1-077.png  \n",
            "  inflating: data/train/100094/image/1-078.png  \n",
            "  inflating: data/train/100094/image/1-079.png  \n",
            "  inflating: data/train/100094/image/1-080.png  \n",
            "  inflating: data/train/100094/image/1-081.png  \n",
            "  inflating: data/train/100094/image/1-082.png  \n",
            "  inflating: data/train/100094/image/1-083.png  \n",
            "  inflating: data/train/100094/image/1-084.png  \n",
            "  inflating: data/train/100094/image/1-085.png  \n",
            "  inflating: data/train/100094/image/1-086.png  \n",
            "  inflating: data/train/100094/image/1-087.png  \n",
            "  inflating: data/train/100094/image/1-088.png  \n",
            "  inflating: data/train/100094/image/1-089.png  \n",
            "  inflating: data/train/100094/image/1-090.png  \n",
            "  inflating: data/train/100094/image/1-091.png  \n",
            "  inflating: data/train/100094/image/1-092.png  \n",
            "  inflating: data/train/100094/image/1-093.png  \n",
            "  inflating: data/train/100094/image/1-094.png  \n",
            "  inflating: data/train/100094/image/1-095.png  \n",
            "  inflating: data/train/100094/image/1-096.png  \n",
            "  inflating: data/train/100094/image/1-097.png  \n",
            "  inflating: data/train/100094/image/1-098.png  \n",
            "  inflating: data/train/100094/image/1-099.png  \n",
            "  inflating: data/train/100094/image/1-100.png  \n",
            "  inflating: data/train/100094/image/1-101.png  \n",
            "  inflating: data/train/100094/image/1-102.png  \n",
            "  inflating: data/train/100094/image/1-103.png  \n",
            "  inflating: data/train/100094/image/1-104.png  \n",
            "  inflating: data/train/100094/image/1-105.png  \n",
            "  inflating: data/train/100094/image/1-106.png  \n",
            "  inflating: data/train/100094/image/1-107.png  \n",
            "  inflating: data/train/100094/image/1-108.png  \n",
            "  inflating: data/train/100094/image/1-109.png  \n",
            "  inflating: data/train/100094/image/1-110.png  \n",
            "  inflating: data/train/100094/image/1-111.png  \n",
            "  inflating: data/train/100094/image/1-112.png  \n",
            "  inflating: data/train/100094/image/1-113.png  \n",
            "  inflating: data/train/100094/image/1-114.png  \n",
            "  inflating: data/train/100094/image/1-115.png  \n",
            "  inflating: data/train/100094/image/1-116.png  \n",
            "  inflating: data/train/100094/image/1-117.png  \n",
            "  inflating: data/train/100094/image/1-118.png  \n",
            "  inflating: data/train/100094/image/1-119.png  \n",
            "  inflating: data/train/100094/image/1-120.png  \n",
            "  inflating: data/train/100094/image/1-121.png  \n",
            "  inflating: data/train/100094/image/1-122.png  \n",
            "  inflating: data/train/100094/image/1-123.png  \n",
            "  inflating: data/train/100094/image/1-124.png  \n",
            "  inflating: data/train/100094/image/1-125.png  \n",
            "  inflating: data/train/100094/image/1-126.png  \n",
            "  inflating: data/train/100094/image/1-127.png  \n",
            "  inflating: data/train/100094/image/1-128.png  \n",
            "  inflating: data/train/100094/image/1-129.png  \n",
            "  inflating: data/train/100094/image/1-130.png  \n",
            "  inflating: data/train/100094/image/1-131.png  \n",
            "  inflating: data/train/100094/image/1-132.png  \n",
            "  inflating: data/train/100094/image/1-133.png  \n",
            "  inflating: data/train/100094/image/1-134.png  \n",
            "  inflating: data/train/100094/image/1-135.png  \n",
            "  inflating: data/train/100094/image/1-136.png  \n",
            "  inflating: data/train/100094/image/1-137.png  \n",
            "  inflating: data/train/100094/image/1-138.png  \n",
            "  inflating: data/train/100094/image/1-139.png  \n",
            "  inflating: data/train/100094/image/1-140.png  \n",
            "  inflating: data/train/100094/image/1-141.png  \n",
            "  inflating: data/train/100094/image/1-142.png  \n",
            "  inflating: data/train/100094/image/1-143.png  \n",
            "  inflating: data/train/100094/image/1-144.png  \n",
            "  inflating: data/train/100094/image/1-145.png  \n",
            "  inflating: data/train/100094/image/1-146.png  \n",
            "  inflating: data/train/100094/image/1-147.png  \n",
            "  inflating: data/train/100094/image/1-148.png  \n",
            "  inflating: data/train/100094/image/1-149.png  \n",
            "  inflating: data/train/100094/image/1-150.png  \n",
            "  inflating: data/train/100094/image/1-151.png  \n",
            "  inflating: data/train/100094/image/1-152.png  \n",
            "  inflating: data/train/100094/image/1-153.png  \n",
            "  inflating: data/train/100094/image/1-154.png  \n",
            "  inflating: data/train/100094/image/1-155.png  \n",
            "  inflating: data/train/100094/image/1-156.png  \n",
            "  inflating: data/train/100094/image/1-157.png  \n",
            "  inflating: data/train/100094/image/1-158.png  \n",
            "  inflating: data/train/100094/image/1-159.png  \n",
            "  inflating: data/train/100094/image/1-160.png  \n",
            "  inflating: data/train/100094/image/1-161.png  \n",
            "  inflating: data/train/100094/image/1-162.png  \n",
            "  inflating: data/train/100094/image/1-163.png  \n",
            "  inflating: data/train/100094/image/1-164.png  \n",
            "  inflating: data/train/100094/image/1-165.png  \n",
            "  inflating: data/train/100094/image/1-166.png  \n",
            "  inflating: data/train/100094/image/1-167.png  \n",
            "  inflating: data/train/100094/image/1-168.png  \n",
            "  inflating: data/train/100094/mask/1-001.png  \n",
            "  inflating: data/train/100094/mask/1-002.png  \n",
            "  inflating: data/train/100094/mask/1-003.png  \n",
            "  inflating: data/train/100094/mask/1-004.png  \n",
            "  inflating: data/train/100094/mask/1-005.png  \n",
            "  inflating: data/train/100094/mask/1-006.png  \n",
            "  inflating: data/train/100094/mask/1-007.png  \n",
            "  inflating: data/train/100094/mask/1-008.png  \n",
            "  inflating: data/train/100094/mask/1-009.png  \n",
            "  inflating: data/train/100094/mask/1-010.png  \n",
            "  inflating: data/train/100094/mask/1-011.png  \n",
            "  inflating: data/train/100094/mask/1-012.png  \n",
            "  inflating: data/train/100094/mask/1-013.png  \n",
            "  inflating: data/train/100094/mask/1-014.png  \n",
            "  inflating: data/train/100094/mask/1-015.png  \n",
            "  inflating: data/train/100094/mask/1-016.png  \n",
            "  inflating: data/train/100094/mask/1-017.png  \n",
            "  inflating: data/train/100094/mask/1-018.png  \n",
            "  inflating: data/train/100094/mask/1-019.png  \n",
            "  inflating: data/train/100094/mask/1-020.png  \n",
            "  inflating: data/train/100094/mask/1-021.png  \n",
            "  inflating: data/train/100094/mask/1-022.png  \n",
            "  inflating: data/train/100094/mask/1-023.png  \n",
            "  inflating: data/train/100094/mask/1-024.png  \n",
            "  inflating: data/train/100094/mask/1-025.png  \n",
            "  inflating: data/train/100094/mask/1-026.png  \n",
            "  inflating: data/train/100094/mask/1-027.png  \n",
            "  inflating: data/train/100094/mask/1-028.png  \n",
            "  inflating: data/train/100094/mask/1-029.png  \n",
            "  inflating: data/train/100094/mask/1-030.png  \n",
            "  inflating: data/train/100094/mask/1-031.png  \n",
            "  inflating: data/train/100094/mask/1-032.png  \n",
            "  inflating: data/train/100094/mask/1-033.png  \n",
            "  inflating: data/train/100094/mask/1-034.png  \n",
            "  inflating: data/train/100094/mask/1-035.png  \n",
            "  inflating: data/train/100094/mask/1-036.png  \n",
            "  inflating: data/train/100094/mask/1-037.png  \n",
            "  inflating: data/train/100094/mask/1-038.png  \n",
            "  inflating: data/train/100094/mask/1-039.png  \n",
            "  inflating: data/train/100094/mask/1-040.png  \n",
            "  inflating: data/train/100094/mask/1-041.png  \n",
            "  inflating: data/train/100094/mask/1-042.png  \n",
            "  inflating: data/train/100094/mask/1-043.png  \n",
            "  inflating: data/train/100094/mask/1-044.png  \n",
            "  inflating: data/train/100094/mask/1-045.png  \n",
            "  inflating: data/train/100094/mask/1-046.png  \n",
            "  inflating: data/train/100094/mask/1-047.png  \n",
            "  inflating: data/train/100094/mask/1-048.png  \n",
            "  inflating: data/train/100094/mask/1-049.png  \n",
            "  inflating: data/train/100094/mask/1-050.png  \n",
            "  inflating: data/train/100094/mask/1-051.png  \n",
            "  inflating: data/train/100094/mask/1-052.png  \n",
            "  inflating: data/train/100094/mask/1-053.png  \n",
            "  inflating: data/train/100094/mask/1-054.png  \n",
            "  inflating: data/train/100094/mask/1-055.png  \n",
            "  inflating: data/train/100094/mask/1-056.png  \n",
            "  inflating: data/train/100094/mask/1-057.png  \n",
            "  inflating: data/train/100094/mask/1-058.png  \n",
            "  inflating: data/train/100094/mask/1-059.png  \n",
            "  inflating: data/train/100094/mask/1-060.png  \n",
            "  inflating: data/train/100094/mask/1-061.png  \n",
            "  inflating: data/train/100094/mask/1-062.png  \n",
            "  inflating: data/train/100094/mask/1-063.png  \n",
            "  inflating: data/train/100094/mask/1-064.png  \n",
            "  inflating: data/train/100094/mask/1-065.png  \n",
            "  inflating: data/train/100094/mask/1-066.png  \n",
            "  inflating: data/train/100094/mask/1-067.png  \n",
            "  inflating: data/train/100094/mask/1-068.png  \n",
            "  inflating: data/train/100094/mask/1-069.png  \n",
            "  inflating: data/train/100094/mask/1-070.png  \n",
            "  inflating: data/train/100094/mask/1-071.png  \n",
            "  inflating: data/train/100094/mask/1-072.png  \n",
            "  inflating: data/train/100094/mask/1-073.png  \n",
            "  inflating: data/train/100094/mask/1-074.png  \n",
            "  inflating: data/train/100094/mask/1-075.png  \n",
            "  inflating: data/train/100094/mask/1-076.png  \n",
            "  inflating: data/train/100094/mask/1-077.png  \n",
            "  inflating: data/train/100094/mask/1-078.png  \n",
            "  inflating: data/train/100094/mask/1-079.png  \n",
            "  inflating: data/train/100094/mask/1-080.png  \n",
            "  inflating: data/train/100094/mask/1-081.png  \n",
            "  inflating: data/train/100094/mask/1-082.png  \n",
            "  inflating: data/train/100094/mask/1-083.png  \n",
            "  inflating: data/train/100094/mask/1-084.png  \n",
            "  inflating: data/train/100094/mask/1-085.png  \n",
            "  inflating: data/train/100094/mask/1-086.png  \n",
            "  inflating: data/train/100094/mask/1-087.png  \n",
            "  inflating: data/train/100094/mask/1-088.png  \n",
            "  inflating: data/train/100094/mask/1-089.png  \n",
            "  inflating: data/train/100094/mask/1-090.png  \n",
            "  inflating: data/train/100094/mask/1-091.png  \n",
            "  inflating: data/train/100094/mask/1-092.png  \n",
            "  inflating: data/train/100094/mask/1-093.png  \n",
            "  inflating: data/train/100094/mask/1-094.png  \n",
            "  inflating: data/train/100094/mask/1-095.png  \n",
            "  inflating: data/train/100094/mask/1-096.png  \n",
            "  inflating: data/train/100094/mask/1-097.png  \n",
            "  inflating: data/train/100094/mask/1-098.png  \n",
            "  inflating: data/train/100094/mask/1-099.png  \n",
            "  inflating: data/train/100094/mask/1-100.png  \n",
            "  inflating: data/train/100094/mask/1-101.png  \n",
            "  inflating: data/train/100094/mask/1-102.png  \n",
            "  inflating: data/train/100094/mask/1-103.png  \n",
            "  inflating: data/train/100094/mask/1-104.png  \n",
            "  inflating: data/train/100094/mask/1-105.png  \n",
            "  inflating: data/train/100094/mask/1-106.png  \n",
            "  inflating: data/train/100094/mask/1-107.png  \n",
            "  inflating: data/train/100094/mask/1-108.png  \n",
            "  inflating: data/train/100094/mask/1-109.png  \n",
            "  inflating: data/train/100094/mask/1-110.png  \n",
            "  inflating: data/train/100094/mask/1-111.png  \n",
            "  inflating: data/train/100094/mask/1-112.png  \n",
            "  inflating: data/train/100094/mask/1-113.png  \n",
            "  inflating: data/train/100094/mask/1-114.png  \n",
            "  inflating: data/train/100094/mask/1-115.png  \n",
            "  inflating: data/train/100094/mask/1-116.png  \n",
            "  inflating: data/train/100094/mask/1-117.png  \n",
            "  inflating: data/train/100094/mask/1-118.png  \n",
            "  inflating: data/train/100094/mask/1-119.png  \n",
            "  inflating: data/train/100094/mask/1-120.png  \n",
            "  inflating: data/train/100094/mask/1-121.png  \n",
            "  inflating: data/train/100094/mask/1-122.png  \n",
            "  inflating: data/train/100094/mask/1-123.png  \n",
            "  inflating: data/train/100094/mask/1-124.png  \n",
            "  inflating: data/train/100094/mask/1-125.png  \n",
            "  inflating: data/train/100094/mask/1-126.png  \n",
            "  inflating: data/train/100094/mask/1-127.png  \n",
            "  inflating: data/train/100094/mask/1-128.png  \n",
            "  inflating: data/train/100094/mask/1-129.png  \n",
            "  inflating: data/train/100094/mask/1-130.png  \n",
            "  inflating: data/train/100094/mask/1-131.png  \n",
            "  inflating: data/train/100094/mask/1-132.png  \n",
            "  inflating: data/train/100094/mask/1-133.png  \n",
            "  inflating: data/train/100094/mask/1-134.png  \n",
            "  inflating: data/train/100094/mask/1-135.png  \n",
            "  inflating: data/train/100094/mask/1-136.png  \n",
            "  inflating: data/train/100094/mask/1-137.png  \n",
            "  inflating: data/train/100094/mask/1-138.png  \n",
            "  inflating: data/train/100094/mask/1-139.png  \n",
            "  inflating: data/train/100094/mask/1-140.png  \n",
            "  inflating: data/train/100094/mask/1-141.png  \n",
            "  inflating: data/train/100094/mask/1-142.png  \n",
            "  inflating: data/train/100094/mask/1-143.png  \n",
            "  inflating: data/train/100094/mask/1-144.png  \n",
            "  inflating: data/train/100094/mask/1-145.png  \n",
            "  inflating: data/train/100094/mask/1-146.png  \n",
            "  inflating: data/train/100094/mask/1-147.png  \n",
            "  inflating: data/train/100094/mask/1-148.png  \n",
            "  inflating: data/train/100094/mask/1-149.png  \n",
            "  inflating: data/train/100094/mask/1-150.png  \n",
            "  inflating: data/train/100094/mask/1-151.png  \n",
            "  inflating: data/train/100094/mask/1-152.png  \n",
            "  inflating: data/train/100094/mask/1-153.png  \n",
            "  inflating: data/train/100094/mask/1-154.png  \n",
            "  inflating: data/train/100094/mask/1-155.png  \n",
            "  inflating: data/train/100094/mask/1-156.png  \n",
            "  inflating: data/train/100094/mask/1-157.png  \n",
            "  inflating: data/train/100094/mask/1-158.png  \n",
            "  inflating: data/train/100094/mask/1-159.png  \n",
            "  inflating: data/train/100094/mask/1-160.png  \n",
            "  inflating: data/train/100094/mask/1-161.png  \n",
            "  inflating: data/train/100094/mask/1-162.png  \n",
            "  inflating: data/train/100094/mask/1-163.png  \n",
            "  inflating: data/train/100094/mask/1-164.png  \n",
            "  inflating: data/train/100094/mask/1-165.png  \n",
            "  inflating: data/train/100094/mask/1-166.png  \n",
            "  inflating: data/train/100094/mask/1-167.png  \n",
            "  inflating: data/train/100094/mask/1-168.png  \n",
            "  inflating: data/train/100095/image/1-001.png  \n",
            "  inflating: data/train/100095/image/1-002.png  \n",
            "  inflating: data/train/100095/image/1-003.png  \n",
            "  inflating: data/train/100095/image/1-004.png  \n",
            "  inflating: data/train/100095/image/1-005.png  \n",
            "  inflating: data/train/100095/image/1-006.png  \n",
            "  inflating: data/train/100095/image/1-007.png  \n",
            "  inflating: data/train/100095/image/1-008.png  \n",
            "  inflating: data/train/100095/image/1-009.png  \n",
            "  inflating: data/train/100095/image/1-010.png  \n",
            "  inflating: data/train/100095/image/1-011.png  \n",
            "  inflating: data/train/100095/image/1-012.png  \n",
            "  inflating: data/train/100095/image/1-013.png  \n",
            "  inflating: data/train/100095/image/1-014.png  \n",
            "  inflating: data/train/100095/image/1-015.png  \n",
            "  inflating: data/train/100095/image/1-016.png  \n",
            "  inflating: data/train/100095/image/1-017.png  \n",
            "  inflating: data/train/100095/image/1-018.png  \n",
            "  inflating: data/train/100095/image/1-019.png  \n",
            "  inflating: data/train/100095/image/1-020.png  \n",
            "  inflating: data/train/100095/image/1-021.png  \n",
            "  inflating: data/train/100095/image/1-022.png  \n",
            "  inflating: data/train/100095/image/1-023.png  \n",
            "  inflating: data/train/100095/image/1-024.png  \n",
            "  inflating: data/train/100095/image/1-025.png  \n",
            "  inflating: data/train/100095/image/1-026.png  \n",
            "  inflating: data/train/100095/image/1-027.png  \n",
            "  inflating: data/train/100095/image/1-028.png  \n",
            "  inflating: data/train/100095/image/1-029.png  \n",
            "  inflating: data/train/100095/image/1-030.png  \n",
            "  inflating: data/train/100095/image/1-031.png  \n",
            "  inflating: data/train/100095/image/1-032.png  \n",
            "  inflating: data/train/100095/image/1-033.png  \n",
            "  inflating: data/train/100095/image/1-034.png  \n",
            "  inflating: data/train/100095/image/1-035.png  \n",
            "  inflating: data/train/100095/image/1-036.png  \n",
            "  inflating: data/train/100095/image/1-037.png  \n",
            "  inflating: data/train/100095/image/1-038.png  \n",
            "  inflating: data/train/100095/image/1-039.png  \n",
            "  inflating: data/train/100095/image/1-040.png  \n",
            "  inflating: data/train/100095/image/1-041.png  \n",
            "  inflating: data/train/100095/image/1-042.png  \n",
            "  inflating: data/train/100095/image/1-043.png  \n",
            "  inflating: data/train/100095/image/1-044.png  \n",
            "  inflating: data/train/100095/image/1-045.png  \n",
            "  inflating: data/train/100095/image/1-046.png  \n",
            "  inflating: data/train/100095/image/1-047.png  \n",
            "  inflating: data/train/100095/image/1-048.png  \n",
            "  inflating: data/train/100095/image/1-049.png  \n",
            "  inflating: data/train/100095/image/1-050.png  \n",
            "  inflating: data/train/100095/image/1-051.png  \n",
            "  inflating: data/train/100095/image/1-052.png  \n",
            "  inflating: data/train/100095/image/1-053.png  \n",
            "  inflating: data/train/100095/image/1-054.png  \n",
            "  inflating: data/train/100095/image/1-055.png  \n",
            "  inflating: data/train/100095/image/1-056.png  \n",
            "  inflating: data/train/100095/image/1-057.png  \n",
            "  inflating: data/train/100095/image/1-058.png  \n",
            "  inflating: data/train/100095/image/1-059.png  \n",
            "  inflating: data/train/100095/image/1-060.png  \n",
            "  inflating: data/train/100095/image/1-061.png  \n",
            "  inflating: data/train/100095/image/1-062.png  \n",
            "  inflating: data/train/100095/image/1-063.png  \n",
            "  inflating: data/train/100095/image/1-064.png  \n",
            "  inflating: data/train/100095/image/1-065.png  \n",
            "  inflating: data/train/100095/image/1-066.png  \n",
            "  inflating: data/train/100095/image/1-067.png  \n",
            "  inflating: data/train/100095/image/1-068.png  \n",
            "  inflating: data/train/100095/image/1-069.png  \n",
            "  inflating: data/train/100095/image/1-070.png  \n",
            "  inflating: data/train/100095/image/1-071.png  \n",
            "  inflating: data/train/100095/image/1-072.png  \n",
            "  inflating: data/train/100095/image/1-073.png  \n",
            "  inflating: data/train/100095/image/1-074.png  \n",
            "  inflating: data/train/100095/image/1-075.png  \n",
            "  inflating: data/train/100095/image/1-076.png  \n",
            "  inflating: data/train/100095/image/1-077.png  \n",
            "  inflating: data/train/100095/image/1-078.png  \n",
            "  inflating: data/train/100095/image/1-079.png  \n",
            "  inflating: data/train/100095/image/1-080.png  \n",
            "  inflating: data/train/100095/image/1-081.png  \n",
            "  inflating: data/train/100095/image/1-082.png  \n",
            "  inflating: data/train/100095/image/1-083.png  \n",
            "  inflating: data/train/100095/image/1-084.png  \n",
            "  inflating: data/train/100095/image/1-085.png  \n",
            "  inflating: data/train/100095/image/1-086.png  \n",
            "  inflating: data/train/100095/image/1-087.png  \n",
            "  inflating: data/train/100095/image/1-088.png  \n",
            "  inflating: data/train/100095/image/1-089.png  \n",
            "  inflating: data/train/100095/image/1-090.png  \n",
            "  inflating: data/train/100095/image/1-091.png  \n",
            "  inflating: data/train/100095/image/1-092.png  \n",
            "  inflating: data/train/100095/image/1-093.png  \n",
            "  inflating: data/train/100095/image/1-094.png  \n",
            "  inflating: data/train/100095/image/1-095.png  \n",
            "  inflating: data/train/100095/image/1-096.png  \n",
            "  inflating: data/train/100095/image/1-097.png  \n",
            "  inflating: data/train/100095/image/1-098.png  \n",
            "  inflating: data/train/100095/image/1-099.png  \n",
            "  inflating: data/train/100095/image/1-100.png  \n",
            "  inflating: data/train/100095/image/1-101.png  \n",
            "  inflating: data/train/100095/image/1-102.png  \n",
            "  inflating: data/train/100095/image/1-103.png  \n",
            "  inflating: data/train/100095/image/1-104.png  \n",
            "  inflating: data/train/100095/image/1-105.png  \n",
            "  inflating: data/train/100095/image/1-106.png  \n",
            "  inflating: data/train/100095/image/1-107.png  \n",
            "  inflating: data/train/100095/image/1-108.png  \n",
            "  inflating: data/train/100095/image/1-109.png  \n",
            "  inflating: data/train/100095/image/1-110.png  \n",
            "  inflating: data/train/100095/image/1-111.png  \n",
            "  inflating: data/train/100095/image/1-112.png  \n",
            "  inflating: data/train/100095/image/1-113.png  \n",
            "  inflating: data/train/100095/image/1-114.png  \n",
            "  inflating: data/train/100095/image/1-115.png  \n",
            "  inflating: data/train/100095/image/1-116.png  \n",
            "  inflating: data/train/100095/image/1-117.png  \n",
            "  inflating: data/train/100095/image/1-118.png  \n",
            "  inflating: data/train/100095/image/1-119.png  \n",
            "  inflating: data/train/100095/image/1-120.png  \n",
            "  inflating: data/train/100095/image/1-121.png  \n",
            "  inflating: data/train/100095/image/1-122.png  \n",
            "  inflating: data/train/100095/image/1-123.png  \n",
            "  inflating: data/train/100095/image/1-124.png  \n",
            "  inflating: data/train/100095/image/1-125.png  \n",
            "  inflating: data/train/100095/image/1-126.png  \n",
            "  inflating: data/train/100095/image/1-127.png  \n",
            "  inflating: data/train/100095/image/1-128.png  \n",
            "  inflating: data/train/100095/image/1-129.png  \n",
            "  inflating: data/train/100095/image/1-130.png  \n",
            "  inflating: data/train/100095/image/1-131.png  \n",
            "  inflating: data/train/100095/image/1-132.png  \n",
            "  inflating: data/train/100095/image/1-133.png  \n",
            "  inflating: data/train/100095/image/1-134.png  \n",
            "  inflating: data/train/100095/image/1-135.png  \n",
            "  inflating: data/train/100095/image/1-136.png  \n",
            "  inflating: data/train/100095/image/1-137.png  \n",
            "  inflating: data/train/100095/image/1-138.png  \n",
            "  inflating: data/train/100095/image/1-139.png  \n",
            "  inflating: data/train/100095/image/1-140.png  \n",
            "  inflating: data/train/100095/image/1-141.png  \n",
            "  inflating: data/train/100095/image/1-142.png  \n",
            "  inflating: data/train/100095/image/1-143.png  \n",
            "  inflating: data/train/100095/image/1-144.png  \n",
            "  inflating: data/train/100095/mask/1-001.png  \n",
            "  inflating: data/train/100095/mask/1-002.png  \n",
            "  inflating: data/train/100095/mask/1-003.png  \n",
            "  inflating: data/train/100095/mask/1-004.png  \n",
            "  inflating: data/train/100095/mask/1-005.png  \n",
            "  inflating: data/train/100095/mask/1-006.png  \n",
            "  inflating: data/train/100095/mask/1-007.png  \n",
            "  inflating: data/train/100095/mask/1-008.png  \n",
            "  inflating: data/train/100095/mask/1-009.png  \n",
            "  inflating: data/train/100095/mask/1-010.png  \n",
            "  inflating: data/train/100095/mask/1-011.png  \n",
            "  inflating: data/train/100095/mask/1-012.png  \n",
            "  inflating: data/train/100095/mask/1-013.png  \n",
            "  inflating: data/train/100095/mask/1-014.png  \n",
            "  inflating: data/train/100095/mask/1-015.png  \n",
            "  inflating: data/train/100095/mask/1-016.png  \n",
            "  inflating: data/train/100095/mask/1-017.png  \n",
            "  inflating: data/train/100095/mask/1-018.png  \n",
            "  inflating: data/train/100095/mask/1-019.png  \n",
            "  inflating: data/train/100095/mask/1-020.png  \n",
            "  inflating: data/train/100095/mask/1-021.png  \n",
            "  inflating: data/train/100095/mask/1-022.png  \n",
            "  inflating: data/train/100095/mask/1-023.png  \n",
            "  inflating: data/train/100095/mask/1-024.png  \n",
            "  inflating: data/train/100095/mask/1-025.png  \n",
            "  inflating: data/train/100095/mask/1-026.png  \n",
            "  inflating: data/train/100095/mask/1-027.png  \n",
            "  inflating: data/train/100095/mask/1-028.png  \n",
            "  inflating: data/train/100095/mask/1-029.png  \n",
            "  inflating: data/train/100095/mask/1-030.png  \n",
            "  inflating: data/train/100095/mask/1-031.png  \n",
            "  inflating: data/train/100095/mask/1-032.png  \n",
            "  inflating: data/train/100095/mask/1-033.png  \n",
            "  inflating: data/train/100095/mask/1-034.png  \n",
            "  inflating: data/train/100095/mask/1-035.png  \n",
            "  inflating: data/train/100095/mask/1-036.png  \n",
            "  inflating: data/train/100095/mask/1-037.png  \n",
            "  inflating: data/train/100095/mask/1-038.png  \n",
            "  inflating: data/train/100095/mask/1-039.png  \n",
            "  inflating: data/train/100095/mask/1-040.png  \n",
            "  inflating: data/train/100095/mask/1-041.png  \n",
            "  inflating: data/train/100095/mask/1-042.png  \n",
            "  inflating: data/train/100095/mask/1-043.png  \n",
            "  inflating: data/train/100095/mask/1-044.png  \n",
            "  inflating: data/train/100095/mask/1-045.png  \n",
            "  inflating: data/train/100095/mask/1-046.png  \n",
            "  inflating: data/train/100095/mask/1-047.png  \n",
            "  inflating: data/train/100095/mask/1-048.png  \n",
            "  inflating: data/train/100095/mask/1-049.png  \n",
            "  inflating: data/train/100095/mask/1-050.png  \n",
            "  inflating: data/train/100095/mask/1-051.png  \n",
            "  inflating: data/train/100095/mask/1-052.png  \n",
            "  inflating: data/train/100095/mask/1-053.png  \n",
            "  inflating: data/train/100095/mask/1-054.png  \n",
            "  inflating: data/train/100095/mask/1-055.png  \n",
            "  inflating: data/train/100095/mask/1-056.png  \n",
            "  inflating: data/train/100095/mask/1-057.png  \n",
            "  inflating: data/train/100095/mask/1-058.png  \n",
            "  inflating: data/train/100095/mask/1-059.png  \n",
            "  inflating: data/train/100095/mask/1-060.png  \n",
            "  inflating: data/train/100095/mask/1-061.png  \n",
            "  inflating: data/train/100095/mask/1-062.png  \n",
            "  inflating: data/train/100095/mask/1-063.png  \n",
            "  inflating: data/train/100095/mask/1-064.png  \n",
            "  inflating: data/train/100095/mask/1-065.png  \n",
            "  inflating: data/train/100095/mask/1-066.png  \n",
            "  inflating: data/train/100095/mask/1-067.png  \n",
            "  inflating: data/train/100095/mask/1-068.png  \n",
            "  inflating: data/train/100095/mask/1-069.png  \n",
            "  inflating: data/train/100095/mask/1-070.png  \n",
            "  inflating: data/train/100095/mask/1-071.png  \n",
            "  inflating: data/train/100095/mask/1-072.png  \n",
            "  inflating: data/train/100095/mask/1-073.png  \n",
            "  inflating: data/train/100095/mask/1-074.png  \n",
            "  inflating: data/train/100095/mask/1-075.png  \n",
            "  inflating: data/train/100095/mask/1-076.png  \n",
            "  inflating: data/train/100095/mask/1-077.png  \n",
            "  inflating: data/train/100095/mask/1-078.png  \n",
            "  inflating: data/train/100095/mask/1-079.png  \n",
            "  inflating: data/train/100095/mask/1-080.png  \n",
            "  inflating: data/train/100095/mask/1-081.png  \n",
            "  inflating: data/train/100095/mask/1-082.png  \n",
            "  inflating: data/train/100095/mask/1-083.png  \n",
            "  inflating: data/train/100095/mask/1-084.png  \n",
            "  inflating: data/train/100095/mask/1-085.png  \n",
            "  inflating: data/train/100095/mask/1-086.png  \n",
            "  inflating: data/train/100095/mask/1-087.png  \n",
            "  inflating: data/train/100095/mask/1-088.png  \n",
            "  inflating: data/train/100095/mask/1-089.png  \n",
            "  inflating: data/train/100095/mask/1-090.png  \n",
            "  inflating: data/train/100095/mask/1-091.png  \n",
            "  inflating: data/train/100095/mask/1-092.png  \n",
            "  inflating: data/train/100095/mask/1-093.png  \n",
            "  inflating: data/train/100095/mask/1-094.png  \n",
            "  inflating: data/train/100095/mask/1-095.png  \n",
            "  inflating: data/train/100095/mask/1-096.png  \n",
            "  inflating: data/train/100095/mask/1-097.png  \n",
            "  inflating: data/train/100095/mask/1-098.png  \n",
            "  inflating: data/train/100095/mask/1-099.png  \n",
            "  inflating: data/train/100095/mask/1-100.png  \n",
            "  inflating: data/train/100095/mask/1-101.png  \n",
            "  inflating: data/train/100095/mask/1-102.png  \n",
            "  inflating: data/train/100095/mask/1-103.png  \n",
            "  inflating: data/train/100095/mask/1-104.png  \n",
            "  inflating: data/train/100095/mask/1-105.png  \n",
            "  inflating: data/train/100095/mask/1-106.png  \n",
            "  inflating: data/train/100095/mask/1-107.png  \n",
            "  inflating: data/train/100095/mask/1-108.png  \n",
            "  inflating: data/train/100095/mask/1-109.png  \n",
            "  inflating: data/train/100095/mask/1-110.png  \n",
            "  inflating: data/train/100095/mask/1-111.png  \n",
            "  inflating: data/train/100095/mask/1-112.png  \n",
            "  inflating: data/train/100095/mask/1-113.png  \n",
            "  inflating: data/train/100095/mask/1-114.png  \n",
            "  inflating: data/train/100095/mask/1-115.png  \n",
            "  inflating: data/train/100095/mask/1-116.png  \n",
            "  inflating: data/train/100095/mask/1-117.png  \n",
            "  inflating: data/train/100095/mask/1-118.png  \n",
            "  inflating: data/train/100095/mask/1-119.png  \n",
            "  inflating: data/train/100095/mask/1-120.png  \n",
            "  inflating: data/train/100095/mask/1-121.png  \n",
            "  inflating: data/train/100095/mask/1-122.png  \n",
            "  inflating: data/train/100095/mask/1-123.png  \n",
            "  inflating: data/train/100095/mask/1-124.png  \n",
            "  inflating: data/train/100095/mask/1-125.png  \n",
            "  inflating: data/train/100095/mask/1-126.png  \n",
            "  inflating: data/train/100095/mask/1-127.png  \n",
            "  inflating: data/train/100095/mask/1-128.png  \n",
            "  inflating: data/train/100095/mask/1-129.png  \n",
            "  inflating: data/train/100095/mask/1-130.png  \n",
            "  inflating: data/train/100095/mask/1-131.png  \n",
            "  inflating: data/train/100095/mask/1-132.png  \n",
            "  inflating: data/train/100095/mask/1-133.png  \n",
            "  inflating: data/train/100095/mask/1-134.png  \n",
            "  inflating: data/train/100095/mask/1-135.png  \n",
            "  inflating: data/train/100095/mask/1-136.png  \n",
            "  inflating: data/train/100095/mask/1-137.png  \n",
            "  inflating: data/train/100095/mask/1-138.png  \n",
            "  inflating: data/train/100095/mask/1-139.png  \n",
            "  inflating: data/train/100095/mask/1-140.png  \n",
            "  inflating: data/train/100095/mask/1-141.png  \n",
            "  inflating: data/train/100095/mask/1-142.png  \n",
            "  inflating: data/train/100095/mask/1-143.png  \n",
            "  inflating: data/train/100095/mask/1-144.png  \n"
          ]
        }
      ]
    },
    {
      "cell_type": "code",
      "source": [
        "!pip install albumentations\n",
        "import os\n",
        "import numpy as np\n",
        "import cv2\n",
        "from glob import glob\n",
        "from tqdm import tqdm\n",
        "from sklearn.model_selection import train_test_split\n",
        "from albumentations import HorizontalFlip, VerticalFlip, Rotate\n",
        "os.chdir(r\"/content\")\n",
        "\n",
        "def create_dir(path):\n",
        "    \"\"\" Create a directory. \"\"\"\n",
        "    if not os.path.exists(path):\n",
        "        os.makedirs(path)\n",
        "\n",
        "def load_data(path, split=0.2):\n",
        "    \"\"\" Load the images and masks \"\"\"\n",
        "    images = sorted(glob(f\"{path}/*/image/*.png\"))\n",
        "    masks = sorted(glob(f\"{path}/*/mask/*.png\"))\n",
        "\n",
        "    \"\"\" Split the data \"\"\"\n",
        "    split_size = int(len(images) * split)\n",
        "    train_x, valid_x = train_test_split(images, test_size=split_size, random_state=42)\n",
        "    train_y, valid_y = train_test_split(masks, test_size=split_size, random_state=42)\n",
        "\n",
        "    return (train_x, train_y), (valid_x, valid_y)\n",
        "\n",
        "def augment_data(images, masks, save_path, augment=True):\n",
        "    \"\"\" Performing data augmentation. \"\"\"\n",
        "    H = 512\n",
        "    W = 512\n",
        "\n",
        "    for idx, (x, y) in tqdm(enumerate(zip(images, masks)), total=len(images)):\n",
        "        \"\"\" Extracting the dir name and image name \"\"\"\n",
        "        dir_name = x.split(\"/\")[-3]\n",
        "        name = dir_name + \"_\" + x.split(\"/\")[-1].split(\".\")[0]\n",
        "\n",
        "        \"\"\" Read the image and mask \"\"\"\n",
        "        x = cv2.imread(x, cv2.IMREAD_COLOR)\n",
        "        y = cv2.imread(y, cv2.IMREAD_COLOR)\n",
        "\n",
        "        if augment == True:\n",
        "            aug = HorizontalFlip(p=1.0)\n",
        "            augmented = aug(image=x, mask=y)\n",
        "            x1 = augmented[\"image\"]\n",
        "            y1 = augmented[\"mask\"]\n",
        "\n",
        "            aug = VerticalFlip(p=1)\n",
        "            augmented = aug(image=x, mask=y)\n",
        "            x2 = augmented['image']\n",
        "            y2 = augmented['mask']\n",
        "\n",
        "            aug = Rotate(limit=45, p=1.0)\n",
        "            augmented = aug(image=x, mask=y)\n",
        "            x3 = augmented[\"image\"]\n",
        "            y3 = augmented[\"mask\"]\n",
        "\n",
        "            X = [x, x1, x2, x3]\n",
        "            Y = [y, y1, y2, y3]\n",
        "\n",
        "        else:\n",
        "            X = [x]\n",
        "            #print(len(X))\n",
        "            Y =[y]\n",
        "\n",
        "        idx = 0\n",
        "        for i, m in zip(X, Y):\n",
        "            i = cv2.resize(i, (W, H))\n",
        "            m = cv2.resize(m, (W, H))\n",
        "            m = m/255.0\n",
        "            m = (m > 0.5) * 255\n",
        "\n",
        "            if len(X) == 1:  # each loop it will take one image\n",
        "                tmp_image_name = f\"{name}.jpg\"\n",
        "                tmp_mask_name  = f\"{name}.jpg\"\n",
        "            else:\n",
        "                tmp_image_name = f\"{name}_{idx}.jpg\"\n",
        "                tmp_mask_name  = f\"{name}_{idx}.jpg\"\n",
        "\n",
        "            image_path = os.path.join(save_path, \"image/\", tmp_image_name)\n",
        "            mask_path  = os.path.join(save_path, \"mask/\", tmp_mask_name)\n",
        "\n",
        "            cv2.imwrite(image_path, i)\n",
        "            cv2.imwrite(mask_path, m)\n",
        "\n",
        "            idx += 1\n",
        "\n",
        "\n",
        "\n",
        "if __name__ == \"__main__\":\n",
        "    \"\"\" Load the dataset \"\"\"\n",
        "    dataset_path = os.path.join(\"data\", \"train\")\n",
        "    (train_x, train_y), (valid_x, valid_y) = load_data(dataset_path, split=0.2)\n",
        "\n",
        "    print(\"Train: \", len(train_x))\n",
        "    print(\"Valid: \", len(valid_x))\n",
        "\n",
        "    create_dir(\"new_data/train/image/\")\n",
        "    create_dir(\"new_data/train/mask/\")\n",
        "    create_dir(\"new_data/valid/image/\")\n",
        "    create_dir(\"new_data/valid/mask/\")\n",
        "\n",
        "    augment_data(train_x, train_y, \"new_data/train/\", augment=True)\n",
        "    augment_data(valid_x, valid_y, \"new_data/valid/\", augment=False)"
      ],
      "metadata": {
        "colab": {
          "base_uri": "https://localhost:8080/"
        },
        "id": "W5VE8-wq8ebK",
        "outputId": "01f307b3-b72f-4890-cf7a-1545b6235e2c"
      },
      "execution_count": 9,
      "outputs": [
        {
          "output_type": "stream",
          "name": "stdout",
          "text": [
            "Requirement already satisfied: albumentations in /usr/local/lib/python3.10/dist-packages (1.4.14)\n",
            "Requirement already satisfied: numpy>=1.24.4 in /usr/local/lib/python3.10/dist-packages (from albumentations) (1.26.4)\n",
            "Requirement already satisfied: scipy>=1.10.0 in /usr/local/lib/python3.10/dist-packages (from albumentations) (1.13.1)\n",
            "Requirement already satisfied: scikit-image>=0.21.0 in /usr/local/lib/python3.10/dist-packages (from albumentations) (0.23.2)\n",
            "Requirement already satisfied: PyYAML in /usr/local/lib/python3.10/dist-packages (from albumentations) (6.0.2)\n",
            "Requirement already satisfied: typing-extensions>=4.9.0 in /usr/local/lib/python3.10/dist-packages (from albumentations) (4.12.2)\n",
            "Requirement already satisfied: pydantic>=2.7.0 in /usr/local/lib/python3.10/dist-packages (from albumentations) (2.9.1)\n",
            "Requirement already satisfied: albucore>=0.0.13 in /usr/local/lib/python3.10/dist-packages (from albumentations) (0.0.14)\n",
            "Requirement already satisfied: eval-type-backport in /usr/local/lib/python3.10/dist-packages (from albumentations) (0.2.0)\n",
            "Requirement already satisfied: opencv-python-headless>=4.9.0.80 in /usr/local/lib/python3.10/dist-packages (from albumentations) (4.10.0.84)\n",
            "Requirement already satisfied: annotated-types>=0.6.0 in /usr/local/lib/python3.10/dist-packages (from pydantic>=2.7.0->albumentations) (0.7.0)\n",
            "Requirement already satisfied: pydantic-core==2.23.3 in /usr/local/lib/python3.10/dist-packages (from pydantic>=2.7.0->albumentations) (2.23.3)\n",
            "Requirement already satisfied: networkx>=2.8 in /usr/local/lib/python3.10/dist-packages (from scikit-image>=0.21.0->albumentations) (3.3)\n",
            "Requirement already satisfied: pillow>=9.1 in /usr/local/lib/python3.10/dist-packages (from scikit-image>=0.21.0->albumentations) (9.4.0)\n",
            "Requirement already satisfied: imageio>=2.33 in /usr/local/lib/python3.10/dist-packages (from scikit-image>=0.21.0->albumentations) (2.34.2)\n",
            "Requirement already satisfied: tifffile>=2022.8.12 in /usr/local/lib/python3.10/dist-packages (from scikit-image>=0.21.0->albumentations) (2024.8.30)\n",
            "Requirement already satisfied: packaging>=21 in /usr/local/lib/python3.10/dist-packages (from scikit-image>=0.21.0->albumentations) (24.1)\n",
            "Requirement already satisfied: lazy-loader>=0.4 in /usr/local/lib/python3.10/dist-packages (from scikit-image>=0.21.0->albumentations) (0.4)\n",
            "Train:  2026\n",
            "Valid:  506\n"
          ]
        },
        {
          "output_type": "stream",
          "name": "stderr",
          "text": [
            "100%|██████████| 2026/2026 [01:33<00:00, 21.62it/s]\n",
            "100%|██████████| 506/506 [00:07<00:00, 64.97it/s]\n"
          ]
        }
      ]
    },
    {
      "cell_type": "code",
      "source": [
        "!git clone https://github.com/AhmedIbrahimai/CT-Heart-segmentation-using-U-NET-part-two-training-the-model.git\n"
      ],
      "metadata": {
        "colab": {
          "base_uri": "https://localhost:8080/"
        },
        "id": "IHH7kV5siEor",
        "outputId": "c21995e2-8036-44d8-b5b5-6cb075154b2e"
      },
      "execution_count": 10,
      "outputs": [
        {
          "output_type": "stream",
          "name": "stdout",
          "text": [
            "fatal: destination path 'CT-Heart-segmentation-using-U-NET-part-two-training-the-model' already exists and is not an empty directory.\n"
          ]
        }
      ]
    },
    {
      "cell_type": "code",
      "source": [
        "from google.colab import drive\n",
        "drive.mount('/content/drive')"
      ],
      "metadata": {
        "colab": {
          "base_uri": "https://localhost:8080/"
        },
        "id": "XlmAWZUwrKdo",
        "outputId": "b43a4fc2-1910-4a19-fb65-de2c0d27b0fa"
      },
      "execution_count": 12,
      "outputs": [
        {
          "output_type": "stream",
          "name": "stdout",
          "text": [
            "Drive already mounted at /content/drive; to attempt to forcibly remount, call drive.mount(\"/content/drive\", force_remount=True).\n"
          ]
        }
      ]
    },
    {
      "cell_type": "code",
      "source": [
        "\n",
        "from tensorflow.keras.layers import Conv2D, BatchNormalization, Activation, MaxPool2D, Conv2DTranspose, Concatenate, Input\n",
        "from tensorflow.keras.models import Model\n",
        "\n",
        "def conv_block(input, num_filters):\n",
        "    x = Conv2D(num_filters, 3, padding=\"same\")(input)\n",
        "    x = BatchNormalization()(x)\n",
        "    x = Activation(\"relu\")(x)\n",
        "\n",
        "    x = Conv2D(num_filters, 3, padding=\"same\")(x)\n",
        "    x = BatchNormalization()(x)\n",
        "    x = Activation(\"relu\")(x)\n",
        "\n",
        "    return x\n",
        "\n",
        "\n",
        "def encoder_block(input, num_filters):\n",
        "    x = conv_block(input, num_filters)\n",
        "    p = MaxPool2D((2, 2))(x)\n",
        "    return x, p\n",
        "\n",
        "\n",
        "def decoder_block(input, skip_features, num_filters):\n",
        "    x = Conv2DTranspose(num_filters, (2, 2), strides=2, padding=\"same\")(input)\n",
        "    x = Concatenate()([x, skip_features])\n",
        "    x = conv_block(x, num_filters)\n",
        "    return x\n",
        "\n",
        "def build_unet(input_shape):\n",
        "    inputs = Input(input_shape)\n",
        "\n",
        "    s1, p1 = encoder_block(inputs, 64)\n",
        "    s2, p2 = encoder_block(p1, 128)\n",
        "    s3, p3 = encoder_block(p2, 256)\n",
        "    s4, p4 = encoder_block(p3, 512)\n",
        "\n",
        "    b1 = conv_block(p4, 1024)\n",
        "\n",
        "    d1 = decoder_block(b1, s4, 512)\n",
        "    d2 = decoder_block(d1, s3, 256)\n",
        "    d3 = decoder_block(d2, s2, 128)\n",
        "    d4 = decoder_block(d3, s1, 64)\n",
        "\n",
        "    outputs = Conv2D(1, 1, padding=\"same\", activation=\"sigmoid\")(d4)\n",
        "\n",
        "    model = Model(inputs, outputs, name=\"U-Net\")\n",
        "    return model\n",
        "\n",
        "\n",
        "if __name__ == \"__main__\":\n",
        "    input_shape = (512, 512, 3)\n",
        "    model = build_unet(input_shape)\n",
        "    model.summary()"
      ],
      "metadata": {
        "colab": {
          "base_uri": "https://localhost:8080/",
          "height": 1000
        },
        "id": "BXIDL-ZVjbI9",
        "outputId": "e39a629c-140c-455a-e1a0-29e42b5c6a37"
      },
      "execution_count": 11,
      "outputs": [
        {
          "output_type": "display_data",
          "data": {
            "text/plain": [
              "\u001b[1mModel: \"U-Net\"\u001b[0m\n"
            ],
            "text/html": [
              "<pre style=\"white-space:pre;overflow-x:auto;line-height:normal;font-family:Menlo,'DejaVu Sans Mono',consolas,'Courier New',monospace\"><span style=\"font-weight: bold\">Model: \"U-Net\"</span>\n",
              "</pre>\n"
            ]
          },
          "metadata": {}
        },
        {
          "output_type": "display_data",
          "data": {
            "text/plain": [
              "┏━━━━━━━━━━━━━━━━━━━━━━━━━━━┳━━━━━━━━━━━━━━━━━━━━━━━━┳━━━━━━━━━━━━━━━━┳━━━━━━━━━━━━━━━━━━━━━━━━┓\n",
              "┃\u001b[1m \u001b[0m\u001b[1mLayer (type)             \u001b[0m\u001b[1m \u001b[0m┃\u001b[1m \u001b[0m\u001b[1mOutput Shape          \u001b[0m\u001b[1m \u001b[0m┃\u001b[1m \u001b[0m\u001b[1m       Param #\u001b[0m\u001b[1m \u001b[0m┃\u001b[1m \u001b[0m\u001b[1mConnected to          \u001b[0m\u001b[1m \u001b[0m┃\n",
              "┡━━━━━━━━━━━━━━━━━━━━━━━━━━━╇━━━━━━━━━━━━━━━━━━━━━━━━╇━━━━━━━━━━━━━━━━╇━━━━━━━━━━━━━━━━━━━━━━━━┩\n",
              "│ input_layer (\u001b[38;5;33mInputLayer\u001b[0m)  │ (\u001b[38;5;45mNone\u001b[0m, \u001b[38;5;34m512\u001b[0m, \u001b[38;5;34m512\u001b[0m, \u001b[38;5;34m3\u001b[0m)    │              \u001b[38;5;34m0\u001b[0m │ -                      │\n",
              "├───────────────────────────┼────────────────────────┼────────────────┼────────────────────────┤\n",
              "│ conv2d (\u001b[38;5;33mConv2D\u001b[0m)           │ (\u001b[38;5;45mNone\u001b[0m, \u001b[38;5;34m512\u001b[0m, \u001b[38;5;34m512\u001b[0m, \u001b[38;5;34m64\u001b[0m)   │          \u001b[38;5;34m1,792\u001b[0m │ input_layer[\u001b[38;5;34m0\u001b[0m][\u001b[38;5;34m0\u001b[0m]      │\n",
              "├───────────────────────────┼────────────────────────┼────────────────┼────────────────────────┤\n",
              "│ batch_normalization       │ (\u001b[38;5;45mNone\u001b[0m, \u001b[38;5;34m512\u001b[0m, \u001b[38;5;34m512\u001b[0m, \u001b[38;5;34m64\u001b[0m)   │            \u001b[38;5;34m256\u001b[0m │ conv2d[\u001b[38;5;34m0\u001b[0m][\u001b[38;5;34m0\u001b[0m]           │\n",
              "│ (\u001b[38;5;33mBatchNormalization\u001b[0m)      │                        │                │                        │\n",
              "├───────────────────────────┼────────────────────────┼────────────────┼────────────────────────┤\n",
              "│ activation (\u001b[38;5;33mActivation\u001b[0m)   │ (\u001b[38;5;45mNone\u001b[0m, \u001b[38;5;34m512\u001b[0m, \u001b[38;5;34m512\u001b[0m, \u001b[38;5;34m64\u001b[0m)   │              \u001b[38;5;34m0\u001b[0m │ batch_normalization[\u001b[38;5;34m0\u001b[0m… │\n",
              "├───────────────────────────┼────────────────────────┼────────────────┼────────────────────────┤\n",
              "│ conv2d_1 (\u001b[38;5;33mConv2D\u001b[0m)         │ (\u001b[38;5;45mNone\u001b[0m, \u001b[38;5;34m512\u001b[0m, \u001b[38;5;34m512\u001b[0m, \u001b[38;5;34m64\u001b[0m)   │         \u001b[38;5;34m36,928\u001b[0m │ activation[\u001b[38;5;34m0\u001b[0m][\u001b[38;5;34m0\u001b[0m]       │\n",
              "├───────────────────────────┼────────────────────────┼────────────────┼────────────────────────┤\n",
              "│ batch_normalization_1     │ (\u001b[38;5;45mNone\u001b[0m, \u001b[38;5;34m512\u001b[0m, \u001b[38;5;34m512\u001b[0m, \u001b[38;5;34m64\u001b[0m)   │            \u001b[38;5;34m256\u001b[0m │ conv2d_1[\u001b[38;5;34m0\u001b[0m][\u001b[38;5;34m0\u001b[0m]         │\n",
              "│ (\u001b[38;5;33mBatchNormalization\u001b[0m)      │                        │                │                        │\n",
              "├───────────────────────────┼────────────────────────┼────────────────┼────────────────────────┤\n",
              "│ activation_1 (\u001b[38;5;33mActivation\u001b[0m) │ (\u001b[38;5;45mNone\u001b[0m, \u001b[38;5;34m512\u001b[0m, \u001b[38;5;34m512\u001b[0m, \u001b[38;5;34m64\u001b[0m)   │              \u001b[38;5;34m0\u001b[0m │ batch_normalization_1… │\n",
              "├───────────────────────────┼────────────────────────┼────────────────┼────────────────────────┤\n",
              "│ max_pooling2d             │ (\u001b[38;5;45mNone\u001b[0m, \u001b[38;5;34m256\u001b[0m, \u001b[38;5;34m256\u001b[0m, \u001b[38;5;34m64\u001b[0m)   │              \u001b[38;5;34m0\u001b[0m │ activation_1[\u001b[38;5;34m0\u001b[0m][\u001b[38;5;34m0\u001b[0m]     │\n",
              "│ (\u001b[38;5;33mMaxPooling2D\u001b[0m)            │                        │                │                        │\n",
              "├───────────────────────────┼────────────────────────┼────────────────┼────────────────────────┤\n",
              "│ conv2d_2 (\u001b[38;5;33mConv2D\u001b[0m)         │ (\u001b[38;5;45mNone\u001b[0m, \u001b[38;5;34m256\u001b[0m, \u001b[38;5;34m256\u001b[0m, \u001b[38;5;34m128\u001b[0m)  │         \u001b[38;5;34m73,856\u001b[0m │ max_pooling2d[\u001b[38;5;34m0\u001b[0m][\u001b[38;5;34m0\u001b[0m]    │\n",
              "├───────────────────────────┼────────────────────────┼────────────────┼────────────────────────┤\n",
              "│ batch_normalization_2     │ (\u001b[38;5;45mNone\u001b[0m, \u001b[38;5;34m256\u001b[0m, \u001b[38;5;34m256\u001b[0m, \u001b[38;5;34m128\u001b[0m)  │            \u001b[38;5;34m512\u001b[0m │ conv2d_2[\u001b[38;5;34m0\u001b[0m][\u001b[38;5;34m0\u001b[0m]         │\n",
              "│ (\u001b[38;5;33mBatchNormalization\u001b[0m)      │                        │                │                        │\n",
              "├───────────────────────────┼────────────────────────┼────────────────┼────────────────────────┤\n",
              "│ activation_2 (\u001b[38;5;33mActivation\u001b[0m) │ (\u001b[38;5;45mNone\u001b[0m, \u001b[38;5;34m256\u001b[0m, \u001b[38;5;34m256\u001b[0m, \u001b[38;5;34m128\u001b[0m)  │              \u001b[38;5;34m0\u001b[0m │ batch_normalization_2… │\n",
              "├───────────────────────────┼────────────────────────┼────────────────┼────────────────────────┤\n",
              "│ conv2d_3 (\u001b[38;5;33mConv2D\u001b[0m)         │ (\u001b[38;5;45mNone\u001b[0m, \u001b[38;5;34m256\u001b[0m, \u001b[38;5;34m256\u001b[0m, \u001b[38;5;34m128\u001b[0m)  │        \u001b[38;5;34m147,584\u001b[0m │ activation_2[\u001b[38;5;34m0\u001b[0m][\u001b[38;5;34m0\u001b[0m]     │\n",
              "├───────────────────────────┼────────────────────────┼────────────────┼────────────────────────┤\n",
              "│ batch_normalization_3     │ (\u001b[38;5;45mNone\u001b[0m, \u001b[38;5;34m256\u001b[0m, \u001b[38;5;34m256\u001b[0m, \u001b[38;5;34m128\u001b[0m)  │            \u001b[38;5;34m512\u001b[0m │ conv2d_3[\u001b[38;5;34m0\u001b[0m][\u001b[38;5;34m0\u001b[0m]         │\n",
              "│ (\u001b[38;5;33mBatchNormalization\u001b[0m)      │                        │                │                        │\n",
              "├───────────────────────────┼────────────────────────┼────────────────┼────────────────────────┤\n",
              "│ activation_3 (\u001b[38;5;33mActivation\u001b[0m) │ (\u001b[38;5;45mNone\u001b[0m, \u001b[38;5;34m256\u001b[0m, \u001b[38;5;34m256\u001b[0m, \u001b[38;5;34m128\u001b[0m)  │              \u001b[38;5;34m0\u001b[0m │ batch_normalization_3… │\n",
              "├───────────────────────────┼────────────────────────┼────────────────┼────────────────────────┤\n",
              "│ max_pooling2d_1           │ (\u001b[38;5;45mNone\u001b[0m, \u001b[38;5;34m128\u001b[0m, \u001b[38;5;34m128\u001b[0m, \u001b[38;5;34m128\u001b[0m)  │              \u001b[38;5;34m0\u001b[0m │ activation_3[\u001b[38;5;34m0\u001b[0m][\u001b[38;5;34m0\u001b[0m]     │\n",
              "│ (\u001b[38;5;33mMaxPooling2D\u001b[0m)            │                        │                │                        │\n",
              "├───────────────────────────┼────────────────────────┼────────────────┼────────────────────────┤\n",
              "│ conv2d_4 (\u001b[38;5;33mConv2D\u001b[0m)         │ (\u001b[38;5;45mNone\u001b[0m, \u001b[38;5;34m128\u001b[0m, \u001b[38;5;34m128\u001b[0m, \u001b[38;5;34m256\u001b[0m)  │        \u001b[38;5;34m295,168\u001b[0m │ max_pooling2d_1[\u001b[38;5;34m0\u001b[0m][\u001b[38;5;34m0\u001b[0m]  │\n",
              "├───────────────────────────┼────────────────────────┼────────────────┼────────────────────────┤\n",
              "│ batch_normalization_4     │ (\u001b[38;5;45mNone\u001b[0m, \u001b[38;5;34m128\u001b[0m, \u001b[38;5;34m128\u001b[0m, \u001b[38;5;34m256\u001b[0m)  │          \u001b[38;5;34m1,024\u001b[0m │ conv2d_4[\u001b[38;5;34m0\u001b[0m][\u001b[38;5;34m0\u001b[0m]         │\n",
              "│ (\u001b[38;5;33mBatchNormalization\u001b[0m)      │                        │                │                        │\n",
              "├───────────────────────────┼────────────────────────┼────────────────┼────────────────────────┤\n",
              "│ activation_4 (\u001b[38;5;33mActivation\u001b[0m) │ (\u001b[38;5;45mNone\u001b[0m, \u001b[38;5;34m128\u001b[0m, \u001b[38;5;34m128\u001b[0m, \u001b[38;5;34m256\u001b[0m)  │              \u001b[38;5;34m0\u001b[0m │ batch_normalization_4… │\n",
              "├───────────────────────────┼────────────────────────┼────────────────┼────────────────────────┤\n",
              "│ conv2d_5 (\u001b[38;5;33mConv2D\u001b[0m)         │ (\u001b[38;5;45mNone\u001b[0m, \u001b[38;5;34m128\u001b[0m, \u001b[38;5;34m128\u001b[0m, \u001b[38;5;34m256\u001b[0m)  │        \u001b[38;5;34m590,080\u001b[0m │ activation_4[\u001b[38;5;34m0\u001b[0m][\u001b[38;5;34m0\u001b[0m]     │\n",
              "├───────────────────────────┼────────────────────────┼────────────────┼────────────────────────┤\n",
              "│ batch_normalization_5     │ (\u001b[38;5;45mNone\u001b[0m, \u001b[38;5;34m128\u001b[0m, \u001b[38;5;34m128\u001b[0m, \u001b[38;5;34m256\u001b[0m)  │          \u001b[38;5;34m1,024\u001b[0m │ conv2d_5[\u001b[38;5;34m0\u001b[0m][\u001b[38;5;34m0\u001b[0m]         │\n",
              "│ (\u001b[38;5;33mBatchNormalization\u001b[0m)      │                        │                │                        │\n",
              "├───────────────────────────┼────────────────────────┼────────────────┼────────────────────────┤\n",
              "│ activation_5 (\u001b[38;5;33mActivation\u001b[0m) │ (\u001b[38;5;45mNone\u001b[0m, \u001b[38;5;34m128\u001b[0m, \u001b[38;5;34m128\u001b[0m, \u001b[38;5;34m256\u001b[0m)  │              \u001b[38;5;34m0\u001b[0m │ batch_normalization_5… │\n",
              "├───────────────────────────┼────────────────────────┼────────────────┼────────────────────────┤\n",
              "│ max_pooling2d_2           │ (\u001b[38;5;45mNone\u001b[0m, \u001b[38;5;34m64\u001b[0m, \u001b[38;5;34m64\u001b[0m, \u001b[38;5;34m256\u001b[0m)    │              \u001b[38;5;34m0\u001b[0m │ activation_5[\u001b[38;5;34m0\u001b[0m][\u001b[38;5;34m0\u001b[0m]     │\n",
              "│ (\u001b[38;5;33mMaxPooling2D\u001b[0m)            │                        │                │                        │\n",
              "├───────────────────────────┼────────────────────────┼────────────────┼────────────────────────┤\n",
              "│ conv2d_6 (\u001b[38;5;33mConv2D\u001b[0m)         │ (\u001b[38;5;45mNone\u001b[0m, \u001b[38;5;34m64\u001b[0m, \u001b[38;5;34m64\u001b[0m, \u001b[38;5;34m512\u001b[0m)    │      \u001b[38;5;34m1,180,160\u001b[0m │ max_pooling2d_2[\u001b[38;5;34m0\u001b[0m][\u001b[38;5;34m0\u001b[0m]  │\n",
              "├───────────────────────────┼────────────────────────┼────────────────┼────────────────────────┤\n",
              "│ batch_normalization_6     │ (\u001b[38;5;45mNone\u001b[0m, \u001b[38;5;34m64\u001b[0m, \u001b[38;5;34m64\u001b[0m, \u001b[38;5;34m512\u001b[0m)    │          \u001b[38;5;34m2,048\u001b[0m │ conv2d_6[\u001b[38;5;34m0\u001b[0m][\u001b[38;5;34m0\u001b[0m]         │\n",
              "│ (\u001b[38;5;33mBatchNormalization\u001b[0m)      │                        │                │                        │\n",
              "├───────────────────────────┼────────────────────────┼────────────────┼────────────────────────┤\n",
              "│ activation_6 (\u001b[38;5;33mActivation\u001b[0m) │ (\u001b[38;5;45mNone\u001b[0m, \u001b[38;5;34m64\u001b[0m, \u001b[38;5;34m64\u001b[0m, \u001b[38;5;34m512\u001b[0m)    │              \u001b[38;5;34m0\u001b[0m │ batch_normalization_6… │\n",
              "├───────────────────────────┼────────────────────────┼────────────────┼────────────────────────┤\n",
              "│ conv2d_7 (\u001b[38;5;33mConv2D\u001b[0m)         │ (\u001b[38;5;45mNone\u001b[0m, \u001b[38;5;34m64\u001b[0m, \u001b[38;5;34m64\u001b[0m, \u001b[38;5;34m512\u001b[0m)    │      \u001b[38;5;34m2,359,808\u001b[0m │ activation_6[\u001b[38;5;34m0\u001b[0m][\u001b[38;5;34m0\u001b[0m]     │\n",
              "├───────────────────────────┼────────────────────────┼────────────────┼────────────────────────┤\n",
              "│ batch_normalization_7     │ (\u001b[38;5;45mNone\u001b[0m, \u001b[38;5;34m64\u001b[0m, \u001b[38;5;34m64\u001b[0m, \u001b[38;5;34m512\u001b[0m)    │          \u001b[38;5;34m2,048\u001b[0m │ conv2d_7[\u001b[38;5;34m0\u001b[0m][\u001b[38;5;34m0\u001b[0m]         │\n",
              "│ (\u001b[38;5;33mBatchNormalization\u001b[0m)      │                        │                │                        │\n",
              "├───────────────────────────┼────────────────────────┼────────────────┼────────────────────────┤\n",
              "│ activation_7 (\u001b[38;5;33mActivation\u001b[0m) │ (\u001b[38;5;45mNone\u001b[0m, \u001b[38;5;34m64\u001b[0m, \u001b[38;5;34m64\u001b[0m, \u001b[38;5;34m512\u001b[0m)    │              \u001b[38;5;34m0\u001b[0m │ batch_normalization_7… │\n",
              "├───────────────────────────┼────────────────────────┼────────────────┼────────────────────────┤\n",
              "│ max_pooling2d_3           │ (\u001b[38;5;45mNone\u001b[0m, \u001b[38;5;34m32\u001b[0m, \u001b[38;5;34m32\u001b[0m, \u001b[38;5;34m512\u001b[0m)    │              \u001b[38;5;34m0\u001b[0m │ activation_7[\u001b[38;5;34m0\u001b[0m][\u001b[38;5;34m0\u001b[0m]     │\n",
              "│ (\u001b[38;5;33mMaxPooling2D\u001b[0m)            │                        │                │                        │\n",
              "├───────────────────────────┼────────────────────────┼────────────────┼────────────────────────┤\n",
              "│ conv2d_8 (\u001b[38;5;33mConv2D\u001b[0m)         │ (\u001b[38;5;45mNone\u001b[0m, \u001b[38;5;34m32\u001b[0m, \u001b[38;5;34m32\u001b[0m, \u001b[38;5;34m1024\u001b[0m)   │      \u001b[38;5;34m4,719,616\u001b[0m │ max_pooling2d_3[\u001b[38;5;34m0\u001b[0m][\u001b[38;5;34m0\u001b[0m]  │\n",
              "├───────────────────────────┼────────────────────────┼────────────────┼────────────────────────┤\n",
              "│ batch_normalization_8     │ (\u001b[38;5;45mNone\u001b[0m, \u001b[38;5;34m32\u001b[0m, \u001b[38;5;34m32\u001b[0m, \u001b[38;5;34m1024\u001b[0m)   │          \u001b[38;5;34m4,096\u001b[0m │ conv2d_8[\u001b[38;5;34m0\u001b[0m][\u001b[38;5;34m0\u001b[0m]         │\n",
              "│ (\u001b[38;5;33mBatchNormalization\u001b[0m)      │                        │                │                        │\n",
              "├───────────────────────────┼────────────────────────┼────────────────┼────────────────────────┤\n",
              "│ activation_8 (\u001b[38;5;33mActivation\u001b[0m) │ (\u001b[38;5;45mNone\u001b[0m, \u001b[38;5;34m32\u001b[0m, \u001b[38;5;34m32\u001b[0m, \u001b[38;5;34m1024\u001b[0m)   │              \u001b[38;5;34m0\u001b[0m │ batch_normalization_8… │\n",
              "├───────────────────────────┼────────────────────────┼────────────────┼────────────────────────┤\n",
              "│ conv2d_9 (\u001b[38;5;33mConv2D\u001b[0m)         │ (\u001b[38;5;45mNone\u001b[0m, \u001b[38;5;34m32\u001b[0m, \u001b[38;5;34m32\u001b[0m, \u001b[38;5;34m1024\u001b[0m)   │      \u001b[38;5;34m9,438,208\u001b[0m │ activation_8[\u001b[38;5;34m0\u001b[0m][\u001b[38;5;34m0\u001b[0m]     │\n",
              "├───────────────────────────┼────────────────────────┼────────────────┼────────────────────────┤\n",
              "│ batch_normalization_9     │ (\u001b[38;5;45mNone\u001b[0m, \u001b[38;5;34m32\u001b[0m, \u001b[38;5;34m32\u001b[0m, \u001b[38;5;34m1024\u001b[0m)   │          \u001b[38;5;34m4,096\u001b[0m │ conv2d_9[\u001b[38;5;34m0\u001b[0m][\u001b[38;5;34m0\u001b[0m]         │\n",
              "│ (\u001b[38;5;33mBatchNormalization\u001b[0m)      │                        │                │                        │\n",
              "├───────────────────────────┼────────────────────────┼────────────────┼────────────────────────┤\n",
              "│ activation_9 (\u001b[38;5;33mActivation\u001b[0m) │ (\u001b[38;5;45mNone\u001b[0m, \u001b[38;5;34m32\u001b[0m, \u001b[38;5;34m32\u001b[0m, \u001b[38;5;34m1024\u001b[0m)   │              \u001b[38;5;34m0\u001b[0m │ batch_normalization_9… │\n",
              "├───────────────────────────┼────────────────────────┼────────────────┼────────────────────────┤\n",
              "│ conv2d_transpose          │ (\u001b[38;5;45mNone\u001b[0m, \u001b[38;5;34m64\u001b[0m, \u001b[38;5;34m64\u001b[0m, \u001b[38;5;34m512\u001b[0m)    │      \u001b[38;5;34m2,097,664\u001b[0m │ activation_9[\u001b[38;5;34m0\u001b[0m][\u001b[38;5;34m0\u001b[0m]     │\n",
              "│ (\u001b[38;5;33mConv2DTranspose\u001b[0m)         │                        │                │                        │\n",
              "├───────────────────────────┼────────────────────────┼────────────────┼────────────────────────┤\n",
              "│ concatenate (\u001b[38;5;33mConcatenate\u001b[0m) │ (\u001b[38;5;45mNone\u001b[0m, \u001b[38;5;34m64\u001b[0m, \u001b[38;5;34m64\u001b[0m, \u001b[38;5;34m1024\u001b[0m)   │              \u001b[38;5;34m0\u001b[0m │ conv2d_transpose[\u001b[38;5;34m0\u001b[0m][\u001b[38;5;34m0\u001b[0m… │\n",
              "│                           │                        │                │ activation_7[\u001b[38;5;34m0\u001b[0m][\u001b[38;5;34m0\u001b[0m]     │\n",
              "├───────────────────────────┼────────────────────────┼────────────────┼────────────────────────┤\n",
              "│ conv2d_10 (\u001b[38;5;33mConv2D\u001b[0m)        │ (\u001b[38;5;45mNone\u001b[0m, \u001b[38;5;34m64\u001b[0m, \u001b[38;5;34m64\u001b[0m, \u001b[38;5;34m512\u001b[0m)    │      \u001b[38;5;34m4,719,104\u001b[0m │ concatenate[\u001b[38;5;34m0\u001b[0m][\u001b[38;5;34m0\u001b[0m]      │\n",
              "├───────────────────────────┼────────────────────────┼────────────────┼────────────────────────┤\n",
              "│ batch_normalization_10    │ (\u001b[38;5;45mNone\u001b[0m, \u001b[38;5;34m64\u001b[0m, \u001b[38;5;34m64\u001b[0m, \u001b[38;5;34m512\u001b[0m)    │          \u001b[38;5;34m2,048\u001b[0m │ conv2d_10[\u001b[38;5;34m0\u001b[0m][\u001b[38;5;34m0\u001b[0m]        │\n",
              "│ (\u001b[38;5;33mBatchNormalization\u001b[0m)      │                        │                │                        │\n",
              "├───────────────────────────┼────────────────────────┼────────────────┼────────────────────────┤\n",
              "│ activation_10             │ (\u001b[38;5;45mNone\u001b[0m, \u001b[38;5;34m64\u001b[0m, \u001b[38;5;34m64\u001b[0m, \u001b[38;5;34m512\u001b[0m)    │              \u001b[38;5;34m0\u001b[0m │ batch_normalization_1… │\n",
              "│ (\u001b[38;5;33mActivation\u001b[0m)              │                        │                │                        │\n",
              "├───────────────────────────┼────────────────────────┼────────────────┼────────────────────────┤\n",
              "│ conv2d_11 (\u001b[38;5;33mConv2D\u001b[0m)        │ (\u001b[38;5;45mNone\u001b[0m, \u001b[38;5;34m64\u001b[0m, \u001b[38;5;34m64\u001b[0m, \u001b[38;5;34m512\u001b[0m)    │      \u001b[38;5;34m2,359,808\u001b[0m │ activation_10[\u001b[38;5;34m0\u001b[0m][\u001b[38;5;34m0\u001b[0m]    │\n",
              "├───────────────────────────┼────────────────────────┼────────────────┼────────────────────────┤\n",
              "│ batch_normalization_11    │ (\u001b[38;5;45mNone\u001b[0m, \u001b[38;5;34m64\u001b[0m, \u001b[38;5;34m64\u001b[0m, \u001b[38;5;34m512\u001b[0m)    │          \u001b[38;5;34m2,048\u001b[0m │ conv2d_11[\u001b[38;5;34m0\u001b[0m][\u001b[38;5;34m0\u001b[0m]        │\n",
              "│ (\u001b[38;5;33mBatchNormalization\u001b[0m)      │                        │                │                        │\n",
              "├───────────────────────────┼────────────────────────┼────────────────┼────────────────────────┤\n",
              "│ activation_11             │ (\u001b[38;5;45mNone\u001b[0m, \u001b[38;5;34m64\u001b[0m, \u001b[38;5;34m64\u001b[0m, \u001b[38;5;34m512\u001b[0m)    │              \u001b[38;5;34m0\u001b[0m │ batch_normalization_1… │\n",
              "│ (\u001b[38;5;33mActivation\u001b[0m)              │                        │                │                        │\n",
              "├───────────────────────────┼────────────────────────┼────────────────┼────────────────────────┤\n",
              "│ conv2d_transpose_1        │ (\u001b[38;5;45mNone\u001b[0m, \u001b[38;5;34m128\u001b[0m, \u001b[38;5;34m128\u001b[0m, \u001b[38;5;34m256\u001b[0m)  │        \u001b[38;5;34m524,544\u001b[0m │ activation_11[\u001b[38;5;34m0\u001b[0m][\u001b[38;5;34m0\u001b[0m]    │\n",
              "│ (\u001b[38;5;33mConv2DTranspose\u001b[0m)         │                        │                │                        │\n",
              "├───────────────────────────┼────────────────────────┼────────────────┼────────────────────────┤\n",
              "│ concatenate_1             │ (\u001b[38;5;45mNone\u001b[0m, \u001b[38;5;34m128\u001b[0m, \u001b[38;5;34m128\u001b[0m, \u001b[38;5;34m512\u001b[0m)  │              \u001b[38;5;34m0\u001b[0m │ conv2d_transpose_1[\u001b[38;5;34m0\u001b[0m]… │\n",
              "│ (\u001b[38;5;33mConcatenate\u001b[0m)             │                        │                │ activation_5[\u001b[38;5;34m0\u001b[0m][\u001b[38;5;34m0\u001b[0m]     │\n",
              "├───────────────────────────┼────────────────────────┼────────────────┼────────────────────────┤\n",
              "│ conv2d_12 (\u001b[38;5;33mConv2D\u001b[0m)        │ (\u001b[38;5;45mNone\u001b[0m, \u001b[38;5;34m128\u001b[0m, \u001b[38;5;34m128\u001b[0m, \u001b[38;5;34m256\u001b[0m)  │      \u001b[38;5;34m1,179,904\u001b[0m │ concatenate_1[\u001b[38;5;34m0\u001b[0m][\u001b[38;5;34m0\u001b[0m]    │\n",
              "├───────────────────────────┼────────────────────────┼────────────────┼────────────────────────┤\n",
              "│ batch_normalization_12    │ (\u001b[38;5;45mNone\u001b[0m, \u001b[38;5;34m128\u001b[0m, \u001b[38;5;34m128\u001b[0m, \u001b[38;5;34m256\u001b[0m)  │          \u001b[38;5;34m1,024\u001b[0m │ conv2d_12[\u001b[38;5;34m0\u001b[0m][\u001b[38;5;34m0\u001b[0m]        │\n",
              "│ (\u001b[38;5;33mBatchNormalization\u001b[0m)      │                        │                │                        │\n",
              "├───────────────────────────┼────────────────────────┼────────────────┼────────────────────────┤\n",
              "│ activation_12             │ (\u001b[38;5;45mNone\u001b[0m, \u001b[38;5;34m128\u001b[0m, \u001b[38;5;34m128\u001b[0m, \u001b[38;5;34m256\u001b[0m)  │              \u001b[38;5;34m0\u001b[0m │ batch_normalization_1… │\n",
              "│ (\u001b[38;5;33mActivation\u001b[0m)              │                        │                │                        │\n",
              "├───────────────────────────┼────────────────────────┼────────────────┼────────────────────────┤\n",
              "│ conv2d_13 (\u001b[38;5;33mConv2D\u001b[0m)        │ (\u001b[38;5;45mNone\u001b[0m, \u001b[38;5;34m128\u001b[0m, \u001b[38;5;34m128\u001b[0m, \u001b[38;5;34m256\u001b[0m)  │        \u001b[38;5;34m590,080\u001b[0m │ activation_12[\u001b[38;5;34m0\u001b[0m][\u001b[38;5;34m0\u001b[0m]    │\n",
              "├───────────────────────────┼────────────────────────┼────────────────┼────────────────────────┤\n",
              "│ batch_normalization_13    │ (\u001b[38;5;45mNone\u001b[0m, \u001b[38;5;34m128\u001b[0m, \u001b[38;5;34m128\u001b[0m, \u001b[38;5;34m256\u001b[0m)  │          \u001b[38;5;34m1,024\u001b[0m │ conv2d_13[\u001b[38;5;34m0\u001b[0m][\u001b[38;5;34m0\u001b[0m]        │\n",
              "│ (\u001b[38;5;33mBatchNormalization\u001b[0m)      │                        │                │                        │\n",
              "├───────────────────────────┼────────────────────────┼────────────────┼────────────────────────┤\n",
              "│ activation_13             │ (\u001b[38;5;45mNone\u001b[0m, \u001b[38;5;34m128\u001b[0m, \u001b[38;5;34m128\u001b[0m, \u001b[38;5;34m256\u001b[0m)  │              \u001b[38;5;34m0\u001b[0m │ batch_normalization_1… │\n",
              "│ (\u001b[38;5;33mActivation\u001b[0m)              │                        │                │                        │\n",
              "├───────────────────────────┼────────────────────────┼────────────────┼────────────────────────┤\n",
              "│ conv2d_transpose_2        │ (\u001b[38;5;45mNone\u001b[0m, \u001b[38;5;34m256\u001b[0m, \u001b[38;5;34m256\u001b[0m, \u001b[38;5;34m128\u001b[0m)  │        \u001b[38;5;34m131,200\u001b[0m │ activation_13[\u001b[38;5;34m0\u001b[0m][\u001b[38;5;34m0\u001b[0m]    │\n",
              "│ (\u001b[38;5;33mConv2DTranspose\u001b[0m)         │                        │                │                        │\n",
              "├───────────────────────────┼────────────────────────┼────────────────┼────────────────────────┤\n",
              "│ concatenate_2             │ (\u001b[38;5;45mNone\u001b[0m, \u001b[38;5;34m256\u001b[0m, \u001b[38;5;34m256\u001b[0m, \u001b[38;5;34m256\u001b[0m)  │              \u001b[38;5;34m0\u001b[0m │ conv2d_transpose_2[\u001b[38;5;34m0\u001b[0m]… │\n",
              "│ (\u001b[38;5;33mConcatenate\u001b[0m)             │                        │                │ activation_3[\u001b[38;5;34m0\u001b[0m][\u001b[38;5;34m0\u001b[0m]     │\n",
              "├───────────────────────────┼────────────────────────┼────────────────┼────────────────────────┤\n",
              "│ conv2d_14 (\u001b[38;5;33mConv2D\u001b[0m)        │ (\u001b[38;5;45mNone\u001b[0m, \u001b[38;5;34m256\u001b[0m, \u001b[38;5;34m256\u001b[0m, \u001b[38;5;34m128\u001b[0m)  │        \u001b[38;5;34m295,040\u001b[0m │ concatenate_2[\u001b[38;5;34m0\u001b[0m][\u001b[38;5;34m0\u001b[0m]    │\n",
              "├───────────────────────────┼────────────────────────┼────────────────┼────────────────────────┤\n",
              "│ batch_normalization_14    │ (\u001b[38;5;45mNone\u001b[0m, \u001b[38;5;34m256\u001b[0m, \u001b[38;5;34m256\u001b[0m, \u001b[38;5;34m128\u001b[0m)  │            \u001b[38;5;34m512\u001b[0m │ conv2d_14[\u001b[38;5;34m0\u001b[0m][\u001b[38;5;34m0\u001b[0m]        │\n",
              "│ (\u001b[38;5;33mBatchNormalization\u001b[0m)      │                        │                │                        │\n",
              "├───────────────────────────┼────────────────────────┼────────────────┼────────────────────────┤\n",
              "│ activation_14             │ (\u001b[38;5;45mNone\u001b[0m, \u001b[38;5;34m256\u001b[0m, \u001b[38;5;34m256\u001b[0m, \u001b[38;5;34m128\u001b[0m)  │              \u001b[38;5;34m0\u001b[0m │ batch_normalization_1… │\n",
              "│ (\u001b[38;5;33mActivation\u001b[0m)              │                        │                │                        │\n",
              "├───────────────────────────┼────────────────────────┼────────────────┼────────────────────────┤\n",
              "│ conv2d_15 (\u001b[38;5;33mConv2D\u001b[0m)        │ (\u001b[38;5;45mNone\u001b[0m, \u001b[38;5;34m256\u001b[0m, \u001b[38;5;34m256\u001b[0m, \u001b[38;5;34m128\u001b[0m)  │        \u001b[38;5;34m147,584\u001b[0m │ activation_14[\u001b[38;5;34m0\u001b[0m][\u001b[38;5;34m0\u001b[0m]    │\n",
              "├───────────────────────────┼────────────────────────┼────────────────┼────────────────────────┤\n",
              "│ batch_normalization_15    │ (\u001b[38;5;45mNone\u001b[0m, \u001b[38;5;34m256\u001b[0m, \u001b[38;5;34m256\u001b[0m, \u001b[38;5;34m128\u001b[0m)  │            \u001b[38;5;34m512\u001b[0m │ conv2d_15[\u001b[38;5;34m0\u001b[0m][\u001b[38;5;34m0\u001b[0m]        │\n",
              "│ (\u001b[38;5;33mBatchNormalization\u001b[0m)      │                        │                │                        │\n",
              "├───────────────────────────┼────────────────────────┼────────────────┼────────────────────────┤\n",
              "│ activation_15             │ (\u001b[38;5;45mNone\u001b[0m, \u001b[38;5;34m256\u001b[0m, \u001b[38;5;34m256\u001b[0m, \u001b[38;5;34m128\u001b[0m)  │              \u001b[38;5;34m0\u001b[0m │ batch_normalization_1… │\n",
              "│ (\u001b[38;5;33mActivation\u001b[0m)              │                        │                │                        │\n",
              "├───────────────────────────┼────────────────────────┼────────────────┼────────────────────────┤\n",
              "│ conv2d_transpose_3        │ (\u001b[38;5;45mNone\u001b[0m, \u001b[38;5;34m512\u001b[0m, \u001b[38;5;34m512\u001b[0m, \u001b[38;5;34m64\u001b[0m)   │         \u001b[38;5;34m32,832\u001b[0m │ activation_15[\u001b[38;5;34m0\u001b[0m][\u001b[38;5;34m0\u001b[0m]    │\n",
              "│ (\u001b[38;5;33mConv2DTranspose\u001b[0m)         │                        │                │                        │\n",
              "├───────────────────────────┼────────────────────────┼────────────────┼────────────────────────┤\n",
              "│ concatenate_3             │ (\u001b[38;5;45mNone\u001b[0m, \u001b[38;5;34m512\u001b[0m, \u001b[38;5;34m512\u001b[0m, \u001b[38;5;34m128\u001b[0m)  │              \u001b[38;5;34m0\u001b[0m │ conv2d_transpose_3[\u001b[38;5;34m0\u001b[0m]… │\n",
              "│ (\u001b[38;5;33mConcatenate\u001b[0m)             │                        │                │ activation_1[\u001b[38;5;34m0\u001b[0m][\u001b[38;5;34m0\u001b[0m]     │\n",
              "├───────────────────────────┼────────────────────────┼────────────────┼────────────────────────┤\n",
              "│ conv2d_16 (\u001b[38;5;33mConv2D\u001b[0m)        │ (\u001b[38;5;45mNone\u001b[0m, \u001b[38;5;34m512\u001b[0m, \u001b[38;5;34m512\u001b[0m, \u001b[38;5;34m64\u001b[0m)   │         \u001b[38;5;34m73,792\u001b[0m │ concatenate_3[\u001b[38;5;34m0\u001b[0m][\u001b[38;5;34m0\u001b[0m]    │\n",
              "├───────────────────────────┼────────────────────────┼────────────────┼────────────────────────┤\n",
              "│ batch_normalization_16    │ (\u001b[38;5;45mNone\u001b[0m, \u001b[38;5;34m512\u001b[0m, \u001b[38;5;34m512\u001b[0m, \u001b[38;5;34m64\u001b[0m)   │            \u001b[38;5;34m256\u001b[0m │ conv2d_16[\u001b[38;5;34m0\u001b[0m][\u001b[38;5;34m0\u001b[0m]        │\n",
              "│ (\u001b[38;5;33mBatchNormalization\u001b[0m)      │                        │                │                        │\n",
              "├───────────────────────────┼────────────────────────┼────────────────┼────────────────────────┤\n",
              "│ activation_16             │ (\u001b[38;5;45mNone\u001b[0m, \u001b[38;5;34m512\u001b[0m, \u001b[38;5;34m512\u001b[0m, \u001b[38;5;34m64\u001b[0m)   │              \u001b[38;5;34m0\u001b[0m │ batch_normalization_1… │\n",
              "│ (\u001b[38;5;33mActivation\u001b[0m)              │                        │                │                        │\n",
              "├───────────────────────────┼────────────────────────┼────────────────┼────────────────────────┤\n",
              "│ conv2d_17 (\u001b[38;5;33mConv2D\u001b[0m)        │ (\u001b[38;5;45mNone\u001b[0m, \u001b[38;5;34m512\u001b[0m, \u001b[38;5;34m512\u001b[0m, \u001b[38;5;34m64\u001b[0m)   │         \u001b[38;5;34m36,928\u001b[0m │ activation_16[\u001b[38;5;34m0\u001b[0m][\u001b[38;5;34m0\u001b[0m]    │\n",
              "├───────────────────────────┼────────────────────────┼────────────────┼────────────────────────┤\n",
              "│ batch_normalization_17    │ (\u001b[38;5;45mNone\u001b[0m, \u001b[38;5;34m512\u001b[0m, \u001b[38;5;34m512\u001b[0m, \u001b[38;5;34m64\u001b[0m)   │            \u001b[38;5;34m256\u001b[0m │ conv2d_17[\u001b[38;5;34m0\u001b[0m][\u001b[38;5;34m0\u001b[0m]        │\n",
              "│ (\u001b[38;5;33mBatchNormalization\u001b[0m)      │                        │                │                        │\n",
              "├───────────────────────────┼────────────────────────┼────────────────┼────────────────────────┤\n",
              "│ activation_17             │ (\u001b[38;5;45mNone\u001b[0m, \u001b[38;5;34m512\u001b[0m, \u001b[38;5;34m512\u001b[0m, \u001b[38;5;34m64\u001b[0m)   │              \u001b[38;5;34m0\u001b[0m │ batch_normalization_1… │\n",
              "│ (\u001b[38;5;33mActivation\u001b[0m)              │                        │                │                        │\n",
              "├───────────────────────────┼────────────────────────┼────────────────┼────────────────────────┤\n",
              "│ conv2d_18 (\u001b[38;5;33mConv2D\u001b[0m)        │ (\u001b[38;5;45mNone\u001b[0m, \u001b[38;5;34m512\u001b[0m, \u001b[38;5;34m512\u001b[0m, \u001b[38;5;34m1\u001b[0m)    │             \u001b[38;5;34m65\u001b[0m │ activation_17[\u001b[38;5;34m0\u001b[0m][\u001b[38;5;34m0\u001b[0m]    │\n",
              "└───────────────────────────┴────────────────────────┴────────────────┴────────────────────────┘\n"
            ],
            "text/html": [
              "<pre style=\"white-space:pre;overflow-x:auto;line-height:normal;font-family:Menlo,'DejaVu Sans Mono',consolas,'Courier New',monospace\">┏━━━━━━━━━━━━━━━━━━━━━━━━━━━┳━━━━━━━━━━━━━━━━━━━━━━━━┳━━━━━━━━━━━━━━━━┳━━━━━━━━━━━━━━━━━━━━━━━━┓\n",
              "┃<span style=\"font-weight: bold\"> Layer (type)              </span>┃<span style=\"font-weight: bold\"> Output Shape           </span>┃<span style=\"font-weight: bold\">        Param # </span>┃<span style=\"font-weight: bold\"> Connected to           </span>┃\n",
              "┡━━━━━━━━━━━━━━━━━━━━━━━━━━━╇━━━━━━━━━━━━━━━━━━━━━━━━╇━━━━━━━━━━━━━━━━╇━━━━━━━━━━━━━━━━━━━━━━━━┩\n",
              "│ input_layer (<span style=\"color: #0087ff; text-decoration-color: #0087ff\">InputLayer</span>)  │ (<span style=\"color: #00d7ff; text-decoration-color: #00d7ff\">None</span>, <span style=\"color: #00af00; text-decoration-color: #00af00\">512</span>, <span style=\"color: #00af00; text-decoration-color: #00af00\">512</span>, <span style=\"color: #00af00; text-decoration-color: #00af00\">3</span>)    │              <span style=\"color: #00af00; text-decoration-color: #00af00\">0</span> │ -                      │\n",
              "├───────────────────────────┼────────────────────────┼────────────────┼────────────────────────┤\n",
              "│ conv2d (<span style=\"color: #0087ff; text-decoration-color: #0087ff\">Conv2D</span>)           │ (<span style=\"color: #00d7ff; text-decoration-color: #00d7ff\">None</span>, <span style=\"color: #00af00; text-decoration-color: #00af00\">512</span>, <span style=\"color: #00af00; text-decoration-color: #00af00\">512</span>, <span style=\"color: #00af00; text-decoration-color: #00af00\">64</span>)   │          <span style=\"color: #00af00; text-decoration-color: #00af00\">1,792</span> │ input_layer[<span style=\"color: #00af00; text-decoration-color: #00af00\">0</span>][<span style=\"color: #00af00; text-decoration-color: #00af00\">0</span>]      │\n",
              "├───────────────────────────┼────────────────────────┼────────────────┼────────────────────────┤\n",
              "│ batch_normalization       │ (<span style=\"color: #00d7ff; text-decoration-color: #00d7ff\">None</span>, <span style=\"color: #00af00; text-decoration-color: #00af00\">512</span>, <span style=\"color: #00af00; text-decoration-color: #00af00\">512</span>, <span style=\"color: #00af00; text-decoration-color: #00af00\">64</span>)   │            <span style=\"color: #00af00; text-decoration-color: #00af00\">256</span> │ conv2d[<span style=\"color: #00af00; text-decoration-color: #00af00\">0</span>][<span style=\"color: #00af00; text-decoration-color: #00af00\">0</span>]           │\n",
              "│ (<span style=\"color: #0087ff; text-decoration-color: #0087ff\">BatchNormalization</span>)      │                        │                │                        │\n",
              "├───────────────────────────┼────────────────────────┼────────────────┼────────────────────────┤\n",
              "│ activation (<span style=\"color: #0087ff; text-decoration-color: #0087ff\">Activation</span>)   │ (<span style=\"color: #00d7ff; text-decoration-color: #00d7ff\">None</span>, <span style=\"color: #00af00; text-decoration-color: #00af00\">512</span>, <span style=\"color: #00af00; text-decoration-color: #00af00\">512</span>, <span style=\"color: #00af00; text-decoration-color: #00af00\">64</span>)   │              <span style=\"color: #00af00; text-decoration-color: #00af00\">0</span> │ batch_normalization[<span style=\"color: #00af00; text-decoration-color: #00af00\">0</span>… │\n",
              "├───────────────────────────┼────────────────────────┼────────────────┼────────────────────────┤\n",
              "│ conv2d_1 (<span style=\"color: #0087ff; text-decoration-color: #0087ff\">Conv2D</span>)         │ (<span style=\"color: #00d7ff; text-decoration-color: #00d7ff\">None</span>, <span style=\"color: #00af00; text-decoration-color: #00af00\">512</span>, <span style=\"color: #00af00; text-decoration-color: #00af00\">512</span>, <span style=\"color: #00af00; text-decoration-color: #00af00\">64</span>)   │         <span style=\"color: #00af00; text-decoration-color: #00af00\">36,928</span> │ activation[<span style=\"color: #00af00; text-decoration-color: #00af00\">0</span>][<span style=\"color: #00af00; text-decoration-color: #00af00\">0</span>]       │\n",
              "├───────────────────────────┼────────────────────────┼────────────────┼────────────────────────┤\n",
              "│ batch_normalization_1     │ (<span style=\"color: #00d7ff; text-decoration-color: #00d7ff\">None</span>, <span style=\"color: #00af00; text-decoration-color: #00af00\">512</span>, <span style=\"color: #00af00; text-decoration-color: #00af00\">512</span>, <span style=\"color: #00af00; text-decoration-color: #00af00\">64</span>)   │            <span style=\"color: #00af00; text-decoration-color: #00af00\">256</span> │ conv2d_1[<span style=\"color: #00af00; text-decoration-color: #00af00\">0</span>][<span style=\"color: #00af00; text-decoration-color: #00af00\">0</span>]         │\n",
              "│ (<span style=\"color: #0087ff; text-decoration-color: #0087ff\">BatchNormalization</span>)      │                        │                │                        │\n",
              "├───────────────────────────┼────────────────────────┼────────────────┼────────────────────────┤\n",
              "│ activation_1 (<span style=\"color: #0087ff; text-decoration-color: #0087ff\">Activation</span>) │ (<span style=\"color: #00d7ff; text-decoration-color: #00d7ff\">None</span>, <span style=\"color: #00af00; text-decoration-color: #00af00\">512</span>, <span style=\"color: #00af00; text-decoration-color: #00af00\">512</span>, <span style=\"color: #00af00; text-decoration-color: #00af00\">64</span>)   │              <span style=\"color: #00af00; text-decoration-color: #00af00\">0</span> │ batch_normalization_1… │\n",
              "├───────────────────────────┼────────────────────────┼────────────────┼────────────────────────┤\n",
              "│ max_pooling2d             │ (<span style=\"color: #00d7ff; text-decoration-color: #00d7ff\">None</span>, <span style=\"color: #00af00; text-decoration-color: #00af00\">256</span>, <span style=\"color: #00af00; text-decoration-color: #00af00\">256</span>, <span style=\"color: #00af00; text-decoration-color: #00af00\">64</span>)   │              <span style=\"color: #00af00; text-decoration-color: #00af00\">0</span> │ activation_1[<span style=\"color: #00af00; text-decoration-color: #00af00\">0</span>][<span style=\"color: #00af00; text-decoration-color: #00af00\">0</span>]     │\n",
              "│ (<span style=\"color: #0087ff; text-decoration-color: #0087ff\">MaxPooling2D</span>)            │                        │                │                        │\n",
              "├───────────────────────────┼────────────────────────┼────────────────┼────────────────────────┤\n",
              "│ conv2d_2 (<span style=\"color: #0087ff; text-decoration-color: #0087ff\">Conv2D</span>)         │ (<span style=\"color: #00d7ff; text-decoration-color: #00d7ff\">None</span>, <span style=\"color: #00af00; text-decoration-color: #00af00\">256</span>, <span style=\"color: #00af00; text-decoration-color: #00af00\">256</span>, <span style=\"color: #00af00; text-decoration-color: #00af00\">128</span>)  │         <span style=\"color: #00af00; text-decoration-color: #00af00\">73,856</span> │ max_pooling2d[<span style=\"color: #00af00; text-decoration-color: #00af00\">0</span>][<span style=\"color: #00af00; text-decoration-color: #00af00\">0</span>]    │\n",
              "├───────────────────────────┼────────────────────────┼────────────────┼────────────────────────┤\n",
              "│ batch_normalization_2     │ (<span style=\"color: #00d7ff; text-decoration-color: #00d7ff\">None</span>, <span style=\"color: #00af00; text-decoration-color: #00af00\">256</span>, <span style=\"color: #00af00; text-decoration-color: #00af00\">256</span>, <span style=\"color: #00af00; text-decoration-color: #00af00\">128</span>)  │            <span style=\"color: #00af00; text-decoration-color: #00af00\">512</span> │ conv2d_2[<span style=\"color: #00af00; text-decoration-color: #00af00\">0</span>][<span style=\"color: #00af00; text-decoration-color: #00af00\">0</span>]         │\n",
              "│ (<span style=\"color: #0087ff; text-decoration-color: #0087ff\">BatchNormalization</span>)      │                        │                │                        │\n",
              "├───────────────────────────┼────────────────────────┼────────────────┼────────────────────────┤\n",
              "│ activation_2 (<span style=\"color: #0087ff; text-decoration-color: #0087ff\">Activation</span>) │ (<span style=\"color: #00d7ff; text-decoration-color: #00d7ff\">None</span>, <span style=\"color: #00af00; text-decoration-color: #00af00\">256</span>, <span style=\"color: #00af00; text-decoration-color: #00af00\">256</span>, <span style=\"color: #00af00; text-decoration-color: #00af00\">128</span>)  │              <span style=\"color: #00af00; text-decoration-color: #00af00\">0</span> │ batch_normalization_2… │\n",
              "├───────────────────────────┼────────────────────────┼────────────────┼────────────────────────┤\n",
              "│ conv2d_3 (<span style=\"color: #0087ff; text-decoration-color: #0087ff\">Conv2D</span>)         │ (<span style=\"color: #00d7ff; text-decoration-color: #00d7ff\">None</span>, <span style=\"color: #00af00; text-decoration-color: #00af00\">256</span>, <span style=\"color: #00af00; text-decoration-color: #00af00\">256</span>, <span style=\"color: #00af00; text-decoration-color: #00af00\">128</span>)  │        <span style=\"color: #00af00; text-decoration-color: #00af00\">147,584</span> │ activation_2[<span style=\"color: #00af00; text-decoration-color: #00af00\">0</span>][<span style=\"color: #00af00; text-decoration-color: #00af00\">0</span>]     │\n",
              "├───────────────────────────┼────────────────────────┼────────────────┼────────────────────────┤\n",
              "│ batch_normalization_3     │ (<span style=\"color: #00d7ff; text-decoration-color: #00d7ff\">None</span>, <span style=\"color: #00af00; text-decoration-color: #00af00\">256</span>, <span style=\"color: #00af00; text-decoration-color: #00af00\">256</span>, <span style=\"color: #00af00; text-decoration-color: #00af00\">128</span>)  │            <span style=\"color: #00af00; text-decoration-color: #00af00\">512</span> │ conv2d_3[<span style=\"color: #00af00; text-decoration-color: #00af00\">0</span>][<span style=\"color: #00af00; text-decoration-color: #00af00\">0</span>]         │\n",
              "│ (<span style=\"color: #0087ff; text-decoration-color: #0087ff\">BatchNormalization</span>)      │                        │                │                        │\n",
              "├───────────────────────────┼────────────────────────┼────────────────┼────────────────────────┤\n",
              "│ activation_3 (<span style=\"color: #0087ff; text-decoration-color: #0087ff\">Activation</span>) │ (<span style=\"color: #00d7ff; text-decoration-color: #00d7ff\">None</span>, <span style=\"color: #00af00; text-decoration-color: #00af00\">256</span>, <span style=\"color: #00af00; text-decoration-color: #00af00\">256</span>, <span style=\"color: #00af00; text-decoration-color: #00af00\">128</span>)  │              <span style=\"color: #00af00; text-decoration-color: #00af00\">0</span> │ batch_normalization_3… │\n",
              "├───────────────────────────┼────────────────────────┼────────────────┼────────────────────────┤\n",
              "│ max_pooling2d_1           │ (<span style=\"color: #00d7ff; text-decoration-color: #00d7ff\">None</span>, <span style=\"color: #00af00; text-decoration-color: #00af00\">128</span>, <span style=\"color: #00af00; text-decoration-color: #00af00\">128</span>, <span style=\"color: #00af00; text-decoration-color: #00af00\">128</span>)  │              <span style=\"color: #00af00; text-decoration-color: #00af00\">0</span> │ activation_3[<span style=\"color: #00af00; text-decoration-color: #00af00\">0</span>][<span style=\"color: #00af00; text-decoration-color: #00af00\">0</span>]     │\n",
              "│ (<span style=\"color: #0087ff; text-decoration-color: #0087ff\">MaxPooling2D</span>)            │                        │                │                        │\n",
              "├───────────────────────────┼────────────────────────┼────────────────┼────────────────────────┤\n",
              "│ conv2d_4 (<span style=\"color: #0087ff; text-decoration-color: #0087ff\">Conv2D</span>)         │ (<span style=\"color: #00d7ff; text-decoration-color: #00d7ff\">None</span>, <span style=\"color: #00af00; text-decoration-color: #00af00\">128</span>, <span style=\"color: #00af00; text-decoration-color: #00af00\">128</span>, <span style=\"color: #00af00; text-decoration-color: #00af00\">256</span>)  │        <span style=\"color: #00af00; text-decoration-color: #00af00\">295,168</span> │ max_pooling2d_1[<span style=\"color: #00af00; text-decoration-color: #00af00\">0</span>][<span style=\"color: #00af00; text-decoration-color: #00af00\">0</span>]  │\n",
              "├───────────────────────────┼────────────────────────┼────────────────┼────────────────────────┤\n",
              "│ batch_normalization_4     │ (<span style=\"color: #00d7ff; text-decoration-color: #00d7ff\">None</span>, <span style=\"color: #00af00; text-decoration-color: #00af00\">128</span>, <span style=\"color: #00af00; text-decoration-color: #00af00\">128</span>, <span style=\"color: #00af00; text-decoration-color: #00af00\">256</span>)  │          <span style=\"color: #00af00; text-decoration-color: #00af00\">1,024</span> │ conv2d_4[<span style=\"color: #00af00; text-decoration-color: #00af00\">0</span>][<span style=\"color: #00af00; text-decoration-color: #00af00\">0</span>]         │\n",
              "│ (<span style=\"color: #0087ff; text-decoration-color: #0087ff\">BatchNormalization</span>)      │                        │                │                        │\n",
              "├───────────────────────────┼────────────────────────┼────────────────┼────────────────────────┤\n",
              "│ activation_4 (<span style=\"color: #0087ff; text-decoration-color: #0087ff\">Activation</span>) │ (<span style=\"color: #00d7ff; text-decoration-color: #00d7ff\">None</span>, <span style=\"color: #00af00; text-decoration-color: #00af00\">128</span>, <span style=\"color: #00af00; text-decoration-color: #00af00\">128</span>, <span style=\"color: #00af00; text-decoration-color: #00af00\">256</span>)  │              <span style=\"color: #00af00; text-decoration-color: #00af00\">0</span> │ batch_normalization_4… │\n",
              "├───────────────────────────┼────────────────────────┼────────────────┼────────────────────────┤\n",
              "│ conv2d_5 (<span style=\"color: #0087ff; text-decoration-color: #0087ff\">Conv2D</span>)         │ (<span style=\"color: #00d7ff; text-decoration-color: #00d7ff\">None</span>, <span style=\"color: #00af00; text-decoration-color: #00af00\">128</span>, <span style=\"color: #00af00; text-decoration-color: #00af00\">128</span>, <span style=\"color: #00af00; text-decoration-color: #00af00\">256</span>)  │        <span style=\"color: #00af00; text-decoration-color: #00af00\">590,080</span> │ activation_4[<span style=\"color: #00af00; text-decoration-color: #00af00\">0</span>][<span style=\"color: #00af00; text-decoration-color: #00af00\">0</span>]     │\n",
              "├───────────────────────────┼────────────────────────┼────────────────┼────────────────────────┤\n",
              "│ batch_normalization_5     │ (<span style=\"color: #00d7ff; text-decoration-color: #00d7ff\">None</span>, <span style=\"color: #00af00; text-decoration-color: #00af00\">128</span>, <span style=\"color: #00af00; text-decoration-color: #00af00\">128</span>, <span style=\"color: #00af00; text-decoration-color: #00af00\">256</span>)  │          <span style=\"color: #00af00; text-decoration-color: #00af00\">1,024</span> │ conv2d_5[<span style=\"color: #00af00; text-decoration-color: #00af00\">0</span>][<span style=\"color: #00af00; text-decoration-color: #00af00\">0</span>]         │\n",
              "│ (<span style=\"color: #0087ff; text-decoration-color: #0087ff\">BatchNormalization</span>)      │                        │                │                        │\n",
              "├───────────────────────────┼────────────────────────┼────────────────┼────────────────────────┤\n",
              "│ activation_5 (<span style=\"color: #0087ff; text-decoration-color: #0087ff\">Activation</span>) │ (<span style=\"color: #00d7ff; text-decoration-color: #00d7ff\">None</span>, <span style=\"color: #00af00; text-decoration-color: #00af00\">128</span>, <span style=\"color: #00af00; text-decoration-color: #00af00\">128</span>, <span style=\"color: #00af00; text-decoration-color: #00af00\">256</span>)  │              <span style=\"color: #00af00; text-decoration-color: #00af00\">0</span> │ batch_normalization_5… │\n",
              "├───────────────────────────┼────────────────────────┼────────────────┼────────────────────────┤\n",
              "│ max_pooling2d_2           │ (<span style=\"color: #00d7ff; text-decoration-color: #00d7ff\">None</span>, <span style=\"color: #00af00; text-decoration-color: #00af00\">64</span>, <span style=\"color: #00af00; text-decoration-color: #00af00\">64</span>, <span style=\"color: #00af00; text-decoration-color: #00af00\">256</span>)    │              <span style=\"color: #00af00; text-decoration-color: #00af00\">0</span> │ activation_5[<span style=\"color: #00af00; text-decoration-color: #00af00\">0</span>][<span style=\"color: #00af00; text-decoration-color: #00af00\">0</span>]     │\n",
              "│ (<span style=\"color: #0087ff; text-decoration-color: #0087ff\">MaxPooling2D</span>)            │                        │                │                        │\n",
              "├───────────────────────────┼────────────────────────┼────────────────┼────────────────────────┤\n",
              "│ conv2d_6 (<span style=\"color: #0087ff; text-decoration-color: #0087ff\">Conv2D</span>)         │ (<span style=\"color: #00d7ff; text-decoration-color: #00d7ff\">None</span>, <span style=\"color: #00af00; text-decoration-color: #00af00\">64</span>, <span style=\"color: #00af00; text-decoration-color: #00af00\">64</span>, <span style=\"color: #00af00; text-decoration-color: #00af00\">512</span>)    │      <span style=\"color: #00af00; text-decoration-color: #00af00\">1,180,160</span> │ max_pooling2d_2[<span style=\"color: #00af00; text-decoration-color: #00af00\">0</span>][<span style=\"color: #00af00; text-decoration-color: #00af00\">0</span>]  │\n",
              "├───────────────────────────┼────────────────────────┼────────────────┼────────────────────────┤\n",
              "│ batch_normalization_6     │ (<span style=\"color: #00d7ff; text-decoration-color: #00d7ff\">None</span>, <span style=\"color: #00af00; text-decoration-color: #00af00\">64</span>, <span style=\"color: #00af00; text-decoration-color: #00af00\">64</span>, <span style=\"color: #00af00; text-decoration-color: #00af00\">512</span>)    │          <span style=\"color: #00af00; text-decoration-color: #00af00\">2,048</span> │ conv2d_6[<span style=\"color: #00af00; text-decoration-color: #00af00\">0</span>][<span style=\"color: #00af00; text-decoration-color: #00af00\">0</span>]         │\n",
              "│ (<span style=\"color: #0087ff; text-decoration-color: #0087ff\">BatchNormalization</span>)      │                        │                │                        │\n",
              "├───────────────────────────┼────────────────────────┼────────────────┼────────────────────────┤\n",
              "│ activation_6 (<span style=\"color: #0087ff; text-decoration-color: #0087ff\">Activation</span>) │ (<span style=\"color: #00d7ff; text-decoration-color: #00d7ff\">None</span>, <span style=\"color: #00af00; text-decoration-color: #00af00\">64</span>, <span style=\"color: #00af00; text-decoration-color: #00af00\">64</span>, <span style=\"color: #00af00; text-decoration-color: #00af00\">512</span>)    │              <span style=\"color: #00af00; text-decoration-color: #00af00\">0</span> │ batch_normalization_6… │\n",
              "├───────────────────────────┼────────────────────────┼────────────────┼────────────────────────┤\n",
              "│ conv2d_7 (<span style=\"color: #0087ff; text-decoration-color: #0087ff\">Conv2D</span>)         │ (<span style=\"color: #00d7ff; text-decoration-color: #00d7ff\">None</span>, <span style=\"color: #00af00; text-decoration-color: #00af00\">64</span>, <span style=\"color: #00af00; text-decoration-color: #00af00\">64</span>, <span style=\"color: #00af00; text-decoration-color: #00af00\">512</span>)    │      <span style=\"color: #00af00; text-decoration-color: #00af00\">2,359,808</span> │ activation_6[<span style=\"color: #00af00; text-decoration-color: #00af00\">0</span>][<span style=\"color: #00af00; text-decoration-color: #00af00\">0</span>]     │\n",
              "├───────────────────────────┼────────────────────────┼────────────────┼────────────────────────┤\n",
              "│ batch_normalization_7     │ (<span style=\"color: #00d7ff; text-decoration-color: #00d7ff\">None</span>, <span style=\"color: #00af00; text-decoration-color: #00af00\">64</span>, <span style=\"color: #00af00; text-decoration-color: #00af00\">64</span>, <span style=\"color: #00af00; text-decoration-color: #00af00\">512</span>)    │          <span style=\"color: #00af00; text-decoration-color: #00af00\">2,048</span> │ conv2d_7[<span style=\"color: #00af00; text-decoration-color: #00af00\">0</span>][<span style=\"color: #00af00; text-decoration-color: #00af00\">0</span>]         │\n",
              "│ (<span style=\"color: #0087ff; text-decoration-color: #0087ff\">BatchNormalization</span>)      │                        │                │                        │\n",
              "├───────────────────────────┼────────────────────────┼────────────────┼────────────────────────┤\n",
              "│ activation_7 (<span style=\"color: #0087ff; text-decoration-color: #0087ff\">Activation</span>) │ (<span style=\"color: #00d7ff; text-decoration-color: #00d7ff\">None</span>, <span style=\"color: #00af00; text-decoration-color: #00af00\">64</span>, <span style=\"color: #00af00; text-decoration-color: #00af00\">64</span>, <span style=\"color: #00af00; text-decoration-color: #00af00\">512</span>)    │              <span style=\"color: #00af00; text-decoration-color: #00af00\">0</span> │ batch_normalization_7… │\n",
              "├───────────────────────────┼────────────────────────┼────────────────┼────────────────────────┤\n",
              "│ max_pooling2d_3           │ (<span style=\"color: #00d7ff; text-decoration-color: #00d7ff\">None</span>, <span style=\"color: #00af00; text-decoration-color: #00af00\">32</span>, <span style=\"color: #00af00; text-decoration-color: #00af00\">32</span>, <span style=\"color: #00af00; text-decoration-color: #00af00\">512</span>)    │              <span style=\"color: #00af00; text-decoration-color: #00af00\">0</span> │ activation_7[<span style=\"color: #00af00; text-decoration-color: #00af00\">0</span>][<span style=\"color: #00af00; text-decoration-color: #00af00\">0</span>]     │\n",
              "│ (<span style=\"color: #0087ff; text-decoration-color: #0087ff\">MaxPooling2D</span>)            │                        │                │                        │\n",
              "├───────────────────────────┼────────────────────────┼────────────────┼────────────────────────┤\n",
              "│ conv2d_8 (<span style=\"color: #0087ff; text-decoration-color: #0087ff\">Conv2D</span>)         │ (<span style=\"color: #00d7ff; text-decoration-color: #00d7ff\">None</span>, <span style=\"color: #00af00; text-decoration-color: #00af00\">32</span>, <span style=\"color: #00af00; text-decoration-color: #00af00\">32</span>, <span style=\"color: #00af00; text-decoration-color: #00af00\">1024</span>)   │      <span style=\"color: #00af00; text-decoration-color: #00af00\">4,719,616</span> │ max_pooling2d_3[<span style=\"color: #00af00; text-decoration-color: #00af00\">0</span>][<span style=\"color: #00af00; text-decoration-color: #00af00\">0</span>]  │\n",
              "├───────────────────────────┼────────────────────────┼────────────────┼────────────────────────┤\n",
              "│ batch_normalization_8     │ (<span style=\"color: #00d7ff; text-decoration-color: #00d7ff\">None</span>, <span style=\"color: #00af00; text-decoration-color: #00af00\">32</span>, <span style=\"color: #00af00; text-decoration-color: #00af00\">32</span>, <span style=\"color: #00af00; text-decoration-color: #00af00\">1024</span>)   │          <span style=\"color: #00af00; text-decoration-color: #00af00\">4,096</span> │ conv2d_8[<span style=\"color: #00af00; text-decoration-color: #00af00\">0</span>][<span style=\"color: #00af00; text-decoration-color: #00af00\">0</span>]         │\n",
              "│ (<span style=\"color: #0087ff; text-decoration-color: #0087ff\">BatchNormalization</span>)      │                        │                │                        │\n",
              "├───────────────────────────┼────────────────────────┼────────────────┼────────────────────────┤\n",
              "│ activation_8 (<span style=\"color: #0087ff; text-decoration-color: #0087ff\">Activation</span>) │ (<span style=\"color: #00d7ff; text-decoration-color: #00d7ff\">None</span>, <span style=\"color: #00af00; text-decoration-color: #00af00\">32</span>, <span style=\"color: #00af00; text-decoration-color: #00af00\">32</span>, <span style=\"color: #00af00; text-decoration-color: #00af00\">1024</span>)   │              <span style=\"color: #00af00; text-decoration-color: #00af00\">0</span> │ batch_normalization_8… │\n",
              "├───────────────────────────┼────────────────────────┼────────────────┼────────────────────────┤\n",
              "│ conv2d_9 (<span style=\"color: #0087ff; text-decoration-color: #0087ff\">Conv2D</span>)         │ (<span style=\"color: #00d7ff; text-decoration-color: #00d7ff\">None</span>, <span style=\"color: #00af00; text-decoration-color: #00af00\">32</span>, <span style=\"color: #00af00; text-decoration-color: #00af00\">32</span>, <span style=\"color: #00af00; text-decoration-color: #00af00\">1024</span>)   │      <span style=\"color: #00af00; text-decoration-color: #00af00\">9,438,208</span> │ activation_8[<span style=\"color: #00af00; text-decoration-color: #00af00\">0</span>][<span style=\"color: #00af00; text-decoration-color: #00af00\">0</span>]     │\n",
              "├───────────────────────────┼────────────────────────┼────────────────┼────────────────────────┤\n",
              "│ batch_normalization_9     │ (<span style=\"color: #00d7ff; text-decoration-color: #00d7ff\">None</span>, <span style=\"color: #00af00; text-decoration-color: #00af00\">32</span>, <span style=\"color: #00af00; text-decoration-color: #00af00\">32</span>, <span style=\"color: #00af00; text-decoration-color: #00af00\">1024</span>)   │          <span style=\"color: #00af00; text-decoration-color: #00af00\">4,096</span> │ conv2d_9[<span style=\"color: #00af00; text-decoration-color: #00af00\">0</span>][<span style=\"color: #00af00; text-decoration-color: #00af00\">0</span>]         │\n",
              "│ (<span style=\"color: #0087ff; text-decoration-color: #0087ff\">BatchNormalization</span>)      │                        │                │                        │\n",
              "├───────────────────────────┼────────────────────────┼────────────────┼────────────────────────┤\n",
              "│ activation_9 (<span style=\"color: #0087ff; text-decoration-color: #0087ff\">Activation</span>) │ (<span style=\"color: #00d7ff; text-decoration-color: #00d7ff\">None</span>, <span style=\"color: #00af00; text-decoration-color: #00af00\">32</span>, <span style=\"color: #00af00; text-decoration-color: #00af00\">32</span>, <span style=\"color: #00af00; text-decoration-color: #00af00\">1024</span>)   │              <span style=\"color: #00af00; text-decoration-color: #00af00\">0</span> │ batch_normalization_9… │\n",
              "├───────────────────────────┼────────────────────────┼────────────────┼────────────────────────┤\n",
              "│ conv2d_transpose          │ (<span style=\"color: #00d7ff; text-decoration-color: #00d7ff\">None</span>, <span style=\"color: #00af00; text-decoration-color: #00af00\">64</span>, <span style=\"color: #00af00; text-decoration-color: #00af00\">64</span>, <span style=\"color: #00af00; text-decoration-color: #00af00\">512</span>)    │      <span style=\"color: #00af00; text-decoration-color: #00af00\">2,097,664</span> │ activation_9[<span style=\"color: #00af00; text-decoration-color: #00af00\">0</span>][<span style=\"color: #00af00; text-decoration-color: #00af00\">0</span>]     │\n",
              "│ (<span style=\"color: #0087ff; text-decoration-color: #0087ff\">Conv2DTranspose</span>)         │                        │                │                        │\n",
              "├───────────────────────────┼────────────────────────┼────────────────┼────────────────────────┤\n",
              "│ concatenate (<span style=\"color: #0087ff; text-decoration-color: #0087ff\">Concatenate</span>) │ (<span style=\"color: #00d7ff; text-decoration-color: #00d7ff\">None</span>, <span style=\"color: #00af00; text-decoration-color: #00af00\">64</span>, <span style=\"color: #00af00; text-decoration-color: #00af00\">64</span>, <span style=\"color: #00af00; text-decoration-color: #00af00\">1024</span>)   │              <span style=\"color: #00af00; text-decoration-color: #00af00\">0</span> │ conv2d_transpose[<span style=\"color: #00af00; text-decoration-color: #00af00\">0</span>][<span style=\"color: #00af00; text-decoration-color: #00af00\">0</span>… │\n",
              "│                           │                        │                │ activation_7[<span style=\"color: #00af00; text-decoration-color: #00af00\">0</span>][<span style=\"color: #00af00; text-decoration-color: #00af00\">0</span>]     │\n",
              "├───────────────────────────┼────────────────────────┼────────────────┼────────────────────────┤\n",
              "│ conv2d_10 (<span style=\"color: #0087ff; text-decoration-color: #0087ff\">Conv2D</span>)        │ (<span style=\"color: #00d7ff; text-decoration-color: #00d7ff\">None</span>, <span style=\"color: #00af00; text-decoration-color: #00af00\">64</span>, <span style=\"color: #00af00; text-decoration-color: #00af00\">64</span>, <span style=\"color: #00af00; text-decoration-color: #00af00\">512</span>)    │      <span style=\"color: #00af00; text-decoration-color: #00af00\">4,719,104</span> │ concatenate[<span style=\"color: #00af00; text-decoration-color: #00af00\">0</span>][<span style=\"color: #00af00; text-decoration-color: #00af00\">0</span>]      │\n",
              "├───────────────────────────┼────────────────────────┼────────────────┼────────────────────────┤\n",
              "│ batch_normalization_10    │ (<span style=\"color: #00d7ff; text-decoration-color: #00d7ff\">None</span>, <span style=\"color: #00af00; text-decoration-color: #00af00\">64</span>, <span style=\"color: #00af00; text-decoration-color: #00af00\">64</span>, <span style=\"color: #00af00; text-decoration-color: #00af00\">512</span>)    │          <span style=\"color: #00af00; text-decoration-color: #00af00\">2,048</span> │ conv2d_10[<span style=\"color: #00af00; text-decoration-color: #00af00\">0</span>][<span style=\"color: #00af00; text-decoration-color: #00af00\">0</span>]        │\n",
              "│ (<span style=\"color: #0087ff; text-decoration-color: #0087ff\">BatchNormalization</span>)      │                        │                │                        │\n",
              "├───────────────────────────┼────────────────────────┼────────────────┼────────────────────────┤\n",
              "│ activation_10             │ (<span style=\"color: #00d7ff; text-decoration-color: #00d7ff\">None</span>, <span style=\"color: #00af00; text-decoration-color: #00af00\">64</span>, <span style=\"color: #00af00; text-decoration-color: #00af00\">64</span>, <span style=\"color: #00af00; text-decoration-color: #00af00\">512</span>)    │              <span style=\"color: #00af00; text-decoration-color: #00af00\">0</span> │ batch_normalization_1… │\n",
              "│ (<span style=\"color: #0087ff; text-decoration-color: #0087ff\">Activation</span>)              │                        │                │                        │\n",
              "├───────────────────────────┼────────────────────────┼────────────────┼────────────────────────┤\n",
              "│ conv2d_11 (<span style=\"color: #0087ff; text-decoration-color: #0087ff\">Conv2D</span>)        │ (<span style=\"color: #00d7ff; text-decoration-color: #00d7ff\">None</span>, <span style=\"color: #00af00; text-decoration-color: #00af00\">64</span>, <span style=\"color: #00af00; text-decoration-color: #00af00\">64</span>, <span style=\"color: #00af00; text-decoration-color: #00af00\">512</span>)    │      <span style=\"color: #00af00; text-decoration-color: #00af00\">2,359,808</span> │ activation_10[<span style=\"color: #00af00; text-decoration-color: #00af00\">0</span>][<span style=\"color: #00af00; text-decoration-color: #00af00\">0</span>]    │\n",
              "├───────────────────────────┼────────────────────────┼────────────────┼────────────────────────┤\n",
              "│ batch_normalization_11    │ (<span style=\"color: #00d7ff; text-decoration-color: #00d7ff\">None</span>, <span style=\"color: #00af00; text-decoration-color: #00af00\">64</span>, <span style=\"color: #00af00; text-decoration-color: #00af00\">64</span>, <span style=\"color: #00af00; text-decoration-color: #00af00\">512</span>)    │          <span style=\"color: #00af00; text-decoration-color: #00af00\">2,048</span> │ conv2d_11[<span style=\"color: #00af00; text-decoration-color: #00af00\">0</span>][<span style=\"color: #00af00; text-decoration-color: #00af00\">0</span>]        │\n",
              "│ (<span style=\"color: #0087ff; text-decoration-color: #0087ff\">BatchNormalization</span>)      │                        │                │                        │\n",
              "├───────────────────────────┼────────────────────────┼────────────────┼────────────────────────┤\n",
              "│ activation_11             │ (<span style=\"color: #00d7ff; text-decoration-color: #00d7ff\">None</span>, <span style=\"color: #00af00; text-decoration-color: #00af00\">64</span>, <span style=\"color: #00af00; text-decoration-color: #00af00\">64</span>, <span style=\"color: #00af00; text-decoration-color: #00af00\">512</span>)    │              <span style=\"color: #00af00; text-decoration-color: #00af00\">0</span> │ batch_normalization_1… │\n",
              "│ (<span style=\"color: #0087ff; text-decoration-color: #0087ff\">Activation</span>)              │                        │                │                        │\n",
              "├───────────────────────────┼────────────────────────┼────────────────┼────────────────────────┤\n",
              "│ conv2d_transpose_1        │ (<span style=\"color: #00d7ff; text-decoration-color: #00d7ff\">None</span>, <span style=\"color: #00af00; text-decoration-color: #00af00\">128</span>, <span style=\"color: #00af00; text-decoration-color: #00af00\">128</span>, <span style=\"color: #00af00; text-decoration-color: #00af00\">256</span>)  │        <span style=\"color: #00af00; text-decoration-color: #00af00\">524,544</span> │ activation_11[<span style=\"color: #00af00; text-decoration-color: #00af00\">0</span>][<span style=\"color: #00af00; text-decoration-color: #00af00\">0</span>]    │\n",
              "│ (<span style=\"color: #0087ff; text-decoration-color: #0087ff\">Conv2DTranspose</span>)         │                        │                │                        │\n",
              "├───────────────────────────┼────────────────────────┼────────────────┼────────────────────────┤\n",
              "│ concatenate_1             │ (<span style=\"color: #00d7ff; text-decoration-color: #00d7ff\">None</span>, <span style=\"color: #00af00; text-decoration-color: #00af00\">128</span>, <span style=\"color: #00af00; text-decoration-color: #00af00\">128</span>, <span style=\"color: #00af00; text-decoration-color: #00af00\">512</span>)  │              <span style=\"color: #00af00; text-decoration-color: #00af00\">0</span> │ conv2d_transpose_1[<span style=\"color: #00af00; text-decoration-color: #00af00\">0</span>]… │\n",
              "│ (<span style=\"color: #0087ff; text-decoration-color: #0087ff\">Concatenate</span>)             │                        │                │ activation_5[<span style=\"color: #00af00; text-decoration-color: #00af00\">0</span>][<span style=\"color: #00af00; text-decoration-color: #00af00\">0</span>]     │\n",
              "├───────────────────────────┼────────────────────────┼────────────────┼────────────────────────┤\n",
              "│ conv2d_12 (<span style=\"color: #0087ff; text-decoration-color: #0087ff\">Conv2D</span>)        │ (<span style=\"color: #00d7ff; text-decoration-color: #00d7ff\">None</span>, <span style=\"color: #00af00; text-decoration-color: #00af00\">128</span>, <span style=\"color: #00af00; text-decoration-color: #00af00\">128</span>, <span style=\"color: #00af00; text-decoration-color: #00af00\">256</span>)  │      <span style=\"color: #00af00; text-decoration-color: #00af00\">1,179,904</span> │ concatenate_1[<span style=\"color: #00af00; text-decoration-color: #00af00\">0</span>][<span style=\"color: #00af00; text-decoration-color: #00af00\">0</span>]    │\n",
              "├───────────────────────────┼────────────────────────┼────────────────┼────────────────────────┤\n",
              "│ batch_normalization_12    │ (<span style=\"color: #00d7ff; text-decoration-color: #00d7ff\">None</span>, <span style=\"color: #00af00; text-decoration-color: #00af00\">128</span>, <span style=\"color: #00af00; text-decoration-color: #00af00\">128</span>, <span style=\"color: #00af00; text-decoration-color: #00af00\">256</span>)  │          <span style=\"color: #00af00; text-decoration-color: #00af00\">1,024</span> │ conv2d_12[<span style=\"color: #00af00; text-decoration-color: #00af00\">0</span>][<span style=\"color: #00af00; text-decoration-color: #00af00\">0</span>]        │\n",
              "│ (<span style=\"color: #0087ff; text-decoration-color: #0087ff\">BatchNormalization</span>)      │                        │                │                        │\n",
              "├───────────────────────────┼────────────────────────┼────────────────┼────────────────────────┤\n",
              "│ activation_12             │ (<span style=\"color: #00d7ff; text-decoration-color: #00d7ff\">None</span>, <span style=\"color: #00af00; text-decoration-color: #00af00\">128</span>, <span style=\"color: #00af00; text-decoration-color: #00af00\">128</span>, <span style=\"color: #00af00; text-decoration-color: #00af00\">256</span>)  │              <span style=\"color: #00af00; text-decoration-color: #00af00\">0</span> │ batch_normalization_1… │\n",
              "│ (<span style=\"color: #0087ff; text-decoration-color: #0087ff\">Activation</span>)              │                        │                │                        │\n",
              "├───────────────────────────┼────────────────────────┼────────────────┼────────────────────────┤\n",
              "│ conv2d_13 (<span style=\"color: #0087ff; text-decoration-color: #0087ff\">Conv2D</span>)        │ (<span style=\"color: #00d7ff; text-decoration-color: #00d7ff\">None</span>, <span style=\"color: #00af00; text-decoration-color: #00af00\">128</span>, <span style=\"color: #00af00; text-decoration-color: #00af00\">128</span>, <span style=\"color: #00af00; text-decoration-color: #00af00\">256</span>)  │        <span style=\"color: #00af00; text-decoration-color: #00af00\">590,080</span> │ activation_12[<span style=\"color: #00af00; text-decoration-color: #00af00\">0</span>][<span style=\"color: #00af00; text-decoration-color: #00af00\">0</span>]    │\n",
              "├───────────────────────────┼────────────────────────┼────────────────┼────────────────────────┤\n",
              "│ batch_normalization_13    │ (<span style=\"color: #00d7ff; text-decoration-color: #00d7ff\">None</span>, <span style=\"color: #00af00; text-decoration-color: #00af00\">128</span>, <span style=\"color: #00af00; text-decoration-color: #00af00\">128</span>, <span style=\"color: #00af00; text-decoration-color: #00af00\">256</span>)  │          <span style=\"color: #00af00; text-decoration-color: #00af00\">1,024</span> │ conv2d_13[<span style=\"color: #00af00; text-decoration-color: #00af00\">0</span>][<span style=\"color: #00af00; text-decoration-color: #00af00\">0</span>]        │\n",
              "│ (<span style=\"color: #0087ff; text-decoration-color: #0087ff\">BatchNormalization</span>)      │                        │                │                        │\n",
              "├───────────────────────────┼────────────────────────┼────────────────┼────────────────────────┤\n",
              "│ activation_13             │ (<span style=\"color: #00d7ff; text-decoration-color: #00d7ff\">None</span>, <span style=\"color: #00af00; text-decoration-color: #00af00\">128</span>, <span style=\"color: #00af00; text-decoration-color: #00af00\">128</span>, <span style=\"color: #00af00; text-decoration-color: #00af00\">256</span>)  │              <span style=\"color: #00af00; text-decoration-color: #00af00\">0</span> │ batch_normalization_1… │\n",
              "│ (<span style=\"color: #0087ff; text-decoration-color: #0087ff\">Activation</span>)              │                        │                │                        │\n",
              "├───────────────────────────┼────────────────────────┼────────────────┼────────────────────────┤\n",
              "│ conv2d_transpose_2        │ (<span style=\"color: #00d7ff; text-decoration-color: #00d7ff\">None</span>, <span style=\"color: #00af00; text-decoration-color: #00af00\">256</span>, <span style=\"color: #00af00; text-decoration-color: #00af00\">256</span>, <span style=\"color: #00af00; text-decoration-color: #00af00\">128</span>)  │        <span style=\"color: #00af00; text-decoration-color: #00af00\">131,200</span> │ activation_13[<span style=\"color: #00af00; text-decoration-color: #00af00\">0</span>][<span style=\"color: #00af00; text-decoration-color: #00af00\">0</span>]    │\n",
              "│ (<span style=\"color: #0087ff; text-decoration-color: #0087ff\">Conv2DTranspose</span>)         │                        │                │                        │\n",
              "├───────────────────────────┼────────────────────────┼────────────────┼────────────────────────┤\n",
              "│ concatenate_2             │ (<span style=\"color: #00d7ff; text-decoration-color: #00d7ff\">None</span>, <span style=\"color: #00af00; text-decoration-color: #00af00\">256</span>, <span style=\"color: #00af00; text-decoration-color: #00af00\">256</span>, <span style=\"color: #00af00; text-decoration-color: #00af00\">256</span>)  │              <span style=\"color: #00af00; text-decoration-color: #00af00\">0</span> │ conv2d_transpose_2[<span style=\"color: #00af00; text-decoration-color: #00af00\">0</span>]… │\n",
              "│ (<span style=\"color: #0087ff; text-decoration-color: #0087ff\">Concatenate</span>)             │                        │                │ activation_3[<span style=\"color: #00af00; text-decoration-color: #00af00\">0</span>][<span style=\"color: #00af00; text-decoration-color: #00af00\">0</span>]     │\n",
              "├───────────────────────────┼────────────────────────┼────────────────┼────────────────────────┤\n",
              "│ conv2d_14 (<span style=\"color: #0087ff; text-decoration-color: #0087ff\">Conv2D</span>)        │ (<span style=\"color: #00d7ff; text-decoration-color: #00d7ff\">None</span>, <span style=\"color: #00af00; text-decoration-color: #00af00\">256</span>, <span style=\"color: #00af00; text-decoration-color: #00af00\">256</span>, <span style=\"color: #00af00; text-decoration-color: #00af00\">128</span>)  │        <span style=\"color: #00af00; text-decoration-color: #00af00\">295,040</span> │ concatenate_2[<span style=\"color: #00af00; text-decoration-color: #00af00\">0</span>][<span style=\"color: #00af00; text-decoration-color: #00af00\">0</span>]    │\n",
              "├───────────────────────────┼────────────────────────┼────────────────┼────────────────────────┤\n",
              "│ batch_normalization_14    │ (<span style=\"color: #00d7ff; text-decoration-color: #00d7ff\">None</span>, <span style=\"color: #00af00; text-decoration-color: #00af00\">256</span>, <span style=\"color: #00af00; text-decoration-color: #00af00\">256</span>, <span style=\"color: #00af00; text-decoration-color: #00af00\">128</span>)  │            <span style=\"color: #00af00; text-decoration-color: #00af00\">512</span> │ conv2d_14[<span style=\"color: #00af00; text-decoration-color: #00af00\">0</span>][<span style=\"color: #00af00; text-decoration-color: #00af00\">0</span>]        │\n",
              "│ (<span style=\"color: #0087ff; text-decoration-color: #0087ff\">BatchNormalization</span>)      │                        │                │                        │\n",
              "├───────────────────────────┼────────────────────────┼────────────────┼────────────────────────┤\n",
              "│ activation_14             │ (<span style=\"color: #00d7ff; text-decoration-color: #00d7ff\">None</span>, <span style=\"color: #00af00; text-decoration-color: #00af00\">256</span>, <span style=\"color: #00af00; text-decoration-color: #00af00\">256</span>, <span style=\"color: #00af00; text-decoration-color: #00af00\">128</span>)  │              <span style=\"color: #00af00; text-decoration-color: #00af00\">0</span> │ batch_normalization_1… │\n",
              "│ (<span style=\"color: #0087ff; text-decoration-color: #0087ff\">Activation</span>)              │                        │                │                        │\n",
              "├───────────────────────────┼────────────────────────┼────────────────┼────────────────────────┤\n",
              "│ conv2d_15 (<span style=\"color: #0087ff; text-decoration-color: #0087ff\">Conv2D</span>)        │ (<span style=\"color: #00d7ff; text-decoration-color: #00d7ff\">None</span>, <span style=\"color: #00af00; text-decoration-color: #00af00\">256</span>, <span style=\"color: #00af00; text-decoration-color: #00af00\">256</span>, <span style=\"color: #00af00; text-decoration-color: #00af00\">128</span>)  │        <span style=\"color: #00af00; text-decoration-color: #00af00\">147,584</span> │ activation_14[<span style=\"color: #00af00; text-decoration-color: #00af00\">0</span>][<span style=\"color: #00af00; text-decoration-color: #00af00\">0</span>]    │\n",
              "├───────────────────────────┼────────────────────────┼────────────────┼────────────────────────┤\n",
              "│ batch_normalization_15    │ (<span style=\"color: #00d7ff; text-decoration-color: #00d7ff\">None</span>, <span style=\"color: #00af00; text-decoration-color: #00af00\">256</span>, <span style=\"color: #00af00; text-decoration-color: #00af00\">256</span>, <span style=\"color: #00af00; text-decoration-color: #00af00\">128</span>)  │            <span style=\"color: #00af00; text-decoration-color: #00af00\">512</span> │ conv2d_15[<span style=\"color: #00af00; text-decoration-color: #00af00\">0</span>][<span style=\"color: #00af00; text-decoration-color: #00af00\">0</span>]        │\n",
              "│ (<span style=\"color: #0087ff; text-decoration-color: #0087ff\">BatchNormalization</span>)      │                        │                │                        │\n",
              "├───────────────────────────┼────────────────────────┼────────────────┼────────────────────────┤\n",
              "│ activation_15             │ (<span style=\"color: #00d7ff; text-decoration-color: #00d7ff\">None</span>, <span style=\"color: #00af00; text-decoration-color: #00af00\">256</span>, <span style=\"color: #00af00; text-decoration-color: #00af00\">256</span>, <span style=\"color: #00af00; text-decoration-color: #00af00\">128</span>)  │              <span style=\"color: #00af00; text-decoration-color: #00af00\">0</span> │ batch_normalization_1… │\n",
              "│ (<span style=\"color: #0087ff; text-decoration-color: #0087ff\">Activation</span>)              │                        │                │                        │\n",
              "├───────────────────────────┼────────────────────────┼────────────────┼────────────────────────┤\n",
              "│ conv2d_transpose_3        │ (<span style=\"color: #00d7ff; text-decoration-color: #00d7ff\">None</span>, <span style=\"color: #00af00; text-decoration-color: #00af00\">512</span>, <span style=\"color: #00af00; text-decoration-color: #00af00\">512</span>, <span style=\"color: #00af00; text-decoration-color: #00af00\">64</span>)   │         <span style=\"color: #00af00; text-decoration-color: #00af00\">32,832</span> │ activation_15[<span style=\"color: #00af00; text-decoration-color: #00af00\">0</span>][<span style=\"color: #00af00; text-decoration-color: #00af00\">0</span>]    │\n",
              "│ (<span style=\"color: #0087ff; text-decoration-color: #0087ff\">Conv2DTranspose</span>)         │                        │                │                        │\n",
              "├───────────────────────────┼────────────────────────┼────────────────┼────────────────────────┤\n",
              "│ concatenate_3             │ (<span style=\"color: #00d7ff; text-decoration-color: #00d7ff\">None</span>, <span style=\"color: #00af00; text-decoration-color: #00af00\">512</span>, <span style=\"color: #00af00; text-decoration-color: #00af00\">512</span>, <span style=\"color: #00af00; text-decoration-color: #00af00\">128</span>)  │              <span style=\"color: #00af00; text-decoration-color: #00af00\">0</span> │ conv2d_transpose_3[<span style=\"color: #00af00; text-decoration-color: #00af00\">0</span>]… │\n",
              "│ (<span style=\"color: #0087ff; text-decoration-color: #0087ff\">Concatenate</span>)             │                        │                │ activation_1[<span style=\"color: #00af00; text-decoration-color: #00af00\">0</span>][<span style=\"color: #00af00; text-decoration-color: #00af00\">0</span>]     │\n",
              "├───────────────────────────┼────────────────────────┼────────────────┼────────────────────────┤\n",
              "│ conv2d_16 (<span style=\"color: #0087ff; text-decoration-color: #0087ff\">Conv2D</span>)        │ (<span style=\"color: #00d7ff; text-decoration-color: #00d7ff\">None</span>, <span style=\"color: #00af00; text-decoration-color: #00af00\">512</span>, <span style=\"color: #00af00; text-decoration-color: #00af00\">512</span>, <span style=\"color: #00af00; text-decoration-color: #00af00\">64</span>)   │         <span style=\"color: #00af00; text-decoration-color: #00af00\">73,792</span> │ concatenate_3[<span style=\"color: #00af00; text-decoration-color: #00af00\">0</span>][<span style=\"color: #00af00; text-decoration-color: #00af00\">0</span>]    │\n",
              "├───────────────────────────┼────────────────────────┼────────────────┼────────────────────────┤\n",
              "│ batch_normalization_16    │ (<span style=\"color: #00d7ff; text-decoration-color: #00d7ff\">None</span>, <span style=\"color: #00af00; text-decoration-color: #00af00\">512</span>, <span style=\"color: #00af00; text-decoration-color: #00af00\">512</span>, <span style=\"color: #00af00; text-decoration-color: #00af00\">64</span>)   │            <span style=\"color: #00af00; text-decoration-color: #00af00\">256</span> │ conv2d_16[<span style=\"color: #00af00; text-decoration-color: #00af00\">0</span>][<span style=\"color: #00af00; text-decoration-color: #00af00\">0</span>]        │\n",
              "│ (<span style=\"color: #0087ff; text-decoration-color: #0087ff\">BatchNormalization</span>)      │                        │                │                        │\n",
              "├───────────────────────────┼────────────────────────┼────────────────┼────────────────────────┤\n",
              "│ activation_16             │ (<span style=\"color: #00d7ff; text-decoration-color: #00d7ff\">None</span>, <span style=\"color: #00af00; text-decoration-color: #00af00\">512</span>, <span style=\"color: #00af00; text-decoration-color: #00af00\">512</span>, <span style=\"color: #00af00; text-decoration-color: #00af00\">64</span>)   │              <span style=\"color: #00af00; text-decoration-color: #00af00\">0</span> │ batch_normalization_1… │\n",
              "│ (<span style=\"color: #0087ff; text-decoration-color: #0087ff\">Activation</span>)              │                        │                │                        │\n",
              "├───────────────────────────┼────────────────────────┼────────────────┼────────────────────────┤\n",
              "│ conv2d_17 (<span style=\"color: #0087ff; text-decoration-color: #0087ff\">Conv2D</span>)        │ (<span style=\"color: #00d7ff; text-decoration-color: #00d7ff\">None</span>, <span style=\"color: #00af00; text-decoration-color: #00af00\">512</span>, <span style=\"color: #00af00; text-decoration-color: #00af00\">512</span>, <span style=\"color: #00af00; text-decoration-color: #00af00\">64</span>)   │         <span style=\"color: #00af00; text-decoration-color: #00af00\">36,928</span> │ activation_16[<span style=\"color: #00af00; text-decoration-color: #00af00\">0</span>][<span style=\"color: #00af00; text-decoration-color: #00af00\">0</span>]    │\n",
              "├───────────────────────────┼────────────────────────┼────────────────┼────────────────────────┤\n",
              "│ batch_normalization_17    │ (<span style=\"color: #00d7ff; text-decoration-color: #00d7ff\">None</span>, <span style=\"color: #00af00; text-decoration-color: #00af00\">512</span>, <span style=\"color: #00af00; text-decoration-color: #00af00\">512</span>, <span style=\"color: #00af00; text-decoration-color: #00af00\">64</span>)   │            <span style=\"color: #00af00; text-decoration-color: #00af00\">256</span> │ conv2d_17[<span style=\"color: #00af00; text-decoration-color: #00af00\">0</span>][<span style=\"color: #00af00; text-decoration-color: #00af00\">0</span>]        │\n",
              "│ (<span style=\"color: #0087ff; text-decoration-color: #0087ff\">BatchNormalization</span>)      │                        │                │                        │\n",
              "├───────────────────────────┼────────────────────────┼────────────────┼────────────────────────┤\n",
              "│ activation_17             │ (<span style=\"color: #00d7ff; text-decoration-color: #00d7ff\">None</span>, <span style=\"color: #00af00; text-decoration-color: #00af00\">512</span>, <span style=\"color: #00af00; text-decoration-color: #00af00\">512</span>, <span style=\"color: #00af00; text-decoration-color: #00af00\">64</span>)   │              <span style=\"color: #00af00; text-decoration-color: #00af00\">0</span> │ batch_normalization_1… │\n",
              "│ (<span style=\"color: #0087ff; text-decoration-color: #0087ff\">Activation</span>)              │                        │                │                        │\n",
              "├───────────────────────────┼────────────────────────┼────────────────┼────────────────────────┤\n",
              "│ conv2d_18 (<span style=\"color: #0087ff; text-decoration-color: #0087ff\">Conv2D</span>)        │ (<span style=\"color: #00d7ff; text-decoration-color: #00d7ff\">None</span>, <span style=\"color: #00af00; text-decoration-color: #00af00\">512</span>, <span style=\"color: #00af00; text-decoration-color: #00af00\">512</span>, <span style=\"color: #00af00; text-decoration-color: #00af00\">1</span>)    │             <span style=\"color: #00af00; text-decoration-color: #00af00\">65</span> │ activation_17[<span style=\"color: #00af00; text-decoration-color: #00af00\">0</span>][<span style=\"color: #00af00; text-decoration-color: #00af00\">0</span>]    │\n",
              "└───────────────────────────┴────────────────────────┴────────────────┴────────────────────────┘\n",
              "</pre>\n"
            ]
          },
          "metadata": {}
        },
        {
          "output_type": "display_data",
          "data": {
            "text/plain": [
              "\u001b[1m Total params: \u001b[0m\u001b[38;5;34m31,055,297\u001b[0m (118.47 MB)\n"
            ],
            "text/html": [
              "<pre style=\"white-space:pre;overflow-x:auto;line-height:normal;font-family:Menlo,'DejaVu Sans Mono',consolas,'Courier New',monospace\"><span style=\"font-weight: bold\"> Total params: </span><span style=\"color: #00af00; text-decoration-color: #00af00\">31,055,297</span> (118.47 MB)\n",
              "</pre>\n"
            ]
          },
          "metadata": {}
        },
        {
          "output_type": "display_data",
          "data": {
            "text/plain": [
              "\u001b[1m Trainable params: \u001b[0m\u001b[38;5;34m31,043,521\u001b[0m (118.42 MB)\n"
            ],
            "text/html": [
              "<pre style=\"white-space:pre;overflow-x:auto;line-height:normal;font-family:Menlo,'DejaVu Sans Mono',consolas,'Courier New',monospace\"><span style=\"font-weight: bold\"> Trainable params: </span><span style=\"color: #00af00; text-decoration-color: #00af00\">31,043,521</span> (118.42 MB)\n",
              "</pre>\n"
            ]
          },
          "metadata": {}
        },
        {
          "output_type": "display_data",
          "data": {
            "text/plain": [
              "\u001b[1m Non-trainable params: \u001b[0m\u001b[38;5;34m11,776\u001b[0m (46.00 KB)\n"
            ],
            "text/html": [
              "<pre style=\"white-space:pre;overflow-x:auto;line-height:normal;font-family:Menlo,'DejaVu Sans Mono',consolas,'Courier New',monospace\"><span style=\"font-weight: bold\"> Non-trainable params: </span><span style=\"color: #00af00; text-decoration-color: #00af00\">11,776</span> (46.00 KB)\n",
              "</pre>\n"
            ]
          },
          "metadata": {}
        }
      ]
    },
    {
      "cell_type": "code",
      "source": [
        "import numpy as np\n",
        "import tensorflow as tf\n",
        "from tensorflow.keras import backend as K\n",
        "\n",
        "smooth = 1e-15  # قيمة صغيرة لتجنب القسمة على صفر\n",
        "\n",
        "def iou(y_true, y_pred):\n",
        "    \"\"\" مقياس تقاطع الاتحاد (IoU). \"\"\"\n",
        "    y_true = K.flatten(y_true)  # تسطيح المصفوفة\n",
        "    y_pred = K.flatten(y_pred)\n",
        "\n",
        "    intersection = K.sum(y_true * y_pred)  # حساب التقاطع\n",
        "    union = K.sum(y_true) + K.sum(y_pred) - intersection  # حساب الاتحاد\n",
        "    iou_score = (intersection + smooth) / (union + smooth)  # لتجنب القسمة على صفر\n",
        "\n",
        "    return iou_score\n",
        "\n",
        "def dice_coef(y_true, y_pred):\n",
        "    \"\"\" مقياس معامل Dice. \"\"\"\n",
        "    y_true = K.flatten(y_true)\n",
        "    y_pred = K.flatten(y_pred)\n",
        "\n",
        "    intersection = K.sum(y_true * y_pred)\n",
        "    dice_score = (2. * intersection + smooth) / (K.sum(y_true) + K.sum(y_pred) + smooth)\n",
        "\n",
        "    return dice_score\n",
        "\n",
        "def dice_loss(y_true, y_pred):\n",
        "    \"\"\" دالة خسارة Dice. \"\"\"\n",
        "    return 1 - dice_coef(y_true, y_pred)\n"
      ],
      "metadata": {
        "id": "NrDkN6GGjjRn"
      },
      "execution_count": 13,
      "outputs": []
    },
    {
      "cell_type": "code",
      "source": [
        "!ls /content"
      ],
      "metadata": {
        "colab": {
          "base_uri": "https://localhost:8080/"
        },
        "id": "wIU1KsYx1tAW",
        "outputId": "be8490b4-a68d-4d92-89b3-e0561f23b105"
      },
      "execution_count": 15,
      "outputs": [
        {
          "output_type": "stream",
          "name": "stdout",
          "text": [
            "CT-Heart-segmentation-using-U-NET-part-two-training-the-model  data   files  new_data  sample_data\n",
            "ct-heart-segmentation.zip\t\t\t\t       drive  logs   results\n"
          ]
        }
      ]
    },
    {
      "cell_type": "code",
      "source": [
        "!cat /content/modell.py\n"
      ],
      "metadata": {
        "colab": {
          "base_uri": "https://localhost:8080/"
        },
        "id": "g7N8d8EO18Pk",
        "outputId": "82dd9656-93e4-4c4b-95c7-730633fb48b3"
      },
      "execution_count": 14,
      "outputs": [
        {
          "output_type": "stream",
          "name": "stdout",
          "text": [
            "cat: /content/modell.py: No such file or directory\n"
          ]
        }
      ]
    },
    {
      "cell_type": "code",
      "source": [
        "import os\n",
        "os.environ[\"TF_CPP_MIN_LOG_LEVEL\"] = \"2\"\n",
        "import numpy as np\n",
        "import cv2\n",
        "from glob import glob\n",
        "from sklearn.utils import shuffle\n",
        "import tensorflow as tf\n",
        "from tensorflow.keras.callbacks import ModelCheckpoint, CSVLogger, ReduceLROnPlateau, EarlyStopping, TensorBoard\n",
        "from tensorflow.keras.optimizers import Adam\n",
        "from tensorflow.keras.metrics import Recall, Precision\n",
        "\n",
        "H = 512\n",
        "W = 512\n",
        "\n",
        "def create_dir(path):\n",
        "    \"\"\" Create a directory. \"\"\"\n",
        "    if not os.path.exists(path):\n",
        "        os.makedirs(path)\n",
        "\n",
        "def shuffling(x, y):\n",
        "    x, y = shuffle(x, y, random_state=42)\n",
        "    return x, y\n",
        "\n",
        "def load_data(path):\n",
        "    x = sorted(glob(os.path.join(path, \"image\", \"*.jpg\")))\n",
        "    y = sorted(glob(os.path.join(path, \"mask\", \"*.jpg\")))\n",
        "    return x, y\n",
        "\n",
        "def read_image(path):\n",
        "    path = path.decode()\n",
        "    x = cv2.imread(path, cv2.IMREAD_COLOR)\n",
        "    x = x/255.0\n",
        "    x = x.astype(np.float32)\n",
        "    return x\n",
        "\n",
        "def read_mask(path):\n",
        "    path = path.decode()\n",
        "    x = cv2.imread(path, cv2.IMREAD_GRAYSCALE)\n",
        "    x = x/255.0\n",
        "    x = x > 0.5\n",
        "    x = x.astype(np.float32)\n",
        "    x = np.expand_dims(x, axis=-1)\n",
        "    return x\n",
        "\n",
        "def tf_parse(x, y):\n",
        "    def _parse(x, y):\n",
        "        x = read_image(x)\n",
        "        y = read_mask(y)\n",
        "        return x, y\n",
        "\n",
        "    x, y = tf.numpy_function(_parse, [x, y], [tf.float32, tf.float32])\n",
        "    x.set_shape([H, W, 3])\n",
        "    y.set_shape([H, W, 1])\n",
        "    return x, y\n",
        "\n",
        "def tf_dataset(x, y, batch=8):\n",
        "    dataset = tf.data.Dataset.from_tensor_slices((x, y))\n",
        "    dataset = dataset.map(tf_parse)\n",
        "    dataset = dataset.batch(batch)\n",
        "    dataset = dataset.prefetch(10)\n",
        "    return dataset\n",
        "\n",
        "\n",
        "if __name__ == \"__main__\":\n",
        "    \"\"\" Seeding \"\"\"\n",
        "    np.random.seed(42)\n",
        "    tf.random.set_seed(42)\n",
        "\n",
        "    \"\"\" Directory for storing files \"\"\"\n",
        "    create_dir(\"files\")\n",
        "\n",
        "    \"\"\" Hyperparameters \"\"\"\n",
        "    batch_size = 2\n",
        "    lr = 1e-4\n",
        "    num_epochs = 5\n",
        "    model_path = os.path.join(\"files\", \"model.keras\")\n",
        "    csv_path = os.path.join(\"files\", \"data.csv\")\n",
        "\n",
        "    \"\"\" Dataset \"\"\"\n",
        "    dataset_path = os.path.join(\"new_data\")\n",
        "    train_path = os.path.join(dataset_path, \"train\")\n",
        "    valid_path = os.path.join(dataset_path, \"valid\")\n",
        "\n",
        "    train_x, train_y = load_data(train_path)\n",
        "    train_x, train_y = shuffling(train_x, train_y)\n",
        "    valid_x, valid_y = load_data(valid_path)\n",
        "\n",
        "    print(f\"Train: {len(train_x)} - {len(train_y)}\")\n",
        "    print(f\"Valid: {len(valid_x)} - {len(valid_y)}\")\n",
        "\n",
        "    train_dataset = tf_dataset(train_x, train_y, batch=batch_size)\n",
        "    valid_dataset = tf_dataset(valid_x, valid_y, batch=batch_size)\n",
        "\n",
        "    \"\"\" Model \"\"\"\n",
        "    model = build_unet((H, W, 3))\n",
        "    metrics = [dice_coef, iou, Recall(), Precision()]\n",
        "    model.compile(loss=dice_loss, optimizer=Adam(lr), metrics=metrics)\n",
        "\n",
        "    callbacks = [\n",
        "        ModelCheckpoint(model_path, verbose=1, save_best_only=True),\n",
        "        ReduceLROnPlateau(monitor='val_loss', factor=0.1, patience=10, min_lr=1e-7, verbose=1),\n",
        "        CSVLogger(csv_path),\n",
        "        TensorBoard(),\n",
        "        EarlyStopping(monitor='val_loss', patience=3, restore_best_weights=False),\n",
        "    ]\n",
        "\n",
        "    model.fit(\n",
        "        train_dataset,\n",
        "        epochs=num_epochs,\n",
        "        validation_data=valid_dataset,\n",
        "        callbacks=callbacks,\n",
        "        shuffle=False\n",
        "    )\n"
      ],
      "metadata": {
        "id": "Cn-LXL1asuRv",
        "colab": {
          "base_uri": "https://localhost:8080/"
        },
        "outputId": "6fe8c8a4-f043-4b83-808c-4eaf9984d391"
      },
      "execution_count": null,
      "outputs": [
        {
          "output_type": "stream",
          "name": "stdout",
          "text": [
            "Train: 8104 - 8104\n",
            "Valid: 506 - 506\n",
            "Epoch 1/5\n"
          ]
        }
      ]
    },
    {
      "cell_type": "code",
      "source": [
        "from tensorflow.keras.utils import CustomObjectScope\n",
        "\n",
        "with CustomObjectScope({'iou': iou, 'dice_coef': dice_coef, 'dice_loss': dice_loss}):\n",
        "    model = tf.keras.models.load_model(\"files/model.h5\")\n"
      ],
      "metadata": {
        "colab": {
          "base_uri": "https://localhost:8080/",
          "height": 460
        },
        "id": "5P38E0vjH-9g",
        "outputId": "ef8b143a-f069-4c22-e5c9-7653ea24baec"
      },
      "execution_count": 17,
      "outputs": [
        {
          "output_type": "error",
          "ename": "FileNotFoundError",
          "evalue": "[Errno 2] Unable to synchronously open file (unable to open file: name = 'files/model.h5', errno = 2, error message = 'No such file or directory', flags = 0, o_flags = 0)",
          "traceback": [
            "\u001b[0;31m---------------------------------------------------------------------------\u001b[0m",
            "\u001b[0;31mFileNotFoundError\u001b[0m                         Traceback (most recent call last)",
            "\u001b[0;32m<ipython-input-17-ebcc7b58a6cd>\u001b[0m in \u001b[0;36m<cell line: 3>\u001b[0;34m()\u001b[0m\n\u001b[1;32m      2\u001b[0m \u001b[0;34m\u001b[0m\u001b[0m\n\u001b[1;32m      3\u001b[0m \u001b[0;32mwith\u001b[0m \u001b[0mCustomObjectScope\u001b[0m\u001b[0;34m(\u001b[0m\u001b[0;34m{\u001b[0m\u001b[0;34m'iou'\u001b[0m\u001b[0;34m:\u001b[0m \u001b[0miou\u001b[0m\u001b[0;34m,\u001b[0m \u001b[0;34m'dice_coef'\u001b[0m\u001b[0;34m:\u001b[0m \u001b[0mdice_coef\u001b[0m\u001b[0;34m,\u001b[0m \u001b[0;34m'dice_loss'\u001b[0m\u001b[0;34m:\u001b[0m \u001b[0mdice_loss\u001b[0m\u001b[0;34m}\u001b[0m\u001b[0;34m)\u001b[0m\u001b[0;34m:\u001b[0m\u001b[0;34m\u001b[0m\u001b[0;34m\u001b[0m\u001b[0m\n\u001b[0;32m----> 4\u001b[0;31m     \u001b[0mmodel\u001b[0m \u001b[0;34m=\u001b[0m \u001b[0mtf\u001b[0m\u001b[0;34m.\u001b[0m\u001b[0mkeras\u001b[0m\u001b[0;34m.\u001b[0m\u001b[0mmodels\u001b[0m\u001b[0;34m.\u001b[0m\u001b[0mload_model\u001b[0m\u001b[0;34m(\u001b[0m\u001b[0;34m\"files/model.h5\"\u001b[0m\u001b[0;34m)\u001b[0m\u001b[0;34m\u001b[0m\u001b[0;34m\u001b[0m\u001b[0m\n\u001b[0m",
            "\u001b[0;32m/usr/local/lib/python3.10/dist-packages/keras/src/saving/saving_api.py\u001b[0m in \u001b[0;36mload_model\u001b[0;34m(filepath, custom_objects, compile, safe_mode)\u001b[0m\n\u001b[1;32m    187\u001b[0m         )\n\u001b[1;32m    188\u001b[0m     \u001b[0;32mif\u001b[0m \u001b[0mstr\u001b[0m\u001b[0;34m(\u001b[0m\u001b[0mfilepath\u001b[0m\u001b[0;34m)\u001b[0m\u001b[0;34m.\u001b[0m\u001b[0mendswith\u001b[0m\u001b[0;34m(\u001b[0m\u001b[0;34m(\u001b[0m\u001b[0;34m\".h5\"\u001b[0m\u001b[0;34m,\u001b[0m \u001b[0;34m\".hdf5\"\u001b[0m\u001b[0;34m)\u001b[0m\u001b[0;34m)\u001b[0m\u001b[0;34m:\u001b[0m\u001b[0;34m\u001b[0m\u001b[0;34m\u001b[0m\u001b[0m\n\u001b[0;32m--> 189\u001b[0;31m         return legacy_h5_format.load_model_from_hdf5(\n\u001b[0m\u001b[1;32m    190\u001b[0m             \u001b[0mfilepath\u001b[0m\u001b[0;34m,\u001b[0m \u001b[0mcustom_objects\u001b[0m\u001b[0;34m=\u001b[0m\u001b[0mcustom_objects\u001b[0m\u001b[0;34m,\u001b[0m \u001b[0mcompile\u001b[0m\u001b[0;34m=\u001b[0m\u001b[0mcompile\u001b[0m\u001b[0;34m\u001b[0m\u001b[0;34m\u001b[0m\u001b[0m\n\u001b[1;32m    191\u001b[0m         )\n",
            "\u001b[0;32m/usr/local/lib/python3.10/dist-packages/keras/src/legacy/saving/legacy_h5_format.py\u001b[0m in \u001b[0;36mload_model_from_hdf5\u001b[0;34m(filepath, custom_objects, compile)\u001b[0m\n\u001b[1;32m    114\u001b[0m     \u001b[0mopened_new_file\u001b[0m \u001b[0;34m=\u001b[0m \u001b[0;32mnot\u001b[0m \u001b[0misinstance\u001b[0m\u001b[0;34m(\u001b[0m\u001b[0mfilepath\u001b[0m\u001b[0;34m,\u001b[0m \u001b[0mh5py\u001b[0m\u001b[0;34m.\u001b[0m\u001b[0mFile\u001b[0m\u001b[0;34m)\u001b[0m\u001b[0;34m\u001b[0m\u001b[0;34m\u001b[0m\u001b[0m\n\u001b[1;32m    115\u001b[0m     \u001b[0;32mif\u001b[0m \u001b[0mopened_new_file\u001b[0m\u001b[0;34m:\u001b[0m\u001b[0;34m\u001b[0m\u001b[0;34m\u001b[0m\u001b[0m\n\u001b[0;32m--> 116\u001b[0;31m         \u001b[0mf\u001b[0m \u001b[0;34m=\u001b[0m \u001b[0mh5py\u001b[0m\u001b[0;34m.\u001b[0m\u001b[0mFile\u001b[0m\u001b[0;34m(\u001b[0m\u001b[0mfilepath\u001b[0m\u001b[0;34m,\u001b[0m \u001b[0mmode\u001b[0m\u001b[0;34m=\u001b[0m\u001b[0;34m\"r\"\u001b[0m\u001b[0;34m)\u001b[0m\u001b[0;34m\u001b[0m\u001b[0;34m\u001b[0m\u001b[0m\n\u001b[0m\u001b[1;32m    117\u001b[0m     \u001b[0;32melse\u001b[0m\u001b[0;34m:\u001b[0m\u001b[0;34m\u001b[0m\u001b[0;34m\u001b[0m\u001b[0m\n\u001b[1;32m    118\u001b[0m         \u001b[0mf\u001b[0m \u001b[0;34m=\u001b[0m \u001b[0mfilepath\u001b[0m\u001b[0;34m\u001b[0m\u001b[0;34m\u001b[0m\u001b[0m\n",
            "\u001b[0;32m/usr/local/lib/python3.10/dist-packages/h5py/_hl/files.py\u001b[0m in \u001b[0;36m__init__\u001b[0;34m(self, name, mode, driver, libver, userblock_size, swmr, rdcc_nslots, rdcc_nbytes, rdcc_w0, track_order, fs_strategy, fs_persist, fs_threshold, fs_page_size, page_buf_size, min_meta_keep, min_raw_keep, locking, alignment_threshold, alignment_interval, meta_block_size, **kwds)\u001b[0m\n\u001b[1;32m    560\u001b[0m                                  \u001b[0mfs_persist\u001b[0m\u001b[0;34m=\u001b[0m\u001b[0mfs_persist\u001b[0m\u001b[0;34m,\u001b[0m \u001b[0mfs_threshold\u001b[0m\u001b[0;34m=\u001b[0m\u001b[0mfs_threshold\u001b[0m\u001b[0;34m,\u001b[0m\u001b[0;34m\u001b[0m\u001b[0;34m\u001b[0m\u001b[0m\n\u001b[1;32m    561\u001b[0m                                  fs_page_size=fs_page_size)\n\u001b[0;32m--> 562\u001b[0;31m                 \u001b[0mfid\u001b[0m \u001b[0;34m=\u001b[0m \u001b[0mmake_fid\u001b[0m\u001b[0;34m(\u001b[0m\u001b[0mname\u001b[0m\u001b[0;34m,\u001b[0m \u001b[0mmode\u001b[0m\u001b[0;34m,\u001b[0m \u001b[0muserblock_size\u001b[0m\u001b[0;34m,\u001b[0m \u001b[0mfapl\u001b[0m\u001b[0;34m,\u001b[0m \u001b[0mfcpl\u001b[0m\u001b[0;34m,\u001b[0m \u001b[0mswmr\u001b[0m\u001b[0;34m=\u001b[0m\u001b[0mswmr\u001b[0m\u001b[0;34m)\u001b[0m\u001b[0;34m\u001b[0m\u001b[0;34m\u001b[0m\u001b[0m\n\u001b[0m\u001b[1;32m    563\u001b[0m \u001b[0;34m\u001b[0m\u001b[0m\n\u001b[1;32m    564\u001b[0m             \u001b[0;32mif\u001b[0m \u001b[0misinstance\u001b[0m\u001b[0;34m(\u001b[0m\u001b[0mlibver\u001b[0m\u001b[0;34m,\u001b[0m \u001b[0mtuple\u001b[0m\u001b[0;34m)\u001b[0m\u001b[0;34m:\u001b[0m\u001b[0;34m\u001b[0m\u001b[0;34m\u001b[0m\u001b[0m\n",
            "\u001b[0;32m/usr/local/lib/python3.10/dist-packages/h5py/_hl/files.py\u001b[0m in \u001b[0;36mmake_fid\u001b[0;34m(name, mode, userblock_size, fapl, fcpl, swmr)\u001b[0m\n\u001b[1;32m    233\u001b[0m         \u001b[0;32mif\u001b[0m \u001b[0mswmr\u001b[0m \u001b[0;32mand\u001b[0m \u001b[0mswmr_support\u001b[0m\u001b[0;34m:\u001b[0m\u001b[0;34m\u001b[0m\u001b[0;34m\u001b[0m\u001b[0m\n\u001b[1;32m    234\u001b[0m             \u001b[0mflags\u001b[0m \u001b[0;34m|=\u001b[0m \u001b[0mh5f\u001b[0m\u001b[0;34m.\u001b[0m\u001b[0mACC_SWMR_READ\u001b[0m\u001b[0;34m\u001b[0m\u001b[0;34m\u001b[0m\u001b[0m\n\u001b[0;32m--> 235\u001b[0;31m         \u001b[0mfid\u001b[0m \u001b[0;34m=\u001b[0m \u001b[0mh5f\u001b[0m\u001b[0;34m.\u001b[0m\u001b[0mopen\u001b[0m\u001b[0;34m(\u001b[0m\u001b[0mname\u001b[0m\u001b[0;34m,\u001b[0m \u001b[0mflags\u001b[0m\u001b[0;34m,\u001b[0m \u001b[0mfapl\u001b[0m\u001b[0;34m=\u001b[0m\u001b[0mfapl\u001b[0m\u001b[0;34m)\u001b[0m\u001b[0;34m\u001b[0m\u001b[0;34m\u001b[0m\u001b[0m\n\u001b[0m\u001b[1;32m    236\u001b[0m     \u001b[0;32melif\u001b[0m \u001b[0mmode\u001b[0m \u001b[0;34m==\u001b[0m \u001b[0;34m'r+'\u001b[0m\u001b[0;34m:\u001b[0m\u001b[0;34m\u001b[0m\u001b[0;34m\u001b[0m\u001b[0m\n\u001b[1;32m    237\u001b[0m         \u001b[0mfid\u001b[0m \u001b[0;34m=\u001b[0m \u001b[0mh5f\u001b[0m\u001b[0;34m.\u001b[0m\u001b[0mopen\u001b[0m\u001b[0;34m(\u001b[0m\u001b[0mname\u001b[0m\u001b[0;34m,\u001b[0m \u001b[0mh5f\u001b[0m\u001b[0;34m.\u001b[0m\u001b[0mACC_RDWR\u001b[0m\u001b[0;34m,\u001b[0m \u001b[0mfapl\u001b[0m\u001b[0;34m=\u001b[0m\u001b[0mfapl\u001b[0m\u001b[0;34m)\u001b[0m\u001b[0;34m\u001b[0m\u001b[0;34m\u001b[0m\u001b[0m\n",
            "\u001b[0;32mh5py/_objects.pyx\u001b[0m in \u001b[0;36mh5py._objects.with_phil.wrapper\u001b[0;34m()\u001b[0m\n",
            "\u001b[0;32mh5py/_objects.pyx\u001b[0m in \u001b[0;36mh5py._objects.with_phil.wrapper\u001b[0;34m()\u001b[0m\n",
            "\u001b[0;32mh5py/h5f.pyx\u001b[0m in \u001b[0;36mh5py.h5f.open\u001b[0;34m()\u001b[0m\n",
            "\u001b[0;31mFileNotFoundError\u001b[0m: [Errno 2] Unable to synchronously open file (unable to open file: name = 'files/model.h5', errno = 2, error message = 'No such file or directory', flags = 0, o_flags = 0)"
          ]
        }
      ]
    },
    {
      "cell_type": "code",
      "source": [
        "model.save(\"files/model.keras\")\n",
        "\n",
        "# تحميل النموذج بعد الحفظ\n",
        "with CustomObjectScope({'iou': iou, 'dice_coef': dice_coef, 'dice_loss': dice_loss}):\n",
        "    model = tf.keras.models.load_model(\"files/model.keras\")\n"
      ],
      "metadata": {
        "id": "xaRfn8RmLyV1"
      },
      "execution_count": 18,
      "outputs": []
    },
    {
      "cell_type": "code",
      "source": [
        "import os\n",
        "os.environ[\"TF_CPP_MIN_LOG_LEVEL\"] = \"2\"\n",
        "\n",
        "import numpy as np\n",
        "import cv2\n",
        "import pandas as pd\n",
        "from glob import glob\n",
        "from tqdm import tqdm\n",
        "import tensorflow as tf\n",
        "from tensorflow.keras.utils import CustomObjectScope\n",
        "from sklearn.metrics import accuracy_score, f1_score, jaccard_score, precision_score, recall_score\n",
        "\n",
        "def load_data(path):\n",
        "    x = sorted(glob(os.path.join(path, \"image\", \"*.jpg\")))\n",
        "    y = sorted(glob(os.path.join(path, \"mask\", \"*.jpg\")))\n",
        "    return x, y\n",
        "\n",
        "H = 512\n",
        "W = 512\n",
        "\n",
        "\"\"\" Creating a directory \"\"\"\n",
        "def create_dir(path):\n",
        "    if not os.path.exists(path):\n",
        "        os.makedirs(path)\n",
        "\n",
        "def save_results(image, mask, y_pred, save_image_path):\n",
        "    ## i - m - y\n",
        "    line = np.ones((H, 10, 3)) * 128\n",
        "\n",
        "    \"\"\" Mask \"\"\"\n",
        "    mask = np.expand_dims(mask, axis=-1)    ## (512, 512, 1)\n",
        "    mask = np.concatenate([mask, mask, mask], axis=-1)  ## (512, 512, 3)\n",
        "\n",
        "    \"\"\" Predicted Mask \"\"\"\n",
        "    y_pred = np.expand_dims(y_pred, axis=-1)    ## (512, 512, 1)\n",
        "    y_pred = np.concatenate([y_pred, y_pred, y_pred], axis=-1)  ## (512, 512, 3)\n",
        "    y_pred = y_pred * 255\n",
        "\n",
        "    cat_images = np.concatenate([image, line, mask, line, y_pred], axis=1)\n",
        "    cv2.imwrite(save_image_path, cat_images)\n",
        "\n",
        "if __name__ == \"__main__\":\n",
        "    \"\"\" Seeding \"\"\"\n",
        "    np.random.seed(42)\n",
        "    tf.random.set_seed(42)\n",
        "\n",
        "    \"\"\" Directory for storing files \"\"\"\n",
        "    create_dir(\"results\")\n",
        "\n",
        "    \"\"\" Loading model \"\"\"\n",
        "    with CustomObjectScope({'iou': iou, 'dice_coef': dice_coef, 'dice_loss': dice_loss}):\n",
        "        model = tf.keras.models.load_model(\"/content/files/model.keras\")\n",
        "\n",
        "    \"\"\" Load the dataset \"\"\"\n",
        "    test_x = sorted(glob(os.path.join(\"new_data\", \"valid\", \"image\", \"*\")))\n",
        "    test_y = sorted(glob(os.path.join(\"new_data\", \"valid\", \"mask\", \"*\")))\n",
        "    print(f\"Test: {len(test_x)} - {len(test_y)}\")\n",
        "\n",
        "    \"\"\" Evaluation and Prediction \"\"\"\n",
        "    SCORE = []\n",
        "    for x, y in tqdm(zip(test_x, test_y), total=len(test_x)):\n",
        "        \"\"\" Extract the name \"\"\"\n",
        "        name = x.split(\"/\")[-1].split(\".\")[0]\n",
        "\n",
        "        \"\"\" Reading the image \"\"\"\n",
        "        image = cv2.imread(x, cv2.IMREAD_COLOR)\n",
        "        x = image/255.0\n",
        "        x = np.expand_dims(x, axis=0)\n",
        "\n",
        "        \"\"\" Reading the mask \"\"\"\n",
        "        mask = cv2.imread(y, cv2.IMREAD_GRAYSCALE)\n",
        "        y = mask/255.0\n",
        "        y = y > 0.5\n",
        "        y = y.astype(np.int32)\n",
        "\n",
        "        \"\"\" Prediction \"\"\"\n",
        "        y_pred = model.predict(x)[0]\n",
        "        y_pred = np.squeeze(y_pred, axis=-1)\n",
        "        y_pred = y_pred > 0.5\n",
        "        y_pred = y_pred.astype(np.int32)\n",
        "\n",
        "        \"\"\" Saving the prediction \"\"\"\n",
        "        save_image_path = f\"results/{name}.png\"\n",
        "        save_results(image, mask, y_pred, save_image_path)\n",
        "\n",
        "        \"\"\" Flatten the array \"\"\"\n",
        "        y = y.flatten()\n",
        "        y_pred = y_pred.flatten()\n",
        "\n",
        "        \"\"\" Calculating the metrics values \"\"\"\n",
        "        acc_value = accuracy_score(y, y_pred)\n",
        "        f1_value = f1_score(y, y_pred, labels=[0, 1], average=\"binary\", zero_division=1)\n",
        "        jac_value = jaccard_score(y, y_pred, labels=[0, 1], average=\"binary\", zero_division=1)\n",
        "        recall_value = recall_score(y, y_pred, labels=[0, 1], average=\"binary\", zero_division=1)\n",
        "        precision_value = precision_score(y, y_pred, labels=[0, 1], average=\"binary\", zero_division=1)\n",
        "        SCORE.append([name, acc_value, f1_value, jac_value, recall_value, precision_value])\n",
        "\n",
        "    \"\"\" Metrics values \"\"\"\n",
        "    score = [s[1:]for s in SCORE]\n",
        "    score = np.mean(score, axis=0)\n",
        "    print(f\"Accuracy: {score[0]:0.5f}\")\n",
        "    print(f\"F1: {score[1]:0.5f}\")\n",
        "    print(f\"Jaccard: {score[2]:0.5f}\")\n",
        "    print(f\"Recall: {score[3]:0.5f}\")\n",
        "    print(f\"Precision: {score[4]:0.5f}\")\n",
        "\n",
        "    df = pd.DataFrame(SCORE, columns=[\"Image\", \"Accuracy\", \"F1\", \"Jaccard\", \"Recall\", \"Precision\"])\n",
        "    df.to_csv(\"files/score.csv\")"
      ],
      "metadata": {
        "colab": {
          "base_uri": "https://localhost:8080/"
        },
        "id": "_o3sLZXBJDBT",
        "outputId": "992bdd05-d7bf-42c4-ef85-e44c0f3a8c2c"
      },
      "execution_count": 19,
      "outputs": [
        {
          "output_type": "stream",
          "name": "stdout",
          "text": [
            "Test: 506 - 506\n"
          ]
        },
        {
          "output_type": "stream",
          "name": "stderr",
          "text": [
            "\r  0%|          | 0/506 [00:00<?, ?it/s]"
          ]
        },
        {
          "output_type": "stream",
          "name": "stdout",
          "text": [
            "\u001b[1m1/1\u001b[0m \u001b[32m━━━━━━━━━━━━━━━━━━━━\u001b[0m\u001b[37m\u001b[0m \u001b[1m8s\u001b[0m 8s/step\n"
          ]
        },
        {
          "output_type": "stream",
          "name": "stderr",
          "text": [
            "\r  0%|          | 1/506 [00:10<1:29:45, 10.66s/it]"
          ]
        },
        {
          "output_type": "stream",
          "name": "stdout",
          "text": [
            "\u001b[1m1/1\u001b[0m \u001b[32m━━━━━━━━━━━━━━━━━━━━\u001b[0m\u001b[37m\u001b[0m \u001b[1m0s\u001b[0m 21ms/step\n"
          ]
        },
        {
          "output_type": "stream",
          "name": "stderr",
          "text": [
            "\r  0%|          | 2/506 [00:11<39:30,  4.70s/it]  "
          ]
        },
        {
          "output_type": "stream",
          "name": "stdout",
          "text": [
            "\u001b[1m1/1\u001b[0m \u001b[32m━━━━━━━━━━━━━━━━━━━━\u001b[0m\u001b[37m\u001b[0m \u001b[1m0s\u001b[0m 20ms/step\n"
          ]
        },
        {
          "output_type": "stream",
          "name": "stderr",
          "text": [
            "\r  1%|          | 3/506 [00:11<23:19,  2.78s/it]"
          ]
        },
        {
          "output_type": "stream",
          "name": "stdout",
          "text": [
            "\u001b[1m1/1\u001b[0m \u001b[32m━━━━━━━━━━━━━━━━━━━━\u001b[0m\u001b[37m\u001b[0m \u001b[1m0s\u001b[0m 24ms/step\n"
          ]
        },
        {
          "output_type": "stream",
          "name": "stderr",
          "text": [
            "\r  1%|          | 4/506 [00:12<15:41,  1.88s/it]"
          ]
        },
        {
          "output_type": "stream",
          "name": "stdout",
          "text": [
            "\u001b[1m1/1\u001b[0m \u001b[32m━━━━━━━━━━━━━━━━━━━━\u001b[0m\u001b[37m\u001b[0m \u001b[1m0s\u001b[0m 20ms/step\n"
          ]
        },
        {
          "output_type": "stream",
          "name": "stderr",
          "text": [
            "\r  1%|          | 5/506 [00:12<12:01,  1.44s/it]"
          ]
        },
        {
          "output_type": "stream",
          "name": "stdout",
          "text": [
            "\u001b[1m1/1\u001b[0m \u001b[32m━━━━━━━━━━━━━━━━━━━━\u001b[0m\u001b[37m\u001b[0m \u001b[1m0s\u001b[0m 20ms/step\n"
          ]
        },
        {
          "output_type": "stream",
          "name": "stderr",
          "text": [
            "\r  1%|          | 6/506 [00:13<09:16,  1.11s/it]"
          ]
        },
        {
          "output_type": "stream",
          "name": "stdout",
          "text": [
            "\u001b[1m1/1\u001b[0m \u001b[32m━━━━━━━━━━━━━━━━━━━━\u001b[0m\u001b[37m\u001b[0m \u001b[1m0s\u001b[0m 22ms/step\n"
          ]
        },
        {
          "output_type": "stream",
          "name": "stderr",
          "text": [
            "\r  1%|▏         | 7/506 [00:13<07:34,  1.10it/s]"
          ]
        },
        {
          "output_type": "stream",
          "name": "stdout",
          "text": [
            "\u001b[1m1/1\u001b[0m \u001b[32m━━━━━━━━━━━━━━━━━━━━\u001b[0m\u001b[37m\u001b[0m \u001b[1m0s\u001b[0m 21ms/step\n"
          ]
        },
        {
          "output_type": "stream",
          "name": "stderr",
          "text": [
            "\r  2%|▏         | 8/506 [00:14<06:29,  1.28it/s]"
          ]
        },
        {
          "output_type": "stream",
          "name": "stdout",
          "text": [
            "\u001b[1m1/1\u001b[0m \u001b[32m━━━━━━━━━━━━━━━━━━━━\u001b[0m\u001b[37m\u001b[0m \u001b[1m0s\u001b[0m 21ms/step\n"
          ]
        },
        {
          "output_type": "stream",
          "name": "stderr",
          "text": [
            "\r  2%|▏         | 9/506 [00:14<05:52,  1.41it/s]"
          ]
        },
        {
          "output_type": "stream",
          "name": "stdout",
          "text": [
            "\u001b[1m1/1\u001b[0m \u001b[32m━━━━━━━━━━━━━━━━━━━━\u001b[0m\u001b[37m\u001b[0m \u001b[1m0s\u001b[0m 19ms/step\n"
          ]
        },
        {
          "output_type": "stream",
          "name": "stderr",
          "text": [
            "\r  2%|▏         | 10/506 [00:15<05:18,  1.56it/s]"
          ]
        },
        {
          "output_type": "stream",
          "name": "stdout",
          "text": [
            "\u001b[1m1/1\u001b[0m \u001b[32m━━━━━━━━━━━━━━━━━━━━\u001b[0m\u001b[37m\u001b[0m \u001b[1m0s\u001b[0m 19ms/step\n"
          ]
        },
        {
          "output_type": "stream",
          "name": "stderr",
          "text": [
            "\r  2%|▏         | 11/506 [00:15<04:56,  1.67it/s]"
          ]
        },
        {
          "output_type": "stream",
          "name": "stdout",
          "text": [
            "\u001b[1m1/1\u001b[0m \u001b[32m━━━━━━━━━━━━━━━━━━━━\u001b[0m\u001b[37m\u001b[0m \u001b[1m0s\u001b[0m 34ms/step\n"
          ]
        },
        {
          "output_type": "stream",
          "name": "stderr",
          "text": [
            "\r  2%|▏         | 12/506 [00:16<05:23,  1.53it/s]"
          ]
        },
        {
          "output_type": "stream",
          "name": "stdout",
          "text": [
            "\u001b[1m1/1\u001b[0m \u001b[32m━━━━━━━━━━━━━━━━━━━━\u001b[0m\u001b[37m\u001b[0m \u001b[1m0s\u001b[0m 43ms/step\n"
          ]
        },
        {
          "output_type": "stream",
          "name": "stderr",
          "text": [
            "\r  3%|▎         | 13/506 [00:17<05:42,  1.44it/s]"
          ]
        },
        {
          "output_type": "stream",
          "name": "stdout",
          "text": [
            "\u001b[1m1/1\u001b[0m \u001b[32m━━━━━━━━━━━━━━━━━━━━\u001b[0m\u001b[37m\u001b[0m \u001b[1m0s\u001b[0m 29ms/step\n"
          ]
        },
        {
          "output_type": "stream",
          "name": "stderr",
          "text": [
            "\r  3%|▎         | 14/506 [00:18<05:47,  1.42it/s]"
          ]
        },
        {
          "output_type": "stream",
          "name": "stdout",
          "text": [
            "\u001b[1m1/1\u001b[0m \u001b[32m━━━━━━━━━━━━━━━━━━━━\u001b[0m\u001b[37m\u001b[0m \u001b[1m0s\u001b[0m 26ms/step\n"
          ]
        },
        {
          "output_type": "stream",
          "name": "stderr",
          "text": [
            "\r  3%|▎         | 15/506 [00:18<05:57,  1.37it/s]"
          ]
        },
        {
          "output_type": "stream",
          "name": "stdout",
          "text": [
            "\u001b[1m1/1\u001b[0m \u001b[32m━━━━━━━━━━━━━━━━━━━━\u001b[0m\u001b[37m\u001b[0m \u001b[1m0s\u001b[0m 46ms/step\n"
          ]
        },
        {
          "output_type": "stream",
          "name": "stderr",
          "text": [
            "\r  3%|▎         | 16/506 [00:19<05:51,  1.39it/s]"
          ]
        },
        {
          "output_type": "stream",
          "name": "stdout",
          "text": [
            "\u001b[1m1/1\u001b[0m \u001b[32m━━━━━━━━━━━━━━━━━━━━\u001b[0m\u001b[37m\u001b[0m \u001b[1m0s\u001b[0m 19ms/step\n"
          ]
        },
        {
          "output_type": "stream",
          "name": "stderr",
          "text": [
            "\r  3%|▎         | 17/506 [00:20<05:21,  1.52it/s]"
          ]
        },
        {
          "output_type": "stream",
          "name": "stdout",
          "text": [
            "\u001b[1m1/1\u001b[0m \u001b[32m━━━━━━━━━━━━━━━━━━━━\u001b[0m\u001b[37m\u001b[0m \u001b[1m0s\u001b[0m 19ms/step\n"
          ]
        },
        {
          "output_type": "stream",
          "name": "stderr",
          "text": [
            "\r  4%|▎         | 18/506 [00:20<04:55,  1.65it/s]"
          ]
        },
        {
          "output_type": "stream",
          "name": "stdout",
          "text": [
            "\u001b[1m1/1\u001b[0m \u001b[32m━━━━━━━━━━━━━━━━━━━━\u001b[0m\u001b[37m\u001b[0m \u001b[1m0s\u001b[0m 21ms/step\n"
          ]
        },
        {
          "output_type": "stream",
          "name": "stderr",
          "text": [
            "\r  4%|▍         | 19/506 [00:21<04:45,  1.70it/s]"
          ]
        },
        {
          "output_type": "stream",
          "name": "stdout",
          "text": [
            "\u001b[1m1/1\u001b[0m \u001b[32m━━━━━━━━━━━━━━━━━━━━\u001b[0m\u001b[37m\u001b[0m \u001b[1m0s\u001b[0m 19ms/step\n"
          ]
        },
        {
          "output_type": "stream",
          "name": "stderr",
          "text": [
            "\r  4%|▍         | 20/506 [00:21<04:27,  1.81it/s]"
          ]
        },
        {
          "output_type": "stream",
          "name": "stdout",
          "text": [
            "\u001b[1m1/1\u001b[0m \u001b[32m━━━━━━━━━━━━━━━━━━━━\u001b[0m\u001b[37m\u001b[0m \u001b[1m0s\u001b[0m 20ms/step\n"
          ]
        },
        {
          "output_type": "stream",
          "name": "stderr",
          "text": [
            "\r  4%|▍         | 21/506 [00:22<04:15,  1.90it/s]"
          ]
        },
        {
          "output_type": "stream",
          "name": "stdout",
          "text": [
            "\u001b[1m1/1\u001b[0m \u001b[32m━━━━━━━━━━━━━━━━━━━━\u001b[0m\u001b[37m\u001b[0m \u001b[1m0s\u001b[0m 20ms/step\n"
          ]
        },
        {
          "output_type": "stream",
          "name": "stderr",
          "text": [
            "\r  4%|▍         | 22/506 [00:22<04:05,  1.97it/s]"
          ]
        },
        {
          "output_type": "stream",
          "name": "stdout",
          "text": [
            "\u001b[1m1/1\u001b[0m \u001b[32m━━━━━━━━━━━━━━━━━━━━\u001b[0m\u001b[37m\u001b[0m \u001b[1m0s\u001b[0m 19ms/step\n"
          ]
        },
        {
          "output_type": "stream",
          "name": "stderr",
          "text": [
            "\r  5%|▍         | 23/506 [00:23<03:59,  2.02it/s]"
          ]
        },
        {
          "output_type": "stream",
          "name": "stdout",
          "text": [
            "\u001b[1m1/1\u001b[0m \u001b[32m━━━━━━━━━━━━━━━━━━━━\u001b[0m\u001b[37m\u001b[0m \u001b[1m0s\u001b[0m 20ms/step\n"
          ]
        },
        {
          "output_type": "stream",
          "name": "stderr",
          "text": [
            "\r  5%|▍         | 24/506 [00:23<03:54,  2.05it/s]"
          ]
        },
        {
          "output_type": "stream",
          "name": "stdout",
          "text": [
            "\u001b[1m1/1\u001b[0m \u001b[32m━━━━━━━━━━━━━━━━━━━━\u001b[0m\u001b[37m\u001b[0m \u001b[1m0s\u001b[0m 19ms/step\n"
          ]
        },
        {
          "output_type": "stream",
          "name": "stderr",
          "text": [
            "\r  5%|▍         | 25/506 [00:23<03:51,  2.08it/s]"
          ]
        },
        {
          "output_type": "stream",
          "name": "stdout",
          "text": [
            "\u001b[1m1/1\u001b[0m \u001b[32m━━━━━━━━━━━━━━━━━━━━\u001b[0m\u001b[37m\u001b[0m \u001b[1m0s\u001b[0m 19ms/step\n"
          ]
        },
        {
          "output_type": "stream",
          "name": "stderr",
          "text": [
            "\r  5%|▌         | 26/506 [00:24<03:56,  2.03it/s]"
          ]
        },
        {
          "output_type": "stream",
          "name": "stdout",
          "text": [
            "\u001b[1m1/1\u001b[0m \u001b[32m━━━━━━━━━━━━━━━━━━━━\u001b[0m\u001b[37m\u001b[0m \u001b[1m0s\u001b[0m 19ms/step\n"
          ]
        },
        {
          "output_type": "stream",
          "name": "stderr",
          "text": [
            "\r  5%|▌         | 27/506 [00:24<03:55,  2.04it/s]"
          ]
        },
        {
          "output_type": "stream",
          "name": "stdout",
          "text": [
            "\u001b[1m1/1\u001b[0m \u001b[32m━━━━━━━━━━━━━━━━━━━━\u001b[0m\u001b[37m\u001b[0m \u001b[1m0s\u001b[0m 25ms/step\n"
          ]
        },
        {
          "output_type": "stream",
          "name": "stderr",
          "text": [
            "\r  6%|▌         | 28/506 [00:25<03:58,  2.00it/s]"
          ]
        },
        {
          "output_type": "stream",
          "name": "stdout",
          "text": [
            "\u001b[1m1/1\u001b[0m \u001b[32m━━━━━━━━━━━━━━━━━━━━\u001b[0m\u001b[37m\u001b[0m \u001b[1m0s\u001b[0m 20ms/step\n"
          ]
        },
        {
          "output_type": "stream",
          "name": "stderr",
          "text": [
            "\r  6%|▌         | 29/506 [00:25<03:53,  2.04it/s]"
          ]
        },
        {
          "output_type": "stream",
          "name": "stdout",
          "text": [
            "\u001b[1m1/1\u001b[0m \u001b[32m━━━━━━━━━━━━━━━━━━━━\u001b[0m\u001b[37m\u001b[0m \u001b[1m0s\u001b[0m 19ms/step\n"
          ]
        },
        {
          "output_type": "stream",
          "name": "stderr",
          "text": [
            "\r  6%|▌         | 30/506 [00:26<03:58,  2.00it/s]"
          ]
        },
        {
          "output_type": "stream",
          "name": "stdout",
          "text": [
            "\u001b[1m1/1\u001b[0m \u001b[32m━━━━━━━━━━━━━━━━━━━━\u001b[0m\u001b[37m\u001b[0m \u001b[1m0s\u001b[0m 22ms/step\n"
          ]
        },
        {
          "output_type": "stream",
          "name": "stderr",
          "text": [
            "\r  6%|▌         | 31/506 [00:26<03:55,  2.02it/s]"
          ]
        },
        {
          "output_type": "stream",
          "name": "stdout",
          "text": [
            "\u001b[1m1/1\u001b[0m \u001b[32m━━━━━━━━━━━━━━━━━━━━\u001b[0m\u001b[37m\u001b[0m \u001b[1m0s\u001b[0m 21ms/step\n"
          ]
        },
        {
          "output_type": "stream",
          "name": "stderr",
          "text": [
            "\r  6%|▋         | 32/506 [00:27<03:58,  1.99it/s]"
          ]
        },
        {
          "output_type": "stream",
          "name": "stdout",
          "text": [
            "\u001b[1m1/1\u001b[0m \u001b[32m━━━━━━━━━━━━━━━━━━━━\u001b[0m\u001b[37m\u001b[0m \u001b[1m0s\u001b[0m 20ms/step\n"
          ]
        },
        {
          "output_type": "stream",
          "name": "stderr",
          "text": [
            "\r  7%|▋         | 33/506 [00:27<03:56,  2.00it/s]"
          ]
        },
        {
          "output_type": "stream",
          "name": "stdout",
          "text": [
            "\u001b[1m1/1\u001b[0m \u001b[32m━━━━━━━━━━━━━━━━━━━━\u001b[0m\u001b[37m\u001b[0m \u001b[1m0s\u001b[0m 20ms/step\n"
          ]
        },
        {
          "output_type": "stream",
          "name": "stderr",
          "text": [
            "\r  7%|▋         | 34/506 [00:28<03:59,  1.97it/s]"
          ]
        },
        {
          "output_type": "stream",
          "name": "stdout",
          "text": [
            "\u001b[1m1/1\u001b[0m \u001b[32m━━━━━━━━━━━━━━━━━━━━\u001b[0m\u001b[37m\u001b[0m \u001b[1m0s\u001b[0m 20ms/step\n"
          ]
        },
        {
          "output_type": "stream",
          "name": "stderr",
          "text": [
            "\r  7%|▋         | 35/506 [00:28<03:54,  2.01it/s]"
          ]
        },
        {
          "output_type": "stream",
          "name": "stdout",
          "text": [
            "\u001b[1m1/1\u001b[0m \u001b[32m━━━━━━━━━━━━━━━━━━━━\u001b[0m\u001b[37m\u001b[0m \u001b[1m0s\u001b[0m 20ms/step\n"
          ]
        },
        {
          "output_type": "stream",
          "name": "stderr",
          "text": [
            "\r  7%|▋         | 36/506 [00:29<03:59,  1.96it/s]"
          ]
        },
        {
          "output_type": "stream",
          "name": "stdout",
          "text": [
            "\u001b[1m1/1\u001b[0m \u001b[32m━━━━━━━━━━━━━━━━━━━━\u001b[0m\u001b[37m\u001b[0m \u001b[1m0s\u001b[0m 33ms/step\n"
          ]
        },
        {
          "output_type": "stream",
          "name": "stderr",
          "text": [
            "\r  7%|▋         | 37/506 [00:30<04:32,  1.72it/s]"
          ]
        },
        {
          "output_type": "stream",
          "name": "stdout",
          "text": [
            "\u001b[1m1/1\u001b[0m \u001b[32m━━━━━━━━━━━━━━━━━━━━\u001b[0m\u001b[37m\u001b[0m \u001b[1m0s\u001b[0m 31ms/step\n"
          ]
        },
        {
          "output_type": "stream",
          "name": "stderr",
          "text": [
            "\r  8%|▊         | 38/506 [00:31<04:56,  1.58it/s]"
          ]
        },
        {
          "output_type": "stream",
          "name": "stdout",
          "text": [
            "\u001b[1m1/1\u001b[0m \u001b[32m━━━━━━━━━━━━━━━━━━━━\u001b[0m\u001b[37m\u001b[0m \u001b[1m0s\u001b[0m 29ms/step\n"
          ]
        },
        {
          "output_type": "stream",
          "name": "stderr",
          "text": [
            "\r  8%|▊         | 39/506 [00:31<05:15,  1.48it/s]"
          ]
        },
        {
          "output_type": "stream",
          "name": "stdout",
          "text": [
            "\u001b[1m1/1\u001b[0m \u001b[32m━━━━━━━━━━━━━━━━━━━━\u001b[0m\u001b[37m\u001b[0m \u001b[1m0s\u001b[0m 27ms/step\n"
          ]
        },
        {
          "output_type": "stream",
          "name": "stderr",
          "text": [
            "\r  8%|▊         | 40/506 [00:32<05:27,  1.42it/s]"
          ]
        },
        {
          "output_type": "stream",
          "name": "stdout",
          "text": [
            "\u001b[1m1/1\u001b[0m \u001b[32m━━━━━━━━━━━━━━━━━━━━\u001b[0m\u001b[37m\u001b[0m \u001b[1m0s\u001b[0m 30ms/step\n"
          ]
        },
        {
          "output_type": "stream",
          "name": "stderr",
          "text": [
            "\r  8%|▊         | 41/506 [00:33<05:25,  1.43it/s]"
          ]
        },
        {
          "output_type": "stream",
          "name": "stdout",
          "text": [
            "\u001b[1m1/1\u001b[0m \u001b[32m━━━━━━━━━━━━━━━━━━━━\u001b[0m\u001b[37m\u001b[0m \u001b[1m0s\u001b[0m 19ms/step\n"
          ]
        },
        {
          "output_type": "stream",
          "name": "stderr",
          "text": [
            "\r  8%|▊         | 42/506 [00:33<04:57,  1.56it/s]"
          ]
        },
        {
          "output_type": "stream",
          "name": "stdout",
          "text": [
            "\u001b[1m1/1\u001b[0m \u001b[32m━━━━━━━━━━━━━━━━━━━━\u001b[0m\u001b[37m\u001b[0m \u001b[1m0s\u001b[0m 19ms/step\n"
          ]
        },
        {
          "output_type": "stream",
          "name": "stderr",
          "text": [
            "\r  8%|▊         | 43/506 [00:34<04:33,  1.69it/s]"
          ]
        },
        {
          "output_type": "stream",
          "name": "stdout",
          "text": [
            "\u001b[1m1/1\u001b[0m \u001b[32m━━━━━━━━━━━━━━━━━━━━\u001b[0m\u001b[37m\u001b[0m \u001b[1m0s\u001b[0m 21ms/step\n"
          ]
        },
        {
          "output_type": "stream",
          "name": "stderr",
          "text": [
            "\r  9%|▊         | 44/506 [00:34<04:18,  1.79it/s]"
          ]
        },
        {
          "output_type": "stream",
          "name": "stdout",
          "text": [
            "\u001b[1m1/1\u001b[0m \u001b[32m━━━━━━━━━━━━━━━━━━━━\u001b[0m\u001b[37m\u001b[0m \u001b[1m0s\u001b[0m 19ms/step\n"
          ]
        },
        {
          "output_type": "stream",
          "name": "stderr",
          "text": [
            "\r  9%|▉         | 45/506 [00:35<04:05,  1.88it/s]"
          ]
        },
        {
          "output_type": "stream",
          "name": "stdout",
          "text": [
            "\u001b[1m1/1\u001b[0m \u001b[32m━━━━━━━━━━━━━━━━━━━━\u001b[0m\u001b[37m\u001b[0m \u001b[1m0s\u001b[0m 21ms/step\n"
          ]
        },
        {
          "output_type": "stream",
          "name": "stderr",
          "text": [
            "\r  9%|▉         | 46/506 [00:35<03:56,  1.94it/s]"
          ]
        },
        {
          "output_type": "stream",
          "name": "stdout",
          "text": [
            "\u001b[1m1/1\u001b[0m \u001b[32m━━━━━━━━━━━━━━━━━━━━\u001b[0m\u001b[37m\u001b[0m \u001b[1m0s\u001b[0m 19ms/step\n"
          ]
        },
        {
          "output_type": "stream",
          "name": "stderr",
          "text": [
            "\r  9%|▉         | 47/506 [00:36<03:57,  1.93it/s]"
          ]
        },
        {
          "output_type": "stream",
          "name": "stdout",
          "text": [
            "\u001b[1m1/1\u001b[0m \u001b[32m━━━━━━━━━━━━━━━━━━━━\u001b[0m\u001b[37m\u001b[0m \u001b[1m0s\u001b[0m 20ms/step\n"
          ]
        },
        {
          "output_type": "stream",
          "name": "stderr",
          "text": [
            "\r  9%|▉         | 48/506 [00:36<03:52,  1.97it/s]"
          ]
        },
        {
          "output_type": "stream",
          "name": "stdout",
          "text": [
            "\u001b[1m1/1\u001b[0m \u001b[32m━━━━━━━━━━━━━━━━━━━━\u001b[0m\u001b[37m\u001b[0m \u001b[1m0s\u001b[0m 23ms/step\n"
          ]
        },
        {
          "output_type": "stream",
          "name": "stderr",
          "text": [
            "\r 10%|▉         | 49/506 [00:37<03:55,  1.94it/s]"
          ]
        },
        {
          "output_type": "stream",
          "name": "stdout",
          "text": [
            "\u001b[1m1/1\u001b[0m \u001b[32m━━━━━━━━━━━━━━━━━━━━\u001b[0m\u001b[37m\u001b[0m \u001b[1m0s\u001b[0m 22ms/step\n"
          ]
        },
        {
          "output_type": "stream",
          "name": "stderr",
          "text": [
            "\r 10%|▉         | 50/506 [00:37<03:49,  1.98it/s]"
          ]
        },
        {
          "output_type": "stream",
          "name": "stdout",
          "text": [
            "\u001b[1m1/1\u001b[0m \u001b[32m━━━━━━━━━━━━━━━━━━━━\u001b[0m\u001b[37m\u001b[0m \u001b[1m0s\u001b[0m 24ms/step\n"
          ]
        },
        {
          "output_type": "stream",
          "name": "stderr",
          "text": [
            "\r 10%|█         | 51/506 [00:38<03:43,  2.03it/s]"
          ]
        },
        {
          "output_type": "stream",
          "name": "stdout",
          "text": [
            "\u001b[1m1/1\u001b[0m \u001b[32m━━━━━━━━━━━━━━━━━━━━\u001b[0m\u001b[37m\u001b[0m \u001b[1m0s\u001b[0m 20ms/step\n"
          ]
        },
        {
          "output_type": "stream",
          "name": "stderr",
          "text": [
            "\r 10%|█         | 52/506 [00:38<03:50,  1.97it/s]"
          ]
        },
        {
          "output_type": "stream",
          "name": "stdout",
          "text": [
            "\u001b[1m1/1\u001b[0m \u001b[32m━━━━━━━━━━━━━━━━━━━━\u001b[0m\u001b[37m\u001b[0m \u001b[1m0s\u001b[0m 24ms/step\n"
          ]
        },
        {
          "output_type": "stream",
          "name": "stderr",
          "text": [
            "\r 10%|█         | 53/506 [00:39<03:44,  2.02it/s]"
          ]
        },
        {
          "output_type": "stream",
          "name": "stdout",
          "text": [
            "\u001b[1m1/1\u001b[0m \u001b[32m━━━━━━━━━━━━━━━━━━━━\u001b[0m\u001b[37m\u001b[0m \u001b[1m0s\u001b[0m 19ms/step\n"
          ]
        },
        {
          "output_type": "stream",
          "name": "stderr",
          "text": [
            "\r 11%|█         | 54/506 [00:39<03:39,  2.06it/s]"
          ]
        },
        {
          "output_type": "stream",
          "name": "stdout",
          "text": [
            "\u001b[1m1/1\u001b[0m \u001b[32m━━━━━━━━━━━━━━━━━━━━\u001b[0m\u001b[37m\u001b[0m \u001b[1m0s\u001b[0m 19ms/step\n"
          ]
        },
        {
          "output_type": "stream",
          "name": "stderr",
          "text": [
            "\r 11%|█         | 55/506 [00:40<03:36,  2.09it/s]"
          ]
        },
        {
          "output_type": "stream",
          "name": "stdout",
          "text": [
            "\u001b[1m1/1\u001b[0m \u001b[32m━━━━━━━━━━━━━━━━━━━━\u001b[0m\u001b[37m\u001b[0m \u001b[1m0s\u001b[0m 20ms/step\n"
          ]
        },
        {
          "output_type": "stream",
          "name": "stderr",
          "text": [
            "\r 11%|█         | 56/506 [00:40<03:36,  2.07it/s]"
          ]
        },
        {
          "output_type": "stream",
          "name": "stdout",
          "text": [
            "\u001b[1m1/1\u001b[0m \u001b[32m━━━━━━━━━━━━━━━━━━━━\u001b[0m\u001b[37m\u001b[0m \u001b[1m0s\u001b[0m 19ms/step\n"
          ]
        },
        {
          "output_type": "stream",
          "name": "stderr",
          "text": [
            "\r 11%|█▏        | 57/506 [00:41<03:35,  2.08it/s]"
          ]
        },
        {
          "output_type": "stream",
          "name": "stdout",
          "text": [
            "\u001b[1m1/1\u001b[0m \u001b[32m━━━━━━━━━━━━━━━━━━━━\u001b[0m\u001b[37m\u001b[0m \u001b[1m0s\u001b[0m 20ms/step\n"
          ]
        },
        {
          "output_type": "stream",
          "name": "stderr",
          "text": [
            "\r 11%|█▏        | 58/506 [00:41<03:40,  2.03it/s]"
          ]
        },
        {
          "output_type": "stream",
          "name": "stdout",
          "text": [
            "\u001b[1m1/1\u001b[0m \u001b[32m━━━━━━━━━━━━━━━━━━━━\u001b[0m\u001b[37m\u001b[0m \u001b[1m0s\u001b[0m 19ms/step\n"
          ]
        },
        {
          "output_type": "stream",
          "name": "stderr",
          "text": [
            "\r 12%|█▏        | 59/506 [00:42<03:37,  2.05it/s]"
          ]
        },
        {
          "output_type": "stream",
          "name": "stdout",
          "text": [
            "\u001b[1m1/1\u001b[0m \u001b[32m━━━━━━━━━━━━━━━━━━━━\u001b[0m\u001b[37m\u001b[0m \u001b[1m0s\u001b[0m 20ms/step\n"
          ]
        },
        {
          "output_type": "stream",
          "name": "stderr",
          "text": [
            "\r 12%|█▏        | 60/506 [00:42<03:34,  2.08it/s]"
          ]
        },
        {
          "output_type": "stream",
          "name": "stdout",
          "text": [
            "\u001b[1m1/1\u001b[0m \u001b[32m━━━━━━━━━━━━━━━━━━━━\u001b[0m\u001b[37m\u001b[0m \u001b[1m0s\u001b[0m 19ms/step\n"
          ]
        },
        {
          "output_type": "stream",
          "name": "stderr",
          "text": [
            "\r 12%|█▏        | 61/506 [00:43<03:36,  2.05it/s]"
          ]
        },
        {
          "output_type": "stream",
          "name": "stdout",
          "text": [
            "\u001b[1m1/1\u001b[0m \u001b[32m━━━━━━━━━━━━━━━━━━━━\u001b[0m\u001b[37m\u001b[0m \u001b[1m0s\u001b[0m 20ms/step\n"
          ]
        },
        {
          "output_type": "stream",
          "name": "stderr",
          "text": [
            "\r 12%|█▏        | 62/506 [00:43<04:09,  1.78it/s]"
          ]
        },
        {
          "output_type": "stream",
          "name": "stdout",
          "text": [
            "\u001b[1m1/1\u001b[0m \u001b[32m━━━━━━━━━━━━━━━━━━━━\u001b[0m\u001b[37m\u001b[0m \u001b[1m0s\u001b[0m 29ms/step\n"
          ]
        },
        {
          "output_type": "stream",
          "name": "stderr",
          "text": [
            "\r 12%|█▏        | 63/506 [00:44<04:26,  1.66it/s]"
          ]
        },
        {
          "output_type": "stream",
          "name": "stdout",
          "text": [
            "\u001b[1m1/1\u001b[0m \u001b[32m━━━━━━━━━━━━━━━━━━━━\u001b[0m\u001b[37m\u001b[0m \u001b[1m0s\u001b[0m 29ms/step\n"
          ]
        },
        {
          "output_type": "stream",
          "name": "stderr",
          "text": [
            "\r 13%|█▎        | 64/506 [00:45<04:39,  1.58it/s]"
          ]
        },
        {
          "output_type": "stream",
          "name": "stdout",
          "text": [
            "\u001b[1m1/1\u001b[0m \u001b[32m━━━━━━━━━━━━━━━━━━━━\u001b[0m\u001b[37m\u001b[0m \u001b[1m0s\u001b[0m 29ms/step\n"
          ]
        },
        {
          "output_type": "stream",
          "name": "stderr",
          "text": [
            "\r 13%|█▎        | 65/506 [00:45<04:52,  1.51it/s]"
          ]
        },
        {
          "output_type": "stream",
          "name": "stdout",
          "text": [
            "\u001b[1m1/1\u001b[0m \u001b[32m━━━━━━━━━━━━━━━━━━━━\u001b[0m\u001b[37m\u001b[0m \u001b[1m0s\u001b[0m 31ms/step\n"
          ]
        },
        {
          "output_type": "stream",
          "name": "stderr",
          "text": [
            "\r 13%|█▎        | 66/506 [00:46<05:05,  1.44it/s]"
          ]
        },
        {
          "output_type": "stream",
          "name": "stdout",
          "text": [
            "\u001b[1m1/1\u001b[0m \u001b[32m━━━━━━━━━━━━━━━━━━━━\u001b[0m\u001b[37m\u001b[0m \u001b[1m0s\u001b[0m 49ms/step\n"
          ]
        },
        {
          "output_type": "stream",
          "name": "stderr",
          "text": [
            "\r 13%|█▎        | 67/506 [00:47<04:57,  1.48it/s]"
          ]
        },
        {
          "output_type": "stream",
          "name": "stdout",
          "text": [
            "\u001b[1m1/1\u001b[0m \u001b[32m━━━━━━━━━━━━━━━━━━━━\u001b[0m\u001b[37m\u001b[0m \u001b[1m0s\u001b[0m 19ms/step\n"
          ]
        },
        {
          "output_type": "stream",
          "name": "stderr",
          "text": [
            "\r 13%|█▎        | 68/506 [00:47<04:31,  1.61it/s]"
          ]
        },
        {
          "output_type": "stream",
          "name": "stdout",
          "text": [
            "\u001b[1m1/1\u001b[0m \u001b[32m━━━━━━━━━━━━━━━━━━━━\u001b[0m\u001b[37m\u001b[0m \u001b[1m0s\u001b[0m 21ms/step\n"
          ]
        },
        {
          "output_type": "stream",
          "name": "stderr",
          "text": [
            "\r 14%|█▎        | 69/506 [00:48<04:15,  1.71it/s]"
          ]
        },
        {
          "output_type": "stream",
          "name": "stdout",
          "text": [
            "\u001b[1m1/1\u001b[0m \u001b[32m━━━━━━━━━━━━━━━━━━━━\u001b[0m\u001b[37m\u001b[0m \u001b[1m0s\u001b[0m 19ms/step\n"
          ]
        },
        {
          "output_type": "stream",
          "name": "stderr",
          "text": [
            "\r 14%|█▍        | 70/506 [00:48<04:01,  1.80it/s]"
          ]
        },
        {
          "output_type": "stream",
          "name": "stdout",
          "text": [
            "\u001b[1m1/1\u001b[0m \u001b[32m━━━━━━━━━━━━━━━━━━━━\u001b[0m\u001b[37m\u001b[0m \u001b[1m0s\u001b[0m 20ms/step\n"
          ]
        },
        {
          "output_type": "stream",
          "name": "stderr",
          "text": [
            "\r 14%|█▍        | 71/506 [00:49<03:52,  1.87it/s]"
          ]
        },
        {
          "output_type": "stream",
          "name": "stdout",
          "text": [
            "\u001b[1m1/1\u001b[0m \u001b[32m━━━━━━━━━━━━━━━━━━━━\u001b[0m\u001b[37m\u001b[0m \u001b[1m0s\u001b[0m 22ms/step\n"
          ]
        },
        {
          "output_type": "stream",
          "name": "stderr",
          "text": [
            "\r 14%|█▍        | 72/506 [00:49<03:43,  1.94it/s]"
          ]
        },
        {
          "output_type": "stream",
          "name": "stdout",
          "text": [
            "\u001b[1m1/1\u001b[0m \u001b[32m━━━━━━━━━━━━━━━━━━━━\u001b[0m\u001b[37m\u001b[0m \u001b[1m0s\u001b[0m 25ms/step\n"
          ]
        },
        {
          "output_type": "stream",
          "name": "stderr",
          "text": [
            "\r 14%|█▍        | 73/506 [00:50<03:40,  1.96it/s]"
          ]
        },
        {
          "output_type": "stream",
          "name": "stdout",
          "text": [
            "\u001b[1m1/1\u001b[0m \u001b[32m━━━━━━━━━━━━━━━━━━━━\u001b[0m\u001b[37m\u001b[0m \u001b[1m0s\u001b[0m 19ms/step\n"
          ]
        },
        {
          "output_type": "stream",
          "name": "stderr",
          "text": [
            "\r 15%|█▍        | 74/506 [00:50<03:43,  1.94it/s]"
          ]
        },
        {
          "output_type": "stream",
          "name": "stdout",
          "text": [
            "\u001b[1m1/1\u001b[0m \u001b[32m━━━━━━━━━━━━━━━━━━━━\u001b[0m\u001b[37m\u001b[0m \u001b[1m0s\u001b[0m 19ms/step\n"
          ]
        },
        {
          "output_type": "stream",
          "name": "stderr",
          "text": [
            "\r 15%|█▍        | 75/506 [00:51<03:40,  1.96it/s]"
          ]
        },
        {
          "output_type": "stream",
          "name": "stdout",
          "text": [
            "\u001b[1m1/1\u001b[0m \u001b[32m━━━━━━━━━━━━━━━━━━━━\u001b[0m\u001b[37m\u001b[0m \u001b[1m0s\u001b[0m 19ms/step\n"
          ]
        },
        {
          "output_type": "stream",
          "name": "stderr",
          "text": [
            "\r 15%|█▌        | 76/506 [00:51<03:35,  2.00it/s]"
          ]
        },
        {
          "output_type": "stream",
          "name": "stdout",
          "text": [
            "\u001b[1m1/1\u001b[0m \u001b[32m━━━━━━━━━━━━━━━━━━━━\u001b[0m\u001b[37m\u001b[0m \u001b[1m0s\u001b[0m 19ms/step\n"
          ]
        },
        {
          "output_type": "stream",
          "name": "stderr",
          "text": [
            "\r 15%|█▌        | 77/506 [00:52<03:32,  2.01it/s]"
          ]
        },
        {
          "output_type": "stream",
          "name": "stdout",
          "text": [
            "\u001b[1m1/1\u001b[0m \u001b[32m━━━━━━━━━━━━━━━━━━━━\u001b[0m\u001b[37m\u001b[0m \u001b[1m0s\u001b[0m 19ms/step\n"
          ]
        },
        {
          "output_type": "stream",
          "name": "stderr",
          "text": [
            "\r 15%|█▌        | 78/506 [00:52<03:37,  1.97it/s]"
          ]
        },
        {
          "output_type": "stream",
          "name": "stdout",
          "text": [
            "\u001b[1m1/1\u001b[0m \u001b[32m━━━━━━━━━━━━━━━━━━━━\u001b[0m\u001b[37m\u001b[0m \u001b[1m0s\u001b[0m 24ms/step\n"
          ]
        },
        {
          "output_type": "stream",
          "name": "stderr",
          "text": [
            "\r 16%|█▌        | 79/506 [00:53<03:41,  1.93it/s]"
          ]
        },
        {
          "output_type": "stream",
          "name": "stdout",
          "text": [
            "\u001b[1m1/1\u001b[0m \u001b[32m━━━━━━━━━━━━━━━━━━━━\u001b[0m\u001b[37m\u001b[0m \u001b[1m0s\u001b[0m 20ms/step\n"
          ]
        },
        {
          "output_type": "stream",
          "name": "stderr",
          "text": [
            "\r 16%|█▌        | 80/506 [00:53<03:42,  1.91it/s]"
          ]
        },
        {
          "output_type": "stream",
          "name": "stdout",
          "text": [
            "\u001b[1m1/1\u001b[0m \u001b[32m━━━━━━━━━━━━━━━━━━━━\u001b[0m\u001b[37m\u001b[0m \u001b[1m0s\u001b[0m 20ms/step\n"
          ]
        },
        {
          "output_type": "stream",
          "name": "stderr",
          "text": [
            "\r 16%|█▌        | 81/506 [00:54<03:36,  1.97it/s]"
          ]
        },
        {
          "output_type": "stream",
          "name": "stdout",
          "text": [
            "\u001b[1m1/1\u001b[0m \u001b[32m━━━━━━━━━━━━━━━━━━━━\u001b[0m\u001b[37m\u001b[0m \u001b[1m0s\u001b[0m 20ms/step\n"
          ]
        },
        {
          "output_type": "stream",
          "name": "stderr",
          "text": [
            "\r 16%|█▌        | 82/506 [00:54<03:32,  1.99it/s]"
          ]
        },
        {
          "output_type": "stream",
          "name": "stdout",
          "text": [
            "\u001b[1m1/1\u001b[0m \u001b[32m━━━━━━━━━━━━━━━━━━━━\u001b[0m\u001b[37m\u001b[0m \u001b[1m0s\u001b[0m 20ms/step\n"
          ]
        },
        {
          "output_type": "stream",
          "name": "stderr",
          "text": [
            "\r 16%|█▋        | 83/506 [00:55<03:30,  2.01it/s]"
          ]
        },
        {
          "output_type": "stream",
          "name": "stdout",
          "text": [
            "\u001b[1m1/1\u001b[0m \u001b[32m━━━━━━━━━━━━━━━━━━━━\u001b[0m\u001b[37m\u001b[0m \u001b[1m0s\u001b[0m 21ms/step\n"
          ]
        },
        {
          "output_type": "stream",
          "name": "stderr",
          "text": [
            "\r 17%|█▋        | 84/506 [00:55<03:34,  1.97it/s]"
          ]
        },
        {
          "output_type": "stream",
          "name": "stdout",
          "text": [
            "\u001b[1m1/1\u001b[0m \u001b[32m━━━━━━━━━━━━━━━━━━━━\u001b[0m\u001b[37m\u001b[0m \u001b[1m0s\u001b[0m 21ms/step\n"
          ]
        },
        {
          "output_type": "stream",
          "name": "stderr",
          "text": [
            "\r 17%|█▋        | 85/506 [00:56<03:29,  2.01it/s]"
          ]
        },
        {
          "output_type": "stream",
          "name": "stdout",
          "text": [
            "\u001b[1m1/1\u001b[0m \u001b[32m━━━━━━━━━━━━━━━━━━━━\u001b[0m\u001b[37m\u001b[0m \u001b[1m0s\u001b[0m 21ms/step\n"
          ]
        },
        {
          "output_type": "stream",
          "name": "stderr",
          "text": [
            "\r 17%|█▋        | 86/506 [00:56<03:35,  1.95it/s]"
          ]
        },
        {
          "output_type": "stream",
          "name": "stdout",
          "text": [
            "\u001b[1m1/1\u001b[0m \u001b[32m━━━━━━━━━━━━━━━━━━━━\u001b[0m\u001b[37m\u001b[0m \u001b[1m0s\u001b[0m 19ms/step\n"
          ]
        },
        {
          "output_type": "stream",
          "name": "stderr",
          "text": [
            "\r 17%|█▋        | 87/506 [00:57<03:46,  1.85it/s]"
          ]
        },
        {
          "output_type": "stream",
          "name": "stdout",
          "text": [
            "\u001b[1m1/1\u001b[0m \u001b[32m━━━━━━━━━━━━━━━━━━━━\u001b[0m\u001b[37m\u001b[0m \u001b[1m0s\u001b[0m 30ms/step\n"
          ]
        },
        {
          "output_type": "stream",
          "name": "stderr",
          "text": [
            "\r 17%|█▋        | 88/506 [00:58<04:06,  1.70it/s]"
          ]
        },
        {
          "output_type": "stream",
          "name": "stdout",
          "text": [
            "\u001b[1m1/1\u001b[0m \u001b[32m━━━━━━━━━━━━━━━━━━━━\u001b[0m\u001b[37m\u001b[0m \u001b[1m0s\u001b[0m 29ms/step\n"
          ]
        },
        {
          "output_type": "stream",
          "name": "stderr",
          "text": [
            "\r 18%|█▊        | 89/506 [00:58<04:23,  1.58it/s]"
          ]
        },
        {
          "output_type": "stream",
          "name": "stdout",
          "text": [
            "\u001b[1m1/1\u001b[0m \u001b[32m━━━━━━━━━━━━━━━━━━━━\u001b[0m\u001b[37m\u001b[0m \u001b[1m0s\u001b[0m 28ms/step\n"
          ]
        },
        {
          "output_type": "stream",
          "name": "stderr",
          "text": [
            "\r 18%|█▊        | 90/506 [00:59<04:34,  1.51it/s]"
          ]
        },
        {
          "output_type": "stream",
          "name": "stdout",
          "text": [
            "\u001b[1m1/1\u001b[0m \u001b[32m━━━━━━━━━━━━━━━━━━━━\u001b[0m\u001b[37m\u001b[0m \u001b[1m0s\u001b[0m 30ms/step\n"
          ]
        },
        {
          "output_type": "stream",
          "name": "stderr",
          "text": [
            "\r 18%|█▊        | 91/506 [01:00<04:49,  1.44it/s]"
          ]
        },
        {
          "output_type": "stream",
          "name": "stdout",
          "text": [
            "\u001b[1m1/1\u001b[0m \u001b[32m━━━━━━━━━━━━━━━━━━━━\u001b[0m\u001b[37m\u001b[0m \u001b[1m0s\u001b[0m 32ms/step\n"
          ]
        },
        {
          "output_type": "stream",
          "name": "stderr",
          "text": [
            "\r 18%|█▊        | 92/506 [01:01<04:41,  1.47it/s]"
          ]
        },
        {
          "output_type": "stream",
          "name": "stdout",
          "text": [
            "\u001b[1m1/1\u001b[0m \u001b[32m━━━━━━━━━━━━━━━━━━━━\u001b[0m\u001b[37m\u001b[0m \u001b[1m0s\u001b[0m 19ms/step\n"
          ]
        },
        {
          "output_type": "stream",
          "name": "stderr",
          "text": [
            "\r 18%|█▊        | 93/506 [01:01<04:17,  1.60it/s]"
          ]
        },
        {
          "output_type": "stream",
          "name": "stdout",
          "text": [
            "\u001b[1m1/1\u001b[0m \u001b[32m━━━━━━━━━━━━━━━━━━━━\u001b[0m\u001b[37m\u001b[0m \u001b[1m0s\u001b[0m 20ms/step\n"
          ]
        },
        {
          "output_type": "stream",
          "name": "stderr",
          "text": [
            "\r 19%|█▊        | 94/506 [01:02<03:59,  1.72it/s]"
          ]
        },
        {
          "output_type": "stream",
          "name": "stdout",
          "text": [
            "\u001b[1m1/1\u001b[0m \u001b[32m━━━━━━━━━━━━━━━━━━━━\u001b[0m\u001b[37m\u001b[0m \u001b[1m0s\u001b[0m 20ms/step\n"
          ]
        },
        {
          "output_type": "stream",
          "name": "stderr",
          "text": [
            "\r 19%|█▉        | 95/506 [01:02<03:47,  1.80it/s]"
          ]
        },
        {
          "output_type": "stream",
          "name": "stdout",
          "text": [
            "\u001b[1m1/1\u001b[0m \u001b[32m━━━━━━━━━━━━━━━━━━━━\u001b[0m\u001b[37m\u001b[0m \u001b[1m0s\u001b[0m 23ms/step\n"
          ]
        },
        {
          "output_type": "stream",
          "name": "stderr",
          "text": [
            "\r 19%|█▉        | 96/506 [01:02<03:37,  1.88it/s]"
          ]
        },
        {
          "output_type": "stream",
          "name": "stdout",
          "text": [
            "\u001b[1m1/1\u001b[0m \u001b[32m━━━━━━━━━━━━━━━━━━━━\u001b[0m\u001b[37m\u001b[0m \u001b[1m0s\u001b[0m 22ms/step\n"
          ]
        },
        {
          "output_type": "stream",
          "name": "stderr",
          "text": [
            "\r 19%|█▉        | 97/506 [01:03<03:29,  1.95it/s]"
          ]
        },
        {
          "output_type": "stream",
          "name": "stdout",
          "text": [
            "\u001b[1m1/1\u001b[0m \u001b[32m━━━━━━━━━━━━━━━━━━━━\u001b[0m\u001b[37m\u001b[0m \u001b[1m0s\u001b[0m 19ms/step\n"
          ]
        },
        {
          "output_type": "stream",
          "name": "stderr",
          "text": [
            "\r 19%|█▉        | 98/506 [01:03<03:24,  1.99it/s]"
          ]
        },
        {
          "output_type": "stream",
          "name": "stdout",
          "text": [
            "\u001b[1m1/1\u001b[0m \u001b[32m━━━━━━━━━━━━━━━━━━━━\u001b[0m\u001b[37m\u001b[0m \u001b[1m0s\u001b[0m 21ms/step\n"
          ]
        },
        {
          "output_type": "stream",
          "name": "stderr",
          "text": [
            "\r 20%|█▉        | 99/506 [01:04<03:19,  2.04it/s]"
          ]
        },
        {
          "output_type": "stream",
          "name": "stdout",
          "text": [
            "\u001b[1m1/1\u001b[0m \u001b[32m━━━━━━━━━━━━━━━━━━━━\u001b[0m\u001b[37m\u001b[0m \u001b[1m0s\u001b[0m 20ms/step\n"
          ]
        },
        {
          "output_type": "stream",
          "name": "stderr",
          "text": [
            "\r 20%|█▉        | 100/506 [01:04<03:20,  2.03it/s]"
          ]
        },
        {
          "output_type": "stream",
          "name": "stdout",
          "text": [
            "\u001b[1m1/1\u001b[0m \u001b[32m━━━━━━━━━━━━━━━━━━━━\u001b[0m\u001b[37m\u001b[0m \u001b[1m0s\u001b[0m 19ms/step\n"
          ]
        },
        {
          "output_type": "stream",
          "name": "stderr",
          "text": [
            "\r 20%|█▉        | 101/506 [01:05<03:19,  2.03it/s]"
          ]
        },
        {
          "output_type": "stream",
          "name": "stdout",
          "text": [
            "\u001b[1m1/1\u001b[0m \u001b[32m━━━━━━━━━━━━━━━━━━━━\u001b[0m\u001b[37m\u001b[0m \u001b[1m0s\u001b[0m 20ms/step\n"
          ]
        },
        {
          "output_type": "stream",
          "name": "stderr",
          "text": [
            "\r 20%|██        | 102/506 [01:05<03:17,  2.05it/s]"
          ]
        },
        {
          "output_type": "stream",
          "name": "stdout",
          "text": [
            "\u001b[1m1/1\u001b[0m \u001b[32m━━━━━━━━━━━━━━━━━━━━\u001b[0m\u001b[37m\u001b[0m \u001b[1m0s\u001b[0m 19ms/step\n"
          ]
        },
        {
          "output_type": "stream",
          "name": "stderr",
          "text": [
            "\r 20%|██        | 103/506 [01:06<03:13,  2.08it/s]"
          ]
        },
        {
          "output_type": "stream",
          "name": "stdout",
          "text": [
            "\u001b[1m1/1\u001b[0m \u001b[32m━━━━━━━━━━━━━━━━━━━━\u001b[0m\u001b[37m\u001b[0m \u001b[1m0s\u001b[0m 20ms/step\n"
          ]
        },
        {
          "output_type": "stream",
          "name": "stderr",
          "text": [
            "\r 21%|██        | 104/506 [01:06<03:19,  2.01it/s]"
          ]
        },
        {
          "output_type": "stream",
          "name": "stdout",
          "text": [
            "\u001b[1m1/1\u001b[0m \u001b[32m━━━━━━━━━━━━━━━━━━━━\u001b[0m\u001b[37m\u001b[0m \u001b[1m0s\u001b[0m 29ms/step\n"
          ]
        },
        {
          "output_type": "stream",
          "name": "stderr",
          "text": [
            "\r 21%|██        | 105/506 [01:07<03:17,  2.03it/s]"
          ]
        },
        {
          "output_type": "stream",
          "name": "stdout",
          "text": [
            "\u001b[1m1/1\u001b[0m \u001b[32m━━━━━━━━━━━━━━━━━━━━\u001b[0m\u001b[37m\u001b[0m \u001b[1m0s\u001b[0m 19ms/step\n"
          ]
        },
        {
          "output_type": "stream",
          "name": "stderr",
          "text": [
            "\r 21%|██        | 106/506 [01:07<03:16,  2.03it/s]"
          ]
        },
        {
          "output_type": "stream",
          "name": "stdout",
          "text": [
            "\u001b[1m1/1\u001b[0m \u001b[32m━━━━━━━━━━━━━━━━━━━━\u001b[0m\u001b[37m\u001b[0m \u001b[1m0s\u001b[0m 21ms/step\n"
          ]
        },
        {
          "output_type": "stream",
          "name": "stderr",
          "text": [
            "\r 21%|██        | 107/506 [01:08<03:20,  1.99it/s]"
          ]
        },
        {
          "output_type": "stream",
          "name": "stdout",
          "text": [
            "\u001b[1m1/1\u001b[0m \u001b[32m━━━━━━━━━━━━━━━━━━━━\u001b[0m\u001b[37m\u001b[0m \u001b[1m0s\u001b[0m 20ms/step\n"
          ]
        },
        {
          "output_type": "stream",
          "name": "stderr",
          "text": [
            "\r 21%|██▏       | 108/506 [01:08<03:24,  1.95it/s]"
          ]
        },
        {
          "output_type": "stream",
          "name": "stdout",
          "text": [
            "\u001b[1m1/1\u001b[0m \u001b[32m━━━━━━━━━━━━━━━━━━━━\u001b[0m\u001b[37m\u001b[0m \u001b[1m0s\u001b[0m 20ms/step\n"
          ]
        },
        {
          "output_type": "stream",
          "name": "stderr",
          "text": [
            "\r 22%|██▏       | 109/506 [01:09<03:19,  1.99it/s]"
          ]
        },
        {
          "output_type": "stream",
          "name": "stdout",
          "text": [
            "\u001b[1m1/1\u001b[0m \u001b[32m━━━━━━━━━━━━━━━━━━━━\u001b[0m\u001b[37m\u001b[0m \u001b[1m0s\u001b[0m 19ms/step\n"
          ]
        },
        {
          "output_type": "stream",
          "name": "stderr",
          "text": [
            "\r 22%|██▏       | 110/506 [01:09<03:16,  2.02it/s]"
          ]
        },
        {
          "output_type": "stream",
          "name": "stdout",
          "text": [
            "\u001b[1m1/1\u001b[0m \u001b[32m━━━━━━━━━━━━━━━━━━━━\u001b[0m\u001b[37m\u001b[0m \u001b[1m0s\u001b[0m 19ms/step\n"
          ]
        },
        {
          "output_type": "stream",
          "name": "stderr",
          "text": [
            "\r 22%|██▏       | 111/506 [01:10<03:12,  2.05it/s]"
          ]
        },
        {
          "output_type": "stream",
          "name": "stdout",
          "text": [
            "\u001b[1m1/1\u001b[0m \u001b[32m━━━━━━━━━━━━━━━━━━━━\u001b[0m\u001b[37m\u001b[0m \u001b[1m0s\u001b[0m 19ms/step\n"
          ]
        },
        {
          "output_type": "stream",
          "name": "stderr",
          "text": [
            "\r 22%|██▏       | 112/506 [01:10<03:21,  1.95it/s]"
          ]
        },
        {
          "output_type": "stream",
          "name": "stdout",
          "text": [
            "\u001b[1m1/1\u001b[0m \u001b[32m━━━━━━━━━━━━━━━━━━━━\u001b[0m\u001b[37m\u001b[0m \u001b[1m0s\u001b[0m 32ms/step\n"
          ]
        },
        {
          "output_type": "stream",
          "name": "stderr",
          "text": [
            "\r 22%|██▏       | 113/506 [01:11<03:52,  1.69it/s]"
          ]
        },
        {
          "output_type": "stream",
          "name": "stdout",
          "text": [
            "\u001b[1m1/1\u001b[0m \u001b[32m━━━━━━━━━━━━━━━━━━━━\u001b[0m\u001b[37m\u001b[0m \u001b[1m0s\u001b[0m 40ms/step\n"
          ]
        },
        {
          "output_type": "stream",
          "name": "stderr",
          "text": [
            "\r 23%|██▎       | 114/506 [01:12<04:06,  1.59it/s]"
          ]
        },
        {
          "output_type": "stream",
          "name": "stdout",
          "text": [
            "\u001b[1m1/1\u001b[0m \u001b[32m━━━━━━━━━━━━━━━━━━━━\u001b[0m\u001b[37m\u001b[0m \u001b[1m0s\u001b[0m 35ms/step\n"
          ]
        },
        {
          "output_type": "stream",
          "name": "stderr",
          "text": [
            "\r 23%|██▎       | 115/506 [01:13<04:24,  1.48it/s]"
          ]
        },
        {
          "output_type": "stream",
          "name": "stdout",
          "text": [
            "\u001b[1m1/1\u001b[0m \u001b[32m━━━━━━━━━━━━━━━━━━━━\u001b[0m\u001b[37m\u001b[0m \u001b[1m0s\u001b[0m 43ms/step\n"
          ]
        },
        {
          "output_type": "stream",
          "name": "stderr",
          "text": [
            "\r 23%|██▎       | 116/506 [01:14<04:42,  1.38it/s]"
          ]
        },
        {
          "output_type": "stream",
          "name": "stdout",
          "text": [
            "\u001b[1m1/1\u001b[0m \u001b[32m━━━━━━━━━━━━━━━━━━━━\u001b[0m\u001b[37m\u001b[0m \u001b[1m0s\u001b[0m 53ms/step\n"
          ]
        },
        {
          "output_type": "stream",
          "name": "stderr",
          "text": [
            "\r 23%|██▎       | 117/506 [01:14<04:58,  1.30it/s]"
          ]
        },
        {
          "output_type": "stream",
          "name": "stdout",
          "text": [
            "\u001b[1m1/1\u001b[0m \u001b[32m━━━━━━━━━━━━━━━━━━━━\u001b[0m\u001b[37m\u001b[0m \u001b[1m0s\u001b[0m 46ms/step\n"
          ]
        },
        {
          "output_type": "stream",
          "name": "stderr",
          "text": [
            "\r 23%|██▎       | 118/506 [01:15<05:05,  1.27it/s]"
          ]
        },
        {
          "output_type": "stream",
          "name": "stdout",
          "text": [
            "\u001b[1m1/1\u001b[0m \u001b[32m━━━━━━━━━━━━━━━━━━━━\u001b[0m\u001b[37m\u001b[0m \u001b[1m0s\u001b[0m 59ms/step\n"
          ]
        },
        {
          "output_type": "stream",
          "name": "stderr",
          "text": [
            "\r 24%|██▎       | 119/506 [01:16<05:06,  1.26it/s]"
          ]
        },
        {
          "output_type": "stream",
          "name": "stdout",
          "text": [
            "\u001b[1m1/1\u001b[0m \u001b[32m━━━━━━━━━━━━━━━━━━━━\u001b[0m\u001b[37m\u001b[0m \u001b[1m0s\u001b[0m 41ms/step\n"
          ]
        },
        {
          "output_type": "stream",
          "name": "stderr",
          "text": [
            "\r 24%|██▎       | 120/506 [01:17<05:14,  1.23it/s]"
          ]
        },
        {
          "output_type": "stream",
          "name": "stdout",
          "text": [
            "\u001b[1m1/1\u001b[0m \u001b[32m━━━━━━━━━━━━━━━━━━━━\u001b[0m\u001b[37m\u001b[0m \u001b[1m0s\u001b[0m 30ms/step\n"
          ]
        },
        {
          "output_type": "stream",
          "name": "stderr",
          "text": [
            "\r 24%|██▍       | 121/506 [01:18<05:04,  1.26it/s]"
          ]
        },
        {
          "output_type": "stream",
          "name": "stdout",
          "text": [
            "\u001b[1m1/1\u001b[0m \u001b[32m━━━━━━━━━━━━━━━━━━━━\u001b[0m\u001b[37m\u001b[0m \u001b[1m0s\u001b[0m 45ms/step\n"
          ]
        },
        {
          "output_type": "stream",
          "name": "stderr",
          "text": [
            "\r 24%|██▍       | 122/506 [01:18<04:38,  1.38it/s]"
          ]
        },
        {
          "output_type": "stream",
          "name": "stdout",
          "text": [
            "\u001b[1m1/1\u001b[0m \u001b[32m━━━━━━━━━━━━━━━━━━━━\u001b[0m\u001b[37m\u001b[0m \u001b[1m0s\u001b[0m 20ms/step\n"
          ]
        },
        {
          "output_type": "stream",
          "name": "stderr",
          "text": [
            "\r 24%|██▍       | 123/506 [01:19<04:09,  1.54it/s]"
          ]
        },
        {
          "output_type": "stream",
          "name": "stdout",
          "text": [
            "\u001b[1m1/1\u001b[0m \u001b[32m━━━━━━━━━━━━━━━━━━━━\u001b[0m\u001b[37m\u001b[0m \u001b[1m0s\u001b[0m 23ms/step\n"
          ]
        },
        {
          "output_type": "stream",
          "name": "stderr",
          "text": [
            "\r 25%|██▍       | 124/506 [01:19<03:53,  1.63it/s]"
          ]
        },
        {
          "output_type": "stream",
          "name": "stdout",
          "text": [
            "\u001b[1m1/1\u001b[0m \u001b[32m━━━━━━━━━━━━━━━━━━━━\u001b[0m\u001b[37m\u001b[0m \u001b[1m0s\u001b[0m 20ms/step\n"
          ]
        },
        {
          "output_type": "stream",
          "name": "stderr",
          "text": [
            "\r 25%|██▍       | 125/506 [01:20<03:42,  1.71it/s]"
          ]
        },
        {
          "output_type": "stream",
          "name": "stdout",
          "text": [
            "\u001b[1m1/1\u001b[0m \u001b[32m━━━━━━━━━━━━━━━━━━━━\u001b[0m\u001b[37m\u001b[0m \u001b[1m0s\u001b[0m 28ms/step\n"
          ]
        },
        {
          "output_type": "stream",
          "name": "stderr",
          "text": [
            "\r 25%|██▍       | 126/506 [01:20<03:30,  1.81it/s]"
          ]
        },
        {
          "output_type": "stream",
          "name": "stdout",
          "text": [
            "\u001b[1m1/1\u001b[0m \u001b[32m━━━━━━━━━━━━━━━━━━━━\u001b[0m\u001b[37m\u001b[0m \u001b[1m0s\u001b[0m 19ms/step\n"
          ]
        },
        {
          "output_type": "stream",
          "name": "stderr",
          "text": [
            "\r 25%|██▌       | 127/506 [01:21<03:19,  1.90it/s]"
          ]
        },
        {
          "output_type": "stream",
          "name": "stdout",
          "text": [
            "\u001b[1m1/1\u001b[0m \u001b[32m━━━━━━━━━━━━━━━━━━━━\u001b[0m\u001b[37m\u001b[0m \u001b[1m0s\u001b[0m 20ms/step\n"
          ]
        },
        {
          "output_type": "stream",
          "name": "stderr",
          "text": [
            "\r 25%|██▌       | 128/506 [01:21<03:18,  1.90it/s]"
          ]
        },
        {
          "output_type": "stream",
          "name": "stdout",
          "text": [
            "\u001b[1m1/1\u001b[0m \u001b[32m━━━━━━━━━━━━━━━━━━━━\u001b[0m\u001b[37m\u001b[0m \u001b[1m0s\u001b[0m 21ms/step\n"
          ]
        },
        {
          "output_type": "stream",
          "name": "stderr",
          "text": [
            "\r 25%|██▌       | 129/506 [01:22<03:11,  1.97it/s]"
          ]
        },
        {
          "output_type": "stream",
          "name": "stdout",
          "text": [
            "\u001b[1m1/1\u001b[0m \u001b[32m━━━━━━━━━━━━━━━━━━━━\u001b[0m\u001b[37m\u001b[0m \u001b[1m0s\u001b[0m 21ms/step\n"
          ]
        },
        {
          "output_type": "stream",
          "name": "stderr",
          "text": [
            "\r 26%|██▌       | 130/506 [01:22<03:14,  1.94it/s]"
          ]
        },
        {
          "output_type": "stream",
          "name": "stdout",
          "text": [
            "\u001b[1m1/1\u001b[0m \u001b[32m━━━━━━━━━━━━━━━━━━━━\u001b[0m\u001b[37m\u001b[0m \u001b[1m0s\u001b[0m 20ms/step\n"
          ]
        },
        {
          "output_type": "stream",
          "name": "stderr",
          "text": [
            "\r 26%|██▌       | 131/506 [01:23<03:14,  1.93it/s]"
          ]
        },
        {
          "output_type": "stream",
          "name": "stdout",
          "text": [
            "\u001b[1m1/1\u001b[0m \u001b[32m━━━━━━━━━━━━━━━━━━━━\u001b[0m\u001b[37m\u001b[0m \u001b[1m0s\u001b[0m 20ms/step\n"
          ]
        },
        {
          "output_type": "stream",
          "name": "stderr",
          "text": [
            "\r 26%|██▌       | 132/506 [01:23<03:16,  1.91it/s]"
          ]
        },
        {
          "output_type": "stream",
          "name": "stdout",
          "text": [
            "\u001b[1m1/1\u001b[0m \u001b[32m━━━━━━━━━━━━━━━━━━━━\u001b[0m\u001b[37m\u001b[0m \u001b[1m0s\u001b[0m 19ms/step\n"
          ]
        },
        {
          "output_type": "stream",
          "name": "stderr",
          "text": [
            "\r 26%|██▋       | 133/506 [01:24<03:11,  1.95it/s]"
          ]
        },
        {
          "output_type": "stream",
          "name": "stdout",
          "text": [
            "\u001b[1m1/1\u001b[0m \u001b[32m━━━━━━━━━━━━━━━━━━━━\u001b[0m\u001b[37m\u001b[0m \u001b[1m0s\u001b[0m 31ms/step\n"
          ]
        },
        {
          "output_type": "stream",
          "name": "stderr",
          "text": [
            "\r 26%|██▋       | 134/506 [01:24<03:14,  1.91it/s]"
          ]
        },
        {
          "output_type": "stream",
          "name": "stdout",
          "text": [
            "\u001b[1m1/1\u001b[0m \u001b[32m━━━━━━━━━━━━━━━━━━━━\u001b[0m\u001b[37m\u001b[0m \u001b[1m0s\u001b[0m 21ms/step\n"
          ]
        },
        {
          "output_type": "stream",
          "name": "stderr",
          "text": [
            "\r 27%|██▋       | 135/506 [01:25<03:08,  1.97it/s]"
          ]
        },
        {
          "output_type": "stream",
          "name": "stdout",
          "text": [
            "\u001b[1m1/1\u001b[0m \u001b[32m━━━━━━━━━━━━━━━━━━━━\u001b[0m\u001b[37m\u001b[0m \u001b[1m0s\u001b[0m 21ms/step\n"
          ]
        },
        {
          "output_type": "stream",
          "name": "stderr",
          "text": [
            "\r 27%|██▋       | 136/506 [01:25<03:09,  1.95it/s]"
          ]
        },
        {
          "output_type": "stream",
          "name": "stdout",
          "text": [
            "\u001b[1m1/1\u001b[0m \u001b[32m━━━━━━━━━━━━━━━━━━━━\u001b[0m\u001b[37m\u001b[0m \u001b[1m0s\u001b[0m 20ms/step\n"
          ]
        },
        {
          "output_type": "stream",
          "name": "stderr",
          "text": [
            "\r 27%|██▋       | 137/506 [01:26<03:04,  2.00it/s]"
          ]
        },
        {
          "output_type": "stream",
          "name": "stdout",
          "text": [
            "\u001b[1m1/1\u001b[0m \u001b[32m━━━━━━━━━━━━━━━━━━━━\u001b[0m\u001b[37m\u001b[0m \u001b[1m0s\u001b[0m 25ms/step\n"
          ]
        },
        {
          "output_type": "stream",
          "name": "stderr",
          "text": [
            "\r 27%|██▋       | 138/506 [01:26<03:01,  2.03it/s]"
          ]
        },
        {
          "output_type": "stream",
          "name": "stdout",
          "text": [
            "\u001b[1m1/1\u001b[0m \u001b[32m━━━━━━━━━━━━━━━━━━━━\u001b[0m\u001b[37m\u001b[0m \u001b[1m0s\u001b[0m 21ms/step\n"
          ]
        },
        {
          "output_type": "stream",
          "name": "stderr",
          "text": [
            "\r 27%|██▋       | 139/506 [01:27<03:25,  1.79it/s]"
          ]
        },
        {
          "output_type": "stream",
          "name": "stdout",
          "text": [
            "\u001b[1m1/1\u001b[0m \u001b[32m━━━━━━━━━━━━━━━━━━━━\u001b[0m\u001b[37m\u001b[0m \u001b[1m0s\u001b[0m 29ms/step\n"
          ]
        },
        {
          "output_type": "stream",
          "name": "stderr",
          "text": [
            "\r 28%|██▊       | 140/506 [01:28<03:48,  1.60it/s]"
          ]
        },
        {
          "output_type": "stream",
          "name": "stdout",
          "text": [
            "\u001b[1m1/1\u001b[0m \u001b[32m━━━━━━━━━━━━━━━━━━━━\u001b[0m\u001b[37m\u001b[0m \u001b[1m0s\u001b[0m 28ms/step\n"
          ]
        },
        {
          "output_type": "stream",
          "name": "stderr",
          "text": [
            "\r 28%|██▊       | 141/506 [01:28<04:03,  1.50it/s]"
          ]
        },
        {
          "output_type": "stream",
          "name": "stdout",
          "text": [
            "\u001b[1m1/1\u001b[0m \u001b[32m━━━━━━━━━━━━━━━━━━━━\u001b[0m\u001b[37m\u001b[0m \u001b[1m0s\u001b[0m 28ms/step\n"
          ]
        },
        {
          "output_type": "stream",
          "name": "stderr",
          "text": [
            "\r 28%|██▊       | 142/506 [01:29<04:14,  1.43it/s]"
          ]
        },
        {
          "output_type": "stream",
          "name": "stdout",
          "text": [
            "\u001b[1m1/1\u001b[0m \u001b[32m━━━━━━━━━━━━━━━━━━━━\u001b[0m\u001b[37m\u001b[0m \u001b[1m0s\u001b[0m 33ms/step\n"
          ]
        },
        {
          "output_type": "stream",
          "name": "stderr",
          "text": [
            "\r 28%|██▊       | 143/506 [01:30<04:17,  1.41it/s]"
          ]
        },
        {
          "output_type": "stream",
          "name": "stdout",
          "text": [
            "\u001b[1m1/1\u001b[0m \u001b[32m━━━━━━━━━━━━━━━━━━━━\u001b[0m\u001b[37m\u001b[0m \u001b[1m0s\u001b[0m 31ms/step\n"
          ]
        },
        {
          "output_type": "stream",
          "name": "stderr",
          "text": [
            "\r 28%|██▊       | 144/506 [01:31<04:07,  1.46it/s]"
          ]
        },
        {
          "output_type": "stream",
          "name": "stdout",
          "text": [
            "\u001b[1m1/1\u001b[0m \u001b[32m━━━━━━━━━━━━━━━━━━━━\u001b[0m\u001b[37m\u001b[0m \u001b[1m0s\u001b[0m 20ms/step\n"
          ]
        },
        {
          "output_type": "stream",
          "name": "stderr",
          "text": [
            "\r 29%|██▊       | 145/506 [01:31<03:43,  1.62it/s]"
          ]
        },
        {
          "output_type": "stream",
          "name": "stdout",
          "text": [
            "\u001b[1m1/1\u001b[0m \u001b[32m━━━━━━━━━━━━━━━━━━━━\u001b[0m\u001b[37m\u001b[0m \u001b[1m0s\u001b[0m 22ms/step\n"
          ]
        },
        {
          "output_type": "stream",
          "name": "stderr",
          "text": [
            "\r 29%|██▉       | 146/506 [01:32<03:28,  1.73it/s]"
          ]
        },
        {
          "output_type": "stream",
          "name": "stdout",
          "text": [
            "\u001b[1m1/1\u001b[0m \u001b[32m━━━━━━━━━━━━━━━━━━━━\u001b[0m\u001b[37m\u001b[0m \u001b[1m0s\u001b[0m 19ms/step\n"
          ]
        },
        {
          "output_type": "stream",
          "name": "stderr",
          "text": [
            "\r 29%|██▉       | 147/506 [01:32<03:16,  1.83it/s]"
          ]
        },
        {
          "output_type": "stream",
          "name": "stdout",
          "text": [
            "\u001b[1m1/1\u001b[0m \u001b[32m━━━━━━━━━━━━━━━━━━━━\u001b[0m\u001b[37m\u001b[0m \u001b[1m0s\u001b[0m 20ms/step\n"
          ]
        },
        {
          "output_type": "stream",
          "name": "stderr",
          "text": [
            "\r 29%|██▉       | 148/506 [01:33<03:10,  1.88it/s]"
          ]
        },
        {
          "output_type": "stream",
          "name": "stdout",
          "text": [
            "\u001b[1m1/1\u001b[0m \u001b[32m━━━━━━━━━━━━━━━━━━━━\u001b[0m\u001b[37m\u001b[0m \u001b[1m0s\u001b[0m 19ms/step\n"
          ]
        },
        {
          "output_type": "stream",
          "name": "stderr",
          "text": [
            "\r 29%|██▉       | 149/506 [01:33<03:03,  1.95it/s]"
          ]
        },
        {
          "output_type": "stream",
          "name": "stdout",
          "text": [
            "\u001b[1m1/1\u001b[0m \u001b[32m━━━━━━━━━━━━━━━━━━━━\u001b[0m\u001b[37m\u001b[0m \u001b[1m0s\u001b[0m 19ms/step\n"
          ]
        },
        {
          "output_type": "stream",
          "name": "stderr",
          "text": [
            "\r 30%|██▉       | 150/506 [01:34<03:03,  1.94it/s]"
          ]
        },
        {
          "output_type": "stream",
          "name": "stdout",
          "text": [
            "\u001b[1m1/1\u001b[0m \u001b[32m━━━━━━━━━━━━━━━━━━━━\u001b[0m\u001b[37m\u001b[0m \u001b[1m0s\u001b[0m 19ms/step\n"
          ]
        },
        {
          "output_type": "stream",
          "name": "stderr",
          "text": [
            "\r 30%|██▉       | 151/506 [01:34<02:58,  1.99it/s]"
          ]
        },
        {
          "output_type": "stream",
          "name": "stdout",
          "text": [
            "\u001b[1m1/1\u001b[0m \u001b[32m━━━━━━━━━━━━━━━━━━━━\u001b[0m\u001b[37m\u001b[0m \u001b[1m0s\u001b[0m 20ms/step\n"
          ]
        },
        {
          "output_type": "stream",
          "name": "stderr",
          "text": [
            "\r 30%|███       | 152/506 [01:35<03:03,  1.93it/s]"
          ]
        },
        {
          "output_type": "stream",
          "name": "stdout",
          "text": [
            "\u001b[1m1/1\u001b[0m \u001b[32m━━━━━━━━━━━━━━━━━━━━\u001b[0m\u001b[37m\u001b[0m \u001b[1m0s\u001b[0m 20ms/step\n"
          ]
        },
        {
          "output_type": "stream",
          "name": "stderr",
          "text": [
            "\r 30%|███       | 153/506 [01:35<03:00,  1.96it/s]"
          ]
        },
        {
          "output_type": "stream",
          "name": "stdout",
          "text": [
            "\u001b[1m1/1\u001b[0m \u001b[32m━━━━━━━━━━━━━━━━━━━━\u001b[0m\u001b[37m\u001b[0m \u001b[1m0s\u001b[0m 20ms/step\n"
          ]
        },
        {
          "output_type": "stream",
          "name": "stderr",
          "text": [
            "\r 30%|███       | 154/506 [01:36<03:00,  1.95it/s]"
          ]
        },
        {
          "output_type": "stream",
          "name": "stdout",
          "text": [
            "\u001b[1m1/1\u001b[0m \u001b[32m━━━━━━━━━━━━━━━━━━━━\u001b[0m\u001b[37m\u001b[0m \u001b[1m0s\u001b[0m 19ms/step\n"
          ]
        },
        {
          "output_type": "stream",
          "name": "stderr",
          "text": [
            "\r 31%|███       | 155/506 [01:36<02:55,  2.00it/s]"
          ]
        },
        {
          "output_type": "stream",
          "name": "stdout",
          "text": [
            "\u001b[1m1/1\u001b[0m \u001b[32m━━━━━━━━━━━━━━━━━━━━\u001b[0m\u001b[37m\u001b[0m \u001b[1m0s\u001b[0m 19ms/step\n"
          ]
        },
        {
          "output_type": "stream",
          "name": "stderr",
          "text": [
            "\r 31%|███       | 156/506 [01:36<02:53,  2.02it/s]"
          ]
        },
        {
          "output_type": "stream",
          "name": "stdout",
          "text": [
            "\u001b[1m1/1\u001b[0m \u001b[32m━━━━━━━━━━━━━━━━━━━━\u001b[0m\u001b[37m\u001b[0m \u001b[1m0s\u001b[0m 27ms/step\n"
          ]
        },
        {
          "output_type": "stream",
          "name": "stderr",
          "text": [
            "\r 31%|███       | 157/506 [01:37<02:58,  1.95it/s]"
          ]
        },
        {
          "output_type": "stream",
          "name": "stdout",
          "text": [
            "\u001b[1m1/1\u001b[0m \u001b[32m━━━━━━━━━━━━━━━━━━━━\u001b[0m\u001b[37m\u001b[0m \u001b[1m0s\u001b[0m 22ms/step\n"
          ]
        },
        {
          "output_type": "stream",
          "name": "stderr",
          "text": [
            "\r 31%|███       | 158/506 [01:38<03:01,  1.92it/s]"
          ]
        },
        {
          "output_type": "stream",
          "name": "stdout",
          "text": [
            "\u001b[1m1/1\u001b[0m \u001b[32m━━━━━━━━━━━━━━━━━━━━\u001b[0m\u001b[37m\u001b[0m \u001b[1m0s\u001b[0m 19ms/step\n"
          ]
        },
        {
          "output_type": "stream",
          "name": "stderr",
          "text": [
            "\r 31%|███▏      | 159/506 [01:38<02:56,  1.97it/s]"
          ]
        },
        {
          "output_type": "stream",
          "name": "stdout",
          "text": [
            "\u001b[1m1/1\u001b[0m \u001b[32m━━━━━━━━━━━━━━━━━━━━\u001b[0m\u001b[37m\u001b[0m \u001b[1m0s\u001b[0m 21ms/step\n"
          ]
        },
        {
          "output_type": "stream",
          "name": "stderr",
          "text": [
            "\r 32%|███▏      | 160/506 [01:39<02:52,  2.01it/s]"
          ]
        },
        {
          "output_type": "stream",
          "name": "stdout",
          "text": [
            "\u001b[1m1/1\u001b[0m \u001b[32m━━━━━━━━━━━━━━━━━━━━\u001b[0m\u001b[37m\u001b[0m \u001b[1m0s\u001b[0m 20ms/step\n"
          ]
        },
        {
          "output_type": "stream",
          "name": "stderr",
          "text": [
            "\r 32%|███▏      | 161/506 [01:39<02:49,  2.03it/s]"
          ]
        },
        {
          "output_type": "stream",
          "name": "stdout",
          "text": [
            "\u001b[1m1/1\u001b[0m \u001b[32m━━━━━━━━━━━━━━━━━━━━\u001b[0m\u001b[37m\u001b[0m \u001b[1m0s\u001b[0m 19ms/step\n"
          ]
        },
        {
          "output_type": "stream",
          "name": "stderr",
          "text": [
            "\r 32%|███▏      | 162/506 [01:40<02:48,  2.05it/s]"
          ]
        },
        {
          "output_type": "stream",
          "name": "stdout",
          "text": [
            "\u001b[1m1/1\u001b[0m \u001b[32m━━━━━━━━━━━━━━━━━━━━\u001b[0m\u001b[37m\u001b[0m \u001b[1m0s\u001b[0m 19ms/step\n"
          ]
        },
        {
          "output_type": "stream",
          "name": "stderr",
          "text": [
            "\r 32%|███▏      | 163/506 [01:40<02:45,  2.07it/s]"
          ]
        },
        {
          "output_type": "stream",
          "name": "stdout",
          "text": [
            "\u001b[1m1/1\u001b[0m \u001b[32m━━━━━━━━━━━━━━━━━━━━\u001b[0m\u001b[37m\u001b[0m \u001b[1m0s\u001b[0m 22ms/step\n"
          ]
        },
        {
          "output_type": "stream",
          "name": "stderr",
          "text": [
            "\r 32%|███▏      | 164/506 [01:40<02:46,  2.05it/s]"
          ]
        },
        {
          "output_type": "stream",
          "name": "stdout",
          "text": [
            "\u001b[1m1/1\u001b[0m \u001b[32m━━━━━━━━━━━━━━━━━━━━\u001b[0m\u001b[37m\u001b[0m \u001b[1m0s\u001b[0m 32ms/step\n"
          ]
        },
        {
          "output_type": "stream",
          "name": "stderr",
          "text": [
            "\r 33%|███▎      | 165/506 [01:41<03:09,  1.80it/s]"
          ]
        },
        {
          "output_type": "stream",
          "name": "stdout",
          "text": [
            "\u001b[1m1/1\u001b[0m \u001b[32m━━━━━━━━━━━━━━━━━━━━\u001b[0m\u001b[37m\u001b[0m \u001b[1m0s\u001b[0m 35ms/step\n"
          ]
        },
        {
          "output_type": "stream",
          "name": "stderr",
          "text": [
            "\r 33%|███▎      | 166/506 [01:42<03:29,  1.62it/s]"
          ]
        },
        {
          "output_type": "stream",
          "name": "stdout",
          "text": [
            "\u001b[1m1/1\u001b[0m \u001b[32m━━━━━━━━━━━━━━━━━━━━\u001b[0m\u001b[37m\u001b[0m \u001b[1m0s\u001b[0m 29ms/step\n"
          ]
        },
        {
          "output_type": "stream",
          "name": "stderr",
          "text": [
            "\r 33%|███▎      | 167/506 [01:43<03:43,  1.52it/s]"
          ]
        },
        {
          "output_type": "stream",
          "name": "stdout",
          "text": [
            "\u001b[1m1/1\u001b[0m \u001b[32m━━━━━━━━━━━━━━━━━━━━\u001b[0m\u001b[37m\u001b[0m \u001b[1m0s\u001b[0m 30ms/step\n"
          ]
        },
        {
          "output_type": "stream",
          "name": "stderr",
          "text": [
            "\r 33%|███▎      | 168/506 [01:43<03:52,  1.45it/s]"
          ]
        },
        {
          "output_type": "stream",
          "name": "stdout",
          "text": [
            "\u001b[1m1/1\u001b[0m \u001b[32m━━━━━━━━━━━━━━━━━━━━\u001b[0m\u001b[37m\u001b[0m \u001b[1m0s\u001b[0m 39ms/step\n"
          ]
        },
        {
          "output_type": "stream",
          "name": "stderr",
          "text": [
            "\r 33%|███▎      | 169/506 [01:44<03:59,  1.41it/s]"
          ]
        },
        {
          "output_type": "stream",
          "name": "stdout",
          "text": [
            "\u001b[1m1/1\u001b[0m \u001b[32m━━━━━━━━━━━━━━━━━━━━\u001b[0m\u001b[37m\u001b[0m \u001b[1m0s\u001b[0m 19ms/step\n"
          ]
        },
        {
          "output_type": "stream",
          "name": "stderr",
          "text": [
            "\r 34%|███▎      | 170/506 [01:45<03:35,  1.56it/s]"
          ]
        },
        {
          "output_type": "stream",
          "name": "stdout",
          "text": [
            "\u001b[1m1/1\u001b[0m \u001b[32m━━━━━━━━━━━━━━━━━━━━\u001b[0m\u001b[37m\u001b[0m \u001b[1m0s\u001b[0m 19ms/step\n"
          ]
        },
        {
          "output_type": "stream",
          "name": "stderr",
          "text": [
            "\r 34%|███▍      | 171/506 [01:45<03:17,  1.70it/s]"
          ]
        },
        {
          "output_type": "stream",
          "name": "stdout",
          "text": [
            "\u001b[1m1/1\u001b[0m \u001b[32m━━━━━━━━━━━━━━━━━━━━\u001b[0m\u001b[37m\u001b[0m \u001b[1m0s\u001b[0m 19ms/step\n"
          ]
        },
        {
          "output_type": "stream",
          "name": "stderr",
          "text": [
            "\r 34%|███▍      | 172/506 [01:46<03:04,  1.81it/s]"
          ]
        },
        {
          "output_type": "stream",
          "name": "stdout",
          "text": [
            "\u001b[1m1/1\u001b[0m \u001b[32m━━━━━━━━━━━━━━━━━━━━\u001b[0m\u001b[37m\u001b[0m \u001b[1m0s\u001b[0m 20ms/step\n"
          ]
        },
        {
          "output_type": "stream",
          "name": "stderr",
          "text": [
            "\r 34%|███▍      | 173/506 [01:46<02:58,  1.86it/s]"
          ]
        },
        {
          "output_type": "stream",
          "name": "stdout",
          "text": [
            "\u001b[1m1/1\u001b[0m \u001b[32m━━━━━━━━━━━━━━━━━━━━\u001b[0m\u001b[37m\u001b[0m \u001b[1m0s\u001b[0m 20ms/step\n"
          ]
        },
        {
          "output_type": "stream",
          "name": "stderr",
          "text": [
            "\r 34%|███▍      | 174/506 [01:47<02:57,  1.87it/s]"
          ]
        },
        {
          "output_type": "stream",
          "name": "stdout",
          "text": [
            "\u001b[1m1/1\u001b[0m \u001b[32m━━━━━━━━━━━━━━━━━━━━\u001b[0m\u001b[37m\u001b[0m \u001b[1m0s\u001b[0m 19ms/step\n"
          ]
        },
        {
          "output_type": "stream",
          "name": "stderr",
          "text": [
            "\r 35%|███▍      | 175/506 [01:47<02:51,  1.93it/s]"
          ]
        },
        {
          "output_type": "stream",
          "name": "stdout",
          "text": [
            "\u001b[1m1/1\u001b[0m \u001b[32m━━━━━━━━━━━━━━━━━━━━\u001b[0m\u001b[37m\u001b[0m \u001b[1m0s\u001b[0m 20ms/step\n"
          ]
        },
        {
          "output_type": "stream",
          "name": "stderr",
          "text": [
            "\r 35%|███▍      | 176/506 [01:48<02:46,  1.98it/s]"
          ]
        },
        {
          "output_type": "stream",
          "name": "stdout",
          "text": [
            "\u001b[1m1/1\u001b[0m \u001b[32m━━━━━━━━━━━━━━━━━━━━\u001b[0m\u001b[37m\u001b[0m \u001b[1m0s\u001b[0m 20ms/step\n"
          ]
        },
        {
          "output_type": "stream",
          "name": "stderr",
          "text": [
            "\r 35%|███▍      | 177/506 [01:48<02:43,  2.01it/s]"
          ]
        },
        {
          "output_type": "stream",
          "name": "stdout",
          "text": [
            "\u001b[1m1/1\u001b[0m \u001b[32m━━━━━━━━━━━━━━━━━━━━\u001b[0m\u001b[37m\u001b[0m \u001b[1m0s\u001b[0m 20ms/step\n"
          ]
        },
        {
          "output_type": "stream",
          "name": "stderr",
          "text": [
            "\r 35%|███▌      | 178/506 [01:49<02:40,  2.05it/s]"
          ]
        },
        {
          "output_type": "stream",
          "name": "stdout",
          "text": [
            "\u001b[1m1/1\u001b[0m \u001b[32m━━━━━━━━━━━━━━━━━━━━\u001b[0m\u001b[37m\u001b[0m \u001b[1m0s\u001b[0m 20ms/step\n"
          ]
        },
        {
          "output_type": "stream",
          "name": "stderr",
          "text": [
            "\r 35%|███▌      | 179/506 [01:49<02:38,  2.06it/s]"
          ]
        },
        {
          "output_type": "stream",
          "name": "stdout",
          "text": [
            "\u001b[1m1/1\u001b[0m \u001b[32m━━━━━━━━━━━━━━━━━━━━\u001b[0m\u001b[37m\u001b[0m \u001b[1m0s\u001b[0m 21ms/step\n"
          ]
        },
        {
          "output_type": "stream",
          "name": "stderr",
          "text": [
            "\r 36%|███▌      | 180/506 [01:50<02:53,  1.87it/s]"
          ]
        },
        {
          "output_type": "stream",
          "name": "stdout",
          "text": [
            "\u001b[1m1/1\u001b[0m \u001b[32m━━━━━━━━━━━━━━━━━━━━\u001b[0m\u001b[37m\u001b[0m \u001b[1m0s\u001b[0m 32ms/step\n"
          ]
        },
        {
          "output_type": "stream",
          "name": "stderr",
          "text": [
            "\r 36%|███▌      | 181/506 [01:50<03:16,  1.66it/s]"
          ]
        },
        {
          "output_type": "stream",
          "name": "stdout",
          "text": [
            "\u001b[1m1/1\u001b[0m \u001b[32m━━━━━━━━━━━━━━━━━━━━\u001b[0m\u001b[37m\u001b[0m \u001b[1m0s\u001b[0m 35ms/step\n"
          ]
        },
        {
          "output_type": "stream",
          "name": "stderr",
          "text": [
            "\r 36%|███▌      | 182/506 [01:51<03:27,  1.56it/s]"
          ]
        },
        {
          "output_type": "stream",
          "name": "stdout",
          "text": [
            "\u001b[1m1/1\u001b[0m \u001b[32m━━━━━━━━━━━━━━━━━━━━\u001b[0m\u001b[37m\u001b[0m \u001b[1m0s\u001b[0m 30ms/step\n"
          ]
        },
        {
          "output_type": "stream",
          "name": "stderr",
          "text": [
            "\r 36%|███▌      | 183/506 [01:52<03:39,  1.47it/s]"
          ]
        },
        {
          "output_type": "stream",
          "name": "stdout",
          "text": [
            "\u001b[1m1/1\u001b[0m \u001b[32m━━━━━━━━━━━━━━━━━━━━\u001b[0m\u001b[37m\u001b[0m \u001b[1m0s\u001b[0m 35ms/step\n"
          ]
        },
        {
          "output_type": "stream",
          "name": "stderr",
          "text": [
            "\r 36%|███▋      | 184/506 [01:53<03:50,  1.40it/s]"
          ]
        },
        {
          "output_type": "stream",
          "name": "stdout",
          "text": [
            "\u001b[1m1/1\u001b[0m \u001b[32m━━━━━━━━━━━━━━━━━━━━\u001b[0m\u001b[37m\u001b[0m \u001b[1m0s\u001b[0m 34ms/step\n"
          ]
        },
        {
          "output_type": "stream",
          "name": "stderr",
          "text": [
            "\r 37%|███▋      | 185/506 [01:53<03:42,  1.44it/s]"
          ]
        },
        {
          "output_type": "stream",
          "name": "stdout",
          "text": [
            "\u001b[1m1/1\u001b[0m \u001b[32m━━━━━━━━━━━━━━━━━━━━\u001b[0m\u001b[37m\u001b[0m \u001b[1m0s\u001b[0m 19ms/step\n"
          ]
        },
        {
          "output_type": "stream",
          "name": "stderr",
          "text": [
            "\r 37%|███▋      | 186/506 [01:54<03:20,  1.60it/s]"
          ]
        },
        {
          "output_type": "stream",
          "name": "stdout",
          "text": [
            "\u001b[1m1/1\u001b[0m \u001b[32m━━━━━━━━━━━━━━━━━━━━\u001b[0m\u001b[37m\u001b[0m \u001b[1m0s\u001b[0m 22ms/step\n"
          ]
        },
        {
          "output_type": "stream",
          "name": "stderr",
          "text": [
            "\r 37%|███▋      | 187/506 [01:54<03:15,  1.63it/s]"
          ]
        },
        {
          "output_type": "stream",
          "name": "stdout",
          "text": [
            "\u001b[1m1/1\u001b[0m \u001b[32m━━━━━━━━━━━━━━━━━━━━\u001b[0m\u001b[37m\u001b[0m \u001b[1m0s\u001b[0m 28ms/step\n"
          ]
        },
        {
          "output_type": "stream",
          "name": "stderr",
          "text": [
            "\r 37%|███▋      | 188/506 [01:55<03:23,  1.57it/s]"
          ]
        },
        {
          "output_type": "stream",
          "name": "stdout",
          "text": [
            "\u001b[1m1/1\u001b[0m \u001b[32m━━━━━━━━━━━━━━━━━━━━\u001b[0m\u001b[37m\u001b[0m \u001b[1m0s\u001b[0m 29ms/step\n"
          ]
        },
        {
          "output_type": "stream",
          "name": "stderr",
          "text": [
            "\r 37%|███▋      | 189/506 [01:56<03:29,  1.51it/s]"
          ]
        },
        {
          "output_type": "stream",
          "name": "stdout",
          "text": [
            "\u001b[1m1/1\u001b[0m \u001b[32m━━━━━━━━━━━━━━━━━━━━\u001b[0m\u001b[37m\u001b[0m \u001b[1m0s\u001b[0m 29ms/step\n"
          ]
        },
        {
          "output_type": "stream",
          "name": "stderr",
          "text": [
            "\r 38%|███▊      | 190/506 [01:57<03:35,  1.47it/s]"
          ]
        },
        {
          "output_type": "stream",
          "name": "stdout",
          "text": [
            "\u001b[1m1/1\u001b[0m \u001b[32m━━━━━━━━━━━━━━━━━━━━\u001b[0m\u001b[37m\u001b[0m \u001b[1m0s\u001b[0m 32ms/step\n"
          ]
        },
        {
          "output_type": "stream",
          "name": "stderr",
          "text": [
            "\r 38%|███▊      | 191/506 [01:57<03:43,  1.41it/s]"
          ]
        },
        {
          "output_type": "stream",
          "name": "stdout",
          "text": [
            "\u001b[1m1/1\u001b[0m \u001b[32m━━━━━━━━━━━━━━━━━━━━\u001b[0m\u001b[37m\u001b[0m \u001b[1m0s\u001b[0m 42ms/step\n"
          ]
        },
        {
          "output_type": "stream",
          "name": "stderr",
          "text": [
            "\r 38%|███▊      | 192/506 [01:58<03:38,  1.43it/s]"
          ]
        },
        {
          "output_type": "stream",
          "name": "stdout",
          "text": [
            "\u001b[1m1/1\u001b[0m \u001b[32m━━━━━━━━━━━━━━━━━━━━\u001b[0m\u001b[37m\u001b[0m \u001b[1m0s\u001b[0m 20ms/step\n"
          ]
        },
        {
          "output_type": "stream",
          "name": "stderr",
          "text": [
            "\r 38%|███▊      | 193/506 [01:59<03:22,  1.55it/s]"
          ]
        },
        {
          "output_type": "stream",
          "name": "stdout",
          "text": [
            "\u001b[1m1/1\u001b[0m \u001b[32m━━━━━━━━━━━━━━━━━━━━\u001b[0m\u001b[37m\u001b[0m \u001b[1m0s\u001b[0m 20ms/step\n"
          ]
        },
        {
          "output_type": "stream",
          "name": "stderr",
          "text": [
            "\r 38%|███▊      | 194/506 [01:59<03:10,  1.64it/s]"
          ]
        },
        {
          "output_type": "stream",
          "name": "stdout",
          "text": [
            "\u001b[1m1/1\u001b[0m \u001b[32m━━━━━━━━━━━━━━━━━━━━\u001b[0m\u001b[37m\u001b[0m \u001b[1m0s\u001b[0m 30ms/step\n"
          ]
        },
        {
          "output_type": "stream",
          "name": "stderr",
          "text": [
            "\r 39%|███▊      | 195/506 [02:00<02:57,  1.75it/s]"
          ]
        },
        {
          "output_type": "stream",
          "name": "stdout",
          "text": [
            "\u001b[1m1/1\u001b[0m \u001b[32m━━━━━━━━━━━━━━━━━━━━\u001b[0m\u001b[37m\u001b[0m \u001b[1m0s\u001b[0m 19ms/step\n"
          ]
        },
        {
          "output_type": "stream",
          "name": "stderr",
          "text": [
            "\r 39%|███▊      | 196/506 [02:00<02:52,  1.80it/s]"
          ]
        },
        {
          "output_type": "stream",
          "name": "stdout",
          "text": [
            "\u001b[1m1/1\u001b[0m \u001b[32m━━━━━━━━━━━━━━━━━━━━\u001b[0m\u001b[37m\u001b[0m \u001b[1m0s\u001b[0m 19ms/step\n"
          ]
        },
        {
          "output_type": "stream",
          "name": "stderr",
          "text": [
            "\r 39%|███▉      | 197/506 [02:01<02:44,  1.88it/s]"
          ]
        },
        {
          "output_type": "stream",
          "name": "stdout",
          "text": [
            "\u001b[1m1/1\u001b[0m \u001b[32m━━━━━━━━━━━━━━━━━━━━\u001b[0m\u001b[37m\u001b[0m \u001b[1m0s\u001b[0m 19ms/step\n"
          ]
        },
        {
          "output_type": "stream",
          "name": "stderr",
          "text": [
            "\r 39%|███▉      | 198/506 [02:01<02:39,  1.93it/s]"
          ]
        },
        {
          "output_type": "stream",
          "name": "stdout",
          "text": [
            "\u001b[1m1/1\u001b[0m \u001b[32m━━━━━━━━━━━━━━━━━━━━\u001b[0m\u001b[37m\u001b[0m \u001b[1m0s\u001b[0m 22ms/step\n"
          ]
        },
        {
          "output_type": "stream",
          "name": "stderr",
          "text": [
            "\r 39%|███▉      | 199/506 [02:02<02:39,  1.93it/s]"
          ]
        },
        {
          "output_type": "stream",
          "name": "stdout",
          "text": [
            "\u001b[1m1/1\u001b[0m \u001b[32m━━━━━━━━━━━━━━━━━━━━\u001b[0m\u001b[37m\u001b[0m \u001b[1m0s\u001b[0m 19ms/step\n"
          ]
        },
        {
          "output_type": "stream",
          "name": "stderr",
          "text": [
            "\r 40%|███▉      | 200/506 [02:02<02:34,  1.99it/s]"
          ]
        },
        {
          "output_type": "stream",
          "name": "stdout",
          "text": [
            "\u001b[1m1/1\u001b[0m \u001b[32m━━━━━━━━━━━━━━━━━━━━\u001b[0m\u001b[37m\u001b[0m \u001b[1m0s\u001b[0m 20ms/step\n"
          ]
        },
        {
          "output_type": "stream",
          "name": "stderr",
          "text": [
            "\r 40%|███▉      | 201/506 [02:03<02:31,  2.02it/s]"
          ]
        },
        {
          "output_type": "stream",
          "name": "stdout",
          "text": [
            "\u001b[1m1/1\u001b[0m \u001b[32m━━━━━━━━━━━━━━━━━━━━\u001b[0m\u001b[37m\u001b[0m \u001b[1m0s\u001b[0m 19ms/step\n"
          ]
        },
        {
          "output_type": "stream",
          "name": "stderr",
          "text": [
            "\r 40%|███▉      | 202/506 [02:03<02:28,  2.05it/s]"
          ]
        },
        {
          "output_type": "stream",
          "name": "stdout",
          "text": [
            "\u001b[1m1/1\u001b[0m \u001b[32m━━━━━━━━━━━━━━━━━━━━\u001b[0m\u001b[37m\u001b[0m \u001b[1m0s\u001b[0m 21ms/step\n"
          ]
        },
        {
          "output_type": "stream",
          "name": "stderr",
          "text": [
            "\r 40%|████      | 203/506 [02:03<02:27,  2.06it/s]"
          ]
        },
        {
          "output_type": "stream",
          "name": "stdout",
          "text": [
            "\u001b[1m1/1\u001b[0m \u001b[32m━━━━━━━━━━━━━━━━━━━━\u001b[0m\u001b[37m\u001b[0m \u001b[1m0s\u001b[0m 20ms/step\n"
          ]
        },
        {
          "output_type": "stream",
          "name": "stderr",
          "text": [
            "\r 40%|████      | 204/506 [02:04<02:30,  2.01it/s]"
          ]
        },
        {
          "output_type": "stream",
          "name": "stdout",
          "text": [
            "\u001b[1m1/1\u001b[0m \u001b[32m━━━━━━━━━━━━━━━━━━━━\u001b[0m\u001b[37m\u001b[0m \u001b[1m0s\u001b[0m 21ms/step\n"
          ]
        },
        {
          "output_type": "stream",
          "name": "stderr",
          "text": [
            "\r 41%|████      | 205/506 [02:04<02:30,  2.01it/s]"
          ]
        },
        {
          "output_type": "stream",
          "name": "stdout",
          "text": [
            "\u001b[1m1/1\u001b[0m \u001b[32m━━━━━━━━━━━━━━━━━━━━\u001b[0m\u001b[37m\u001b[0m \u001b[1m0s\u001b[0m 19ms/step\n"
          ]
        },
        {
          "output_type": "stream",
          "name": "stderr",
          "text": [
            "\r 41%|████      | 206/506 [02:05<02:26,  2.05it/s]"
          ]
        },
        {
          "output_type": "stream",
          "name": "stdout",
          "text": [
            "\u001b[1m1/1\u001b[0m \u001b[32m━━━━━━━━━━━━━━━━━━━━\u001b[0m\u001b[37m\u001b[0m \u001b[1m0s\u001b[0m 20ms/step\n"
          ]
        },
        {
          "output_type": "stream",
          "name": "stderr",
          "text": [
            "\r 41%|████      | 207/506 [02:05<02:25,  2.06it/s]"
          ]
        },
        {
          "output_type": "stream",
          "name": "stdout",
          "text": [
            "\u001b[1m1/1\u001b[0m \u001b[32m━━━━━━━━━━━━━━━━━━━━\u001b[0m\u001b[37m\u001b[0m \u001b[1m0s\u001b[0m 21ms/step\n"
          ]
        },
        {
          "output_type": "stream",
          "name": "stderr",
          "text": [
            "\r 41%|████      | 208/506 [02:06<02:23,  2.08it/s]"
          ]
        },
        {
          "output_type": "stream",
          "name": "stdout",
          "text": [
            "\u001b[1m1/1\u001b[0m \u001b[32m━━━━━━━━━━━━━━━━━━━━\u001b[0m\u001b[37m\u001b[0m \u001b[1m0s\u001b[0m 19ms/step\n"
          ]
        },
        {
          "output_type": "stream",
          "name": "stderr",
          "text": [
            "\r 41%|████▏     | 209/506 [02:06<02:22,  2.09it/s]"
          ]
        },
        {
          "output_type": "stream",
          "name": "stdout",
          "text": [
            "\u001b[1m1/1\u001b[0m \u001b[32m━━━━━━━━━━━━━━━━━━━━\u001b[0m\u001b[37m\u001b[0m \u001b[1m0s\u001b[0m 19ms/step\n"
          ]
        },
        {
          "output_type": "stream",
          "name": "stderr",
          "text": [
            "\r 42%|████▏     | 210/506 [02:07<02:23,  2.06it/s]"
          ]
        },
        {
          "output_type": "stream",
          "name": "stdout",
          "text": [
            "\u001b[1m1/1\u001b[0m \u001b[32m━━━━━━━━━━━━━━━━━━━━\u001b[0m\u001b[37m\u001b[0m \u001b[1m0s\u001b[0m 20ms/step\n"
          ]
        },
        {
          "output_type": "stream",
          "name": "stderr",
          "text": [
            "\r 42%|████▏     | 211/506 [02:07<02:22,  2.07it/s]"
          ]
        },
        {
          "output_type": "stream",
          "name": "stdout",
          "text": [
            "\u001b[1m1/1\u001b[0m \u001b[32m━━━━━━━━━━━━━━━━━━━━\u001b[0m\u001b[37m\u001b[0m \u001b[1m0s\u001b[0m 19ms/step\n"
          ]
        },
        {
          "output_type": "stream",
          "name": "stderr",
          "text": [
            "\r 42%|████▏     | 212/506 [02:08<02:27,  2.00it/s]"
          ]
        },
        {
          "output_type": "stream",
          "name": "stdout",
          "text": [
            "\u001b[1m1/1\u001b[0m \u001b[32m━━━━━━━━━━━━━━━━━━━━\u001b[0m\u001b[37m\u001b[0m \u001b[1m0s\u001b[0m 32ms/step\n"
          ]
        },
        {
          "output_type": "stream",
          "name": "stderr",
          "text": [
            "\r 42%|████▏     | 213/506 [02:09<02:50,  1.71it/s]"
          ]
        },
        {
          "output_type": "stream",
          "name": "stdout",
          "text": [
            "\u001b[1m1/1\u001b[0m \u001b[32m━━━━━━━━━━━━━━━━━━━━\u001b[0m\u001b[37m\u001b[0m \u001b[1m0s\u001b[0m 33ms/step\n"
          ]
        },
        {
          "output_type": "stream",
          "name": "stderr",
          "text": [
            "\r 42%|████▏     | 214/506 [02:09<03:06,  1.56it/s]"
          ]
        },
        {
          "output_type": "stream",
          "name": "stdout",
          "text": [
            "\u001b[1m1/1\u001b[0m \u001b[32m━━━━━━━━━━━━━━━━━━━━\u001b[0m\u001b[37m\u001b[0m \u001b[1m0s\u001b[0m 27ms/step\n"
          ]
        },
        {
          "output_type": "stream",
          "name": "stderr",
          "text": [
            "\r 42%|████▏     | 215/506 [02:10<03:17,  1.47it/s]"
          ]
        },
        {
          "output_type": "stream",
          "name": "stdout",
          "text": [
            "\u001b[1m1/1\u001b[0m \u001b[32m━━━━━━━━━━━━━━━━━━━━\u001b[0m\u001b[37m\u001b[0m \u001b[1m0s\u001b[0m 27ms/step\n"
          ]
        },
        {
          "output_type": "stream",
          "name": "stderr",
          "text": [
            "\r 43%|████▎     | 216/506 [02:11<03:23,  1.42it/s]"
          ]
        },
        {
          "output_type": "stream",
          "name": "stdout",
          "text": [
            "\u001b[1m1/1\u001b[0m \u001b[32m━━━━━━━━━━━━━━━━━━━━\u001b[0m\u001b[37m\u001b[0m \u001b[1m0s\u001b[0m 34ms/step\n"
          ]
        },
        {
          "output_type": "stream",
          "name": "stderr",
          "text": [
            "\r 43%|████▎     | 217/506 [02:12<03:25,  1.40it/s]"
          ]
        },
        {
          "output_type": "stream",
          "name": "stdout",
          "text": [
            "\u001b[1m1/1\u001b[0m \u001b[32m━━━━━━━━━━━━━━━━━━━━\u001b[0m\u001b[37m\u001b[0m \u001b[1m0s\u001b[0m 20ms/step\n"
          ]
        },
        {
          "output_type": "stream",
          "name": "stderr",
          "text": [
            "\r 43%|████▎     | 218/506 [02:12<03:04,  1.56it/s]"
          ]
        },
        {
          "output_type": "stream",
          "name": "stdout",
          "text": [
            "\u001b[1m1/1\u001b[0m \u001b[32m━━━━━━━━━━━━━━━━━━━━\u001b[0m\u001b[37m\u001b[0m \u001b[1m0s\u001b[0m 22ms/step\n"
          ]
        },
        {
          "output_type": "stream",
          "name": "stderr",
          "text": [
            "\r 43%|████▎     | 219/506 [02:13<02:51,  1.67it/s]"
          ]
        },
        {
          "output_type": "stream",
          "name": "stdout",
          "text": [
            "\u001b[1m1/1\u001b[0m \u001b[32m━━━━━━━━━━━━━━━━━━━━\u001b[0m\u001b[37m\u001b[0m \u001b[1m0s\u001b[0m 20ms/step\n"
          ]
        },
        {
          "output_type": "stream",
          "name": "stderr",
          "text": [
            "\r 43%|████▎     | 220/506 [02:13<02:46,  1.71it/s]"
          ]
        },
        {
          "output_type": "stream",
          "name": "stdout",
          "text": [
            "\u001b[1m1/1\u001b[0m \u001b[32m━━━━━━━━━━━━━━━━━━━━\u001b[0m\u001b[37m\u001b[0m \u001b[1m0s\u001b[0m 20ms/step\n"
          ]
        },
        {
          "output_type": "stream",
          "name": "stderr",
          "text": [
            "\r 44%|████▎     | 221/506 [02:14<02:42,  1.75it/s]"
          ]
        },
        {
          "output_type": "stream",
          "name": "stdout",
          "text": [
            "\u001b[1m1/1\u001b[0m \u001b[32m━━━━━━━━━━━━━━━━━━━━\u001b[0m\u001b[37m\u001b[0m \u001b[1m0s\u001b[0m 19ms/step\n"
          ]
        },
        {
          "output_type": "stream",
          "name": "stderr",
          "text": [
            "\r 44%|████▍     | 222/506 [02:14<02:34,  1.84it/s]"
          ]
        },
        {
          "output_type": "stream",
          "name": "stdout",
          "text": [
            "\u001b[1m1/1\u001b[0m \u001b[32m━━━━━━━━━━━━━━━━━━━━\u001b[0m\u001b[37m\u001b[0m \u001b[1m0s\u001b[0m 19ms/step\n"
          ]
        },
        {
          "output_type": "stream",
          "name": "stderr",
          "text": [
            "\r 44%|████▍     | 223/506 [02:15<02:29,  1.90it/s]"
          ]
        },
        {
          "output_type": "stream",
          "name": "stdout",
          "text": [
            "\u001b[1m1/1\u001b[0m \u001b[32m━━━━━━━━━━━━━━━━━━━━\u001b[0m\u001b[37m\u001b[0m \u001b[1m0s\u001b[0m 20ms/step\n"
          ]
        },
        {
          "output_type": "stream",
          "name": "stderr",
          "text": [
            "\r 44%|████▍     | 224/506 [02:15<02:29,  1.89it/s]"
          ]
        },
        {
          "output_type": "stream",
          "name": "stdout",
          "text": [
            "\u001b[1m1/1\u001b[0m \u001b[32m━━━━━━━━━━━━━━━━━━━━\u001b[0m\u001b[37m\u001b[0m \u001b[1m0s\u001b[0m 20ms/step\n"
          ]
        },
        {
          "output_type": "stream",
          "name": "stderr",
          "text": [
            "\r 44%|████▍     | 225/506 [02:16<02:25,  1.94it/s]"
          ]
        },
        {
          "output_type": "stream",
          "name": "stdout",
          "text": [
            "\u001b[1m1/1\u001b[0m \u001b[32m━━━━━━━━━━━━━━━━━━━━\u001b[0m\u001b[37m\u001b[0m \u001b[1m0s\u001b[0m 22ms/step\n"
          ]
        },
        {
          "output_type": "stream",
          "name": "stderr",
          "text": [
            "\r 45%|████▍     | 226/506 [02:16<02:21,  1.98it/s]"
          ]
        },
        {
          "output_type": "stream",
          "name": "stdout",
          "text": [
            "\u001b[1m1/1\u001b[0m \u001b[32m━━━━━━━━━━━━━━━━━━━━\u001b[0m\u001b[37m\u001b[0m \u001b[1m0s\u001b[0m 20ms/step\n"
          ]
        },
        {
          "output_type": "stream",
          "name": "stderr",
          "text": [
            "\r 45%|████▍     | 227/506 [02:17<02:19,  2.00it/s]"
          ]
        },
        {
          "output_type": "stream",
          "name": "stdout",
          "text": [
            "\u001b[1m1/1\u001b[0m \u001b[32m━━━━━━━━━━━━━━━━━━━━\u001b[0m\u001b[37m\u001b[0m \u001b[1m0s\u001b[0m 20ms/step\n"
          ]
        },
        {
          "output_type": "stream",
          "name": "stderr",
          "text": [
            "\r 45%|████▌     | 228/506 [02:17<02:16,  2.03it/s]"
          ]
        },
        {
          "output_type": "stream",
          "name": "stdout",
          "text": [
            "\u001b[1m1/1\u001b[0m \u001b[32m━━━━━━━━━━━━━━━━━━━━\u001b[0m\u001b[37m\u001b[0m \u001b[1m0s\u001b[0m 25ms/step\n"
          ]
        },
        {
          "output_type": "stream",
          "name": "stderr",
          "text": [
            "\r 45%|████▌     | 229/506 [02:18<02:18,  2.00it/s]"
          ]
        },
        {
          "output_type": "stream",
          "name": "stdout",
          "text": [
            "\u001b[1m1/1\u001b[0m \u001b[32m━━━━━━━━━━━━━━━━━━━━\u001b[0m\u001b[37m\u001b[0m \u001b[1m0s\u001b[0m 20ms/step\n"
          ]
        },
        {
          "output_type": "stream",
          "name": "stderr",
          "text": [
            "\r 45%|████▌     | 230/506 [02:18<02:16,  2.03it/s]"
          ]
        },
        {
          "output_type": "stream",
          "name": "stdout",
          "text": [
            "\u001b[1m1/1\u001b[0m \u001b[32m━━━━━━━━━━━━━━━━━━━━\u001b[0m\u001b[37m\u001b[0m \u001b[1m0s\u001b[0m 25ms/step\n"
          ]
        },
        {
          "output_type": "stream",
          "name": "stderr",
          "text": [
            "\r 46%|████▌     | 231/506 [02:19<02:13,  2.05it/s]"
          ]
        },
        {
          "output_type": "stream",
          "name": "stdout",
          "text": [
            "\u001b[1m1/1\u001b[0m \u001b[32m━━━━━━━━━━━━━━━━━━━━\u001b[0m\u001b[37m\u001b[0m \u001b[1m0s\u001b[0m 19ms/step\n"
          ]
        },
        {
          "output_type": "stream",
          "name": "stderr",
          "text": [
            "\r 46%|████▌     | 232/506 [02:19<02:16,  2.01it/s]"
          ]
        },
        {
          "output_type": "stream",
          "name": "stdout",
          "text": [
            "\u001b[1m1/1\u001b[0m \u001b[32m━━━━━━━━━━━━━━━━━━━━\u001b[0m\u001b[37m\u001b[0m \u001b[1m0s\u001b[0m 24ms/step\n"
          ]
        },
        {
          "output_type": "stream",
          "name": "stderr",
          "text": [
            "\r 46%|████▌     | 233/506 [02:20<02:20,  1.95it/s]"
          ]
        },
        {
          "output_type": "stream",
          "name": "stdout",
          "text": [
            "\u001b[1m1/1\u001b[0m \u001b[32m━━━━━━━━━━━━━━━━━━━━\u001b[0m\u001b[37m\u001b[0m \u001b[1m0s\u001b[0m 33ms/step\n"
          ]
        },
        {
          "output_type": "stream",
          "name": "stderr",
          "text": [
            "\r 46%|████▌     | 234/506 [02:20<02:18,  1.97it/s]"
          ]
        },
        {
          "output_type": "stream",
          "name": "stdout",
          "text": [
            "\u001b[1m1/1\u001b[0m \u001b[32m━━━━━━━━━━━━━━━━━━━━\u001b[0m\u001b[37m\u001b[0m \u001b[1m0s\u001b[0m 19ms/step\n"
          ]
        },
        {
          "output_type": "stream",
          "name": "stderr",
          "text": [
            "\r 46%|████▋     | 235/506 [02:21<02:15,  2.00it/s]"
          ]
        },
        {
          "output_type": "stream",
          "name": "stdout",
          "text": [
            "\u001b[1m1/1\u001b[0m \u001b[32m━━━━━━━━━━━━━━━━━━━━\u001b[0m\u001b[37m\u001b[0m \u001b[1m0s\u001b[0m 21ms/step\n"
          ]
        },
        {
          "output_type": "stream",
          "name": "stderr",
          "text": [
            "\r 47%|████▋     | 236/506 [02:21<02:13,  2.03it/s]"
          ]
        },
        {
          "output_type": "stream",
          "name": "stdout",
          "text": [
            "\u001b[1m1/1\u001b[0m \u001b[32m━━━━━━━━━━━━━━━━━━━━\u001b[0m\u001b[37m\u001b[0m \u001b[1m0s\u001b[0m 24ms/step\n"
          ]
        },
        {
          "output_type": "stream",
          "name": "stderr",
          "text": [
            "\r 47%|████▋     | 237/506 [02:22<02:14,  2.00it/s]"
          ]
        },
        {
          "output_type": "stream",
          "name": "stdout",
          "text": [
            "\u001b[1m1/1\u001b[0m \u001b[32m━━━━━━━━━━━━━━━━━━━━\u001b[0m\u001b[37m\u001b[0m \u001b[1m0s\u001b[0m 31ms/step\n"
          ]
        },
        {
          "output_type": "stream",
          "name": "stderr",
          "text": [
            "\r 47%|████▋     | 238/506 [02:22<02:36,  1.72it/s]"
          ]
        },
        {
          "output_type": "stream",
          "name": "stdout",
          "text": [
            "\u001b[1m1/1\u001b[0m \u001b[32m━━━━━━━━━━━━━━━━━━━━\u001b[0m\u001b[37m\u001b[0m \u001b[1m0s\u001b[0m 30ms/step\n"
          ]
        },
        {
          "output_type": "stream",
          "name": "stderr",
          "text": [
            "\r 47%|████▋     | 239/506 [02:23<02:50,  1.56it/s]"
          ]
        },
        {
          "output_type": "stream",
          "name": "stdout",
          "text": [
            "\u001b[1m1/1\u001b[0m \u001b[32m━━━━━━━━━━━━━━━━━━━━\u001b[0m\u001b[37m\u001b[0m \u001b[1m0s\u001b[0m 28ms/step\n"
          ]
        },
        {
          "output_type": "stream",
          "name": "stderr",
          "text": [
            "\r 47%|████▋     | 240/506 [02:24<02:58,  1.49it/s]"
          ]
        },
        {
          "output_type": "stream",
          "name": "stdout",
          "text": [
            "\u001b[1m1/1\u001b[0m \u001b[32m━━━━━━━━━━━━━━━━━━━━\u001b[0m\u001b[37m\u001b[0m \u001b[1m0s\u001b[0m 28ms/step\n"
          ]
        },
        {
          "output_type": "stream",
          "name": "stderr",
          "text": [
            "\r 48%|████▊     | 241/506 [02:25<03:01,  1.46it/s]"
          ]
        },
        {
          "output_type": "stream",
          "name": "stdout",
          "text": [
            "\u001b[1m1/1\u001b[0m \u001b[32m━━━━━━━━━━━━━━━━━━━━\u001b[0m\u001b[37m\u001b[0m \u001b[1m0s\u001b[0m 36ms/step\n"
          ]
        },
        {
          "output_type": "stream",
          "name": "stderr",
          "text": [
            "\r 48%|████▊     | 242/506 [02:25<03:03,  1.44it/s]"
          ]
        },
        {
          "output_type": "stream",
          "name": "stdout",
          "text": [
            "\u001b[1m1/1\u001b[0m \u001b[32m━━━━━━━━━━━━━━━━━━━━\u001b[0m\u001b[37m\u001b[0m \u001b[1m0s\u001b[0m 29ms/step\n"
          ]
        },
        {
          "output_type": "stream",
          "name": "stderr",
          "text": [
            "\r 48%|████▊     | 243/506 [02:26<02:47,  1.57it/s]"
          ]
        },
        {
          "output_type": "stream",
          "name": "stdout",
          "text": [
            "\u001b[1m1/1\u001b[0m \u001b[32m━━━━━━━━━━━━━━━━━━━━\u001b[0m\u001b[37m\u001b[0m \u001b[1m0s\u001b[0m 19ms/step\n"
          ]
        },
        {
          "output_type": "stream",
          "name": "stderr",
          "text": [
            "\r 48%|████▊     | 244/506 [02:26<02:33,  1.71it/s]"
          ]
        },
        {
          "output_type": "stream",
          "name": "stdout",
          "text": [
            "\u001b[1m1/1\u001b[0m \u001b[32m━━━━━━━━━━━━━━━━━━━━\u001b[0m\u001b[37m\u001b[0m \u001b[1m0s\u001b[0m 19ms/step\n"
          ]
        },
        {
          "output_type": "stream",
          "name": "stderr",
          "text": [
            "\r 48%|████▊     | 245/506 [02:27<02:24,  1.80it/s]"
          ]
        },
        {
          "output_type": "stream",
          "name": "stdout",
          "text": [
            "\u001b[1m1/1\u001b[0m \u001b[32m━━━━━━━━━━━━━━━━━━━━\u001b[0m\u001b[37m\u001b[0m \u001b[1m0s\u001b[0m 19ms/step\n"
          ]
        },
        {
          "output_type": "stream",
          "name": "stderr",
          "text": [
            "\r 49%|████▊     | 246/506 [02:27<02:18,  1.88it/s]"
          ]
        },
        {
          "output_type": "stream",
          "name": "stdout",
          "text": [
            "\u001b[1m1/1\u001b[0m \u001b[32m━━━━━━━━━━━━━━━━━━━━\u001b[0m\u001b[37m\u001b[0m \u001b[1m0s\u001b[0m 19ms/step\n"
          ]
        },
        {
          "output_type": "stream",
          "name": "stderr",
          "text": [
            "\r 49%|████▉     | 247/506 [02:28<02:12,  1.96it/s]"
          ]
        },
        {
          "output_type": "stream",
          "name": "stdout",
          "text": [
            "\u001b[1m1/1\u001b[0m \u001b[32m━━━━━━━━━━━━━━━━━━━━\u001b[0m\u001b[37m\u001b[0m \u001b[1m0s\u001b[0m 20ms/step\n"
          ]
        },
        {
          "output_type": "stream",
          "name": "stderr",
          "text": [
            "\r 49%|████▉     | 248/506 [02:28<02:09,  1.99it/s]"
          ]
        },
        {
          "output_type": "stream",
          "name": "stdout",
          "text": [
            "\u001b[1m1/1\u001b[0m \u001b[32m━━━━━━━━━━━━━━━━━━━━\u001b[0m\u001b[37m\u001b[0m \u001b[1m0s\u001b[0m 20ms/step\n"
          ]
        },
        {
          "output_type": "stream",
          "name": "stderr",
          "text": [
            "\r 49%|████▉     | 249/506 [02:29<02:10,  1.97it/s]"
          ]
        },
        {
          "output_type": "stream",
          "name": "stdout",
          "text": [
            "\u001b[1m1/1\u001b[0m \u001b[32m━━━━━━━━━━━━━━━━━━━━\u001b[0m\u001b[37m\u001b[0m \u001b[1m0s\u001b[0m 20ms/step\n"
          ]
        },
        {
          "output_type": "stream",
          "name": "stderr",
          "text": [
            "\r 49%|████▉     | 250/506 [02:29<02:11,  1.95it/s]"
          ]
        },
        {
          "output_type": "stream",
          "name": "stdout",
          "text": [
            "\u001b[1m1/1\u001b[0m \u001b[32m━━━━━━━━━━━━━━━━━━━━\u001b[0m\u001b[37m\u001b[0m \u001b[1m0s\u001b[0m 19ms/step\n"
          ]
        },
        {
          "output_type": "stream",
          "name": "stderr",
          "text": [
            "\r 50%|████▉     | 251/506 [02:30<02:06,  2.01it/s]"
          ]
        },
        {
          "output_type": "stream",
          "name": "stdout",
          "text": [
            "\u001b[1m1/1\u001b[0m \u001b[32m━━━━━━━━━━━━━━━━━━━━\u001b[0m\u001b[37m\u001b[0m \u001b[1m0s\u001b[0m 20ms/step\n"
          ]
        },
        {
          "output_type": "stream",
          "name": "stderr",
          "text": [
            "\r 50%|████▉     | 252/506 [02:30<02:05,  2.02it/s]"
          ]
        },
        {
          "output_type": "stream",
          "name": "stdout",
          "text": [
            "\u001b[1m1/1\u001b[0m \u001b[32m━━━━━━━━━━━━━━━━━━━━\u001b[0m\u001b[37m\u001b[0m \u001b[1m0s\u001b[0m 20ms/step\n"
          ]
        },
        {
          "output_type": "stream",
          "name": "stderr",
          "text": [
            "\r 50%|█████     | 253/506 [02:31<02:02,  2.06it/s]"
          ]
        },
        {
          "output_type": "stream",
          "name": "stdout",
          "text": [
            "\u001b[1m1/1\u001b[0m \u001b[32m━━━━━━━━━━━━━━━━━━━━\u001b[0m\u001b[37m\u001b[0m \u001b[1m0s\u001b[0m 21ms/step\n"
          ]
        },
        {
          "output_type": "stream",
          "name": "stderr",
          "text": [
            "\r 50%|█████     | 254/506 [02:31<02:01,  2.07it/s]"
          ]
        },
        {
          "output_type": "stream",
          "name": "stdout",
          "text": [
            "\u001b[1m1/1\u001b[0m \u001b[32m━━━━━━━━━━━━━━━━━━━━\u001b[0m\u001b[37m\u001b[0m \u001b[1m0s\u001b[0m 19ms/step\n"
          ]
        },
        {
          "output_type": "stream",
          "name": "stderr",
          "text": [
            "\r 50%|█████     | 255/506 [02:32<02:01,  2.07it/s]"
          ]
        },
        {
          "output_type": "stream",
          "name": "stdout",
          "text": [
            "\u001b[1m1/1\u001b[0m \u001b[32m━━━━━━━━━━━━━━━━━━━━\u001b[0m\u001b[37m\u001b[0m \u001b[1m0s\u001b[0m 19ms/step\n"
          ]
        },
        {
          "output_type": "stream",
          "name": "stderr",
          "text": [
            "\r 51%|█████     | 256/506 [02:32<01:59,  2.09it/s]"
          ]
        },
        {
          "output_type": "stream",
          "name": "stdout",
          "text": [
            "\u001b[1m1/1\u001b[0m \u001b[32m━━━━━━━━━━━━━━━━━━━━\u001b[0m\u001b[37m\u001b[0m \u001b[1m0s\u001b[0m 23ms/step\n"
          ]
        },
        {
          "output_type": "stream",
          "name": "stderr",
          "text": [
            "\r 51%|█████     | 257/506 [02:33<02:00,  2.07it/s]"
          ]
        },
        {
          "output_type": "stream",
          "name": "stdout",
          "text": [
            "\u001b[1m1/1\u001b[0m \u001b[32m━━━━━━━━━━━━━━━━━━━━\u001b[0m\u001b[37m\u001b[0m \u001b[1m0s\u001b[0m 21ms/step\n"
          ]
        },
        {
          "output_type": "stream",
          "name": "stderr",
          "text": [
            "\r 51%|█████     | 258/506 [02:33<02:00,  2.06it/s]"
          ]
        },
        {
          "output_type": "stream",
          "name": "stdout",
          "text": [
            "\u001b[1m1/1\u001b[0m \u001b[32m━━━━━━━━━━━━━━━━━━━━\u001b[0m\u001b[37m\u001b[0m \u001b[1m0s\u001b[0m 30ms/step\n"
          ]
        },
        {
          "output_type": "stream",
          "name": "stderr",
          "text": [
            "\r 51%|█████     | 259/506 [02:34<01:58,  2.09it/s]"
          ]
        },
        {
          "output_type": "stream",
          "name": "stdout",
          "text": [
            "\u001b[1m1/1\u001b[0m \u001b[32m━━━━━━━━━━━━━━━━━━━━\u001b[0m\u001b[37m\u001b[0m \u001b[1m0s\u001b[0m 20ms/step\n"
          ]
        },
        {
          "output_type": "stream",
          "name": "stderr",
          "text": [
            "\r 51%|█████▏    | 260/506 [02:34<01:58,  2.08it/s]"
          ]
        },
        {
          "output_type": "stream",
          "name": "stdout",
          "text": [
            "\u001b[1m1/1\u001b[0m \u001b[32m━━━━━━━━━━━━━━━━━━━━\u001b[0m\u001b[37m\u001b[0m \u001b[1m0s\u001b[0m 20ms/step\n"
          ]
        },
        {
          "output_type": "stream",
          "name": "stderr",
          "text": [
            "\r 52%|█████▏    | 261/506 [02:35<02:00,  2.03it/s]"
          ]
        },
        {
          "output_type": "stream",
          "name": "stdout",
          "text": [
            "\u001b[1m1/1\u001b[0m \u001b[32m━━━━━━━━━━━━━━━━━━━━\u001b[0m\u001b[37m\u001b[0m \u001b[1m0s\u001b[0m 20ms/step\n"
          ]
        },
        {
          "output_type": "stream",
          "name": "stderr",
          "text": [
            "\r 52%|█████▏    | 262/506 [02:35<01:58,  2.07it/s]"
          ]
        },
        {
          "output_type": "stream",
          "name": "stdout",
          "text": [
            "\u001b[1m1/1\u001b[0m \u001b[32m━━━━━━━━━━━━━━━━━━━━\u001b[0m\u001b[37m\u001b[0m \u001b[1m0s\u001b[0m 21ms/step\n"
          ]
        },
        {
          "output_type": "stream",
          "name": "stderr",
          "text": [
            "\r 52%|█████▏    | 263/506 [02:36<01:56,  2.08it/s]"
          ]
        },
        {
          "output_type": "stream",
          "name": "stdout",
          "text": [
            "\u001b[1m1/1\u001b[0m \u001b[32m━━━━━━━━━━━━━━━━━━━━\u001b[0m\u001b[37m\u001b[0m \u001b[1m0s\u001b[0m 31ms/step\n"
          ]
        },
        {
          "output_type": "stream",
          "name": "stderr",
          "text": [
            "\r 52%|█████▏    | 264/506 [02:36<02:13,  1.82it/s]"
          ]
        },
        {
          "output_type": "stream",
          "name": "stdout",
          "text": [
            "\u001b[1m1/1\u001b[0m \u001b[32m━━━━━━━━━━━━━━━━━━━━\u001b[0m\u001b[37m\u001b[0m \u001b[1m0s\u001b[0m 27ms/step\n"
          ]
        },
        {
          "output_type": "stream",
          "name": "stderr",
          "text": [
            "\r 52%|█████▏    | 265/506 [02:37<02:26,  1.65it/s]"
          ]
        },
        {
          "output_type": "stream",
          "name": "stdout",
          "text": [
            "\u001b[1m1/1\u001b[0m \u001b[32m━━━━━━━━━━━━━━━━━━━━\u001b[0m\u001b[37m\u001b[0m \u001b[1m0s\u001b[0m 30ms/step\n"
          ]
        },
        {
          "output_type": "stream",
          "name": "stderr",
          "text": [
            "\r 53%|█████▎    | 266/506 [02:38<02:37,  1.52it/s]"
          ]
        },
        {
          "output_type": "stream",
          "name": "stdout",
          "text": [
            "\u001b[1m1/1\u001b[0m \u001b[32m━━━━━━━━━━━━━━━━━━━━\u001b[0m\u001b[37m\u001b[0m \u001b[1m0s\u001b[0m 26ms/step\n"
          ]
        },
        {
          "output_type": "stream",
          "name": "stderr",
          "text": [
            "\r 53%|█████▎    | 267/506 [02:39<02:40,  1.49it/s]"
          ]
        },
        {
          "output_type": "stream",
          "name": "stdout",
          "text": [
            "\u001b[1m1/1\u001b[0m \u001b[32m━━━━━━━━━━━━━━━━━━━━\u001b[0m\u001b[37m\u001b[0m \u001b[1m0s\u001b[0m 29ms/step\n"
          ]
        },
        {
          "output_type": "stream",
          "name": "stderr",
          "text": [
            "\r 53%|█████▎    | 268/506 [02:39<02:48,  1.42it/s]"
          ]
        },
        {
          "output_type": "stream",
          "name": "stdout",
          "text": [
            "\u001b[1m1/1\u001b[0m \u001b[32m━━━━━━━━━━━━━━━━━━━━\u001b[0m\u001b[37m\u001b[0m \u001b[1m0s\u001b[0m 30ms/step\n"
          ]
        },
        {
          "output_type": "stream",
          "name": "stderr",
          "text": [
            "\r 53%|█████▎    | 269/506 [02:40<02:41,  1.46it/s]"
          ]
        },
        {
          "output_type": "stream",
          "name": "stdout",
          "text": [
            "\u001b[1m1/1\u001b[0m \u001b[32m━━━━━━━━━━━━━━━━━━━━\u001b[0m\u001b[37m\u001b[0m \u001b[1m0s\u001b[0m 20ms/step\n"
          ]
        },
        {
          "output_type": "stream",
          "name": "stderr",
          "text": [
            "\r 53%|█████▎    | 270/506 [02:40<02:30,  1.57it/s]"
          ]
        },
        {
          "output_type": "stream",
          "name": "stdout",
          "text": [
            "\u001b[1m1/1\u001b[0m \u001b[32m━━━━━━━━━━━━━━━━━━━━\u001b[0m\u001b[37m\u001b[0m \u001b[1m0s\u001b[0m 21ms/step\n"
          ]
        },
        {
          "output_type": "stream",
          "name": "stderr",
          "text": [
            "\r 54%|█████▎    | 271/506 [02:41<02:18,  1.70it/s]"
          ]
        },
        {
          "output_type": "stream",
          "name": "stdout",
          "text": [
            "\u001b[1m1/1\u001b[0m \u001b[32m━━━━━━━━━━━━━━━━━━━━\u001b[0m\u001b[37m\u001b[0m \u001b[1m0s\u001b[0m 21ms/step\n"
          ]
        },
        {
          "output_type": "stream",
          "name": "stderr",
          "text": [
            "\r 54%|█████▍    | 272/506 [02:41<02:09,  1.80it/s]"
          ]
        },
        {
          "output_type": "stream",
          "name": "stdout",
          "text": [
            "\u001b[1m1/1\u001b[0m \u001b[32m━━━━━━━━━━━━━━━━━━━━\u001b[0m\u001b[37m\u001b[0m \u001b[1m0s\u001b[0m 20ms/step\n"
          ]
        },
        {
          "output_type": "stream",
          "name": "stderr",
          "text": [
            "\r 54%|█████▍    | 273/506 [02:42<02:02,  1.90it/s]"
          ]
        },
        {
          "output_type": "stream",
          "name": "stdout",
          "text": [
            "\u001b[1m1/1\u001b[0m \u001b[32m━━━━━━━━━━━━━━━━━━━━\u001b[0m\u001b[37m\u001b[0m \u001b[1m0s\u001b[0m 21ms/step\n"
          ]
        },
        {
          "output_type": "stream",
          "name": "stderr",
          "text": [
            "\r 54%|█████▍    | 274/506 [02:42<01:59,  1.94it/s]"
          ]
        },
        {
          "output_type": "stream",
          "name": "stdout",
          "text": [
            "\u001b[1m1/1\u001b[0m \u001b[32m━━━━━━━━━━━━━━━━━━━━\u001b[0m\u001b[37m\u001b[0m \u001b[1m0s\u001b[0m 20ms/step\n"
          ]
        },
        {
          "output_type": "stream",
          "name": "stderr",
          "text": [
            "\r 54%|█████▍    | 275/506 [02:43<01:56,  1.99it/s]"
          ]
        },
        {
          "output_type": "stream",
          "name": "stdout",
          "text": [
            "\u001b[1m1/1\u001b[0m \u001b[32m━━━━━━━━━━━━━━━━━━━━\u001b[0m\u001b[37m\u001b[0m \u001b[1m0s\u001b[0m 20ms/step\n"
          ]
        },
        {
          "output_type": "stream",
          "name": "stderr",
          "text": [
            "\r 55%|█████▍    | 276/506 [02:43<01:58,  1.94it/s]"
          ]
        },
        {
          "output_type": "stream",
          "name": "stdout",
          "text": [
            "\u001b[1m1/1\u001b[0m \u001b[32m━━━━━━━━━━━━━━━━━━━━\u001b[0m\u001b[37m\u001b[0m \u001b[1m0s\u001b[0m 20ms/step\n"
          ]
        },
        {
          "output_type": "stream",
          "name": "stderr",
          "text": [
            "\r 55%|█████▍    | 277/506 [02:44<01:55,  1.98it/s]"
          ]
        },
        {
          "output_type": "stream",
          "name": "stdout",
          "text": [
            "\u001b[1m1/1\u001b[0m \u001b[32m━━━━━━━━━━━━━━━━━━━━\u001b[0m\u001b[37m\u001b[0m \u001b[1m0s\u001b[0m 20ms/step\n"
          ]
        },
        {
          "output_type": "stream",
          "name": "stderr",
          "text": [
            "\r 55%|█████▍    | 278/506 [02:44<01:56,  1.96it/s]"
          ]
        },
        {
          "output_type": "stream",
          "name": "stdout",
          "text": [
            "\u001b[1m1/1\u001b[0m \u001b[32m━━━━━━━━━━━━━━━━━━━━\u001b[0m\u001b[37m\u001b[0m \u001b[1m0s\u001b[0m 19ms/step\n"
          ]
        },
        {
          "output_type": "stream",
          "name": "stderr",
          "text": [
            "\r 55%|█████▌    | 279/506 [02:45<01:56,  1.94it/s]"
          ]
        },
        {
          "output_type": "stream",
          "name": "stdout",
          "text": [
            "\u001b[1m1/1\u001b[0m \u001b[32m━━━━━━━━━━━━━━━━━━━━\u001b[0m\u001b[37m\u001b[0m \u001b[1m0s\u001b[0m 19ms/step\n"
          ]
        },
        {
          "output_type": "stream",
          "name": "stderr",
          "text": [
            "\r 55%|█████▌    | 280/506 [02:45<01:53,  1.98it/s]"
          ]
        },
        {
          "output_type": "stream",
          "name": "stdout",
          "text": [
            "\u001b[1m1/1\u001b[0m \u001b[32m━━━━━━━━━━━━━━━━━━━━\u001b[0m\u001b[37m\u001b[0m \u001b[1m0s\u001b[0m 22ms/step\n"
          ]
        },
        {
          "output_type": "stream",
          "name": "stderr",
          "text": [
            "\r 56%|█████▌    | 281/506 [02:46<01:52,  2.00it/s]"
          ]
        },
        {
          "output_type": "stream",
          "name": "stdout",
          "text": [
            "\u001b[1m1/1\u001b[0m \u001b[32m━━━━━━━━━━━━━━━━━━━━\u001b[0m\u001b[37m\u001b[0m \u001b[1m0s\u001b[0m 19ms/step\n"
          ]
        },
        {
          "output_type": "stream",
          "name": "stderr",
          "text": [
            "\r 56%|█████▌    | 282/506 [02:46<01:53,  1.97it/s]"
          ]
        },
        {
          "output_type": "stream",
          "name": "stdout",
          "text": [
            "\u001b[1m1/1\u001b[0m \u001b[32m━━━━━━━━━━━━━━━━━━━━\u001b[0m\u001b[37m\u001b[0m \u001b[1m0s\u001b[0m 19ms/step\n"
          ]
        },
        {
          "output_type": "stream",
          "name": "stderr",
          "text": [
            "\r 56%|█████▌    | 283/506 [02:47<01:55,  1.93it/s]"
          ]
        },
        {
          "output_type": "stream",
          "name": "stdout",
          "text": [
            "\u001b[1m1/1\u001b[0m \u001b[32m━━━━━━━━━━━━━━━━━━━━\u001b[0m\u001b[37m\u001b[0m \u001b[1m0s\u001b[0m 22ms/step\n"
          ]
        },
        {
          "output_type": "stream",
          "name": "stderr",
          "text": [
            "\r 56%|█████▌    | 284/506 [02:47<01:54,  1.94it/s]"
          ]
        },
        {
          "output_type": "stream",
          "name": "stdout",
          "text": [
            "\u001b[1m1/1\u001b[0m \u001b[32m━━━━━━━━━━━━━━━━━━━━\u001b[0m\u001b[37m\u001b[0m \u001b[1m0s\u001b[0m 28ms/step\n"
          ]
        },
        {
          "output_type": "stream",
          "name": "stderr",
          "text": [
            "\r 56%|█████▋    | 285/506 [02:48<01:52,  1.96it/s]"
          ]
        },
        {
          "output_type": "stream",
          "name": "stdout",
          "text": [
            "\u001b[1m1/1\u001b[0m \u001b[32m━━━━━━━━━━━━━━━━━━━━\u001b[0m\u001b[37m\u001b[0m \u001b[1m0s\u001b[0m 22ms/step\n"
          ]
        },
        {
          "output_type": "stream",
          "name": "stderr",
          "text": [
            "\r 57%|█████▋    | 286/506 [02:48<01:53,  1.94it/s]"
          ]
        },
        {
          "output_type": "stream",
          "name": "stdout",
          "text": [
            "\u001b[1m1/1\u001b[0m \u001b[32m━━━━━━━━━━━━━━━━━━━━\u001b[0m\u001b[37m\u001b[0m \u001b[1m0s\u001b[0m 22ms/step\n"
          ]
        },
        {
          "output_type": "stream",
          "name": "stderr",
          "text": [
            "\r 57%|█████▋    | 287/506 [02:49<01:50,  1.97it/s]"
          ]
        },
        {
          "output_type": "stream",
          "name": "stdout",
          "text": [
            "\u001b[1m1/1\u001b[0m \u001b[32m━━━━━━━━━━━━━━━━━━━━\u001b[0m\u001b[37m\u001b[0m \u001b[1m0s\u001b[0m 22ms/step\n"
          ]
        },
        {
          "output_type": "stream",
          "name": "stderr",
          "text": [
            "\r 57%|█████▋    | 288/506 [02:50<01:52,  1.94it/s]"
          ]
        },
        {
          "output_type": "stream",
          "name": "stdout",
          "text": [
            "\u001b[1m1/1\u001b[0m \u001b[32m━━━━━━━━━━━━━━━━━━━━\u001b[0m\u001b[37m\u001b[0m \u001b[1m0s\u001b[0m 21ms/step\n"
          ]
        },
        {
          "output_type": "stream",
          "name": "stderr",
          "text": [
            "\r 57%|█████▋    | 289/506 [02:50<02:06,  1.72it/s]"
          ]
        },
        {
          "output_type": "stream",
          "name": "stdout",
          "text": [
            "\u001b[1m1/1\u001b[0m \u001b[32m━━━━━━━━━━━━━━━━━━━━\u001b[0m\u001b[37m\u001b[0m \u001b[1m0s\u001b[0m 31ms/step\n"
          ]
        },
        {
          "output_type": "stream",
          "name": "stderr",
          "text": [
            "\r 57%|█████▋    | 290/506 [02:51<02:17,  1.58it/s]"
          ]
        },
        {
          "output_type": "stream",
          "name": "stdout",
          "text": [
            "\u001b[1m1/1\u001b[0m \u001b[32m━━━━━━━━━━━━━━━━━━━━\u001b[0m\u001b[37m\u001b[0m \u001b[1m0s\u001b[0m 27ms/step\n"
          ]
        },
        {
          "output_type": "stream",
          "name": "stderr",
          "text": [
            "\r 58%|█████▊    | 291/506 [02:52<02:25,  1.48it/s]"
          ]
        },
        {
          "output_type": "stream",
          "name": "stdout",
          "text": [
            "\u001b[1m1/1\u001b[0m \u001b[32m━━━━━━━━━━━━━━━━━━━━\u001b[0m\u001b[37m\u001b[0m \u001b[1m0s\u001b[0m 36ms/step\n"
          ]
        },
        {
          "output_type": "stream",
          "name": "stderr",
          "text": [
            "\r 58%|█████▊    | 292/506 [02:53<02:30,  1.43it/s]"
          ]
        },
        {
          "output_type": "stream",
          "name": "stdout",
          "text": [
            "\u001b[1m1/1\u001b[0m \u001b[32m━━━━━━━━━━━━━━━━━━━━\u001b[0m\u001b[37m\u001b[0m \u001b[1m0s\u001b[0m 27ms/step\n"
          ]
        },
        {
          "output_type": "stream",
          "name": "stderr",
          "text": [
            "\r 58%|█████▊    | 293/506 [02:53<02:36,  1.36it/s]"
          ]
        },
        {
          "output_type": "stream",
          "name": "stdout",
          "text": [
            "\u001b[1m1/1\u001b[0m \u001b[32m━━━━━━━━━━━━━━━━━━━━\u001b[0m\u001b[37m\u001b[0m \u001b[1m0s\u001b[0m 29ms/step\n"
          ]
        },
        {
          "output_type": "stream",
          "name": "stderr",
          "text": [
            "\r 58%|█████▊    | 294/506 [02:54<02:26,  1.45it/s]"
          ]
        },
        {
          "output_type": "stream",
          "name": "stdout",
          "text": [
            "\u001b[1m1/1\u001b[0m \u001b[32m━━━━━━━━━━━━━━━━━━━━\u001b[0m\u001b[37m\u001b[0m \u001b[1m0s\u001b[0m 19ms/step\n"
          ]
        },
        {
          "output_type": "stream",
          "name": "stderr",
          "text": [
            "\r 58%|█████▊    | 295/506 [02:54<02:12,  1.59it/s]"
          ]
        },
        {
          "output_type": "stream",
          "name": "stdout",
          "text": [
            "\u001b[1m1/1\u001b[0m \u001b[32m━━━━━━━━━━━━━━━━━━━━\u001b[0m\u001b[37m\u001b[0m \u001b[1m0s\u001b[0m 20ms/step\n"
          ]
        },
        {
          "output_type": "stream",
          "name": "stderr",
          "text": [
            "\r 58%|█████▊    | 296/506 [02:55<02:02,  1.72it/s]"
          ]
        },
        {
          "output_type": "stream",
          "name": "stdout",
          "text": [
            "\u001b[1m1/1\u001b[0m \u001b[32m━━━━━━━━━━━━━━━━━━━━\u001b[0m\u001b[37m\u001b[0m \u001b[1m0s\u001b[0m 20ms/step\n"
          ]
        },
        {
          "output_type": "stream",
          "name": "stderr",
          "text": [
            "\r 59%|█████▊    | 297/506 [02:55<01:54,  1.82it/s]"
          ]
        },
        {
          "output_type": "stream",
          "name": "stdout",
          "text": [
            "\u001b[1m1/1\u001b[0m \u001b[32m━━━━━━━━━━━━━━━━━━━━\u001b[0m\u001b[37m\u001b[0m \u001b[1m0s\u001b[0m 20ms/step\n"
          ]
        },
        {
          "output_type": "stream",
          "name": "stderr",
          "text": [
            "\r 59%|█████▉    | 298/506 [02:56<01:51,  1.87it/s]"
          ]
        },
        {
          "output_type": "stream",
          "name": "stdout",
          "text": [
            "\u001b[1m1/1\u001b[0m \u001b[32m━━━━━━━━━━━━━━━━━━━━\u001b[0m\u001b[37m\u001b[0m \u001b[1m0s\u001b[0m 20ms/step\n"
          ]
        },
        {
          "output_type": "stream",
          "name": "stderr",
          "text": [
            "\r 59%|█████▉    | 299/506 [02:56<01:49,  1.88it/s]"
          ]
        },
        {
          "output_type": "stream",
          "name": "stdout",
          "text": [
            "\u001b[1m1/1\u001b[0m \u001b[32m━━━━━━━━━━━━━━━━━━━━\u001b[0m\u001b[37m\u001b[0m \u001b[1m0s\u001b[0m 21ms/step\n"
          ]
        },
        {
          "output_type": "stream",
          "name": "stderr",
          "text": [
            "\r 59%|█████▉    | 300/506 [02:57<01:46,  1.94it/s]"
          ]
        },
        {
          "output_type": "stream",
          "name": "stdout",
          "text": [
            "\u001b[1m1/1\u001b[0m \u001b[32m━━━━━━━━━━━━━━━━━━━━\u001b[0m\u001b[37m\u001b[0m \u001b[1m0s\u001b[0m 19ms/step\n"
          ]
        },
        {
          "output_type": "stream",
          "name": "stderr",
          "text": [
            "\r 59%|█████▉    | 301/506 [02:57<01:43,  1.98it/s]"
          ]
        },
        {
          "output_type": "stream",
          "name": "stdout",
          "text": [
            "\u001b[1m1/1\u001b[0m \u001b[32m━━━━━━━━━━━━━━━━━━━━\u001b[0m\u001b[37m\u001b[0m \u001b[1m0s\u001b[0m 20ms/step\n"
          ]
        },
        {
          "output_type": "stream",
          "name": "stderr",
          "text": [
            "\r 60%|█████▉    | 302/506 [02:58<01:41,  2.00it/s]"
          ]
        },
        {
          "output_type": "stream",
          "name": "stdout",
          "text": [
            "\u001b[1m1/1\u001b[0m \u001b[32m━━━━━━━━━━━━━━━━━━━━\u001b[0m\u001b[37m\u001b[0m \u001b[1m0s\u001b[0m 19ms/step\n"
          ]
        },
        {
          "output_type": "stream",
          "name": "stderr",
          "text": [
            "\r 60%|█████▉    | 303/506 [02:58<01:40,  2.03it/s]"
          ]
        },
        {
          "output_type": "stream",
          "name": "stdout",
          "text": [
            "\u001b[1m1/1\u001b[0m \u001b[32m━━━━━━━━━━━━━━━━━━━━\u001b[0m\u001b[37m\u001b[0m \u001b[1m0s\u001b[0m 19ms/step\n"
          ]
        },
        {
          "output_type": "stream",
          "name": "stderr",
          "text": [
            "\r 60%|██████    | 304/506 [02:59<01:41,  1.99it/s]"
          ]
        },
        {
          "output_type": "stream",
          "name": "stdout",
          "text": [
            "\u001b[1m1/1\u001b[0m \u001b[32m━━━━━━━━━━━━━━━━━━━━\u001b[0m\u001b[37m\u001b[0m \u001b[1m0s\u001b[0m 19ms/step\n"
          ]
        },
        {
          "output_type": "stream",
          "name": "stderr",
          "text": [
            "\r 60%|██████    | 305/506 [02:59<01:41,  1.98it/s]"
          ]
        },
        {
          "output_type": "stream",
          "name": "stdout",
          "text": [
            "\u001b[1m1/1\u001b[0m \u001b[32m━━━━━━━━━━━━━━━━━━━━\u001b[0m\u001b[37m\u001b[0m \u001b[1m0s\u001b[0m 20ms/step\n"
          ]
        },
        {
          "output_type": "stream",
          "name": "stderr",
          "text": [
            "\r 60%|██████    | 306/506 [03:00<01:39,  2.01it/s]"
          ]
        },
        {
          "output_type": "stream",
          "name": "stdout",
          "text": [
            "\u001b[1m1/1\u001b[0m \u001b[32m━━━━━━━━━━━━━━━━━━━━\u001b[0m\u001b[37m\u001b[0m \u001b[1m0s\u001b[0m 19ms/step\n"
          ]
        },
        {
          "output_type": "stream",
          "name": "stderr",
          "text": [
            "\r 61%|██████    | 307/506 [03:00<01:38,  2.02it/s]"
          ]
        },
        {
          "output_type": "stream",
          "name": "stdout",
          "text": [
            "\u001b[1m1/1\u001b[0m \u001b[32m━━━━━━━━━━━━━━━━━━━━\u001b[0m\u001b[37m\u001b[0m \u001b[1m0s\u001b[0m 20ms/step\n"
          ]
        },
        {
          "output_type": "stream",
          "name": "stderr",
          "text": [
            "\r 61%|██████    | 308/506 [03:01<01:36,  2.05it/s]"
          ]
        },
        {
          "output_type": "stream",
          "name": "stdout",
          "text": [
            "\u001b[1m1/1\u001b[0m \u001b[32m━━━━━━━━━━━━━━━━━━━━\u001b[0m\u001b[37m\u001b[0m \u001b[1m0s\u001b[0m 20ms/step\n"
          ]
        },
        {
          "output_type": "stream",
          "name": "stderr",
          "text": [
            "\r 61%|██████    | 309/506 [03:01<01:39,  1.99it/s]"
          ]
        },
        {
          "output_type": "stream",
          "name": "stdout",
          "text": [
            "\u001b[1m1/1\u001b[0m \u001b[32m━━━━━━━━━━━━━━━━━━━━\u001b[0m\u001b[37m\u001b[0m \u001b[1m0s\u001b[0m 20ms/step\n"
          ]
        },
        {
          "output_type": "stream",
          "name": "stderr",
          "text": [
            "\r 61%|██████▏   | 310/506 [03:02<01:36,  2.03it/s]"
          ]
        },
        {
          "output_type": "stream",
          "name": "stdout",
          "text": [
            "\u001b[1m1/1\u001b[0m \u001b[32m━━━━━━━━━━━━━━━━━━━━\u001b[0m\u001b[37m\u001b[0m \u001b[1m0s\u001b[0m 20ms/step\n"
          ]
        },
        {
          "output_type": "stream",
          "name": "stderr",
          "text": [
            "\r 61%|██████▏   | 311/506 [03:02<01:38,  1.97it/s]"
          ]
        },
        {
          "output_type": "stream",
          "name": "stdout",
          "text": [
            "\u001b[1m1/1\u001b[0m \u001b[32m━━━━━━━━━━━━━━━━━━━━\u001b[0m\u001b[37m\u001b[0m \u001b[1m0s\u001b[0m 20ms/step\n"
          ]
        },
        {
          "output_type": "stream",
          "name": "stderr",
          "text": [
            "\r 62%|██████▏   | 312/506 [03:03<01:36,  2.02it/s]"
          ]
        },
        {
          "output_type": "stream",
          "name": "stdout",
          "text": [
            "\u001b[1m1/1\u001b[0m \u001b[32m━━━━━━━━━━━━━━━━━━━━\u001b[0m\u001b[37m\u001b[0m \u001b[1m0s\u001b[0m 19ms/step\n"
          ]
        },
        {
          "output_type": "stream",
          "name": "stderr",
          "text": [
            "\r 62%|██████▏   | 313/506 [03:03<01:37,  1.97it/s]"
          ]
        },
        {
          "output_type": "stream",
          "name": "stdout",
          "text": [
            "\u001b[1m1/1\u001b[0m \u001b[32m━━━━━━━━━━━━━━━━━━━━\u001b[0m\u001b[37m\u001b[0m \u001b[1m0s\u001b[0m 20ms/step\n"
          ]
        },
        {
          "output_type": "stream",
          "name": "stderr",
          "text": [
            "\r 62%|██████▏   | 314/506 [03:04<01:42,  1.87it/s]"
          ]
        },
        {
          "output_type": "stream",
          "name": "stdout",
          "text": [
            "\u001b[1m1/1\u001b[0m \u001b[32m━━━━━━━━━━━━━━━━━━━━\u001b[0m\u001b[37m\u001b[0m \u001b[1m0s\u001b[0m 27ms/step\n"
          ]
        },
        {
          "output_type": "stream",
          "name": "stderr",
          "text": [
            "\r 62%|██████▏   | 315/506 [03:05<01:52,  1.70it/s]"
          ]
        },
        {
          "output_type": "stream",
          "name": "stdout",
          "text": [
            "\u001b[1m1/1\u001b[0m \u001b[32m━━━━━━━━━━━━━━━━━━━━\u001b[0m\u001b[37m\u001b[0m \u001b[1m0s\u001b[0m 29ms/step\n"
          ]
        },
        {
          "output_type": "stream",
          "name": "stderr",
          "text": [
            "\r 62%|██████▏   | 316/506 [03:05<02:01,  1.56it/s]"
          ]
        },
        {
          "output_type": "stream",
          "name": "stdout",
          "text": [
            "\u001b[1m1/1\u001b[0m \u001b[32m━━━━━━━━━━━━━━━━━━━━\u001b[0m\u001b[37m\u001b[0m \u001b[1m0s\u001b[0m 27ms/step\n"
          ]
        },
        {
          "output_type": "stream",
          "name": "stderr",
          "text": [
            "\r 63%|██████▎   | 317/506 [03:06<02:05,  1.50it/s]"
          ]
        },
        {
          "output_type": "stream",
          "name": "stdout",
          "text": [
            "\u001b[1m1/1\u001b[0m \u001b[32m━━━━━━━━━━━━━━━━━━━━\u001b[0m\u001b[37m\u001b[0m \u001b[1m0s\u001b[0m 30ms/step\n"
          ]
        },
        {
          "output_type": "stream",
          "name": "stderr",
          "text": [
            "\r 63%|██████▎   | 318/506 [03:07<02:10,  1.44it/s]"
          ]
        },
        {
          "output_type": "stream",
          "name": "stdout",
          "text": [
            "\u001b[1m1/1\u001b[0m \u001b[32m━━━━━━━━━━━━━━━━━━━━\u001b[0m\u001b[37m\u001b[0m \u001b[1m0s\u001b[0m 31ms/step\n"
          ]
        },
        {
          "output_type": "stream",
          "name": "stderr",
          "text": [
            "\r 63%|██████▎   | 319/506 [03:08<02:12,  1.41it/s]"
          ]
        },
        {
          "output_type": "stream",
          "name": "stdout",
          "text": [
            "\u001b[1m1/1\u001b[0m \u001b[32m━━━━━━━━━━━━━━━━━━━━\u001b[0m\u001b[37m\u001b[0m \u001b[1m0s\u001b[0m 21ms/step\n"
          ]
        },
        {
          "output_type": "stream",
          "name": "stderr",
          "text": [
            "\r 63%|██████▎   | 320/506 [03:08<01:58,  1.57it/s]"
          ]
        },
        {
          "output_type": "stream",
          "name": "stdout",
          "text": [
            "\u001b[1m1/1\u001b[0m \u001b[32m━━━━━━━━━━━━━━━━━━━━\u001b[0m\u001b[37m\u001b[0m \u001b[1m0s\u001b[0m 20ms/step\n"
          ]
        },
        {
          "output_type": "stream",
          "name": "stderr",
          "text": [
            "\r 63%|██████▎   | 321/506 [03:09<01:51,  1.65it/s]"
          ]
        },
        {
          "output_type": "stream",
          "name": "stdout",
          "text": [
            "\u001b[1m1/1\u001b[0m \u001b[32m━━━━━━━━━━━━━━━━━━━━\u001b[0m\u001b[37m\u001b[0m \u001b[1m0s\u001b[0m 27ms/step\n"
          ]
        },
        {
          "output_type": "stream",
          "name": "stderr",
          "text": [
            "\r 64%|██████▎   | 322/506 [03:09<01:45,  1.75it/s]"
          ]
        },
        {
          "output_type": "stream",
          "name": "stdout",
          "text": [
            "\u001b[1m1/1\u001b[0m \u001b[32m━━━━━━━━━━━━━━━━━━━━\u001b[0m\u001b[37m\u001b[0m \u001b[1m0s\u001b[0m 20ms/step\n"
          ]
        },
        {
          "output_type": "stream",
          "name": "stderr",
          "text": [
            "\r 64%|██████▍   | 323/506 [03:10<01:39,  1.84it/s]"
          ]
        },
        {
          "output_type": "stream",
          "name": "stdout",
          "text": [
            "\u001b[1m1/1\u001b[0m \u001b[32m━━━━━━━━━━━━━━━━━━━━\u001b[0m\u001b[37m\u001b[0m \u001b[1m0s\u001b[0m 20ms/step\n"
          ]
        },
        {
          "output_type": "stream",
          "name": "stderr",
          "text": [
            "\r 64%|██████▍   | 324/506 [03:10<01:38,  1.86it/s]"
          ]
        },
        {
          "output_type": "stream",
          "name": "stdout",
          "text": [
            "\u001b[1m1/1\u001b[0m \u001b[32m━━━━━━━━━━━━━━━━━━━━\u001b[0m\u001b[37m\u001b[0m \u001b[1m0s\u001b[0m 20ms/step\n"
          ]
        },
        {
          "output_type": "stream",
          "name": "stderr",
          "text": [
            "\r 64%|██████▍   | 325/506 [03:11<01:33,  1.93it/s]"
          ]
        },
        {
          "output_type": "stream",
          "name": "stdout",
          "text": [
            "\u001b[1m1/1\u001b[0m \u001b[32m━━━━━━━━━━━━━━━━━━━━\u001b[0m\u001b[37m\u001b[0m \u001b[1m0s\u001b[0m 19ms/step\n"
          ]
        },
        {
          "output_type": "stream",
          "name": "stderr",
          "text": [
            "\r 64%|██████▍   | 326/506 [03:11<01:30,  1.98it/s]"
          ]
        },
        {
          "output_type": "stream",
          "name": "stdout",
          "text": [
            "\u001b[1m1/1\u001b[0m \u001b[32m━━━━━━━━━━━━━━━━━━━━\u001b[0m\u001b[37m\u001b[0m \u001b[1m0s\u001b[0m 20ms/step\n"
          ]
        },
        {
          "output_type": "stream",
          "name": "stderr",
          "text": [
            "\r 65%|██████▍   | 327/506 [03:12<01:28,  2.01it/s]"
          ]
        },
        {
          "output_type": "stream",
          "name": "stdout",
          "text": [
            "\u001b[1m1/1\u001b[0m \u001b[32m━━━━━━━━━━━━━━━━━━━━\u001b[0m\u001b[37m\u001b[0m \u001b[1m0s\u001b[0m 19ms/step\n"
          ]
        },
        {
          "output_type": "stream",
          "name": "stderr",
          "text": [
            "\r 65%|██████▍   | 328/506 [03:12<01:27,  2.04it/s]"
          ]
        },
        {
          "output_type": "stream",
          "name": "stdout",
          "text": [
            "\u001b[1m1/1\u001b[0m \u001b[32m━━━━━━━━━━━━━━━━━━━━\u001b[0m\u001b[37m\u001b[0m \u001b[1m0s\u001b[0m 20ms/step\n"
          ]
        },
        {
          "output_type": "stream",
          "name": "stderr",
          "text": [
            "\r 65%|██████▌   | 329/506 [03:13<01:27,  2.02it/s]"
          ]
        },
        {
          "output_type": "stream",
          "name": "stdout",
          "text": [
            "\u001b[1m1/1\u001b[0m \u001b[32m━━━━━━━━━━━━━━━━━━━━\u001b[0m\u001b[37m\u001b[0m \u001b[1m0s\u001b[0m 20ms/step\n"
          ]
        },
        {
          "output_type": "stream",
          "name": "stderr",
          "text": [
            "\r 65%|██████▌   | 330/506 [03:13<01:28,  2.00it/s]"
          ]
        },
        {
          "output_type": "stream",
          "name": "stdout",
          "text": [
            "\u001b[1m1/1\u001b[0m \u001b[32m━━━━━━━━━━━━━━━━━━━━\u001b[0m\u001b[37m\u001b[0m \u001b[1m0s\u001b[0m 19ms/step\n"
          ]
        },
        {
          "output_type": "stream",
          "name": "stderr",
          "text": [
            "\r 65%|██████▌   | 331/506 [03:14<01:25,  2.04it/s]"
          ]
        },
        {
          "output_type": "stream",
          "name": "stdout",
          "text": [
            "\u001b[1m1/1\u001b[0m \u001b[32m━━━━━━━━━━━━━━━━━━━━\u001b[0m\u001b[37m\u001b[0m \u001b[1m0s\u001b[0m 23ms/step\n"
          ]
        },
        {
          "output_type": "stream",
          "name": "stderr",
          "text": [
            "\r 66%|██████▌   | 332/506 [03:14<01:24,  2.05it/s]"
          ]
        },
        {
          "output_type": "stream",
          "name": "stdout",
          "text": [
            "\u001b[1m1/1\u001b[0m \u001b[32m━━━━━━━━━━━━━━━━━━━━\u001b[0m\u001b[37m\u001b[0m \u001b[1m0s\u001b[0m 21ms/step\n"
          ]
        },
        {
          "output_type": "stream",
          "name": "stderr",
          "text": [
            "\r 66%|██████▌   | 333/506 [03:14<01:23,  2.07it/s]"
          ]
        },
        {
          "output_type": "stream",
          "name": "stdout",
          "text": [
            "\u001b[1m1/1\u001b[0m \u001b[32m━━━━━━━━━━━━━━━━━━━━\u001b[0m\u001b[37m\u001b[0m \u001b[1m0s\u001b[0m 19ms/step\n"
          ]
        },
        {
          "output_type": "stream",
          "name": "stderr",
          "text": [
            "\r 66%|██████▌   | 334/506 [03:15<01:22,  2.09it/s]"
          ]
        },
        {
          "output_type": "stream",
          "name": "stdout",
          "text": [
            "\u001b[1m1/1\u001b[0m \u001b[32m━━━━━━━━━━━━━━━━━━━━\u001b[0m\u001b[37m\u001b[0m \u001b[1m0s\u001b[0m 20ms/step\n"
          ]
        },
        {
          "output_type": "stream",
          "name": "stderr",
          "text": [
            "\r 66%|██████▌   | 335/506 [03:15<01:25,  2.01it/s]"
          ]
        },
        {
          "output_type": "stream",
          "name": "stdout",
          "text": [
            "\u001b[1m1/1\u001b[0m \u001b[32m━━━━━━━━━━━━━━━━━━━━\u001b[0m\u001b[37m\u001b[0m \u001b[1m0s\u001b[0m 20ms/step\n"
          ]
        },
        {
          "output_type": "stream",
          "name": "stderr",
          "text": [
            "\r 66%|██████▋   | 336/506 [03:16<01:25,  1.99it/s]"
          ]
        },
        {
          "output_type": "stream",
          "name": "stdout",
          "text": [
            "\u001b[1m1/1\u001b[0m \u001b[32m━━━━━━━━━━━━━━━━━━━━\u001b[0m\u001b[37m\u001b[0m \u001b[1m0s\u001b[0m 21ms/step\n"
          ]
        },
        {
          "output_type": "stream",
          "name": "stderr",
          "text": [
            "\r 67%|██████▋   | 337/506 [03:16<01:24,  2.01it/s]"
          ]
        },
        {
          "output_type": "stream",
          "name": "stdout",
          "text": [
            "\u001b[1m1/1\u001b[0m \u001b[32m━━━━━━━━━━━━━━━━━━━━\u001b[0m\u001b[37m\u001b[0m \u001b[1m0s\u001b[0m 22ms/step\n"
          ]
        },
        {
          "output_type": "stream",
          "name": "stderr",
          "text": [
            "\r 67%|██████▋   | 338/506 [03:17<01:26,  1.94it/s]"
          ]
        },
        {
          "output_type": "stream",
          "name": "stdout",
          "text": [
            "\u001b[1m1/1\u001b[0m \u001b[32m━━━━━━━━━━━━━━━━━━━━\u001b[0m\u001b[37m\u001b[0m \u001b[1m0s\u001b[0m 22ms/step\n"
          ]
        },
        {
          "output_type": "stream",
          "name": "stderr",
          "text": [
            "\r 67%|██████▋   | 339/506 [03:18<01:24,  1.97it/s]"
          ]
        },
        {
          "output_type": "stream",
          "name": "stdout",
          "text": [
            "\u001b[1m1/1\u001b[0m \u001b[32m━━━━━━━━━━━━━━━━━━━━\u001b[0m\u001b[37m\u001b[0m \u001b[1m0s\u001b[0m 29ms/step\n"
          ]
        },
        {
          "output_type": "stream",
          "name": "stderr",
          "text": [
            "\r 67%|██████▋   | 340/506 [03:18<01:34,  1.76it/s]"
          ]
        },
        {
          "output_type": "stream",
          "name": "stdout",
          "text": [
            "\u001b[1m1/1\u001b[0m \u001b[32m━━━━━━━━━━━━━━━━━━━━\u001b[0m\u001b[37m\u001b[0m \u001b[1m0s\u001b[0m 29ms/step\n"
          ]
        },
        {
          "output_type": "stream",
          "name": "stderr",
          "text": [
            "\r 67%|██████▋   | 341/506 [03:19<01:41,  1.63it/s]"
          ]
        },
        {
          "output_type": "stream",
          "name": "stdout",
          "text": [
            "\u001b[1m1/1\u001b[0m \u001b[32m━━━━━━━━━━━━━━━━━━━━\u001b[0m\u001b[37m\u001b[0m \u001b[1m0s\u001b[0m 26ms/step\n"
          ]
        },
        {
          "output_type": "stream",
          "name": "stderr",
          "text": [
            "\r 68%|██████▊   | 342/506 [03:20<01:47,  1.53it/s]"
          ]
        },
        {
          "output_type": "stream",
          "name": "stdout",
          "text": [
            "\u001b[1m1/1\u001b[0m \u001b[32m━━━━━━━━━━━━━━━━━━━━\u001b[0m\u001b[37m\u001b[0m \u001b[1m0s\u001b[0m 25ms/step\n"
          ]
        },
        {
          "output_type": "stream",
          "name": "stderr",
          "text": [
            "\r 68%|██████▊   | 343/506 [03:20<01:51,  1.46it/s]"
          ]
        },
        {
          "output_type": "stream",
          "name": "stdout",
          "text": [
            "\u001b[1m1/1\u001b[0m \u001b[32m━━━━━━━━━━━━━━━━━━━━\u001b[0m\u001b[37m\u001b[0m \u001b[1m0s\u001b[0m 34ms/step\n"
          ]
        },
        {
          "output_type": "stream",
          "name": "stderr",
          "text": [
            "\r 68%|██████▊   | 344/506 [03:21<01:57,  1.38it/s]"
          ]
        },
        {
          "output_type": "stream",
          "name": "stdout",
          "text": [
            "\u001b[1m1/1\u001b[0m \u001b[32m━━━━━━━━━━━━━━━━━━━━\u001b[0m\u001b[37m\u001b[0m \u001b[1m0s\u001b[0m 31ms/step\n"
          ]
        },
        {
          "output_type": "stream",
          "name": "stderr",
          "text": [
            "\r 68%|██████▊   | 345/506 [03:22<01:51,  1.44it/s]"
          ]
        },
        {
          "output_type": "stream",
          "name": "stdout",
          "text": [
            "\u001b[1m1/1\u001b[0m \u001b[32m━━━━━━━━━━━━━━━━━━━━\u001b[0m\u001b[37m\u001b[0m \u001b[1m0s\u001b[0m 21ms/step\n"
          ]
        },
        {
          "output_type": "stream",
          "name": "stderr",
          "text": [
            "\r 68%|██████▊   | 346/506 [03:22<01:41,  1.58it/s]"
          ]
        },
        {
          "output_type": "stream",
          "name": "stdout",
          "text": [
            "\u001b[1m1/1\u001b[0m \u001b[32m━━━━━━━━━━━━━━━━━━━━\u001b[0m\u001b[37m\u001b[0m \u001b[1m0s\u001b[0m 22ms/step\n"
          ]
        },
        {
          "output_type": "stream",
          "name": "stderr",
          "text": [
            "\r 69%|██████▊   | 347/506 [03:23<01:33,  1.70it/s]"
          ]
        },
        {
          "output_type": "stream",
          "name": "stdout",
          "text": [
            "\u001b[1m1/1\u001b[0m \u001b[32m━━━━━━━━━━━━━━━━━━━━\u001b[0m\u001b[37m\u001b[0m \u001b[1m0s\u001b[0m 20ms/step\n"
          ]
        },
        {
          "output_type": "stream",
          "name": "stderr",
          "text": [
            "\r 69%|██████▉   | 348/506 [03:23<01:31,  1.73it/s]"
          ]
        },
        {
          "output_type": "stream",
          "name": "stdout",
          "text": [
            "\u001b[1m1/1\u001b[0m \u001b[32m━━━━━━━━━━━━━━━━━━━━\u001b[0m\u001b[37m\u001b[0m \u001b[1m0s\u001b[0m 20ms/step\n"
          ]
        },
        {
          "output_type": "stream",
          "name": "stderr",
          "text": [
            "\r 69%|██████▉   | 349/506 [03:24<01:29,  1.75it/s]"
          ]
        },
        {
          "output_type": "stream",
          "name": "stdout",
          "text": [
            "\u001b[1m1/1\u001b[0m \u001b[32m━━━━━━━━━━━━━━━━━━━━\u001b[0m\u001b[37m\u001b[0m \u001b[1m0s\u001b[0m 20ms/step\n"
          ]
        },
        {
          "output_type": "stream",
          "name": "stderr",
          "text": [
            "\r 69%|██████▉   | 350/506 [03:25<01:26,  1.81it/s]"
          ]
        },
        {
          "output_type": "stream",
          "name": "stdout",
          "text": [
            "\u001b[1m1/1\u001b[0m \u001b[32m━━━━━━━━━━━━━━━━━━━━\u001b[0m\u001b[37m\u001b[0m \u001b[1m0s\u001b[0m 20ms/step\n"
          ]
        },
        {
          "output_type": "stream",
          "name": "stderr",
          "text": [
            "\r 69%|██████▉   | 351/506 [03:25<01:24,  1.84it/s]"
          ]
        },
        {
          "output_type": "stream",
          "name": "stdout",
          "text": [
            "\u001b[1m1/1\u001b[0m \u001b[32m━━━━━━━━━━━━━━━━━━━━\u001b[0m\u001b[37m\u001b[0m \u001b[1m0s\u001b[0m 20ms/step\n"
          ]
        },
        {
          "output_type": "stream",
          "name": "stderr",
          "text": [
            "\r 70%|██████▉   | 352/506 [03:26<01:23,  1.84it/s]"
          ]
        },
        {
          "output_type": "stream",
          "name": "stdout",
          "text": [
            "\u001b[1m1/1\u001b[0m \u001b[32m━━━━━━━━━━━━━━━━━━━━\u001b[0m\u001b[37m\u001b[0m \u001b[1m0s\u001b[0m 19ms/step\n"
          ]
        },
        {
          "output_type": "stream",
          "name": "stderr",
          "text": [
            "\r 70%|██████▉   | 353/506 [03:26<01:24,  1.82it/s]"
          ]
        },
        {
          "output_type": "stream",
          "name": "stdout",
          "text": [
            "\u001b[1m1/1\u001b[0m \u001b[32m━━━━━━━━━━━━━━━━━━━━\u001b[0m\u001b[37m\u001b[0m \u001b[1m0s\u001b[0m 20ms/step\n"
          ]
        },
        {
          "output_type": "stream",
          "name": "stderr",
          "text": [
            "\r 70%|██████▉   | 354/506 [03:27<01:22,  1.83it/s]"
          ]
        },
        {
          "output_type": "stream",
          "name": "stdout",
          "text": [
            "\u001b[1m1/1\u001b[0m \u001b[32m━━━━━━━━━━━━━━━━━━━━\u001b[0m\u001b[37m\u001b[0m \u001b[1m0s\u001b[0m 21ms/step\n"
          ]
        },
        {
          "output_type": "stream",
          "name": "stderr",
          "text": [
            "\r 70%|███████   | 355/506 [03:27<01:20,  1.86it/s]"
          ]
        },
        {
          "output_type": "stream",
          "name": "stdout",
          "text": [
            "\u001b[1m1/1\u001b[0m \u001b[32m━━━━━━━━━━━━━━━━━━━━\u001b[0m\u001b[37m\u001b[0m \u001b[1m0s\u001b[0m 24ms/step\n"
          ]
        },
        {
          "output_type": "stream",
          "name": "stderr",
          "text": [
            "\r 70%|███████   | 356/506 [03:28<01:18,  1.92it/s]"
          ]
        },
        {
          "output_type": "stream",
          "name": "stdout",
          "text": [
            "\u001b[1m1/1\u001b[0m \u001b[32m━━━━━━━━━━━━━━━━━━━━\u001b[0m\u001b[37m\u001b[0m \u001b[1m0s\u001b[0m 21ms/step\n"
          ]
        },
        {
          "output_type": "stream",
          "name": "stderr",
          "text": [
            "\r 71%|███████   | 357/506 [03:28<01:18,  1.89it/s]"
          ]
        },
        {
          "output_type": "stream",
          "name": "stdout",
          "text": [
            "\u001b[1m1/1\u001b[0m \u001b[32m━━━━━━━━━━━━━━━━━━━━\u001b[0m\u001b[37m\u001b[0m \u001b[1m0s\u001b[0m 20ms/step\n"
          ]
        },
        {
          "output_type": "stream",
          "name": "stderr",
          "text": [
            "\r 71%|███████   | 358/506 [03:29<01:17,  1.92it/s]"
          ]
        },
        {
          "output_type": "stream",
          "name": "stdout",
          "text": [
            "\u001b[1m1/1\u001b[0m \u001b[32m━━━━━━━━━━━━━━━━━━━━\u001b[0m\u001b[37m\u001b[0m \u001b[1m0s\u001b[0m 20ms/step\n"
          ]
        },
        {
          "output_type": "stream",
          "name": "stderr",
          "text": [
            "\r 71%|███████   | 359/506 [03:29<01:17,  1.89it/s]"
          ]
        },
        {
          "output_type": "stream",
          "name": "stdout",
          "text": [
            "\u001b[1m1/1\u001b[0m \u001b[32m━━━━━━━━━━━━━━━━━━━━\u001b[0m\u001b[37m\u001b[0m \u001b[1m0s\u001b[0m 20ms/step\n"
          ]
        },
        {
          "output_type": "stream",
          "name": "stderr",
          "text": [
            "\r 71%|███████   | 360/506 [03:30<01:17,  1.89it/s]"
          ]
        },
        {
          "output_type": "stream",
          "name": "stdout",
          "text": [
            "\u001b[1m1/1\u001b[0m \u001b[32m━━━━━━━━━━━━━━━━━━━━\u001b[0m\u001b[37m\u001b[0m \u001b[1m0s\u001b[0m 22ms/step\n"
          ]
        },
        {
          "output_type": "stream",
          "name": "stderr",
          "text": [
            "\r 71%|███████▏  | 361/506 [03:30<01:15,  1.93it/s]"
          ]
        },
        {
          "output_type": "stream",
          "name": "stdout",
          "text": [
            "\u001b[1m1/1\u001b[0m \u001b[32m━━━━━━━━━━━━━━━━━━━━\u001b[0m\u001b[37m\u001b[0m \u001b[1m0s\u001b[0m 20ms/step\n"
          ]
        },
        {
          "output_type": "stream",
          "name": "stderr",
          "text": [
            "\r 72%|███████▏  | 362/506 [03:31<01:12,  1.99it/s]"
          ]
        },
        {
          "output_type": "stream",
          "name": "stdout",
          "text": [
            "\u001b[1m1/1\u001b[0m \u001b[32m━━━━━━━━━━━━━━━━━━━━\u001b[0m\u001b[37m\u001b[0m \u001b[1m0s\u001b[0m 21ms/step\n"
          ]
        },
        {
          "output_type": "stream",
          "name": "stderr",
          "text": [
            "\r 72%|███████▏  | 363/506 [03:31<01:13,  1.94it/s]"
          ]
        },
        {
          "output_type": "stream",
          "name": "stdout",
          "text": [
            "\u001b[1m1/1\u001b[0m \u001b[32m━━━━━━━━━━━━━━━━━━━━\u001b[0m\u001b[37m\u001b[0m \u001b[1m0s\u001b[0m 19ms/step\n"
          ]
        },
        {
          "output_type": "stream",
          "name": "stderr",
          "text": [
            "\r 72%|███████▏  | 364/506 [03:32<01:14,  1.91it/s]"
          ]
        },
        {
          "output_type": "stream",
          "name": "stdout",
          "text": [
            "\u001b[1m1/1\u001b[0m \u001b[32m━━━━━━━━━━━━━━━━━━━━\u001b[0m\u001b[37m\u001b[0m \u001b[1m0s\u001b[0m 28ms/step\n"
          ]
        },
        {
          "output_type": "stream",
          "name": "stderr",
          "text": [
            "\r 72%|███████▏  | 365/506 [03:33<01:24,  1.67it/s]"
          ]
        },
        {
          "output_type": "stream",
          "name": "stdout",
          "text": [
            "\u001b[1m1/1\u001b[0m \u001b[32m━━━━━━━━━━━━━━━━━━━━\u001b[0m\u001b[37m\u001b[0m \u001b[1m0s\u001b[0m 30ms/step\n"
          ]
        },
        {
          "output_type": "stream",
          "name": "stderr",
          "text": [
            "\r 72%|███████▏  | 366/506 [03:33<01:30,  1.54it/s]"
          ]
        },
        {
          "output_type": "stream",
          "name": "stdout",
          "text": [
            "\u001b[1m1/1\u001b[0m \u001b[32m━━━━━━━━━━━━━━━━━━━━\u001b[0m\u001b[37m\u001b[0m \u001b[1m0s\u001b[0m 28ms/step\n"
          ]
        },
        {
          "output_type": "stream",
          "name": "stderr",
          "text": [
            "\r 73%|███████▎  | 367/506 [03:34<01:33,  1.49it/s]"
          ]
        },
        {
          "output_type": "stream",
          "name": "stdout",
          "text": [
            "\u001b[1m1/1\u001b[0m \u001b[32m━━━━━━━━━━━━━━━━━━━━\u001b[0m\u001b[37m\u001b[0m \u001b[1m0s\u001b[0m 33ms/step\n"
          ]
        },
        {
          "output_type": "stream",
          "name": "stderr",
          "text": [
            "\r 73%|███████▎  | 368/506 [03:35<01:36,  1.43it/s]"
          ]
        },
        {
          "output_type": "stream",
          "name": "stdout",
          "text": [
            "\u001b[1m1/1\u001b[0m \u001b[32m━━━━━━━━━━━━━━━━━━━━\u001b[0m\u001b[37m\u001b[0m \u001b[1m0s\u001b[0m 30ms/step\n"
          ]
        },
        {
          "output_type": "stream",
          "name": "stderr",
          "text": [
            "\r 73%|███████▎  | 369/506 [03:36<01:39,  1.38it/s]"
          ]
        },
        {
          "output_type": "stream",
          "name": "stdout",
          "text": [
            "\u001b[1m1/1\u001b[0m \u001b[32m━━━━━━━━━━━━━━━━━━━━\u001b[0m\u001b[37m\u001b[0m \u001b[1m0s\u001b[0m 32ms/step\n"
          ]
        },
        {
          "output_type": "stream",
          "name": "stderr",
          "text": [
            "\r 73%|███████▎  | 370/506 [03:36<01:31,  1.48it/s]"
          ]
        },
        {
          "output_type": "stream",
          "name": "stdout",
          "text": [
            "\u001b[1m1/1\u001b[0m \u001b[32m━━━━━━━━━━━━━━━━━━━━\u001b[0m\u001b[37m\u001b[0m \u001b[1m0s\u001b[0m 20ms/step\n"
          ]
        },
        {
          "output_type": "stream",
          "name": "stderr",
          "text": [
            "\r 73%|███████▎  | 371/506 [03:37<01:24,  1.59it/s]"
          ]
        },
        {
          "output_type": "stream",
          "name": "stdout",
          "text": [
            "\u001b[1m1/1\u001b[0m \u001b[32m━━━━━━━━━━━━━━━━━━━━\u001b[0m\u001b[37m\u001b[0m \u001b[1m0s\u001b[0m 20ms/step\n"
          ]
        },
        {
          "output_type": "stream",
          "name": "stderr",
          "text": [
            "\r 74%|███████▎  | 372/506 [03:37<01:21,  1.65it/s]"
          ]
        },
        {
          "output_type": "stream",
          "name": "stdout",
          "text": [
            "\u001b[1m1/1\u001b[0m \u001b[32m━━━━━━━━━━━━━━━━━━━━\u001b[0m\u001b[37m\u001b[0m \u001b[1m0s\u001b[0m 20ms/step\n"
          ]
        },
        {
          "output_type": "stream",
          "name": "stderr",
          "text": [
            "\r 74%|███████▎  | 373/506 [03:38<01:17,  1.71it/s]"
          ]
        },
        {
          "output_type": "stream",
          "name": "stdout",
          "text": [
            "\u001b[1m1/1\u001b[0m \u001b[32m━━━━━━━━━━━━━━━━━━━━\u001b[0m\u001b[37m\u001b[0m \u001b[1m0s\u001b[0m 19ms/step\n"
          ]
        },
        {
          "output_type": "stream",
          "name": "stderr",
          "text": [
            "\r 74%|███████▍  | 374/506 [03:38<01:12,  1.81it/s]"
          ]
        },
        {
          "output_type": "stream",
          "name": "stdout",
          "text": [
            "\u001b[1m1/1\u001b[0m \u001b[32m━━━━━━━━━━━━━━━━━━━━\u001b[0m\u001b[37m\u001b[0m \u001b[1m0s\u001b[0m 20ms/step\n"
          ]
        },
        {
          "output_type": "stream",
          "name": "stderr",
          "text": [
            "\r 74%|███████▍  | 375/506 [03:39<01:09,  1.89it/s]"
          ]
        },
        {
          "output_type": "stream",
          "name": "stdout",
          "text": [
            "\u001b[1m1/1\u001b[0m \u001b[32m━━━━━━━━━━━━━━━━━━━━\u001b[0m\u001b[37m\u001b[0m \u001b[1m0s\u001b[0m 19ms/step\n"
          ]
        },
        {
          "output_type": "stream",
          "name": "stderr",
          "text": [
            "\r 74%|███████▍  | 376/506 [03:39<01:08,  1.90it/s]"
          ]
        },
        {
          "output_type": "stream",
          "name": "stdout",
          "text": [
            "\u001b[1m1/1\u001b[0m \u001b[32m━━━━━━━━━━━━━━━━━━━━\u001b[0m\u001b[37m\u001b[0m \u001b[1m0s\u001b[0m 19ms/step\n"
          ]
        },
        {
          "output_type": "stream",
          "name": "stderr",
          "text": [
            "\r 75%|███████▍  | 377/506 [03:40<01:05,  1.98it/s]"
          ]
        },
        {
          "output_type": "stream",
          "name": "stdout",
          "text": [
            "\u001b[1m1/1\u001b[0m \u001b[32m━━━━━━━━━━━━━━━━━━━━\u001b[0m\u001b[37m\u001b[0m \u001b[1m0s\u001b[0m 19ms/step\n"
          ]
        },
        {
          "output_type": "stream",
          "name": "stderr",
          "text": [
            "\r 75%|███████▍  | 378/506 [03:40<01:02,  2.03it/s]"
          ]
        },
        {
          "output_type": "stream",
          "name": "stdout",
          "text": [
            "\u001b[1m1/1\u001b[0m \u001b[32m━━━━━━━━━━━━━━━━━━━━\u001b[0m\u001b[37m\u001b[0m \u001b[1m0s\u001b[0m 19ms/step\n"
          ]
        },
        {
          "output_type": "stream",
          "name": "stderr",
          "text": [
            "\r 75%|███████▍  | 379/506 [03:41<01:01,  2.05it/s]"
          ]
        },
        {
          "output_type": "stream",
          "name": "stdout",
          "text": [
            "\u001b[1m1/1\u001b[0m \u001b[32m━━━━━━━━━━━━━━━━━━━━\u001b[0m\u001b[37m\u001b[0m \u001b[1m0s\u001b[0m 20ms/step\n"
          ]
        },
        {
          "output_type": "stream",
          "name": "stderr",
          "text": [
            "\r 75%|███████▌  | 380/506 [03:41<01:02,  2.01it/s]"
          ]
        },
        {
          "output_type": "stream",
          "name": "stdout",
          "text": [
            "\u001b[1m1/1\u001b[0m \u001b[32m━━━━━━━━━━━━━━━━━━━━\u001b[0m\u001b[37m\u001b[0m \u001b[1m0s\u001b[0m 20ms/step\n"
          ]
        },
        {
          "output_type": "stream",
          "name": "stderr",
          "text": [
            "\r 75%|███████▌  | 381/506 [03:42<01:03,  1.97it/s]"
          ]
        },
        {
          "output_type": "stream",
          "name": "stdout",
          "text": [
            "\u001b[1m1/1\u001b[0m \u001b[32m━━━━━━━━━━━━━━━━━━━━\u001b[0m\u001b[37m\u001b[0m \u001b[1m0s\u001b[0m 20ms/step\n"
          ]
        },
        {
          "output_type": "stream",
          "name": "stderr",
          "text": [
            "\r 75%|███████▌  | 382/506 [03:42<01:03,  1.95it/s]"
          ]
        },
        {
          "output_type": "stream",
          "name": "stdout",
          "text": [
            "\u001b[1m1/1\u001b[0m \u001b[32m━━━━━━━━━━━━━━━━━━━━\u001b[0m\u001b[37m\u001b[0m \u001b[1m0s\u001b[0m 20ms/step\n"
          ]
        },
        {
          "output_type": "stream",
          "name": "stderr",
          "text": [
            "\r 76%|███████▌  | 383/506 [03:43<01:01,  2.01it/s]"
          ]
        },
        {
          "output_type": "stream",
          "name": "stdout",
          "text": [
            "\u001b[1m1/1\u001b[0m \u001b[32m━━━━━━━━━━━━━━━━━━━━\u001b[0m\u001b[37m\u001b[0m \u001b[1m0s\u001b[0m 19ms/step\n"
          ]
        },
        {
          "output_type": "stream",
          "name": "stderr",
          "text": [
            "\r 76%|███████▌  | 384/506 [03:43<01:01,  1.98it/s]"
          ]
        },
        {
          "output_type": "stream",
          "name": "stdout",
          "text": [
            "\u001b[1m1/1\u001b[0m \u001b[32m━━━━━━━━━━━━━━━━━━━━\u001b[0m\u001b[37m\u001b[0m \u001b[1m0s\u001b[0m 19ms/step\n"
          ]
        },
        {
          "output_type": "stream",
          "name": "stderr",
          "text": [
            "\r 76%|███████▌  | 385/506 [03:44<01:02,  1.94it/s]"
          ]
        },
        {
          "output_type": "stream",
          "name": "stdout",
          "text": [
            "\u001b[1m1/1\u001b[0m \u001b[32m━━━━━━━━━━━━━━━━━━━━\u001b[0m\u001b[37m\u001b[0m \u001b[1m0s\u001b[0m 19ms/step\n"
          ]
        },
        {
          "output_type": "stream",
          "name": "stderr",
          "text": [
            "\r 76%|███████▋  | 386/506 [03:44<01:02,  1.93it/s]"
          ]
        },
        {
          "output_type": "stream",
          "name": "stdout",
          "text": [
            "\u001b[1m1/1\u001b[0m \u001b[32m━━━━━━━━━━━━━━━━━━━━\u001b[0m\u001b[37m\u001b[0m \u001b[1m0s\u001b[0m 20ms/step\n"
          ]
        },
        {
          "output_type": "stream",
          "name": "stderr",
          "text": [
            "\r 76%|███████▋  | 387/506 [03:45<01:01,  1.93it/s]"
          ]
        },
        {
          "output_type": "stream",
          "name": "stdout",
          "text": [
            "\u001b[1m1/1\u001b[0m \u001b[32m━━━━━━━━━━━━━━━━━━━━\u001b[0m\u001b[37m\u001b[0m \u001b[1m0s\u001b[0m 19ms/step\n"
          ]
        },
        {
          "output_type": "stream",
          "name": "stderr",
          "text": [
            "\r 77%|███████▋  | 388/506 [03:45<00:59,  1.99it/s]"
          ]
        },
        {
          "output_type": "stream",
          "name": "stdout",
          "text": [
            "\u001b[1m1/1\u001b[0m \u001b[32m━━━━━━━━━━━━━━━━━━━━\u001b[0m\u001b[37m\u001b[0m \u001b[1m0s\u001b[0m 19ms/step\n"
          ]
        },
        {
          "output_type": "stream",
          "name": "stderr",
          "text": [
            "\r 77%|███████▋  | 389/506 [03:46<00:57,  2.04it/s]"
          ]
        },
        {
          "output_type": "stream",
          "name": "stdout",
          "text": [
            "\u001b[1m1/1\u001b[0m \u001b[32m━━━━━━━━━━━━━━━━━━━━\u001b[0m\u001b[37m\u001b[0m \u001b[1m0s\u001b[0m 21ms/step\n"
          ]
        },
        {
          "output_type": "stream",
          "name": "stderr",
          "text": [
            "\r 77%|███████▋  | 390/506 [03:46<01:04,  1.79it/s]"
          ]
        },
        {
          "output_type": "stream",
          "name": "stdout",
          "text": [
            "\u001b[1m1/1\u001b[0m \u001b[32m━━━━━━━━━━━━━━━━━━━━\u001b[0m\u001b[37m\u001b[0m \u001b[1m0s\u001b[0m 27ms/step\n"
          ]
        },
        {
          "output_type": "stream",
          "name": "stderr",
          "text": [
            "\r 77%|███████▋  | 391/506 [03:47<01:10,  1.62it/s]"
          ]
        },
        {
          "output_type": "stream",
          "name": "stdout",
          "text": [
            "\u001b[1m1/1\u001b[0m \u001b[32m━━━━━━━━━━━━━━━━━━━━\u001b[0m\u001b[37m\u001b[0m \u001b[1m0s\u001b[0m 28ms/step\n"
          ]
        },
        {
          "output_type": "stream",
          "name": "stderr",
          "text": [
            "\r 77%|███████▋  | 392/506 [03:48<01:15,  1.51it/s]"
          ]
        },
        {
          "output_type": "stream",
          "name": "stdout",
          "text": [
            "\u001b[1m1/1\u001b[0m \u001b[32m━━━━━━━━━━━━━━━━━━━━\u001b[0m\u001b[37m\u001b[0m \u001b[1m0s\u001b[0m 32ms/step\n"
          ]
        },
        {
          "output_type": "stream",
          "name": "stderr",
          "text": [
            "\r 78%|███████▊  | 393/506 [03:49<01:16,  1.48it/s]"
          ]
        },
        {
          "output_type": "stream",
          "name": "stdout",
          "text": [
            "\u001b[1m1/1\u001b[0m \u001b[32m━━━━━━━━━━━━━━━━━━━━\u001b[0m\u001b[37m\u001b[0m \u001b[1m0s\u001b[0m 30ms/step\n"
          ]
        },
        {
          "output_type": "stream",
          "name": "stderr",
          "text": [
            "\r 78%|███████▊  | 394/506 [03:49<01:17,  1.44it/s]"
          ]
        },
        {
          "output_type": "stream",
          "name": "stdout",
          "text": [
            "\u001b[1m1/1\u001b[0m \u001b[32m━━━━━━━━━━━━━━━━━━━━\u001b[0m\u001b[37m\u001b[0m \u001b[1m0s\u001b[0m 46ms/step\n"
          ]
        },
        {
          "output_type": "stream",
          "name": "stderr",
          "text": [
            "\r 78%|███████▊  | 395/506 [03:50<01:16,  1.46it/s]"
          ]
        },
        {
          "output_type": "stream",
          "name": "stdout",
          "text": [
            "\u001b[1m1/1\u001b[0m \u001b[32m━━━━━━━━━━━━━━━━━━━━\u001b[0m\u001b[37m\u001b[0m \u001b[1m0s\u001b[0m 21ms/step\n"
          ]
        },
        {
          "output_type": "stream",
          "name": "stderr",
          "text": [
            "\r 78%|███████▊  | 396/506 [03:51<01:08,  1.61it/s]"
          ]
        },
        {
          "output_type": "stream",
          "name": "stdout",
          "text": [
            "\u001b[1m1/1\u001b[0m \u001b[32m━━━━━━━━━━━━━━━━━━━━\u001b[0m\u001b[37m\u001b[0m \u001b[1m0s\u001b[0m 21ms/step\n"
          ]
        },
        {
          "output_type": "stream",
          "name": "stderr",
          "text": [
            "\r 78%|███████▊  | 397/506 [03:51<01:03,  1.73it/s]"
          ]
        },
        {
          "output_type": "stream",
          "name": "stdout",
          "text": [
            "\u001b[1m1/1\u001b[0m \u001b[32m━━━━━━━━━━━━━━━━━━━━\u001b[0m\u001b[37m\u001b[0m \u001b[1m0s\u001b[0m 20ms/step\n"
          ]
        },
        {
          "output_type": "stream",
          "name": "stderr",
          "text": [
            "\r 79%|███████▊  | 398/506 [03:52<00:59,  1.82it/s]"
          ]
        },
        {
          "output_type": "stream",
          "name": "stdout",
          "text": [
            "\u001b[1m1/1\u001b[0m \u001b[32m━━━━━━━━━━━━━━━━━━━━\u001b[0m\u001b[37m\u001b[0m \u001b[1m0s\u001b[0m 19ms/step\n"
          ]
        },
        {
          "output_type": "stream",
          "name": "stderr",
          "text": [
            "\r 79%|███████▉  | 399/506 [03:52<00:57,  1.87it/s]"
          ]
        },
        {
          "output_type": "stream",
          "name": "stdout",
          "text": [
            "\u001b[1m1/1\u001b[0m \u001b[32m━━━━━━━━━━━━━━━━━━━━\u001b[0m\u001b[37m\u001b[0m \u001b[1m0s\u001b[0m 20ms/step\n"
          ]
        },
        {
          "output_type": "stream",
          "name": "stderr",
          "text": [
            "\r 79%|███████▉  | 400/506 [03:53<00:56,  1.88it/s]"
          ]
        },
        {
          "output_type": "stream",
          "name": "stdout",
          "text": [
            "\u001b[1m1/1\u001b[0m \u001b[32m━━━━━━━━━━━━━━━━━━━━\u001b[0m\u001b[37m\u001b[0m \u001b[1m0s\u001b[0m 19ms/step\n"
          ]
        },
        {
          "output_type": "stream",
          "name": "stderr",
          "text": [
            "\r 79%|███████▉  | 401/506 [03:53<00:53,  1.95it/s]"
          ]
        },
        {
          "output_type": "stream",
          "name": "stdout",
          "text": [
            "\u001b[1m1/1\u001b[0m \u001b[32m━━━━━━━━━━━━━━━━━━━━\u001b[0m\u001b[37m\u001b[0m \u001b[1m0s\u001b[0m 20ms/step\n"
          ]
        },
        {
          "output_type": "stream",
          "name": "stderr",
          "text": [
            "\r 79%|███████▉  | 402/506 [03:54<00:52,  2.00it/s]"
          ]
        },
        {
          "output_type": "stream",
          "name": "stdout",
          "text": [
            "\u001b[1m1/1\u001b[0m \u001b[32m━━━━━━━━━━━━━━━━━━━━\u001b[0m\u001b[37m\u001b[0m \u001b[1m0s\u001b[0m 19ms/step\n"
          ]
        },
        {
          "output_type": "stream",
          "name": "stderr",
          "text": [
            "\r 80%|███████▉  | 403/506 [03:54<00:52,  1.97it/s]"
          ]
        },
        {
          "output_type": "stream",
          "name": "stdout",
          "text": [
            "\u001b[1m1/1\u001b[0m \u001b[32m━━━━━━━━━━━━━━━━━━━━\u001b[0m\u001b[37m\u001b[0m \u001b[1m0s\u001b[0m 20ms/step\n"
          ]
        },
        {
          "output_type": "stream",
          "name": "stderr",
          "text": [
            "\r 80%|███████▉  | 404/506 [03:55<00:52,  1.95it/s]"
          ]
        },
        {
          "output_type": "stream",
          "name": "stdout",
          "text": [
            "\u001b[1m1/1\u001b[0m \u001b[32m━━━━━━━━━━━━━━━━━━━━\u001b[0m\u001b[37m\u001b[0m \u001b[1m0s\u001b[0m 21ms/step\n"
          ]
        },
        {
          "output_type": "stream",
          "name": "stderr",
          "text": [
            "\r 80%|████████  | 405/506 [03:55<00:51,  1.97it/s]"
          ]
        },
        {
          "output_type": "stream",
          "name": "stdout",
          "text": [
            "\u001b[1m1/1\u001b[0m \u001b[32m━━━━━━━━━━━━━━━━━━━━\u001b[0m\u001b[37m\u001b[0m \u001b[1m0s\u001b[0m 20ms/step\n"
          ]
        },
        {
          "output_type": "stream",
          "name": "stderr",
          "text": [
            "\r 80%|████████  | 406/506 [03:56<00:51,  1.95it/s]"
          ]
        },
        {
          "output_type": "stream",
          "name": "stdout",
          "text": [
            "\u001b[1m1/1\u001b[0m \u001b[32m━━━━━━━━━━━━━━━━━━━━\u001b[0m\u001b[37m\u001b[0m \u001b[1m0s\u001b[0m 20ms/step\n"
          ]
        },
        {
          "output_type": "stream",
          "name": "stderr",
          "text": [
            "\r 80%|████████  | 407/506 [03:56<00:49,  1.99it/s]"
          ]
        },
        {
          "output_type": "stream",
          "name": "stdout",
          "text": [
            "\u001b[1m1/1\u001b[0m \u001b[32m━━━━━━━━━━━━━━━━━━━━\u001b[0m\u001b[37m\u001b[0m \u001b[1m0s\u001b[0m 20ms/step\n"
          ]
        },
        {
          "output_type": "stream",
          "name": "stderr",
          "text": [
            "\r 81%|████████  | 408/506 [03:57<00:48,  2.02it/s]"
          ]
        },
        {
          "output_type": "stream",
          "name": "stdout",
          "text": [
            "\u001b[1m1/1\u001b[0m \u001b[32m━━━━━━━━━━━━━━━━━━━━\u001b[0m\u001b[37m\u001b[0m \u001b[1m0s\u001b[0m 20ms/step\n"
          ]
        },
        {
          "output_type": "stream",
          "name": "stderr",
          "text": [
            "\r 81%|████████  | 409/506 [03:57<00:47,  2.05it/s]"
          ]
        },
        {
          "output_type": "stream",
          "name": "stdout",
          "text": [
            "\u001b[1m1/1\u001b[0m \u001b[32m━━━━━━━━━━━━━━━━━━━━\u001b[0m\u001b[37m\u001b[0m \u001b[1m0s\u001b[0m 19ms/step\n"
          ]
        },
        {
          "output_type": "stream",
          "name": "stderr",
          "text": [
            "\r 81%|████████  | 410/506 [03:58<00:48,  2.00it/s]"
          ]
        },
        {
          "output_type": "stream",
          "name": "stdout",
          "text": [
            "\u001b[1m1/1\u001b[0m \u001b[32m━━━━━━━━━━━━━━━━━━━━\u001b[0m\u001b[37m\u001b[0m \u001b[1m0s\u001b[0m 19ms/step\n"
          ]
        },
        {
          "output_type": "stream",
          "name": "stderr",
          "text": [
            "\r 81%|████████  | 411/506 [03:58<00:47,  2.02it/s]"
          ]
        },
        {
          "output_type": "stream",
          "name": "stdout",
          "text": [
            "\u001b[1m1/1\u001b[0m \u001b[32m━━━━━━━━━━━━━━━━━━━━\u001b[0m\u001b[37m\u001b[0m \u001b[1m0s\u001b[0m 20ms/step\n"
          ]
        },
        {
          "output_type": "stream",
          "name": "stderr",
          "text": [
            "\r 81%|████████▏ | 412/506 [03:59<00:46,  2.02it/s]"
          ]
        },
        {
          "output_type": "stream",
          "name": "stdout",
          "text": [
            "\u001b[1m1/1\u001b[0m \u001b[32m━━━━━━━━━━━━━━━━━━━━\u001b[0m\u001b[37m\u001b[0m \u001b[1m0s\u001b[0m 19ms/step\n"
          ]
        },
        {
          "output_type": "stream",
          "name": "stderr",
          "text": [
            "\r 82%|████████▏ | 413/506 [03:59<00:46,  1.99it/s]"
          ]
        },
        {
          "output_type": "stream",
          "name": "stdout",
          "text": [
            "\u001b[1m1/1\u001b[0m \u001b[32m━━━━━━━━━━━━━━━━━━━━\u001b[0m\u001b[37m\u001b[0m \u001b[1m0s\u001b[0m 20ms/step\n"
          ]
        },
        {
          "output_type": "stream",
          "name": "stderr",
          "text": [
            "\r 82%|████████▏ | 414/506 [04:00<00:46,  1.96it/s]"
          ]
        },
        {
          "output_type": "stream",
          "name": "stdout",
          "text": [
            "\u001b[1m1/1\u001b[0m \u001b[32m━━━━━━━━━━━━━━━━━━━━\u001b[0m\u001b[37m\u001b[0m \u001b[1m0s\u001b[0m 20ms/step\n"
          ]
        },
        {
          "output_type": "stream",
          "name": "stderr",
          "text": [
            "\r 82%|████████▏ | 415/506 [04:00<00:49,  1.83it/s]"
          ]
        },
        {
          "output_type": "stream",
          "name": "stdout",
          "text": [
            "\u001b[1m1/1\u001b[0m \u001b[32m━━━━━━━━━━━━━━━━━━━━\u001b[0m\u001b[37m\u001b[0m \u001b[1m0s\u001b[0m 33ms/step\n"
          ]
        },
        {
          "output_type": "stream",
          "name": "stderr",
          "text": [
            "\r 82%|████████▏ | 416/506 [04:01<00:53,  1.68it/s]"
          ]
        },
        {
          "output_type": "stream",
          "name": "stdout",
          "text": [
            "\u001b[1m1/1\u001b[0m \u001b[32m━━━━━━━━━━━━━━━━━━━━\u001b[0m\u001b[37m\u001b[0m \u001b[1m0s\u001b[0m 28ms/step\n"
          ]
        },
        {
          "output_type": "stream",
          "name": "stderr",
          "text": [
            "\r 82%|████████▏ | 417/506 [04:02<00:57,  1.54it/s]"
          ]
        },
        {
          "output_type": "stream",
          "name": "stdout",
          "text": [
            "\u001b[1m1/1\u001b[0m \u001b[32m━━━━━━━━━━━━━━━━━━━━\u001b[0m\u001b[37m\u001b[0m \u001b[1m0s\u001b[0m 30ms/step\n"
          ]
        },
        {
          "output_type": "stream",
          "name": "stderr",
          "text": [
            "\r 83%|████████▎ | 418/506 [04:02<00:59,  1.47it/s]"
          ]
        },
        {
          "output_type": "stream",
          "name": "stdout",
          "text": [
            "\u001b[1m1/1\u001b[0m \u001b[32m━━━━━━━━━━━━━━━━━━━━\u001b[0m\u001b[37m\u001b[0m \u001b[1m0s\u001b[0m 29ms/step\n"
          ]
        },
        {
          "output_type": "stream",
          "name": "stderr",
          "text": [
            "\r 83%|████████▎ | 419/506 [04:03<01:01,  1.42it/s]"
          ]
        },
        {
          "output_type": "stream",
          "name": "stdout",
          "text": [
            "\u001b[1m1/1\u001b[0m \u001b[32m━━━━━━━━━━━━━━━━━━━━\u001b[0m\u001b[37m\u001b[0m \u001b[1m0s\u001b[0m 41ms/step\n"
          ]
        },
        {
          "output_type": "stream",
          "name": "stderr",
          "text": [
            "\r 83%|████████▎ | 420/506 [04:04<01:01,  1.39it/s]"
          ]
        },
        {
          "output_type": "stream",
          "name": "stdout",
          "text": [
            "\u001b[1m1/1\u001b[0m \u001b[32m━━━━━━━━━━━━━━━━━━━━\u001b[0m\u001b[37m\u001b[0m \u001b[1m0s\u001b[0m 34ms/step\n"
          ]
        },
        {
          "output_type": "stream",
          "name": "stderr",
          "text": [
            "\r 83%|████████▎ | 421/506 [04:05<00:57,  1.48it/s]"
          ]
        },
        {
          "output_type": "stream",
          "name": "stdout",
          "text": [
            "\u001b[1m1/1\u001b[0m \u001b[32m━━━━━━━━━━━━━━━━━━━━\u001b[0m\u001b[37m\u001b[0m \u001b[1m0s\u001b[0m 20ms/step\n"
          ]
        },
        {
          "output_type": "stream",
          "name": "stderr",
          "text": [
            "\r 83%|████████▎ | 422/506 [04:05<00:53,  1.58it/s]"
          ]
        },
        {
          "output_type": "stream",
          "name": "stdout",
          "text": [
            "\u001b[1m1/1\u001b[0m \u001b[32m━━━━━━━━━━━━━━━━━━━━\u001b[0m\u001b[37m\u001b[0m \u001b[1m0s\u001b[0m 19ms/step\n"
          ]
        },
        {
          "output_type": "stream",
          "name": "stderr",
          "text": [
            "\r 84%|████████▎ | 423/506 [04:06<00:48,  1.70it/s]"
          ]
        },
        {
          "output_type": "stream",
          "name": "stdout",
          "text": [
            "\u001b[1m1/1\u001b[0m \u001b[32m━━━━━━━━━━━━━━━━━━━━\u001b[0m\u001b[37m\u001b[0m \u001b[1m0s\u001b[0m 19ms/step\n"
          ]
        },
        {
          "output_type": "stream",
          "name": "stderr",
          "text": [
            "\r 84%|████████▍ | 424/506 [04:06<00:46,  1.75it/s]"
          ]
        },
        {
          "output_type": "stream",
          "name": "stdout",
          "text": [
            "\u001b[1m1/1\u001b[0m \u001b[32m━━━━━━━━━━━━━━━━━━━━\u001b[0m\u001b[37m\u001b[0m \u001b[1m0s\u001b[0m 19ms/step\n"
          ]
        },
        {
          "output_type": "stream",
          "name": "stderr",
          "text": [
            "\r 84%|████████▍ | 425/506 [04:07<00:45,  1.79it/s]"
          ]
        },
        {
          "output_type": "stream",
          "name": "stdout",
          "text": [
            "\u001b[1m1/1\u001b[0m \u001b[32m━━━━━━━━━━━━━━━━━━━━\u001b[0m\u001b[37m\u001b[0m \u001b[1m0s\u001b[0m 19ms/step\n"
          ]
        },
        {
          "output_type": "stream",
          "name": "stderr",
          "text": [
            "\r 84%|████████▍ | 426/506 [04:07<00:43,  1.82it/s]"
          ]
        },
        {
          "output_type": "stream",
          "name": "stdout",
          "text": [
            "\u001b[1m1/1\u001b[0m \u001b[32m━━━━━━━━━━━━━━━━━━━━\u001b[0m\u001b[37m\u001b[0m \u001b[1m0s\u001b[0m 25ms/step\n"
          ]
        },
        {
          "output_type": "stream",
          "name": "stderr",
          "text": [
            "\r 84%|████████▍ | 427/506 [04:08<00:43,  1.83it/s]"
          ]
        },
        {
          "output_type": "stream",
          "name": "stdout",
          "text": [
            "\u001b[1m1/1\u001b[0m \u001b[32m━━━━━━━━━━━━━━━━━━━━\u001b[0m\u001b[37m\u001b[0m \u001b[1m0s\u001b[0m 20ms/step\n"
          ]
        },
        {
          "output_type": "stream",
          "name": "stderr",
          "text": [
            "\r 85%|████████▍ | 428/506 [04:08<00:40,  1.91it/s]"
          ]
        },
        {
          "output_type": "stream",
          "name": "stdout",
          "text": [
            "\u001b[1m1/1\u001b[0m \u001b[32m━━━━━━━━━━━━━━━━━━━━\u001b[0m\u001b[37m\u001b[0m \u001b[1m0s\u001b[0m 20ms/step\n"
          ]
        },
        {
          "output_type": "stream",
          "name": "stderr",
          "text": [
            "\r 85%|████████▍ | 429/506 [04:09<00:40,  1.91it/s]"
          ]
        },
        {
          "output_type": "stream",
          "name": "stdout",
          "text": [
            "\u001b[1m1/1\u001b[0m \u001b[32m━━━━━━━━━━━━━━━━━━━━\u001b[0m\u001b[37m\u001b[0m \u001b[1m0s\u001b[0m 20ms/step\n"
          ]
        },
        {
          "output_type": "stream",
          "name": "stderr",
          "text": [
            "\r 85%|████████▍ | 430/506 [04:09<00:39,  1.91it/s]"
          ]
        },
        {
          "output_type": "stream",
          "name": "stdout",
          "text": [
            "\u001b[1m1/1\u001b[0m \u001b[32m━━━━━━━━━━━━━━━━━━━━\u001b[0m\u001b[37m\u001b[0m \u001b[1m0s\u001b[0m 24ms/step\n"
          ]
        },
        {
          "output_type": "stream",
          "name": "stderr",
          "text": [
            "\r 85%|████████▌ | 431/506 [04:10<00:38,  1.95it/s]"
          ]
        },
        {
          "output_type": "stream",
          "name": "stdout",
          "text": [
            "\u001b[1m1/1\u001b[0m \u001b[32m━━━━━━━━━━━━━━━━━━━━\u001b[0m\u001b[37m\u001b[0m \u001b[1m0s\u001b[0m 19ms/step\n"
          ]
        },
        {
          "output_type": "stream",
          "name": "stderr",
          "text": [
            "\r 85%|████████▌ | 432/506 [04:10<00:36,  2.01it/s]"
          ]
        },
        {
          "output_type": "stream",
          "name": "stdout",
          "text": [
            "\u001b[1m1/1\u001b[0m \u001b[32m━━━━━━━━━━━━━━━━━━━━\u001b[0m\u001b[37m\u001b[0m \u001b[1m0s\u001b[0m 20ms/step\n"
          ]
        },
        {
          "output_type": "stream",
          "name": "stderr",
          "text": [
            "\r 86%|████████▌ | 433/506 [04:11<00:37,  1.97it/s]"
          ]
        },
        {
          "output_type": "stream",
          "name": "stdout",
          "text": [
            "\u001b[1m1/1\u001b[0m \u001b[32m━━━━━━━━━━━━━━━━━━━━\u001b[0m\u001b[37m\u001b[0m \u001b[1m0s\u001b[0m 19ms/step\n"
          ]
        },
        {
          "output_type": "stream",
          "name": "stderr",
          "text": [
            "\r 86%|████████▌ | 434/506 [04:11<00:36,  1.95it/s]"
          ]
        },
        {
          "output_type": "stream",
          "name": "stdout",
          "text": [
            "\u001b[1m1/1\u001b[0m \u001b[32m━━━━━━━━━━━━━━━━━━━━\u001b[0m\u001b[37m\u001b[0m \u001b[1m0s\u001b[0m 21ms/step\n"
          ]
        },
        {
          "output_type": "stream",
          "name": "stderr",
          "text": [
            "\r 86%|████████▌ | 435/506 [04:12<00:35,  1.98it/s]"
          ]
        },
        {
          "output_type": "stream",
          "name": "stdout",
          "text": [
            "\u001b[1m1/1\u001b[0m \u001b[32m━━━━━━━━━━━━━━━━━━━━\u001b[0m\u001b[37m\u001b[0m \u001b[1m0s\u001b[0m 19ms/step\n"
          ]
        },
        {
          "output_type": "stream",
          "name": "stderr",
          "text": [
            "\r 86%|████████▌ | 436/506 [04:12<00:34,  2.02it/s]"
          ]
        },
        {
          "output_type": "stream",
          "name": "stdout",
          "text": [
            "\u001b[1m1/1\u001b[0m \u001b[32m━━━━━━━━━━━━━━━━━━━━\u001b[0m\u001b[37m\u001b[0m \u001b[1m0s\u001b[0m 19ms/step\n"
          ]
        },
        {
          "output_type": "stream",
          "name": "stderr",
          "text": [
            "\r 86%|████████▋ | 437/506 [04:13<00:33,  2.04it/s]"
          ]
        },
        {
          "output_type": "stream",
          "name": "stdout",
          "text": [
            "\u001b[1m1/1\u001b[0m \u001b[32m━━━━━━━━━━━━━━━━━━━━\u001b[0m\u001b[37m\u001b[0m \u001b[1m0s\u001b[0m 20ms/step\n"
          ]
        },
        {
          "output_type": "stream",
          "name": "stderr",
          "text": [
            "\r 87%|████████▋ | 438/506 [04:13<00:34,  2.00it/s]"
          ]
        },
        {
          "output_type": "stream",
          "name": "stdout",
          "text": [
            "\u001b[1m1/1\u001b[0m \u001b[32m━━━━━━━━━━━━━━━━━━━━\u001b[0m\u001b[37m\u001b[0m \u001b[1m0s\u001b[0m 19ms/step\n"
          ]
        },
        {
          "output_type": "stream",
          "name": "stderr",
          "text": [
            "\r 87%|████████▋ | 439/506 [04:14<00:32,  2.03it/s]"
          ]
        },
        {
          "output_type": "stream",
          "name": "stdout",
          "text": [
            "\u001b[1m1/1\u001b[0m \u001b[32m━━━━━━━━━━━━━━━━━━━━\u001b[0m\u001b[37m\u001b[0m \u001b[1m0s\u001b[0m 20ms/step\n"
          ]
        },
        {
          "output_type": "stream",
          "name": "stderr",
          "text": [
            "\r 87%|████████▋ | 440/506 [04:14<00:33,  1.99it/s]"
          ]
        },
        {
          "output_type": "stream",
          "name": "stdout",
          "text": [
            "\u001b[1m1/1\u001b[0m \u001b[32m━━━━━━━━━━━━━━━━━━━━\u001b[0m\u001b[37m\u001b[0m \u001b[1m0s\u001b[0m 32ms/step\n"
          ]
        },
        {
          "output_type": "stream",
          "name": "stderr",
          "text": [
            "\r 87%|████████▋ | 441/506 [04:15<00:36,  1.76it/s]"
          ]
        },
        {
          "output_type": "stream",
          "name": "stdout",
          "text": [
            "\u001b[1m1/1\u001b[0m \u001b[32m━━━━━━━━━━━━━━━━━━━━\u001b[0m\u001b[37m\u001b[0m \u001b[1m0s\u001b[0m 27ms/step\n"
          ]
        },
        {
          "output_type": "stream",
          "name": "stderr",
          "text": [
            "\r 87%|████████▋ | 442/506 [04:16<00:38,  1.64it/s]"
          ]
        },
        {
          "output_type": "stream",
          "name": "stdout",
          "text": [
            "\u001b[1m1/1\u001b[0m \u001b[32m━━━━━━━━━━━━━━━━━━━━\u001b[0m\u001b[37m\u001b[0m \u001b[1m0s\u001b[0m 32ms/step\n"
          ]
        },
        {
          "output_type": "stream",
          "name": "stderr",
          "text": [
            "\r 88%|████████▊ | 443/506 [04:16<00:40,  1.56it/s]"
          ]
        },
        {
          "output_type": "stream",
          "name": "stdout",
          "text": [
            "\u001b[1m1/1\u001b[0m \u001b[32m━━━━━━━━━━━━━━━━━━━━\u001b[0m\u001b[37m\u001b[0m \u001b[1m0s\u001b[0m 28ms/step\n"
          ]
        },
        {
          "output_type": "stream",
          "name": "stderr",
          "text": [
            "\r 88%|████████▊ | 444/506 [04:17<00:42,  1.46it/s]"
          ]
        },
        {
          "output_type": "stream",
          "name": "stdout",
          "text": [
            "\u001b[1m1/1\u001b[0m \u001b[32m━━━━━━━━━━━━━━━━━━━━\u001b[0m\u001b[37m\u001b[0m \u001b[1m0s\u001b[0m 40ms/step\n"
          ]
        },
        {
          "output_type": "stream",
          "name": "stderr",
          "text": [
            "\r 88%|████████▊ | 445/506 [04:18<00:44,  1.37it/s]"
          ]
        },
        {
          "output_type": "stream",
          "name": "stdout",
          "text": [
            "\u001b[1m1/1\u001b[0m \u001b[32m━━━━━━━━━━━━━━━━━━━━\u001b[0m\u001b[37m\u001b[0m \u001b[1m0s\u001b[0m 30ms/step\n"
          ]
        },
        {
          "output_type": "stream",
          "name": "stderr",
          "text": [
            "\r 88%|████████▊ | 446/506 [04:19<00:46,  1.28it/s]"
          ]
        },
        {
          "output_type": "stream",
          "name": "stdout",
          "text": [
            "\u001b[1m1/1\u001b[0m \u001b[32m━━━━━━━━━━━━━━━━━━━━\u001b[0m\u001b[37m\u001b[0m \u001b[1m0s\u001b[0m 47ms/step\n"
          ]
        },
        {
          "output_type": "stream",
          "name": "stderr",
          "text": [
            "\r 88%|████████▊ | 447/506 [04:20<00:46,  1.27it/s]"
          ]
        },
        {
          "output_type": "stream",
          "name": "stdout",
          "text": [
            "\u001b[1m1/1\u001b[0m \u001b[32m━━━━━━━━━━━━━━━━━━━━\u001b[0m\u001b[37m\u001b[0m \u001b[1m0s\u001b[0m 44ms/step\n"
          ]
        },
        {
          "output_type": "stream",
          "name": "stderr",
          "text": [
            "\r 89%|████████▊ | 448/506 [04:20<00:44,  1.29it/s]"
          ]
        },
        {
          "output_type": "stream",
          "name": "stdout",
          "text": [
            "\u001b[1m1/1\u001b[0m \u001b[32m━━━━━━━━━━━━━━━━━━━━\u001b[0m\u001b[37m\u001b[0m \u001b[1m0s\u001b[0m 29ms/step\n"
          ]
        },
        {
          "output_type": "stream",
          "name": "stderr",
          "text": [
            "\r 89%|████████▊ | 449/506 [04:21<00:44,  1.29it/s]"
          ]
        },
        {
          "output_type": "stream",
          "name": "stdout",
          "text": [
            "\u001b[1m1/1\u001b[0m \u001b[32m━━━━━━━━━━━━━━━━━━━━\u001b[0m\u001b[37m\u001b[0m \u001b[1m0s\u001b[0m 29ms/step\n"
          ]
        },
        {
          "output_type": "stream",
          "name": "stderr",
          "text": [
            "\r 89%|████████▉ | 450/506 [04:22<00:42,  1.30it/s]"
          ]
        },
        {
          "output_type": "stream",
          "name": "stdout",
          "text": [
            "\u001b[1m1/1\u001b[0m \u001b[32m━━━━━━━━━━━━━━━━━━━━\u001b[0m\u001b[37m\u001b[0m \u001b[1m0s\u001b[0m 28ms/step\n"
          ]
        },
        {
          "output_type": "stream",
          "name": "stderr",
          "text": [
            "\r 89%|████████▉ | 451/506 [04:23<00:40,  1.35it/s]"
          ]
        },
        {
          "output_type": "stream",
          "name": "stdout",
          "text": [
            "\u001b[1m1/1\u001b[0m \u001b[32m━━━━━━━━━━━━━━━━━━━━\u001b[0m\u001b[37m\u001b[0m \u001b[1m0s\u001b[0m 19ms/step\n"
          ]
        },
        {
          "output_type": "stream",
          "name": "stderr",
          "text": [
            "\r 89%|████████▉ | 452/506 [04:23<00:36,  1.48it/s]"
          ]
        },
        {
          "output_type": "stream",
          "name": "stdout",
          "text": [
            "\u001b[1m1/1\u001b[0m \u001b[32m━━━━━━━━━━━━━━━━━━━━\u001b[0m\u001b[37m\u001b[0m \u001b[1m0s\u001b[0m 20ms/step\n"
          ]
        },
        {
          "output_type": "stream",
          "name": "stderr",
          "text": [
            "\r 90%|████████▉ | 453/506 [04:24<00:32,  1.63it/s]"
          ]
        },
        {
          "output_type": "stream",
          "name": "stdout",
          "text": [
            "\u001b[1m1/1\u001b[0m \u001b[32m━━━━━━━━━━━━━━━━━━━━\u001b[0m\u001b[37m\u001b[0m \u001b[1m0s\u001b[0m 20ms/step\n"
          ]
        },
        {
          "output_type": "stream",
          "name": "stderr",
          "text": [
            "\r 90%|████████▉ | 454/506 [04:24<00:29,  1.75it/s]"
          ]
        },
        {
          "output_type": "stream",
          "name": "stdout",
          "text": [
            "\u001b[1m1/1\u001b[0m \u001b[32m━━━━━━━━━━━━━━━━━━━━\u001b[0m\u001b[37m\u001b[0m \u001b[1m0s\u001b[0m 20ms/step\n"
          ]
        },
        {
          "output_type": "stream",
          "name": "stderr",
          "text": [
            "\r 90%|████████▉ | 455/506 [04:25<00:28,  1.80it/s]"
          ]
        },
        {
          "output_type": "stream",
          "name": "stdout",
          "text": [
            "\u001b[1m1/1\u001b[0m \u001b[32m━━━━━━━━━━━━━━━━━━━━\u001b[0m\u001b[37m\u001b[0m \u001b[1m0s\u001b[0m 20ms/step\n"
          ]
        },
        {
          "output_type": "stream",
          "name": "stderr",
          "text": [
            "\r 90%|█████████ | 456/506 [04:25<00:27,  1.85it/s]"
          ]
        },
        {
          "output_type": "stream",
          "name": "stdout",
          "text": [
            "\u001b[1m1/1\u001b[0m \u001b[32m━━━━━━━━━━━━━━━━━━━━\u001b[0m\u001b[37m\u001b[0m \u001b[1m0s\u001b[0m 19ms/step\n"
          ]
        },
        {
          "output_type": "stream",
          "name": "stderr",
          "text": [
            "\r 90%|█████████ | 457/506 [04:26<00:25,  1.93it/s]"
          ]
        },
        {
          "output_type": "stream",
          "name": "stdout",
          "text": [
            "\u001b[1m1/1\u001b[0m \u001b[32m━━━━━━━━━━━━━━━━━━━━\u001b[0m\u001b[37m\u001b[0m \u001b[1m0s\u001b[0m 20ms/step\n"
          ]
        },
        {
          "output_type": "stream",
          "name": "stderr",
          "text": [
            "\r 91%|█████████ | 458/506 [04:26<00:24,  1.92it/s]"
          ]
        },
        {
          "output_type": "stream",
          "name": "stdout",
          "text": [
            "\u001b[1m1/1\u001b[0m \u001b[32m━━━━━━━━━━━━━━━━━━━━\u001b[0m\u001b[37m\u001b[0m \u001b[1m0s\u001b[0m 22ms/step\n"
          ]
        },
        {
          "output_type": "stream",
          "name": "stderr",
          "text": [
            "\r 91%|█████████ | 459/506 [04:27<00:24,  1.93it/s]"
          ]
        },
        {
          "output_type": "stream",
          "name": "stdout",
          "text": [
            "\u001b[1m1/1\u001b[0m \u001b[32m━━━━━━━━━━━━━━━━━━━━\u001b[0m\u001b[37m\u001b[0m \u001b[1m0s\u001b[0m 19ms/step\n"
          ]
        },
        {
          "output_type": "stream",
          "name": "stderr",
          "text": [
            "\r 91%|█████████ | 460/506 [04:27<00:23,  1.99it/s]"
          ]
        },
        {
          "output_type": "stream",
          "name": "stdout",
          "text": [
            "\u001b[1m1/1\u001b[0m \u001b[32m━━━━━━━━━━━━━━━━━━━━\u001b[0m\u001b[37m\u001b[0m \u001b[1m0s\u001b[0m 19ms/step\n"
          ]
        },
        {
          "output_type": "stream",
          "name": "stderr",
          "text": [
            "\r 91%|█████████ | 461/506 [04:28<00:22,  2.01it/s]"
          ]
        },
        {
          "output_type": "stream",
          "name": "stdout",
          "text": [
            "\u001b[1m1/1\u001b[0m \u001b[32m━━━━━━━━━━━━━━━━━━━━\u001b[0m\u001b[37m\u001b[0m \u001b[1m0s\u001b[0m 19ms/step\n"
          ]
        },
        {
          "output_type": "stream",
          "name": "stderr",
          "text": [
            "\r 91%|█████████▏| 462/506 [04:28<00:21,  2.03it/s]"
          ]
        },
        {
          "output_type": "stream",
          "name": "stdout",
          "text": [
            "\u001b[1m1/1\u001b[0m \u001b[32m━━━━━━━━━━━━━━━━━━━━\u001b[0m\u001b[37m\u001b[0m \u001b[1m0s\u001b[0m 22ms/step\n"
          ]
        },
        {
          "output_type": "stream",
          "name": "stderr",
          "text": [
            "\r 92%|█████████▏| 463/506 [04:28<00:21,  2.04it/s]"
          ]
        },
        {
          "output_type": "stream",
          "name": "stdout",
          "text": [
            "\u001b[1m1/1\u001b[0m \u001b[32m━━━━━━━━━━━━━━━━━━━━\u001b[0m\u001b[37m\u001b[0m \u001b[1m0s\u001b[0m 21ms/step\n"
          ]
        },
        {
          "output_type": "stream",
          "name": "stderr",
          "text": [
            "\r 92%|█████████▏| 464/506 [04:29<00:21,  1.99it/s]"
          ]
        },
        {
          "output_type": "stream",
          "name": "stdout",
          "text": [
            "\u001b[1m1/1\u001b[0m \u001b[32m━━━━━━━━━━━━━━━━━━━━\u001b[0m\u001b[37m\u001b[0m \u001b[1m0s\u001b[0m 20ms/step\n"
          ]
        },
        {
          "output_type": "stream",
          "name": "stderr",
          "text": [
            "\r 92%|█████████▏| 465/506 [04:30<00:21,  1.95it/s]"
          ]
        },
        {
          "output_type": "stream",
          "name": "stdout",
          "text": [
            "\u001b[1m1/1\u001b[0m \u001b[32m━━━━━━━━━━━━━━━━━━━━\u001b[0m\u001b[37m\u001b[0m \u001b[1m0s\u001b[0m 20ms/step\n"
          ]
        },
        {
          "output_type": "stream",
          "name": "stderr",
          "text": [
            "\r 92%|█████████▏| 466/506 [04:30<00:21,  1.86it/s]"
          ]
        },
        {
          "output_type": "stream",
          "name": "stdout",
          "text": [
            "\u001b[1m1/1\u001b[0m \u001b[32m━━━━━━━━━━━━━━━━━━━━\u001b[0m\u001b[37m\u001b[0m \u001b[1m0s\u001b[0m 31ms/step\n"
          ]
        },
        {
          "output_type": "stream",
          "name": "stderr",
          "text": [
            "\r 92%|█████████▏| 467/506 [04:31<00:23,  1.66it/s]"
          ]
        },
        {
          "output_type": "stream",
          "name": "stdout",
          "text": [
            "\u001b[1m1/1\u001b[0m \u001b[32m━━━━━━━━━━━━━━━━━━━━\u001b[0m\u001b[37m\u001b[0m \u001b[1m0s\u001b[0m 28ms/step\n"
          ]
        },
        {
          "output_type": "stream",
          "name": "stderr",
          "text": [
            "\r 92%|█████████▏| 468/506 [04:32<00:24,  1.54it/s]"
          ]
        },
        {
          "output_type": "stream",
          "name": "stdout",
          "text": [
            "\u001b[1m1/1\u001b[0m \u001b[32m━━━━━━━━━━━━━━━━━━━━\u001b[0m\u001b[37m\u001b[0m \u001b[1m0s\u001b[0m 30ms/step\n"
          ]
        },
        {
          "output_type": "stream",
          "name": "stderr",
          "text": [
            "\r 93%|█████████▎| 469/506 [04:32<00:25,  1.46it/s]"
          ]
        },
        {
          "output_type": "stream",
          "name": "stdout",
          "text": [
            "\u001b[1m1/1\u001b[0m \u001b[32m━━━━━━━━━━━━━━━━━━━━\u001b[0m\u001b[37m\u001b[0m \u001b[1m0s\u001b[0m 30ms/step\n"
          ]
        },
        {
          "output_type": "stream",
          "name": "stderr",
          "text": [
            "\r 93%|█████████▎| 470/506 [04:33<00:25,  1.39it/s]"
          ]
        },
        {
          "output_type": "stream",
          "name": "stdout",
          "text": [
            "\u001b[1m1/1\u001b[0m \u001b[32m━━━━━━━━━━━━━━━━━━━━\u001b[0m\u001b[37m\u001b[0m \u001b[1m0s\u001b[0m 33ms/step\n"
          ]
        },
        {
          "output_type": "stream",
          "name": "stderr",
          "text": [
            "\r 93%|█████████▎| 471/506 [04:34<00:24,  1.44it/s]"
          ]
        },
        {
          "output_type": "stream",
          "name": "stdout",
          "text": [
            "\u001b[1m1/1\u001b[0m \u001b[32m━━━━━━━━━━━━━━━━━━━━\u001b[0m\u001b[37m\u001b[0m \u001b[1m0s\u001b[0m 19ms/step\n"
          ]
        },
        {
          "output_type": "stream",
          "name": "stderr",
          "text": [
            "\r 93%|█████████▎| 472/506 [04:34<00:21,  1.55it/s]"
          ]
        },
        {
          "output_type": "stream",
          "name": "stdout",
          "text": [
            "\u001b[1m1/1\u001b[0m \u001b[32m━━━━━━━━━━━━━━━━━━━━\u001b[0m\u001b[37m\u001b[0m \u001b[1m0s\u001b[0m 19ms/step\n"
          ]
        },
        {
          "output_type": "stream",
          "name": "stderr",
          "text": [
            "\r 93%|█████████▎| 473/506 [04:35<00:19,  1.66it/s]"
          ]
        },
        {
          "output_type": "stream",
          "name": "stdout",
          "text": [
            "\u001b[1m1/1\u001b[0m \u001b[32m━━━━━━━━━━━━━━━━━━━━\u001b[0m\u001b[37m\u001b[0m \u001b[1m0s\u001b[0m 21ms/step\n"
          ]
        },
        {
          "output_type": "stream",
          "name": "stderr",
          "text": [
            "\r 94%|█████████▎| 474/506 [04:35<00:18,  1.77it/s]"
          ]
        },
        {
          "output_type": "stream",
          "name": "stdout",
          "text": [
            "\u001b[1m1/1\u001b[0m \u001b[32m━━━━━━━━━━━━━━━━━━━━\u001b[0m\u001b[37m\u001b[0m \u001b[1m0s\u001b[0m 20ms/step\n"
          ]
        },
        {
          "output_type": "stream",
          "name": "stderr",
          "text": [
            "\r 94%|█████████▍| 475/506 [04:36<00:17,  1.82it/s]"
          ]
        },
        {
          "output_type": "stream",
          "name": "stdout",
          "text": [
            "\u001b[1m1/1\u001b[0m \u001b[32m━━━━━━━━━━━━━━━━━━━━\u001b[0m\u001b[37m\u001b[0m \u001b[1m0s\u001b[0m 20ms/step\n"
          ]
        },
        {
          "output_type": "stream",
          "name": "stderr",
          "text": [
            "\r 94%|█████████▍| 476/506 [04:36<00:15,  1.89it/s]"
          ]
        },
        {
          "output_type": "stream",
          "name": "stdout",
          "text": [
            "\u001b[1m1/1\u001b[0m \u001b[32m━━━━━━━━━━━━━━━━━━━━\u001b[0m\u001b[37m\u001b[0m \u001b[1m0s\u001b[0m 20ms/step\n"
          ]
        },
        {
          "output_type": "stream",
          "name": "stderr",
          "text": [
            "\r 94%|█████████▍| 477/506 [04:37<00:15,  1.90it/s]"
          ]
        },
        {
          "output_type": "stream",
          "name": "stdout",
          "text": [
            "\u001b[1m1/1\u001b[0m \u001b[32m━━━━━━━━━━━━━━━━━━━━\u001b[0m\u001b[37m\u001b[0m \u001b[1m0s\u001b[0m 20ms/step\n"
          ]
        },
        {
          "output_type": "stream",
          "name": "stderr",
          "text": [
            "\r 94%|█████████▍| 478/506 [04:37<00:14,  1.94it/s]"
          ]
        },
        {
          "output_type": "stream",
          "name": "stdout",
          "text": [
            "\u001b[1m1/1\u001b[0m \u001b[32m━━━━━━━━━━━━━━━━━━━━\u001b[0m\u001b[37m\u001b[0m \u001b[1m0s\u001b[0m 21ms/step\n"
          ]
        },
        {
          "output_type": "stream",
          "name": "stderr",
          "text": [
            "\r 95%|█████████▍| 479/506 [04:38<00:14,  1.92it/s]"
          ]
        },
        {
          "output_type": "stream",
          "name": "stdout",
          "text": [
            "\u001b[1m1/1\u001b[0m \u001b[32m━━━━━━━━━━━━━━━━━━━━\u001b[0m\u001b[37m\u001b[0m \u001b[1m0s\u001b[0m 22ms/step\n"
          ]
        },
        {
          "output_type": "stream",
          "name": "stderr",
          "text": [
            "\r 95%|█████████▍| 480/506 [04:38<00:13,  1.98it/s]"
          ]
        },
        {
          "output_type": "stream",
          "name": "stdout",
          "text": [
            "\u001b[1m1/1\u001b[0m \u001b[32m━━━━━━━━━━━━━━━━━━━━\u001b[0m\u001b[37m\u001b[0m \u001b[1m0s\u001b[0m 24ms/step\n"
          ]
        },
        {
          "output_type": "stream",
          "name": "stderr",
          "text": [
            "\r 95%|█████████▌| 481/506 [04:39<00:12,  2.01it/s]"
          ]
        },
        {
          "output_type": "stream",
          "name": "stdout",
          "text": [
            "\u001b[1m1/1\u001b[0m \u001b[32m━━━━━━━━━━━━━━━━━━━━\u001b[0m\u001b[37m\u001b[0m \u001b[1m0s\u001b[0m 20ms/step\n"
          ]
        },
        {
          "output_type": "stream",
          "name": "stderr",
          "text": [
            "\r 95%|█████████▌| 482/506 [04:39<00:11,  2.04it/s]"
          ]
        },
        {
          "output_type": "stream",
          "name": "stdout",
          "text": [
            "\u001b[1m1/1\u001b[0m \u001b[32m━━━━━━━━━━━━━━━━━━━━\u001b[0m\u001b[37m\u001b[0m \u001b[1m0s\u001b[0m 20ms/step\n"
          ]
        },
        {
          "output_type": "stream",
          "name": "stderr",
          "text": [
            "\r 95%|█████████▌| 483/506 [04:40<00:11,  2.04it/s]"
          ]
        },
        {
          "output_type": "stream",
          "name": "stdout",
          "text": [
            "\u001b[1m1/1\u001b[0m \u001b[32m━━━━━━━━━━━━━━━━━━━━\u001b[0m\u001b[37m\u001b[0m \u001b[1m0s\u001b[0m 19ms/step\n"
          ]
        },
        {
          "output_type": "stream",
          "name": "stderr",
          "text": [
            "\r 96%|█████████▌| 484/506 [04:40<00:10,  2.07it/s]"
          ]
        },
        {
          "output_type": "stream",
          "name": "stdout",
          "text": [
            "\u001b[1m1/1\u001b[0m \u001b[32m━━━━━━━━━━━━━━━━━━━━\u001b[0m\u001b[37m\u001b[0m \u001b[1m0s\u001b[0m 20ms/step\n"
          ]
        },
        {
          "output_type": "stream",
          "name": "stderr",
          "text": [
            "\r 96%|█████████▌| 485/506 [04:41<00:10,  2.07it/s]"
          ]
        },
        {
          "output_type": "stream",
          "name": "stdout",
          "text": [
            "\u001b[1m1/1\u001b[0m \u001b[32m━━━━━━━━━━━━━━━━━━━━\u001b[0m\u001b[37m\u001b[0m \u001b[1m0s\u001b[0m 19ms/step\n"
          ]
        },
        {
          "output_type": "stream",
          "name": "stderr",
          "text": [
            "\r 96%|█████████▌| 486/506 [04:41<00:09,  2.03it/s]"
          ]
        },
        {
          "output_type": "stream",
          "name": "stdout",
          "text": [
            "\u001b[1m1/1\u001b[0m \u001b[32m━━━━━━━━━━━━━━━━━━━━\u001b[0m\u001b[37m\u001b[0m \u001b[1m0s\u001b[0m 20ms/step\n"
          ]
        },
        {
          "output_type": "stream",
          "name": "stderr",
          "text": [
            "\r 96%|█████████▌| 487/506 [04:42<00:09,  2.05it/s]"
          ]
        },
        {
          "output_type": "stream",
          "name": "stdout",
          "text": [
            "\u001b[1m1/1\u001b[0m \u001b[32m━━━━━━━━━━━━━━━━━━━━\u001b[0m\u001b[37m\u001b[0m \u001b[1m0s\u001b[0m 21ms/step\n"
          ]
        },
        {
          "output_type": "stream",
          "name": "stderr",
          "text": [
            "\r 96%|█████████▋| 488/506 [04:42<00:08,  2.00it/s]"
          ]
        },
        {
          "output_type": "stream",
          "name": "stdout",
          "text": [
            "\u001b[1m1/1\u001b[0m \u001b[32m━━━━━━━━━━━━━━━━━━━━\u001b[0m\u001b[37m\u001b[0m \u001b[1m0s\u001b[0m 22ms/step\n"
          ]
        },
        {
          "output_type": "stream",
          "name": "stderr",
          "text": [
            "\r 97%|█████████▋| 489/506 [04:43<00:08,  2.03it/s]"
          ]
        },
        {
          "output_type": "stream",
          "name": "stdout",
          "text": [
            "\u001b[1m1/1\u001b[0m \u001b[32m━━━━━━━━━━━━━━━━━━━━\u001b[0m\u001b[37m\u001b[0m \u001b[1m0s\u001b[0m 20ms/step\n"
          ]
        },
        {
          "output_type": "stream",
          "name": "stderr",
          "text": [
            "\r 97%|█████████▋| 490/506 [04:43<00:07,  2.00it/s]"
          ]
        },
        {
          "output_type": "stream",
          "name": "stdout",
          "text": [
            "\u001b[1m1/1\u001b[0m \u001b[32m━━━━━━━━━━━━━━━━━━━━\u001b[0m\u001b[37m\u001b[0m \u001b[1m0s\u001b[0m 21ms/step\n"
          ]
        },
        {
          "output_type": "stream",
          "name": "stderr",
          "text": [
            "\r 97%|█████████▋| 491/506 [04:44<00:08,  1.85it/s]"
          ]
        },
        {
          "output_type": "stream",
          "name": "stdout",
          "text": [
            "\u001b[1m1/1\u001b[0m \u001b[32m━━━━━━━━━━━━━━━━━━━━\u001b[0m\u001b[37m\u001b[0m \u001b[1m0s\u001b[0m 31ms/step\n"
          ]
        },
        {
          "output_type": "stream",
          "name": "stderr",
          "text": [
            "\r 97%|█████████▋| 492/506 [04:45<00:08,  1.67it/s]"
          ]
        },
        {
          "output_type": "stream",
          "name": "stdout",
          "text": [
            "\u001b[1m1/1\u001b[0m \u001b[32m━━━━━━━━━━━━━━━━━━━━\u001b[0m\u001b[37m\u001b[0m \u001b[1m0s\u001b[0m 31ms/step\n"
          ]
        },
        {
          "output_type": "stream",
          "name": "stderr",
          "text": [
            "\r 97%|█████████▋| 493/506 [04:45<00:08,  1.54it/s]"
          ]
        },
        {
          "output_type": "stream",
          "name": "stdout",
          "text": [
            "\u001b[1m1/1\u001b[0m \u001b[32m━━━━━━━━━━━━━━━━━━━━\u001b[0m\u001b[37m\u001b[0m \u001b[1m0s\u001b[0m 30ms/step\n"
          ]
        },
        {
          "output_type": "stream",
          "name": "stderr",
          "text": [
            "\r 98%|█████████▊| 494/506 [04:46<00:07,  1.50it/s]"
          ]
        },
        {
          "output_type": "stream",
          "name": "stdout",
          "text": [
            "\u001b[1m1/1\u001b[0m \u001b[32m━━━━━━━━━━━━━━━━━━━━\u001b[0m\u001b[37m\u001b[0m \u001b[1m0s\u001b[0m 28ms/step\n"
          ]
        },
        {
          "output_type": "stream",
          "name": "stderr",
          "text": [
            "\r 98%|█████████▊| 495/506 [04:47<00:07,  1.43it/s]"
          ]
        },
        {
          "output_type": "stream",
          "name": "stdout",
          "text": [
            "\u001b[1m1/1\u001b[0m \u001b[32m━━━━━━━━━━━━━━━━━━━━\u001b[0m\u001b[37m\u001b[0m \u001b[1m0s\u001b[0m 30ms/step\n"
          ]
        },
        {
          "output_type": "stream",
          "name": "stderr",
          "text": [
            "\r 98%|█████████▊| 496/506 [04:48<00:07,  1.42it/s]"
          ]
        },
        {
          "output_type": "stream",
          "name": "stdout",
          "text": [
            "\u001b[1m1/1\u001b[0m \u001b[32m━━━━━━━━━━━━━━━━━━━━\u001b[0m\u001b[37m\u001b[0m \u001b[1m0s\u001b[0m 22ms/step\n"
          ]
        },
        {
          "output_type": "stream",
          "name": "stderr",
          "text": [
            "\r 98%|█████████▊| 497/506 [04:48<00:05,  1.52it/s]"
          ]
        },
        {
          "output_type": "stream",
          "name": "stdout",
          "text": [
            "\u001b[1m1/1\u001b[0m \u001b[32m━━━━━━━━━━━━━━━━━━━━\u001b[0m\u001b[37m\u001b[0m \u001b[1m0s\u001b[0m 23ms/step\n"
          ]
        },
        {
          "output_type": "stream",
          "name": "stderr",
          "text": [
            "\r 98%|█████████▊| 498/506 [04:49<00:04,  1.66it/s]"
          ]
        },
        {
          "output_type": "stream",
          "name": "stdout",
          "text": [
            "\u001b[1m1/1\u001b[0m \u001b[32m━━━━━━━━━━━━━━━━━━━━\u001b[0m\u001b[37m\u001b[0m \u001b[1m0s\u001b[0m 19ms/step\n"
          ]
        },
        {
          "output_type": "stream",
          "name": "stderr",
          "text": [
            "\r 99%|█████████▊| 499/506 [04:49<00:03,  1.78it/s]"
          ]
        },
        {
          "output_type": "stream",
          "name": "stdout",
          "text": [
            "\u001b[1m1/1\u001b[0m \u001b[32m━━━━━━━━━━━━━━━━━━━━\u001b[0m\u001b[37m\u001b[0m \u001b[1m0s\u001b[0m 20ms/step\n"
          ]
        },
        {
          "output_type": "stream",
          "name": "stderr",
          "text": [
            "\r 99%|█████████▉| 500/506 [04:50<00:03,  1.87it/s]"
          ]
        },
        {
          "output_type": "stream",
          "name": "stdout",
          "text": [
            "\u001b[1m1/1\u001b[0m \u001b[32m━━━━━━━━━━━━━━━━━━━━\u001b[0m\u001b[37m\u001b[0m \u001b[1m0s\u001b[0m 21ms/step\n"
          ]
        },
        {
          "output_type": "stream",
          "name": "stderr",
          "text": [
            "\r 99%|█████████▉| 501/506 [04:50<00:02,  1.92it/s]"
          ]
        },
        {
          "output_type": "stream",
          "name": "stdout",
          "text": [
            "\u001b[1m1/1\u001b[0m \u001b[32m━━━━━━━━━━━━━━━━━━━━\u001b[0m\u001b[37m\u001b[0m \u001b[1m0s\u001b[0m 22ms/step\n"
          ]
        },
        {
          "output_type": "stream",
          "name": "stderr",
          "text": [
            "\r 99%|█████████▉| 502/506 [04:51<00:02,  1.93it/s]"
          ]
        },
        {
          "output_type": "stream",
          "name": "stdout",
          "text": [
            "\u001b[1m1/1\u001b[0m \u001b[32m━━━━━━━━━━━━━━━━━━━━\u001b[0m\u001b[37m\u001b[0m \u001b[1m0s\u001b[0m 20ms/step\n"
          ]
        },
        {
          "output_type": "stream",
          "name": "stderr",
          "text": [
            "\r 99%|█████████▉| 503/506 [04:51<00:01,  1.92it/s]"
          ]
        },
        {
          "output_type": "stream",
          "name": "stdout",
          "text": [
            "\u001b[1m1/1\u001b[0m \u001b[32m━━━━━━━━━━━━━━━━━━━━\u001b[0m\u001b[37m\u001b[0m \u001b[1m0s\u001b[0m 20ms/step\n"
          ]
        },
        {
          "output_type": "stream",
          "name": "stderr",
          "text": [
            "\r100%|█████████▉| 504/506 [04:52<00:01,  1.91it/s]"
          ]
        },
        {
          "output_type": "stream",
          "name": "stdout",
          "text": [
            "\u001b[1m1/1\u001b[0m \u001b[32m━━━━━━━━━━━━━━━━━━━━\u001b[0m\u001b[37m\u001b[0m \u001b[1m0s\u001b[0m 20ms/step\n"
          ]
        },
        {
          "output_type": "stream",
          "name": "stderr",
          "text": [
            "\r100%|█████████▉| 505/506 [04:52<00:00,  1.90it/s]"
          ]
        },
        {
          "output_type": "stream",
          "name": "stdout",
          "text": [
            "\u001b[1m1/1\u001b[0m \u001b[32m━━━━━━━━━━━━━━━━━━━━\u001b[0m\u001b[37m\u001b[0m \u001b[1m0s\u001b[0m 21ms/step\n"
          ]
        },
        {
          "output_type": "stream",
          "name": "stderr",
          "text": [
            "100%|██████████| 506/506 [04:53<00:00,  1.73it/s]"
          ]
        },
        {
          "output_type": "stream",
          "name": "stdout",
          "text": [
            "Accuracy: 0.82700\n",
            "F1: 0.01883\n",
            "Jaccard: 0.00555\n",
            "Recall: 0.63170\n",
            "Precision: 0.00843\n"
          ]
        },
        {
          "output_type": "stream",
          "name": "stderr",
          "text": [
            "\n"
          ]
        }
      ]
    },
    {
      "cell_type": "code",
      "source": [
        "import os\n",
        "os.environ[\"TF_CPP_MIN_LOG_LEVEL\"] = \"2\"\n",
        "import numpy as np\n",
        "import cv2\n",
        "import pydicom as dicom\n",
        "import pandas as pd\n",
        "from glob import glob\n",
        "from tqdm import tqdm\n",
        "import tensorflow as tf\n",
        "from tensorflow.keras.utils import CustomObjectScope\n",
        "from sklearn.metrics import accuracy_score, f1_score, jaccard_score, precision_score, recall_score\n",
        "\"\"\" Creating a directory \"\"\"\n",
        "def create_dir(path):\n",
        "    if not os.path.exists(path):\n",
        "        os.makedirs(path)\n",
        "\n",
        "if __name__ == \"__main__\":\n",
        "    \"\"\" Seeding \"\"\"\n",
        "    np.random.seed(42)\n",
        "    tf.random.set_seed(42)\n",
        "\n",
        "    \"\"\" Directory for storing files \"\"\"\n",
        "    create_dir(\"test\")\n",
        "\n",
        "    \"\"\" Loading model \"\"\"\n",
        "    with CustomObjectScope({'iou': iou, 'dice_coef': dice_coef, 'dice_loss': dice_loss}):\n",
        "        model = tf.keras.models.load_model(\"files/model.h5\")\n",
        "\n",
        "    \"\"\" Load the dataset \"\"\"\n",
        "    test_x = glob(\"data/test/*/*/*.dcm\")\n",
        "    print(f\"Test: {len(test_x)}\")\n",
        "\n",
        "    \"\"\" Loop over the data \"\"\"\n",
        "    for x in tqdm(test_x):\n",
        "        \"\"\" Extract the names \"\"\"\n",
        "        dir_name = x.split(\"/\")[-3]\n",
        "        name = dir_name + \"_\" + x.split(\"/\")[-1].split(\".\")[0]\n",
        "\n",
        "        \"\"\" Read the image \"\"\"\n",
        "        image = dicom.dcmread(x).pixel_array\n",
        "        print(image.shape)\n",
        "        image = np.expand_dims(image, axis=-1)\n",
        "        print(image.shape)\n",
        "        image = image/np.max(image) * 255.0\n",
        "        x = image/255.0\n",
        "        x = np.concatenate([x, x, x], axis=-1)\n",
        "        x = np.expand_dims(x, axis=0)\n",
        "\n",
        "        \"\"\" Prediction \"\"\"\n",
        "        mask = model.predict(x)[0]\n",
        "        mask = mask > 0.5\n",
        "        mask = mask.astype(np.int32)\n",
        "        mask = mask * 255\n",
        "\n",
        "        cat_images = np.concatenate([image, mask], axis=1)\n",
        "        cv2.imwrite(f\"test/{name}.png\", cat_images)"
      ],
      "metadata": {
        "id": "zmfsFUZTQzWK"
      },
      "execution_count": null,
      "outputs": []
    }
  ]
}